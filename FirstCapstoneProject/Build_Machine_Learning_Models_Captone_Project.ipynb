{
 "cells": [
  {
   "cell_type": "markdown",
   "metadata": {},
   "source": [
    "# Overview\n",
    "This project works on the Uniform Crime Reporting (UCR) Statistics in Houston. The UCR data contained in these reports, is presented in a monthly breakdown of Part I crimes for which HPD wrote police reports. The data is furthered broken down by police districts and beats and shows reports of the following types of crimes: murder, rape, robbery, aggravated assault, burglary, theft, auto theft. More information can be found in this [link](http://www.houstontx.gov/police/cs/index-2.htm). We use spreadsheets of the year 2010-2017 for our project.\n",
    "\n",
    "We've cleaned the data and performed exploratory data analysis (EDA) in separate reports. According to the EDA, crimes are strongly correlated with time, locations and OffenseNum in a crime. In this project, we build machine learnig models to predict which type of crime is commited given those features as predictors.  \n",
    "\n",
    "The data cleaning process can be found in this [report](https://github.com/phyhouhou/SpringboardProjects/blob/master/FirstCapstoneProject/data_cleaning_capstone_project.ipynb).<br>\n",
    "The exploratory data analysis can be found in this [report](https://github.com/phyhouhou/SpringboardProjects/blob/master/FirstCapstoneProject/Exploratory_Data_Analysis_Capstone_Project.ipynb).\n",
    "\n"
   ]
  },
  {
   "cell_type": "code",
   "execution_count": 44,
   "metadata": {},
   "outputs": [],
   "source": [
    "#Import modules\n",
    "import numpy as np\n",
    "import pandas as pd\n",
    "import matplotlib.pyplot as plt\n",
    "import seaborn as sns\n",
    "%matplotlib inline\n",
    "sns.set()\n",
    "\n",
    "from pylab import *\n",
    "rcParams['font.size'] = 18.0\n",
    "rcParams['axes.titlesize'] = 20.0\n",
    "rcParams['xtick.labelsize'] = 20.0\n",
    "rcParams['legend.fontsize'] = 18.0\n",
    "\n",
    "rcParams[\"figure.figsize\"] = (15,9)"
   ]
  },
  {
   "cell_type": "markdown",
   "metadata": {},
   "source": [
    "# Load data"
   ]
  },
  {
   "cell_type": "code",
   "execution_count": 5,
   "metadata": {},
   "outputs": [
    {
     "data": {
      "text/html": [
       "<div>\n",
       "<style scoped>\n",
       "    .dataframe tbody tr th:only-of-type {\n",
       "        vertical-align: middle;\n",
       "    }\n",
       "\n",
       "    .dataframe tbody tr th {\n",
       "        vertical-align: top;\n",
       "    }\n",
       "\n",
       "    .dataframe thead th {\n",
       "        text-align: right;\n",
       "    }\n",
       "</style>\n",
       "<table border=\"1\" class=\"dataframe\">\n",
       "  <thead>\n",
       "    <tr style=\"text-align: right;\">\n",
       "      <th></th>\n",
       "      <th>Hour</th>\n",
       "      <th>OffenseType</th>\n",
       "      <th>Beat</th>\n",
       "      <th>Premise</th>\n",
       "      <th>BlockRange</th>\n",
       "      <th>StreetName</th>\n",
       "      <th>Type</th>\n",
       "      <th>Suffix</th>\n",
       "      <th>OffenseNum</th>\n",
       "    </tr>\n",
       "    <tr>\n",
       "      <th>Date</th>\n",
       "      <th></th>\n",
       "      <th></th>\n",
       "      <th></th>\n",
       "      <th></th>\n",
       "      <th></th>\n",
       "      <th></th>\n",
       "      <th></th>\n",
       "      <th></th>\n",
       "      <th></th>\n",
       "    </tr>\n",
       "  </thead>\n",
       "  <tbody>\n",
       "    <tr>\n",
       "      <th>2010-01-01</th>\n",
       "      <td>2</td>\n",
       "      <td>Theft</td>\n",
       "      <td>7C20</td>\n",
       "      <td>13</td>\n",
       "      <td>3100-3199</td>\n",
       "      <td>COLLINGSWORTH</td>\n",
       "      <td>-</td>\n",
       "      <td>-</td>\n",
       "      <td>1</td>\n",
       "    </tr>\n",
       "    <tr>\n",
       "      <th>2010-01-01</th>\n",
       "      <td>2</td>\n",
       "      <td>Robbery</td>\n",
       "      <td>20G70</td>\n",
       "      <td>18</td>\n",
       "      <td>1900-1999</td>\n",
       "      <td>WESTMEAD</td>\n",
       "      <td>DR</td>\n",
       "      <td>-</td>\n",
       "      <td>1</td>\n",
       "    </tr>\n",
       "    <tr>\n",
       "      <th>2010-01-01</th>\n",
       "      <td>9</td>\n",
       "      <td>Robbery</td>\n",
       "      <td>4F30</td>\n",
       "      <td>13</td>\n",
       "      <td>1700-1799</td>\n",
       "      <td>BRITTMOORE</td>\n",
       "      <td>RD</td>\n",
       "      <td>-</td>\n",
       "      <td>1</td>\n",
       "    </tr>\n",
       "    <tr>\n",
       "      <th>2010-01-01</th>\n",
       "      <td>10</td>\n",
       "      <td>Robbery</td>\n",
       "      <td>20G10</td>\n",
       "      <td>18</td>\n",
       "      <td>2900-2999</td>\n",
       "      <td>WEST SAM HOUSTON</td>\n",
       "      <td>PKWY</td>\n",
       "      <td>S</td>\n",
       "      <td>1</td>\n",
       "    </tr>\n",
       "    <tr>\n",
       "      <th>2010-01-01</th>\n",
       "      <td>14</td>\n",
       "      <td>Robbery</td>\n",
       "      <td>20G80</td>\n",
       "      <td>8</td>\n",
       "      <td>1000-1099</td>\n",
       "      <td>WEST OAKS MALL</td>\n",
       "      <td>-</td>\n",
       "      <td>-</td>\n",
       "      <td>1</td>\n",
       "    </tr>\n",
       "  </tbody>\n",
       "</table>\n",
       "</div>"
      ],
      "text/plain": [
       "            Hour OffenseType   Beat  Premise BlockRange        StreetName  \\\n",
       "Date                                                                        \n",
       "2010-01-01     2       Theft   7C20       13  3100-3199     COLLINGSWORTH   \n",
       "2010-01-01     2     Robbery  20G70       18  1900-1999          WESTMEAD   \n",
       "2010-01-01     9     Robbery   4F30       13  1700-1799        BRITTMOORE   \n",
       "2010-01-01    10     Robbery  20G10       18  2900-2999  WEST SAM HOUSTON   \n",
       "2010-01-01    14     Robbery  20G80        8  1000-1099    WEST OAKS MALL   \n",
       "\n",
       "            Type Suffix  OffenseNum  \n",
       "Date                                 \n",
       "2010-01-01     -      -           1  \n",
       "2010-01-01    DR      -           1  \n",
       "2010-01-01    RD      -           1  \n",
       "2010-01-01  PKWY      S           1  \n",
       "2010-01-01     -      -           1  "
      ]
     },
     "execution_count": 5,
     "metadata": {},
     "output_type": "execute_result"
    }
   ],
   "source": [
    "crimes=pd.read_csv('./crimes_clean.csv',parse_dates=['Date'],index_col='Date')\n",
    "crimes.head()"
   ]
  },
  {
   "cell_type": "code",
   "execution_count": 6,
   "metadata": {},
   "outputs": [
    {
     "name": "stdout",
     "output_type": "stream",
     "text": [
      "<class 'pandas.core.frame.DataFrame'>\n",
      "DatetimeIndex: 999521 entries, 2010-01-01 to 2017-12-31\n",
      "Data columns (total 9 columns):\n",
      "Hour           999521 non-null int64\n",
      "OffenseType    999521 non-null object\n",
      "Beat           999521 non-null object\n",
      "Premise        999521 non-null int64\n",
      "BlockRange     999521 non-null object\n",
      "StreetName     999521 non-null object\n",
      "Type           999521 non-null object\n",
      "Suffix         999521 non-null object\n",
      "OffenseNum     999521 non-null int64\n",
      "dtypes: int64(3), object(6)\n",
      "memory usage: 76.3+ MB\n"
     ]
    }
   ],
   "source": [
    "crimes.info()\n",
    "#no missing values"
   ]
  },
  {
   "cell_type": "code",
   "execution_count": 7,
   "metadata": {},
   "outputs": [
    {
     "data": {
      "text/html": [
       "<div>\n",
       "<style scoped>\n",
       "    .dataframe tbody tr th:only-of-type {\n",
       "        vertical-align: middle;\n",
       "    }\n",
       "\n",
       "    .dataframe tbody tr th {\n",
       "        vertical-align: top;\n",
       "    }\n",
       "\n",
       "    .dataframe thead th {\n",
       "        text-align: right;\n",
       "    }\n",
       "</style>\n",
       "<table border=\"1\" class=\"dataframe\">\n",
       "  <thead>\n",
       "    <tr style=\"text-align: right;\">\n",
       "      <th></th>\n",
       "      <th>OffenseType</th>\n",
       "      <th>Beat</th>\n",
       "      <th>Premise</th>\n",
       "      <th>BlockRange</th>\n",
       "      <th>StreetName</th>\n",
       "      <th>Type</th>\n",
       "      <th>Suffix</th>\n",
       "    </tr>\n",
       "  </thead>\n",
       "  <tbody>\n",
       "    <tr>\n",
       "      <th>count</th>\n",
       "      <td>999521</td>\n",
       "      <td>999521</td>\n",
       "      <td>999521</td>\n",
       "      <td>999521</td>\n",
       "      <td>999521</td>\n",
       "      <td>999521</td>\n",
       "      <td>999521</td>\n",
       "    </tr>\n",
       "    <tr>\n",
       "      <th>unique</th>\n",
       "      <td>7</td>\n",
       "      <td>127</td>\n",
       "      <td>25</td>\n",
       "      <td>347</td>\n",
       "      <td>27780</td>\n",
       "      <td>35</td>\n",
       "      <td>5</td>\n",
       "    </tr>\n",
       "    <tr>\n",
       "      <th>top</th>\n",
       "      <td>Theft</td>\n",
       "      <td>19G10</td>\n",
       "      <td>20</td>\n",
       "      <td>100-199</td>\n",
       "      <td>WESTHEIMER</td>\n",
       "      <td>-</td>\n",
       "      <td>-</td>\n",
       "    </tr>\n",
       "    <tr>\n",
       "      <th>freq</th>\n",
       "      <td>549488</td>\n",
       "      <td>21299</td>\n",
       "      <td>316318</td>\n",
       "      <td>13738</td>\n",
       "      <td>27214</td>\n",
       "      <td>239896</td>\n",
       "      <td>861934</td>\n",
       "    </tr>\n",
       "  </tbody>\n",
       "</table>\n",
       "</div>"
      ],
      "text/plain": [
       "       OffenseType    Beat Premise BlockRange  StreetName    Type  Suffix\n",
       "count       999521  999521  999521     999521      999521  999521  999521\n",
       "unique           7     127      25        347       27780      35       5\n",
       "top          Theft   19G10      20    100-199  WESTHEIMER       -       -\n",
       "freq        549488   21299  316318      13738       27214  239896  861934"
      ]
     },
     "execution_count": 7,
     "metadata": {},
     "output_type": "execute_result"
    }
   ],
   "source": [
    "ct=crimes.copy()\n",
    "ct.Premise=ct.Premise.astype('str')\n",
    "ct.select_dtypes(include='object').describe()"
   ]
  },
  {
   "cell_type": "markdown",
   "metadata": {},
   "source": [
    "# Feature engineering\n",
    "According to the [EDA](https://github.com/phyhouhou/SpringboardProjects/blob/master/FirstCapstoneProject/Exploratory_Data_Analysis_Capstone_Project.ipynb), there are 24 hour, 7 types of offense, 127 beats, 25 premises. Since some levels of the categorical features take only a small portion, we simplify the categories."
   ]
  },
  {
   "cell_type": "markdown",
   "metadata": {},
   "source": [
    "## Replace 'StreetName' and 'Type' by 'Address'"
   ]
  },
  {
   "cell_type": "code",
   "execution_count": 8,
   "metadata": {},
   "outputs": [
    {
     "data": {
      "text/html": [
       "<div>\n",
       "<style scoped>\n",
       "    .dataframe tbody tr th:only-of-type {\n",
       "        vertical-align: middle;\n",
       "    }\n",
       "\n",
       "    .dataframe tbody tr th {\n",
       "        vertical-align: top;\n",
       "    }\n",
       "\n",
       "    .dataframe thead th {\n",
       "        text-align: right;\n",
       "    }\n",
       "</style>\n",
       "<table border=\"1\" class=\"dataframe\">\n",
       "  <thead>\n",
       "    <tr style=\"text-align: right;\">\n",
       "      <th></th>\n",
       "      <th>Hour</th>\n",
       "      <th>OffenseType</th>\n",
       "      <th>Beat</th>\n",
       "      <th>Premise</th>\n",
       "      <th>OffenseNum</th>\n",
       "      <th>Address</th>\n",
       "    </tr>\n",
       "    <tr>\n",
       "      <th>Date</th>\n",
       "      <th></th>\n",
       "      <th></th>\n",
       "      <th></th>\n",
       "      <th></th>\n",
       "      <th></th>\n",
       "      <th></th>\n",
       "    </tr>\n",
       "  </thead>\n",
       "  <tbody>\n",
       "    <tr>\n",
       "      <th>2010-01-01</th>\n",
       "      <td>2</td>\n",
       "      <td>Theft</td>\n",
       "      <td>7C20</td>\n",
       "      <td>13</td>\n",
       "      <td>1</td>\n",
       "      <td>COLLINGSWORTH, -</td>\n",
       "    </tr>\n",
       "    <tr>\n",
       "      <th>2010-01-01</th>\n",
       "      <td>2</td>\n",
       "      <td>Robbery</td>\n",
       "      <td>20G70</td>\n",
       "      <td>18</td>\n",
       "      <td>1</td>\n",
       "      <td>WESTMEAD, DR</td>\n",
       "    </tr>\n",
       "    <tr>\n",
       "      <th>2010-01-01</th>\n",
       "      <td>9</td>\n",
       "      <td>Robbery</td>\n",
       "      <td>4F30</td>\n",
       "      <td>13</td>\n",
       "      <td>1</td>\n",
       "      <td>BRITTMOORE, RD</td>\n",
       "    </tr>\n",
       "    <tr>\n",
       "      <th>2010-01-01</th>\n",
       "      <td>10</td>\n",
       "      <td>Robbery</td>\n",
       "      <td>20G10</td>\n",
       "      <td>18</td>\n",
       "      <td>1</td>\n",
       "      <td>WEST SAM HOUSTON, PKWY</td>\n",
       "    </tr>\n",
       "    <tr>\n",
       "      <th>2010-01-01</th>\n",
       "      <td>14</td>\n",
       "      <td>Robbery</td>\n",
       "      <td>20G80</td>\n",
       "      <td>8</td>\n",
       "      <td>1</td>\n",
       "      <td>WEST OAKS MALL, -</td>\n",
       "    </tr>\n",
       "  </tbody>\n",
       "</table>\n",
       "</div>"
      ],
      "text/plain": [
       "            Hour OffenseType   Beat  Premise  OffenseNum  \\\n",
       "Date                                                       \n",
       "2010-01-01     2       Theft   7C20       13           1   \n",
       "2010-01-01     2     Robbery  20G70       18           1   \n",
       "2010-01-01     9     Robbery   4F30       13           1   \n",
       "2010-01-01    10     Robbery  20G10       18           1   \n",
       "2010-01-01    14     Robbery  20G80        8           1   \n",
       "\n",
       "                           Address  \n",
       "Date                                \n",
       "2010-01-01        COLLINGSWORTH, -  \n",
       "2010-01-01            WESTMEAD, DR  \n",
       "2010-01-01          BRITTMOORE, RD  \n",
       "2010-01-01  WEST SAM HOUSTON, PKWY  \n",
       "2010-01-01       WEST OAKS MALL, -  "
      ]
     },
     "execution_count": 8,
     "metadata": {},
     "output_type": "execute_result"
    }
   ],
   "source": [
    "c=crimes.copy()\n",
    "c['Address']=c['StreetName']+', '+c['Type']\n",
    "c.drop(['BlockRange','StreetName','Type','Suffix'],axis=1,inplace=True)\n",
    "c.head()"
   ]
  },
  {
   "cell_type": "markdown",
   "metadata": {},
   "source": [
    "## Collaspe minority of beats into 'Other'"
   ]
  },
  {
   "cell_type": "code",
   "execution_count": 9,
   "metadata": {},
   "outputs": [],
   "source": [
    "beat_count=c.Beat.value_counts()\n",
    "threshold=beat_count.quantile(0.4)\n",
    "blist=beat_count[beat_count<threshold].index.tolist()\n",
    "rep={b:'Other' for b in blist}\n",
    "c.Beat.replace(rep,inplace=True)\n",
    "c.Beat=c.Beat.astype('category')\n",
    "#len(c.Beat.value_counts())#-->77"
   ]
  },
  {
   "cell_type": "markdown",
   "metadata": {},
   "source": [
    "## Collaspe minority of premises into 'Other'"
   ]
  },
  {
   "cell_type": "code",
   "execution_count": 10,
   "metadata": {},
   "outputs": [],
   "source": [
    "premise_count=c.Premise.value_counts()\n",
    "threshold=premise_count.quantile(0.3)\n",
    "plist=premise_count[premise_count<threshold].index.tolist()\n",
    "rep={p:'Other' for p in plist}\n",
    "c.Premise.replace(rep,inplace=True)\n",
    "c.Premise=c.Premise.astype('category')\n",
    "#c.Premise.value_counts()\n"
   ]
  },
  {
   "cell_type": "markdown",
   "metadata": {},
   "source": [
    "## Add 'Season', 'WeekDay'"
   ]
  },
  {
   "cell_type": "code",
   "execution_count": 11,
   "metadata": {},
   "outputs": [],
   "source": [
    "# Convert months into season\n",
    "sdict={'1':'win','2':'win','3':'spr','4':'spr','5':'spr','6':'sum','7':'sum','8':'sum','9':'aut','10':'aut','11':'aut','12':'win'}\n",
    "c['Season']=c.index.month\n",
    "c['Season']=c['Season'].astype(str).map(sdict).astype('category')"
   ]
  },
  {
   "cell_type": "code",
   "execution_count": 12,
   "metadata": {
    "scrolled": true
   },
   "outputs": [],
   "source": [
    "#convert days into weekday/weekend\n",
    "days = ['Monday', 'Tuesday', 'Wednesday', 'Thursday', 'Friday', 'Saturday', 'Sunday']\n",
    "wdict={i:'N' if i in ['Saturday','Sunday'] else 'Y' for i in days}\n",
    "\n",
    "c.reset_index(inplace=True)\n",
    "c['WeekDay']=c['Date'].dt.weekday_name.map(wdict).astype('category')"
   ]
  },
  {
   "cell_type": "code",
   "execution_count": 13,
   "metadata": {},
   "outputs": [
    {
     "data": {
      "text/html": [
       "<div>\n",
       "<style scoped>\n",
       "    .dataframe tbody tr th:only-of-type {\n",
       "        vertical-align: middle;\n",
       "    }\n",
       "\n",
       "    .dataframe tbody tr th {\n",
       "        vertical-align: top;\n",
       "    }\n",
       "\n",
       "    .dataframe thead th {\n",
       "        text-align: right;\n",
       "    }\n",
       "</style>\n",
       "<table border=\"1\" class=\"dataframe\">\n",
       "  <thead>\n",
       "    <tr style=\"text-align: right;\">\n",
       "      <th></th>\n",
       "      <th>Date</th>\n",
       "      <th>Hour</th>\n",
       "      <th>OffenseType</th>\n",
       "      <th>Beat</th>\n",
       "      <th>Premise</th>\n",
       "      <th>OffenseNum</th>\n",
       "      <th>Address</th>\n",
       "      <th>Season</th>\n",
       "      <th>WeekDay</th>\n",
       "    </tr>\n",
       "  </thead>\n",
       "  <tbody>\n",
       "    <tr>\n",
       "      <th>0</th>\n",
       "      <td>2010-01-01</td>\n",
       "      <td>2am</td>\n",
       "      <td>Theft</td>\n",
       "      <td>7C20</td>\n",
       "      <td>13</td>\n",
       "      <td>1</td>\n",
       "      <td>COLLINGSWORTH, -</td>\n",
       "      <td>win</td>\n",
       "      <td>Y</td>\n",
       "    </tr>\n",
       "    <tr>\n",
       "      <th>1</th>\n",
       "      <td>2010-01-01</td>\n",
       "      <td>2am</td>\n",
       "      <td>Robbery</td>\n",
       "      <td>20G70</td>\n",
       "      <td>18</td>\n",
       "      <td>1</td>\n",
       "      <td>WESTMEAD, DR</td>\n",
       "      <td>win</td>\n",
       "      <td>Y</td>\n",
       "    </tr>\n",
       "    <tr>\n",
       "      <th>2</th>\n",
       "      <td>2010-01-01</td>\n",
       "      <td>9am</td>\n",
       "      <td>Robbery</td>\n",
       "      <td>4F30</td>\n",
       "      <td>13</td>\n",
       "      <td>1</td>\n",
       "      <td>BRITTMOORE, RD</td>\n",
       "      <td>win</td>\n",
       "      <td>Y</td>\n",
       "    </tr>\n",
       "    <tr>\n",
       "      <th>3</th>\n",
       "      <td>2010-01-01</td>\n",
       "      <td>10am</td>\n",
       "      <td>Robbery</td>\n",
       "      <td>20G10</td>\n",
       "      <td>18</td>\n",
       "      <td>1</td>\n",
       "      <td>WEST SAM HOUSTON, PKWY</td>\n",
       "      <td>win</td>\n",
       "      <td>Y</td>\n",
       "    </tr>\n",
       "    <tr>\n",
       "      <th>4</th>\n",
       "      <td>2010-01-01</td>\n",
       "      <td>2pm</td>\n",
       "      <td>Robbery</td>\n",
       "      <td>20G80</td>\n",
       "      <td>8</td>\n",
       "      <td>1</td>\n",
       "      <td>WEST OAKS MALL, -</td>\n",
       "      <td>win</td>\n",
       "      <td>Y</td>\n",
       "    </tr>\n",
       "  </tbody>\n",
       "</table>\n",
       "</div>"
      ],
      "text/plain": [
       "        Date  Hour OffenseType   Beat Premise  OffenseNum  \\\n",
       "0 2010-01-01   2am       Theft   7C20      13           1   \n",
       "1 2010-01-01   2am     Robbery  20G70      18           1   \n",
       "2 2010-01-01   9am     Robbery   4F30      13           1   \n",
       "3 2010-01-01  10am     Robbery  20G10      18           1   \n",
       "4 2010-01-01   2pm     Robbery  20G80       8           1   \n",
       "\n",
       "                  Address Season WeekDay  \n",
       "0        COLLINGSWORTH, -    win       Y  \n",
       "1            WESTMEAD, DR    win       Y  \n",
       "2          BRITTMOORE, RD    win       Y  \n",
       "3  WEST SAM HOUSTON, PKWY    win       Y  \n",
       "4       WEST OAKS MALL, -    win       Y  "
      ]
     },
     "execution_count": 13,
     "metadata": {},
     "output_type": "execute_result"
    }
   ],
   "source": [
    "# Append 'am'/'pm' to 'hour'\n",
    "hdict={str(i):str(i)+'am' if i<12 else str(i-12)+'pm' for i in range(0,24)}\n",
    "hdict['12']='noon'\n",
    "c['Hour']=c['Hour'].astype('str').map(hdict).astype('category')\n",
    "c.head()"
   ]
  },
  {
   "cell_type": "code",
   "execution_count": 14,
   "metadata": {},
   "outputs": [
    {
     "name": "stdout",
     "output_type": "stream",
     "text": [
      "<class 'pandas.core.frame.DataFrame'>\n",
      "DatetimeIndex: 999521 entries, 2010-01-01 to 2017-12-31\n",
      "Data columns (total 8 columns):\n",
      "Hour           999521 non-null category\n",
      "OffenseType    999521 non-null category\n",
      "Beat           999521 non-null category\n",
      "Premise        999521 non-null category\n",
      "OffenseNum     999521 non-null int64\n",
      "Address        999521 non-null object\n",
      "Season         999521 non-null category\n",
      "WeekDay        999521 non-null category\n",
      "dtypes: category(6), int64(1), object(1)\n",
      "memory usage: 28.6+ MB\n"
     ]
    }
   ],
   "source": [
    "c.set_index('Date',inplace=True)\n",
    "c.OffenseType=c.OffenseType.astype('category')\n",
    "c.info()"
   ]
  },
  {
   "cell_type": "code",
   "execution_count": 15,
   "metadata": {},
   "outputs": [
    {
     "data": {
      "text/html": [
       "<div>\n",
       "<style scoped>\n",
       "    .dataframe tbody tr th:only-of-type {\n",
       "        vertical-align: middle;\n",
       "    }\n",
       "\n",
       "    .dataframe tbody tr th {\n",
       "        vertical-align: top;\n",
       "    }\n",
       "\n",
       "    .dataframe thead th {\n",
       "        text-align: right;\n",
       "    }\n",
       "</style>\n",
       "<table border=\"1\" class=\"dataframe\">\n",
       "  <thead>\n",
       "    <tr style=\"text-align: right;\">\n",
       "      <th></th>\n",
       "      <th>Hour</th>\n",
       "      <th>OffenseType</th>\n",
       "      <th>Beat</th>\n",
       "      <th>Premise</th>\n",
       "      <th>Address</th>\n",
       "      <th>Season</th>\n",
       "      <th>WeekDay</th>\n",
       "    </tr>\n",
       "  </thead>\n",
       "  <tbody>\n",
       "    <tr>\n",
       "      <th>count</th>\n",
       "      <td>999521</td>\n",
       "      <td>999521</td>\n",
       "      <td>999521</td>\n",
       "      <td>999521</td>\n",
       "      <td>999521</td>\n",
       "      <td>999521</td>\n",
       "      <td>999521</td>\n",
       "    </tr>\n",
       "    <tr>\n",
       "      <th>unique</th>\n",
       "      <td>24</td>\n",
       "      <td>7</td>\n",
       "      <td>77</td>\n",
       "      <td>18</td>\n",
       "      <td>31854</td>\n",
       "      <td>4</td>\n",
       "      <td>2</td>\n",
       "    </tr>\n",
       "    <tr>\n",
       "      <th>top</th>\n",
       "      <td>6pm</td>\n",
       "      <td>Theft</td>\n",
       "      <td>Other</td>\n",
       "      <td>20</td>\n",
       "      <td>WESTHEIMER, RD</td>\n",
       "      <td>sum</td>\n",
       "      <td>Y</td>\n",
       "    </tr>\n",
       "    <tr>\n",
       "      <th>freq</th>\n",
       "      <td>56952</td>\n",
       "      <td>549488</td>\n",
       "      <td>121002</td>\n",
       "      <td>316318</td>\n",
       "      <td>26709</td>\n",
       "      <td>258887</td>\n",
       "      <td>729975</td>\n",
       "    </tr>\n",
       "  </tbody>\n",
       "</table>\n",
       "</div>"
      ],
      "text/plain": [
       "          Hour OffenseType    Beat  Premise         Address  Season WeekDay\n",
       "count   999521      999521  999521   999521          999521  999521  999521\n",
       "unique      24           7      77       18           31854       4       2\n",
       "top        6pm       Theft   Other       20  WESTHEIMER, RD     sum       Y\n",
       "freq     56952      549488  121002   316318           26709  258887  729975"
      ]
     },
     "execution_count": 15,
     "metadata": {},
     "output_type": "execute_result"
    }
   ],
   "source": [
    "c.select_dtypes(exclude='int64').describe()"
   ]
  },
  {
   "cell_type": "markdown",
   "metadata": {},
   "source": [
    "## About the target\n",
    "\n",
    "The bar plot shows that this is an unbalanced multi-level classification. 'Theft' takes weight more than 50%, all the others in all takes less than 50% portion, i.e.,'Burglary' takes less than 20% while 'Murder' and 'Rape' takes only negligible part."
   ]
  },
  {
   "cell_type": "code",
   "execution_count": 16,
   "metadata": {},
   "outputs": [],
   "source": [
    "cols=[ 'OffenseType','Hour', 'Season','WeekDay','Beat', 'Premise', 'OffenseNum', 'Address' ]\n",
    "crimes_data=c[cols]\n",
    "\n",
    "X_crime = crimes_data.iloc[:, 1:]\n",
    "y = crimes_data.iloc[:,0]\n",
    "#Y_code= crimes_data.iloc[:,0].cat.codes\n",
    "#dict(zip(Y,Y_code))"
   ]
  },
  {
   "cell_type": "code",
   "execution_count": 17,
   "metadata": {},
   "outputs": [
    {
     "data": {
      "image/png": "[encoded data removed]",
      "text/plain": [
       "<matplotlib.figure.Figure at 0x10ff8fe48>"
      ]
     },
     "metadata": {},
     "output_type": "display_data"
    }
   ],
   "source": [
    "%matplotlib inline\n",
    "plt.style.use('ggplot')\n",
    "ax=y.value_counts(normalize=True).plot(kind='barh',rot=0,figsize=(12,8),fontsize=15);\n",
    "ax.set_xlabel('Portion',fontsize=16)\n",
    "ax.set_title('Count(target)',fontsize=16,fontweight='bold')\n",
    "plt.savefig('figs/target.png');"
   ]
  },
  {
   "cell_type": "markdown",
   "metadata": {},
   "source": [
    "## Preprocess categorical variables\n",
    "We preprocess catagorical features by one hot encoding. That is to convert each category value into a new column and assigns a 1 or 0 value to the column."
   ]
  },
  {
   "cell_type": "code",
   "execution_count": 18,
   "metadata": {},
   "outputs": [
    {
     "data": {
      "text/plain": [
       "Index(['Hour', 'Season', 'WeekDay', 'Beat', 'Premise', 'Address'], dtype='object')"
      ]
     },
     "execution_count": 18,
     "metadata": {},
     "output_type": "execute_result"
    }
   ],
   "source": [
    "obj_c=X_crime.select_dtypes(include=['object','category']).copy()\n",
    "obj_c.columns"
   ]
  },
  {
   "cell_type": "code",
   "execution_count": 51,
   "metadata": {},
   "outputs": [],
   "source": [
    "#onehotencoder by pd.get_dummies() is too slow due to many categorical features with multiple levels!!!\n",
    "#pd.get_dummies(obj_c,columns=['Hour','Season', 'WeekDay', 'Beat', 'Premise','Address'],\n",
    "#               prefix=['',''...]).head()#too slow more than 5min"
   ]
  },
  {
   "cell_type": "markdown",
   "metadata": {},
   "source": [
    "Let's do label encoding for those features with levels more than 24."
   ]
  },
  {
   "cell_type": "code",
   "execution_count": 19,
   "metadata": {},
   "outputs": [],
   "source": [
    "obj_lab_col=['Beat','Address']\n",
    "from sklearn.preprocessing import LabelEncoder\n",
    "\n",
    "le=LabelEncoder()\n",
    "\n",
    "for col in obj_lab_col:\n",
    "    data=X_crime[col]\n",
    "    #le.fit(data.values)\n",
    "    #X[col]=le.transform(X[col])\n",
    "    X_crime[col]=le.fit_transform(X_crime[col])\n",
    "#X_crime.head()    "
   ]
  },
  {
   "cell_type": "markdown",
   "metadata": {},
   "source": [
    "Let's perform one hot encoding on remaining categorical columns."
   ]
  },
  {
   "cell_type": "code",
   "execution_count": 20,
   "metadata": {},
   "outputs": [],
   "source": [
    "obj_ohe_col=['Hour', 'Season', 'WeekDay','Premise']\n",
    "ohe=pd.get_dummies(obj_c[obj_ohe_col], columns=obj_ohe_col, prefix=['H','S','W','P'],drop_first=True)\n",
    "#ohe.head()"
   ]
  },
  {
   "cell_type": "code",
   "execution_count": 21,
   "metadata": {},
   "outputs": [
    {
     "data": {
      "text/html": [
       "<div>\n",
       "<style scoped>\n",
       "    .dataframe tbody tr th:only-of-type {\n",
       "        vertical-align: middle;\n",
       "    }\n",
       "\n",
       "    .dataframe tbody tr th {\n",
       "        vertical-align: top;\n",
       "    }\n",
       "\n",
       "    .dataframe thead th {\n",
       "        text-align: right;\n",
       "    }\n",
       "</style>\n",
       "<table border=\"1\" class=\"dataframe\">\n",
       "  <thead>\n",
       "    <tr style=\"text-align: right;\">\n",
       "      <th></th>\n",
       "      <th>Beat</th>\n",
       "      <th>Address</th>\n",
       "      <th>OffenseNum</th>\n",
       "      <th>H_10am</th>\n",
       "      <th>H_10pm</th>\n",
       "      <th>H_11am</th>\n",
       "      <th>H_11pm</th>\n",
       "      <th>H_1am</th>\n",
       "      <th>H_1pm</th>\n",
       "      <th>H_2am</th>\n",
       "      <th>H_2pm</th>\n",
       "      <th>H_3am</th>\n",
       "      <th>H_3pm</th>\n",
       "      <th>H_4am</th>\n",
       "      <th>H_4pm</th>\n",
       "      <th>H_5am</th>\n",
       "      <th>H_5pm</th>\n",
       "      <th>H_6am</th>\n",
       "      <th>H_6pm</th>\n",
       "      <th>H_7am</th>\n",
       "      <th>H_7pm</th>\n",
       "      <th>H_8am</th>\n",
       "      <th>H_8pm</th>\n",
       "      <th>H_9am</th>\n",
       "      <th>H_9pm</th>\n",
       "      <th>H_noon</th>\n",
       "      <th>S_spr</th>\n",
       "      <th>S_sum</th>\n",
       "      <th>S_win</th>\n",
       "      <th>W_Y</th>\n",
       "      <th>P_3</th>\n",
       "      <th>P_5</th>\n",
       "      <th>P_7</th>\n",
       "      <th>P_8</th>\n",
       "      <th>P_9</th>\n",
       "      <th>P_11</th>\n",
       "      <th>P_12</th>\n",
       "      <th>P_13</th>\n",
       "      <th>P_14</th>\n",
       "      <th>P_18</th>\n",
       "      <th>P_20</th>\n",
       "      <th>P_21</th>\n",
       "      <th>P_22</th>\n",
       "      <th>P_23</th>\n",
       "      <th>P_24</th>\n",
       "      <th>P_25</th>\n",
       "      <th>P_Other</th>\n",
       "    </tr>\n",
       "    <tr>\n",
       "      <th>Date</th>\n",
       "      <th></th>\n",
       "      <th></th>\n",
       "      <th></th>\n",
       "      <th></th>\n",
       "      <th></th>\n",
       "      <th></th>\n",
       "      <th></th>\n",
       "      <th></th>\n",
       "      <th></th>\n",
       "      <th></th>\n",
       "      <th></th>\n",
       "      <th></th>\n",
       "      <th></th>\n",
       "      <th></th>\n",
       "      <th></th>\n",
       "      <th></th>\n",
       "      <th></th>\n",
       "      <th></th>\n",
       "      <th></th>\n",
       "      <th></th>\n",
       "      <th></th>\n",
       "      <th></th>\n",
       "      <th></th>\n",
       "      <th></th>\n",
       "      <th></th>\n",
       "      <th></th>\n",
       "      <th></th>\n",
       "      <th></th>\n",
       "      <th></th>\n",
       "      <th></th>\n",
       "      <th></th>\n",
       "      <th></th>\n",
       "      <th></th>\n",
       "      <th></th>\n",
       "      <th></th>\n",
       "      <th></th>\n",
       "      <th></th>\n",
       "      <th></th>\n",
       "      <th></th>\n",
       "      <th></th>\n",
       "      <th></th>\n",
       "      <th></th>\n",
       "      <th></th>\n",
       "      <th></th>\n",
       "      <th></th>\n",
       "      <th></th>\n",
       "      <th></th>\n",
       "    </tr>\n",
       "  </thead>\n",
       "  <tbody>\n",
       "    <tr>\n",
       "      <th>2010-01-01</th>\n",
       "      <td>69</td>\n",
       "      <td>6607</td>\n",
       "      <td>1</td>\n",
       "      <td>0</td>\n",
       "      <td>0</td>\n",
       "      <td>0</td>\n",
       "      <td>0</td>\n",
       "      <td>0</td>\n",
       "      <td>0</td>\n",
       "      <td>1</td>\n",
       "      <td>0</td>\n",
       "      <td>0</td>\n",
       "      <td>0</td>\n",
       "      <td>0</td>\n",
       "      <td>0</td>\n",
       "      <td>0</td>\n",
       "      <td>0</td>\n",
       "      <td>0</td>\n",
       "      <td>0</td>\n",
       "      <td>0</td>\n",
       "      <td>0</td>\n",
       "      <td>0</td>\n",
       "      <td>0</td>\n",
       "      <td>0</td>\n",
       "      <td>0</td>\n",
       "      <td>0</td>\n",
       "      <td>0</td>\n",
       "      <td>0</td>\n",
       "      <td>1</td>\n",
       "      <td>1</td>\n",
       "      <td>0</td>\n",
       "      <td>0</td>\n",
       "      <td>0</td>\n",
       "      <td>0</td>\n",
       "      <td>0</td>\n",
       "      <td>0</td>\n",
       "      <td>0</td>\n",
       "      <td>1</td>\n",
       "      <td>0</td>\n",
       "      <td>0</td>\n",
       "      <td>0</td>\n",
       "      <td>0</td>\n",
       "      <td>0</td>\n",
       "      <td>0</td>\n",
       "      <td>0</td>\n",
       "      <td>0</td>\n",
       "      <td>0</td>\n",
       "    </tr>\n",
       "    <tr>\n",
       "      <th>2010-01-01</th>\n",
       "      <td>45</td>\n",
       "      <td>30418</td>\n",
       "      <td>1</td>\n",
       "      <td>0</td>\n",
       "      <td>0</td>\n",
       "      <td>0</td>\n",
       "      <td>0</td>\n",
       "      <td>0</td>\n",
       "      <td>0</td>\n",
       "      <td>1</td>\n",
       "      <td>0</td>\n",
       "      <td>0</td>\n",
       "      <td>0</td>\n",
       "      <td>0</td>\n",
       "      <td>0</td>\n",
       "      <td>0</td>\n",
       "      <td>0</td>\n",
       "      <td>0</td>\n",
       "      <td>0</td>\n",
       "      <td>0</td>\n",
       "      <td>0</td>\n",
       "      <td>0</td>\n",
       "      <td>0</td>\n",
       "      <td>0</td>\n",
       "      <td>0</td>\n",
       "      <td>0</td>\n",
       "      <td>0</td>\n",
       "      <td>0</td>\n",
       "      <td>1</td>\n",
       "      <td>1</td>\n",
       "      <td>0</td>\n",
       "      <td>0</td>\n",
       "      <td>0</td>\n",
       "      <td>0</td>\n",
       "      <td>0</td>\n",
       "      <td>0</td>\n",
       "      <td>0</td>\n",
       "      <td>0</td>\n",
       "      <td>0</td>\n",
       "      <td>1</td>\n",
       "      <td>0</td>\n",
       "      <td>0</td>\n",
       "      <td>0</td>\n",
       "      <td>0</td>\n",
       "      <td>0</td>\n",
       "      <td>0</td>\n",
       "      <td>0</td>\n",
       "    </tr>\n",
       "    <tr>\n",
       "      <th>2010-01-01</th>\n",
       "      <td>57</td>\n",
       "      <td>4391</td>\n",
       "      <td>1</td>\n",
       "      <td>0</td>\n",
       "      <td>0</td>\n",
       "      <td>0</td>\n",
       "      <td>0</td>\n",
       "      <td>0</td>\n",
       "      <td>0</td>\n",
       "      <td>0</td>\n",
       "      <td>0</td>\n",
       "      <td>0</td>\n",
       "      <td>0</td>\n",
       "      <td>0</td>\n",
       "      <td>0</td>\n",
       "      <td>0</td>\n",
       "      <td>0</td>\n",
       "      <td>0</td>\n",
       "      <td>0</td>\n",
       "      <td>0</td>\n",
       "      <td>0</td>\n",
       "      <td>0</td>\n",
       "      <td>0</td>\n",
       "      <td>1</td>\n",
       "      <td>0</td>\n",
       "      <td>0</td>\n",
       "      <td>0</td>\n",
       "      <td>0</td>\n",
       "      <td>1</td>\n",
       "      <td>1</td>\n",
       "      <td>0</td>\n",
       "      <td>0</td>\n",
       "      <td>0</td>\n",
       "      <td>0</td>\n",
       "      <td>0</td>\n",
       "      <td>0</td>\n",
       "      <td>0</td>\n",
       "      <td>1</td>\n",
       "      <td>0</td>\n",
       "      <td>0</td>\n",
       "      <td>0</td>\n",
       "      <td>0</td>\n",
       "      <td>0</td>\n",
       "      <td>0</td>\n",
       "      <td>0</td>\n",
       "      <td>0</td>\n",
       "      <td>0</td>\n",
       "    </tr>\n",
       "    <tr>\n",
       "      <th>2010-01-01</th>\n",
       "      <td>40</td>\n",
       "      <td>30205</td>\n",
       "      <td>1</td>\n",
       "      <td>1</td>\n",
       "      <td>0</td>\n",
       "      <td>0</td>\n",
       "      <td>0</td>\n",
       "      <td>0</td>\n",
       "      <td>0</td>\n",
       "      <td>0</td>\n",
       "      <td>0</td>\n",
       "      <td>0</td>\n",
       "      <td>0</td>\n",
       "      <td>0</td>\n",
       "      <td>0</td>\n",
       "      <td>0</td>\n",
       "      <td>0</td>\n",
       "      <td>0</td>\n",
       "      <td>0</td>\n",
       "      <td>0</td>\n",
       "      <td>0</td>\n",
       "      <td>0</td>\n",
       "      <td>0</td>\n",
       "      <td>0</td>\n",
       "      <td>0</td>\n",
       "      <td>0</td>\n",
       "      <td>0</td>\n",
       "      <td>0</td>\n",
       "      <td>1</td>\n",
       "      <td>1</td>\n",
       "      <td>0</td>\n",
       "      <td>0</td>\n",
       "      <td>0</td>\n",
       "      <td>0</td>\n",
       "      <td>0</td>\n",
       "      <td>0</td>\n",
       "      <td>0</td>\n",
       "      <td>0</td>\n",
       "      <td>0</td>\n",
       "      <td>1</td>\n",
       "      <td>0</td>\n",
       "      <td>0</td>\n",
       "      <td>0</td>\n",
       "      <td>0</td>\n",
       "      <td>0</td>\n",
       "      <td>0</td>\n",
       "      <td>0</td>\n",
       "    </tr>\n",
       "    <tr>\n",
       "      <th>2010-01-01</th>\n",
       "      <td>46</td>\n",
       "      <td>30180</td>\n",
       "      <td>1</td>\n",
       "      <td>0</td>\n",
       "      <td>0</td>\n",
       "      <td>0</td>\n",
       "      <td>0</td>\n",
       "      <td>0</td>\n",
       "      <td>0</td>\n",
       "      <td>0</td>\n",
       "      <td>1</td>\n",
       "      <td>0</td>\n",
       "      <td>0</td>\n",
       "      <td>0</td>\n",
       "      <td>0</td>\n",
       "      <td>0</td>\n",
       "      <td>0</td>\n",
       "      <td>0</td>\n",
       "      <td>0</td>\n",
       "      <td>0</td>\n",
       "      <td>0</td>\n",
       "      <td>0</td>\n",
       "      <td>0</td>\n",
       "      <td>0</td>\n",
       "      <td>0</td>\n",
       "      <td>0</td>\n",
       "      <td>0</td>\n",
       "      <td>0</td>\n",
       "      <td>1</td>\n",
       "      <td>1</td>\n",
       "      <td>0</td>\n",
       "      <td>0</td>\n",
       "      <td>0</td>\n",
       "      <td>1</td>\n",
       "      <td>0</td>\n",
       "      <td>0</td>\n",
       "      <td>0</td>\n",
       "      <td>0</td>\n",
       "      <td>0</td>\n",
       "      <td>0</td>\n",
       "      <td>0</td>\n",
       "      <td>0</td>\n",
       "      <td>0</td>\n",
       "      <td>0</td>\n",
       "      <td>0</td>\n",
       "      <td>0</td>\n",
       "      <td>0</td>\n",
       "    </tr>\n",
       "  </tbody>\n",
       "</table>\n",
       "</div>"
      ],
      "text/plain": [
       "            Beat  Address  OffenseNum  H_10am  H_10pm  H_11am  H_11pm  H_1am  \\\n",
       "Date                                                                           \n",
       "2010-01-01    69     6607           1       0       0       0       0      0   \n",
       "2010-01-01    45    30418           1       0       0       0       0      0   \n",
       "2010-01-01    57     4391           1       0       0       0       0      0   \n",
       "2010-01-01    40    30205           1       1       0       0       0      0   \n",
       "2010-01-01    46    30180           1       0       0       0       0      0   \n",
       "\n",
       "            H_1pm  H_2am  H_2pm  H_3am  H_3pm  H_4am  H_4pm  H_5am  H_5pm  \\\n",
       "Date                                                                        \n",
       "2010-01-01      0      1      0      0      0      0      0      0      0   \n",
       "2010-01-01      0      1      0      0      0      0      0      0      0   \n",
       "2010-01-01      0      0      0      0      0      0      0      0      0   \n",
       "2010-01-01      0      0      0      0      0      0      0      0      0   \n",
       "2010-01-01      0      0      1      0      0      0      0      0      0   \n",
       "\n",
       "            H_6am  H_6pm  H_7am  H_7pm  H_8am  H_8pm  H_9am  H_9pm  H_noon  \\\n",
       "Date                                                                         \n",
       "2010-01-01      0      0      0      0      0      0      0      0       0   \n",
       "2010-01-01      0      0      0      0      0      0      0      0       0   \n",
       "2010-01-01      0      0      0      0      0      0      1      0       0   \n",
       "2010-01-01      0      0      0      0      0      0      0      0       0   \n",
       "2010-01-01      0      0      0      0      0      0      0      0       0   \n",
       "\n",
       "            S_spr  S_sum  S_win  W_Y  P_3  P_5  P_7  P_8  P_9  P_11  P_12  \\\n",
       "Date                                                                        \n",
       "2010-01-01      0      0      1    1    0    0    0    0    0     0     0   \n",
       "2010-01-01      0      0      1    1    0    0    0    0    0     0     0   \n",
       "2010-01-01      0      0      1    1    0    0    0    0    0     0     0   \n",
       "2010-01-01      0      0      1    1    0    0    0    0    0     0     0   \n",
       "2010-01-01      0      0      1    1    0    0    0    1    0     0     0   \n",
       "\n",
       "            P_13  P_14  P_18  P_20  P_21  P_22  P_23  P_24  P_25  P_Other  \n",
       "Date                                                                       \n",
       "2010-01-01     1     0     0     0     0     0     0     0     0        0  \n",
       "2010-01-01     0     0     1     0     0     0     0     0     0        0  \n",
       "2010-01-01     1     0     0     0     0     0     0     0     0        0  \n",
       "2010-01-01     0     0     1     0     0     0     0     0     0        0  \n",
       "2010-01-01     0     0     0     0     0     0     0     0     0        0  "
      ]
     },
     "execution_count": 21,
     "metadata": {},
     "output_type": "execute_result"
    }
   ],
   "source": [
    "X=pd.concat([X_crime[obj_lab_col],X_crime['OffenseNum'],ohe],axis=1)\n",
    "pd.set_option('display.max_columns', None)\n",
    "X.head()"
   ]
  },
  {
   "cell_type": "code",
   "execution_count": 52,
   "metadata": {},
   "outputs": [
    {
     "data": {
      "image/png": "[encoded data removed]",
      "text/plain": [
       "<matplotlib.figure.Figure at 0x117c73668>"
      ]
     },
     "metadata": {},
     "output_type": "display_data"
    }
   ],
   "source": [
    "#X.corr()\n",
    "corr=X[['Beat','Address','OffenseNum']].corr(method='spearman')\n",
    "sns.heatmap(corr,annot=True,linewidths=2,annot_kws={'size':12});"
   ]
  },
  {
   "cell_type": "markdown",
   "metadata": {},
   "source": [
    "This correlation matrix indicates that 'OffenseNum' is hardly correlated with 'Address' and 'Beat, which is reasonable; however, 'Address' and 'Beat' should expect larger correlation than shown in the matrix. This might due to improper label encoding. As indicated in DecisionTree classifier below, 'numerics' estimator plays important roles in feature selectin. How to solve this problem? Onehotencoding for a multi-level categorical estimator?  \n",
    "\n",
    "How about remove 'Address' and onehotencoder all other categorical variables?"
   ]
  },
  {
   "cell_type": "markdown",
   "metadata": {},
   "source": [
    "### Try to remove 'Address' and onehotencode categorical variables"
   ]
  },
  {
   "cell_type": "code",
   "execution_count": 22,
   "metadata": {},
   "outputs": [],
   "source": [
    "# Remove 'Address' column\n",
    "X_dropAdd = crimes_data.iloc[:, 1: -1]\n",
    "obj_dropAdd=X_dropAdd.select_dtypes(include=['object','category']).copy()\n",
    "\n",
    "# One hot encoding \n",
    "obj_ohedrop_col=obj_dropAdd.columns\n",
    "ohe_dropAdd=pd.get_dummies(obj_dropAdd[obj_ohedrop_col], columns=obj_ohedrop_col, prefix=['H','S','W','B','P'],drop_first=True)"
   ]
  },
  {
   "cell_type": "code",
   "execution_count": 23,
   "metadata": {},
   "outputs": [
    {
     "data": {
      "text/html": [
       "<div>\n",
       "<style scoped>\n",
       "    .dataframe tbody tr th:only-of-type {\n",
       "        vertical-align: middle;\n",
       "    }\n",
       "\n",
       "    .dataframe tbody tr th {\n",
       "        vertical-align: top;\n",
       "    }\n",
       "\n",
       "    .dataframe thead th {\n",
       "        text-align: right;\n",
       "    }\n",
       "</style>\n",
       "<table border=\"1\" class=\"dataframe\">\n",
       "  <thead>\n",
       "    <tr style=\"text-align: right;\">\n",
       "      <th></th>\n",
       "      <th>OffenseNum</th>\n",
       "      <th>H_10am</th>\n",
       "      <th>H_10pm</th>\n",
       "      <th>H_11am</th>\n",
       "      <th>H_11pm</th>\n",
       "      <th>H_1am</th>\n",
       "      <th>H_1pm</th>\n",
       "      <th>H_2am</th>\n",
       "      <th>H_2pm</th>\n",
       "      <th>H_3am</th>\n",
       "      <th>H_3pm</th>\n",
       "      <th>H_4am</th>\n",
       "      <th>H_4pm</th>\n",
       "      <th>H_5am</th>\n",
       "      <th>H_5pm</th>\n",
       "      <th>H_6am</th>\n",
       "      <th>H_6pm</th>\n",
       "      <th>H_7am</th>\n",
       "      <th>H_7pm</th>\n",
       "      <th>H_8am</th>\n",
       "      <th>H_8pm</th>\n",
       "      <th>H_9am</th>\n",
       "      <th>H_9pm</th>\n",
       "      <th>H_noon</th>\n",
       "      <th>S_spr</th>\n",
       "      <th>S_sum</th>\n",
       "      <th>S_win</th>\n",
       "      <th>W_Y</th>\n",
       "      <th>B_10H50</th>\n",
       "      <th>B_10H60</th>\n",
       "      <th>B_10H70</th>\n",
       "      <th>B_10H80</th>\n",
       "      <th>B_11H10</th>\n",
       "      <th>B_12D10</th>\n",
       "      <th>B_12D20</th>\n",
       "      <th>B_12D70</th>\n",
       "      <th>B_13D10</th>\n",
       "      <th>B_13D20</th>\n",
       "      <th>B_14D10</th>\n",
       "      <th>B_14D20</th>\n",
       "      <th>B_14D30</th>\n",
       "      <th>B_14D40</th>\n",
       "      <th>B_15E10</th>\n",
       "      <th>B_15E20</th>\n",
       "      <th>B_15E30</th>\n",
       "      <th>B_15E40</th>\n",
       "      <th>B_16E20</th>\n",
       "      <th>B_16E30</th>\n",
       "      <th>B_16E40</th>\n",
       "      <th>B_17E10</th>\n",
       "      <th>B_17E20</th>\n",
       "      <th>B_17E30</th>\n",
       "      <th>B_17E40</th>\n",
       "      <th>B_18F20</th>\n",
       "      <th>B_18F30</th>\n",
       "      <th>B_18F40</th>\n",
       "      <th>B_18F50</th>\n",
       "      <th>B_18F60</th>\n",
       "      <th>B_19G10</th>\n",
       "      <th>B_19G20</th>\n",
       "      <th>B_19G30</th>\n",
       "      <th>B_19G40</th>\n",
       "      <th>B_19G50</th>\n",
       "      <th>B_1A10</th>\n",
       "      <th>B_1A20</th>\n",
       "      <th>B_1A30</th>\n",
       "      <th>B_1A50</th>\n",
       "      <th>B_20G10</th>\n",
       "      <th>B_20G30</th>\n",
       "      <th>B_20G40</th>\n",
       "      <th>B_20G50</th>\n",
       "      <th>B_20G60</th>\n",
       "      <th>B_20G70</th>\n",
       "      <th>B_20G80</th>\n",
       "      <th>B_2A10</th>\n",
       "      <th>B_2A30</th>\n",
       "      <th>B_2A50</th>\n",
       "      <th>B_2A60</th>\n",
       "      <th>B_3B10</th>\n",
       "      <th>B_3B30</th>\n",
       "      <th>B_3B40</th>\n",
       "      <th>B_3B50</th>\n",
       "      <th>B_4F10</th>\n",
       "      <th>B_4F20</th>\n",
       "      <th>B_4F30</th>\n",
       "      <th>B_5F10</th>\n",
       "      <th>B_5F20</th>\n",
       "      <th>B_5F30</th>\n",
       "      <th>B_5F40</th>\n",
       "      <th>B_6B10</th>\n",
       "      <th>B_6B20</th>\n",
       "      <th>B_6B30</th>\n",
       "      <th>B_6B40</th>\n",
       "      <th>B_6B50</th>\n",
       "      <th>B_6B60</th>\n",
       "      <th>B_7C10</th>\n",
       "      <th>B_7C20</th>\n",
       "      <th>B_7C30</th>\n",
       "      <th>B_7C50</th>\n",
       "      <th>B_8C10</th>\n",
       "      <th>B_8C60</th>\n",
       "      <th>B_9C20</th>\n",
       "      <th>B_9C40</th>\n",
       "      <th>B_Other</th>\n",
       "      <th>P_3</th>\n",
       "      <th>P_5</th>\n",
       "      <th>P_7</th>\n",
       "      <th>P_8</th>\n",
       "      <th>P_9</th>\n",
       "      <th>P_11</th>\n",
       "      <th>P_12</th>\n",
       "      <th>P_13</th>\n",
       "      <th>P_14</th>\n",
       "      <th>P_18</th>\n",
       "      <th>P_20</th>\n",
       "      <th>P_21</th>\n",
       "      <th>P_22</th>\n",
       "      <th>P_23</th>\n",
       "      <th>P_24</th>\n",
       "      <th>P_25</th>\n",
       "      <th>P_Other</th>\n",
       "    </tr>\n",
       "    <tr>\n",
       "      <th>Date</th>\n",
       "      <th></th>\n",
       "      <th></th>\n",
       "      <th></th>\n",
       "      <th></th>\n",
       "      <th></th>\n",
       "      <th></th>\n",
       "      <th></th>\n",
       "      <th></th>\n",
       "      <th></th>\n",
       "      <th></th>\n",
       "      <th></th>\n",
       "      <th></th>\n",
       "      <th></th>\n",
       "      <th></th>\n",
       "      <th></th>\n",
       "      <th></th>\n",
       "      <th></th>\n",
       "      <th></th>\n",
       "      <th></th>\n",
       "      <th></th>\n",
       "      <th></th>\n",
       "      <th></th>\n",
       "      <th></th>\n",
       "      <th></th>\n",
       "      <th></th>\n",
       "      <th></th>\n",
       "      <th></th>\n",
       "      <th></th>\n",
       "      <th></th>\n",
       "      <th></th>\n",
       "      <th></th>\n",
       "      <th></th>\n",
       "      <th></th>\n",
       "      <th></th>\n",
       "      <th></th>\n",
       "      <th></th>\n",
       "      <th></th>\n",
       "      <th></th>\n",
       "      <th></th>\n",
       "      <th></th>\n",
       "      <th></th>\n",
       "      <th></th>\n",
       "      <th></th>\n",
       "      <th></th>\n",
       "      <th></th>\n",
       "      <th></th>\n",
       "      <th></th>\n",
       "      <th></th>\n",
       "      <th></th>\n",
       "      <th></th>\n",
       "      <th></th>\n",
       "      <th></th>\n",
       "      <th></th>\n",
       "      <th></th>\n",
       "      <th></th>\n",
       "      <th></th>\n",
       "      <th></th>\n",
       "      <th></th>\n",
       "      <th></th>\n",
       "      <th></th>\n",
       "      <th></th>\n",
       "      <th></th>\n",
       "      <th></th>\n",
       "      <th></th>\n",
       "      <th></th>\n",
       "      <th></th>\n",
       "      <th></th>\n",
       "      <th></th>\n",
       "      <th></th>\n",
       "      <th></th>\n",
       "      <th></th>\n",
       "      <th></th>\n",
       "      <th></th>\n",
       "      <th></th>\n",
       "      <th></th>\n",
       "      <th></th>\n",
       "      <th></th>\n",
       "      <th></th>\n",
       "      <th></th>\n",
       "      <th></th>\n",
       "      <th></th>\n",
       "      <th></th>\n",
       "      <th></th>\n",
       "      <th></th>\n",
       "      <th></th>\n",
       "      <th></th>\n",
       "      <th></th>\n",
       "      <th></th>\n",
       "      <th></th>\n",
       "      <th></th>\n",
       "      <th></th>\n",
       "      <th></th>\n",
       "      <th></th>\n",
       "      <th></th>\n",
       "      <th></th>\n",
       "      <th></th>\n",
       "      <th></th>\n",
       "      <th></th>\n",
       "      <th></th>\n",
       "      <th></th>\n",
       "      <th></th>\n",
       "      <th></th>\n",
       "      <th></th>\n",
       "      <th></th>\n",
       "      <th></th>\n",
       "      <th></th>\n",
       "      <th></th>\n",
       "      <th></th>\n",
       "      <th></th>\n",
       "      <th></th>\n",
       "      <th></th>\n",
       "      <th></th>\n",
       "      <th></th>\n",
       "      <th></th>\n",
       "      <th></th>\n",
       "      <th></th>\n",
       "      <th></th>\n",
       "      <th></th>\n",
       "      <th></th>\n",
       "      <th></th>\n",
       "      <th></th>\n",
       "    </tr>\n",
       "  </thead>\n",
       "  <tbody>\n",
       "    <tr>\n",
       "      <th>2010-01-01</th>\n",
       "      <td>1</td>\n",
       "      <td>0</td>\n",
       "      <td>0</td>\n",
       "      <td>0</td>\n",
       "      <td>0</td>\n",
       "      <td>0</td>\n",
       "      <td>0</td>\n",
       "      <td>1</td>\n",
       "      <td>0</td>\n",
       "      <td>0</td>\n",
       "      <td>0</td>\n",
       "      <td>0</td>\n",
       "      <td>0</td>\n",
       "      <td>0</td>\n",
       "      <td>0</td>\n",
       "      <td>0</td>\n",
       "      <td>0</td>\n",
       "      <td>0</td>\n",
       "      <td>0</td>\n",
       "      <td>0</td>\n",
       "      <td>0</td>\n",
       "      <td>0</td>\n",
       "      <td>0</td>\n",
       "      <td>0</td>\n",
       "      <td>0</td>\n",
       "      <td>0</td>\n",
       "      <td>1</td>\n",
       "      <td>1</td>\n",
       "      <td>0</td>\n",
       "      <td>0</td>\n",
       "      <td>0</td>\n",
       "      <td>0</td>\n",
       "      <td>0</td>\n",
       "      <td>0</td>\n",
       "      <td>0</td>\n",
       "      <td>0</td>\n",
       "      <td>0</td>\n",
       "      <td>0</td>\n",
       "      <td>0</td>\n",
       "      <td>0</td>\n",
       "      <td>0</td>\n",
       "      <td>0</td>\n",
       "      <td>0</td>\n",
       "      <td>0</td>\n",
       "      <td>0</td>\n",
       "      <td>0</td>\n",
       "      <td>0</td>\n",
       "      <td>0</td>\n",
       "      <td>0</td>\n",
       "      <td>0</td>\n",
       "      <td>0</td>\n",
       "      <td>0</td>\n",
       "      <td>0</td>\n",
       "      <td>0</td>\n",
       "      <td>0</td>\n",
       "      <td>0</td>\n",
       "      <td>0</td>\n",
       "      <td>0</td>\n",
       "      <td>0</td>\n",
       "      <td>0</td>\n",
       "      <td>0</td>\n",
       "      <td>0</td>\n",
       "      <td>0</td>\n",
       "      <td>0</td>\n",
       "      <td>0</td>\n",
       "      <td>0</td>\n",
       "      <td>0</td>\n",
       "      <td>0</td>\n",
       "      <td>0</td>\n",
       "      <td>0</td>\n",
       "      <td>0</td>\n",
       "      <td>0</td>\n",
       "      <td>0</td>\n",
       "      <td>0</td>\n",
       "      <td>0</td>\n",
       "      <td>0</td>\n",
       "      <td>0</td>\n",
       "      <td>0</td>\n",
       "      <td>0</td>\n",
       "      <td>0</td>\n",
       "      <td>0</td>\n",
       "      <td>0</td>\n",
       "      <td>0</td>\n",
       "      <td>0</td>\n",
       "      <td>0</td>\n",
       "      <td>0</td>\n",
       "      <td>0</td>\n",
       "      <td>0</td>\n",
       "      <td>0</td>\n",
       "      <td>0</td>\n",
       "      <td>0</td>\n",
       "      <td>0</td>\n",
       "      <td>0</td>\n",
       "      <td>0</td>\n",
       "      <td>0</td>\n",
       "      <td>0</td>\n",
       "      <td>1</td>\n",
       "      <td>0</td>\n",
       "      <td>0</td>\n",
       "      <td>0</td>\n",
       "      <td>0</td>\n",
       "      <td>0</td>\n",
       "      <td>0</td>\n",
       "      <td>0</td>\n",
       "      <td>0</td>\n",
       "      <td>0</td>\n",
       "      <td>0</td>\n",
       "      <td>0</td>\n",
       "      <td>0</td>\n",
       "      <td>0</td>\n",
       "      <td>0</td>\n",
       "      <td>1</td>\n",
       "      <td>0</td>\n",
       "      <td>0</td>\n",
       "      <td>0</td>\n",
       "      <td>0</td>\n",
       "      <td>0</td>\n",
       "      <td>0</td>\n",
       "      <td>0</td>\n",
       "      <td>0</td>\n",
       "      <td>0</td>\n",
       "    </tr>\n",
       "    <tr>\n",
       "      <th>2010-01-01</th>\n",
       "      <td>1</td>\n",
       "      <td>0</td>\n",
       "      <td>0</td>\n",
       "      <td>0</td>\n",
       "      <td>0</td>\n",
       "      <td>0</td>\n",
       "      <td>0</td>\n",
       "      <td>1</td>\n",
       "      <td>0</td>\n",
       "      <td>0</td>\n",
       "      <td>0</td>\n",
       "      <td>0</td>\n",
       "      <td>0</td>\n",
       "      <td>0</td>\n",
       "      <td>0</td>\n",
       "      <td>0</td>\n",
       "      <td>0</td>\n",
       "      <td>0</td>\n",
       "      <td>0</td>\n",
       "      <td>0</td>\n",
       "      <td>0</td>\n",
       "      <td>0</td>\n",
       "      <td>0</td>\n",
       "      <td>0</td>\n",
       "      <td>0</td>\n",
       "      <td>0</td>\n",
       "      <td>1</td>\n",
       "      <td>1</td>\n",
       "      <td>0</td>\n",
       "      <td>0</td>\n",
       "      <td>0</td>\n",
       "      <td>0</td>\n",
       "      <td>0</td>\n",
       "      <td>0</td>\n",
       "      <td>0</td>\n",
       "      <td>0</td>\n",
       "      <td>0</td>\n",
       "      <td>0</td>\n",
       "      <td>0</td>\n",
       "      <td>0</td>\n",
       "      <td>0</td>\n",
       "      <td>0</td>\n",
       "      <td>0</td>\n",
       "      <td>0</td>\n",
       "      <td>0</td>\n",
       "      <td>0</td>\n",
       "      <td>0</td>\n",
       "      <td>0</td>\n",
       "      <td>0</td>\n",
       "      <td>0</td>\n",
       "      <td>0</td>\n",
       "      <td>0</td>\n",
       "      <td>0</td>\n",
       "      <td>0</td>\n",
       "      <td>0</td>\n",
       "      <td>0</td>\n",
       "      <td>0</td>\n",
       "      <td>0</td>\n",
       "      <td>0</td>\n",
       "      <td>0</td>\n",
       "      <td>0</td>\n",
       "      <td>0</td>\n",
       "      <td>0</td>\n",
       "      <td>0</td>\n",
       "      <td>0</td>\n",
       "      <td>0</td>\n",
       "      <td>0</td>\n",
       "      <td>0</td>\n",
       "      <td>0</td>\n",
       "      <td>0</td>\n",
       "      <td>0</td>\n",
       "      <td>0</td>\n",
       "      <td>1</td>\n",
       "      <td>0</td>\n",
       "      <td>0</td>\n",
       "      <td>0</td>\n",
       "      <td>0</td>\n",
       "      <td>0</td>\n",
       "      <td>0</td>\n",
       "      <td>0</td>\n",
       "      <td>0</td>\n",
       "      <td>0</td>\n",
       "      <td>0</td>\n",
       "      <td>0</td>\n",
       "      <td>0</td>\n",
       "      <td>0</td>\n",
       "      <td>0</td>\n",
       "      <td>0</td>\n",
       "      <td>0</td>\n",
       "      <td>0</td>\n",
       "      <td>0</td>\n",
       "      <td>0</td>\n",
       "      <td>0</td>\n",
       "      <td>0</td>\n",
       "      <td>0</td>\n",
       "      <td>0</td>\n",
       "      <td>0</td>\n",
       "      <td>0</td>\n",
       "      <td>0</td>\n",
       "      <td>0</td>\n",
       "      <td>0</td>\n",
       "      <td>0</td>\n",
       "      <td>0</td>\n",
       "      <td>0</td>\n",
       "      <td>0</td>\n",
       "      <td>0</td>\n",
       "      <td>0</td>\n",
       "      <td>0</td>\n",
       "      <td>0</td>\n",
       "      <td>0</td>\n",
       "      <td>0</td>\n",
       "      <td>0</td>\n",
       "      <td>0</td>\n",
       "      <td>1</td>\n",
       "      <td>0</td>\n",
       "      <td>0</td>\n",
       "      <td>0</td>\n",
       "      <td>0</td>\n",
       "      <td>0</td>\n",
       "      <td>0</td>\n",
       "      <td>0</td>\n",
       "    </tr>\n",
       "    <tr>\n",
       "      <th>2010-01-01</th>\n",
       "      <td>1</td>\n",
       "      <td>0</td>\n",
       "      <td>0</td>\n",
       "      <td>0</td>\n",
       "      <td>0</td>\n",
       "      <td>0</td>\n",
       "      <td>0</td>\n",
       "      <td>0</td>\n",
       "      <td>0</td>\n",
       "      <td>0</td>\n",
       "      <td>0</td>\n",
       "      <td>0</td>\n",
       "      <td>0</td>\n",
       "      <td>0</td>\n",
       "      <td>0</td>\n",
       "      <td>0</td>\n",
       "      <td>0</td>\n",
       "      <td>0</td>\n",
       "      <td>0</td>\n",
       "      <td>0</td>\n",
       "      <td>0</td>\n",
       "      <td>1</td>\n",
       "      <td>0</td>\n",
       "      <td>0</td>\n",
       "      <td>0</td>\n",
       "      <td>0</td>\n",
       "      <td>1</td>\n",
       "      <td>1</td>\n",
       "      <td>0</td>\n",
       "      <td>0</td>\n",
       "      <td>0</td>\n",
       "      <td>0</td>\n",
       "      <td>0</td>\n",
       "      <td>0</td>\n",
       "      <td>0</td>\n",
       "      <td>0</td>\n",
       "      <td>0</td>\n",
       "      <td>0</td>\n",
       "      <td>0</td>\n",
       "      <td>0</td>\n",
       "      <td>0</td>\n",
       "      <td>0</td>\n",
       "      <td>0</td>\n",
       "      <td>0</td>\n",
       "      <td>0</td>\n",
       "      <td>0</td>\n",
       "      <td>0</td>\n",
       "      <td>0</td>\n",
       "      <td>0</td>\n",
       "      <td>0</td>\n",
       "      <td>0</td>\n",
       "      <td>0</td>\n",
       "      <td>0</td>\n",
       "      <td>0</td>\n",
       "      <td>0</td>\n",
       "      <td>0</td>\n",
       "      <td>0</td>\n",
       "      <td>0</td>\n",
       "      <td>0</td>\n",
       "      <td>0</td>\n",
       "      <td>0</td>\n",
       "      <td>0</td>\n",
       "      <td>0</td>\n",
       "      <td>0</td>\n",
       "      <td>0</td>\n",
       "      <td>0</td>\n",
       "      <td>0</td>\n",
       "      <td>0</td>\n",
       "      <td>0</td>\n",
       "      <td>0</td>\n",
       "      <td>0</td>\n",
       "      <td>0</td>\n",
       "      <td>0</td>\n",
       "      <td>0</td>\n",
       "      <td>0</td>\n",
       "      <td>0</td>\n",
       "      <td>0</td>\n",
       "      <td>0</td>\n",
       "      <td>0</td>\n",
       "      <td>0</td>\n",
       "      <td>0</td>\n",
       "      <td>0</td>\n",
       "      <td>0</td>\n",
       "      <td>0</td>\n",
       "      <td>1</td>\n",
       "      <td>0</td>\n",
       "      <td>0</td>\n",
       "      <td>0</td>\n",
       "      <td>0</td>\n",
       "      <td>0</td>\n",
       "      <td>0</td>\n",
       "      <td>0</td>\n",
       "      <td>0</td>\n",
       "      <td>0</td>\n",
       "      <td>0</td>\n",
       "      <td>0</td>\n",
       "      <td>0</td>\n",
       "      <td>0</td>\n",
       "      <td>0</td>\n",
       "      <td>0</td>\n",
       "      <td>0</td>\n",
       "      <td>0</td>\n",
       "      <td>0</td>\n",
       "      <td>0</td>\n",
       "      <td>0</td>\n",
       "      <td>0</td>\n",
       "      <td>0</td>\n",
       "      <td>0</td>\n",
       "      <td>0</td>\n",
       "      <td>0</td>\n",
       "      <td>0</td>\n",
       "      <td>1</td>\n",
       "      <td>0</td>\n",
       "      <td>0</td>\n",
       "      <td>0</td>\n",
       "      <td>0</td>\n",
       "      <td>0</td>\n",
       "      <td>0</td>\n",
       "      <td>0</td>\n",
       "      <td>0</td>\n",
       "      <td>0</td>\n",
       "    </tr>\n",
       "    <tr>\n",
       "      <th>2010-01-01</th>\n",
       "      <td>1</td>\n",
       "      <td>1</td>\n",
       "      <td>0</td>\n",
       "      <td>0</td>\n",
       "      <td>0</td>\n",
       "      <td>0</td>\n",
       "      <td>0</td>\n",
       "      <td>0</td>\n",
       "      <td>0</td>\n",
       "      <td>0</td>\n",
       "      <td>0</td>\n",
       "      <td>0</td>\n",
       "      <td>0</td>\n",
       "      <td>0</td>\n",
       "      <td>0</td>\n",
       "      <td>0</td>\n",
       "      <td>0</td>\n",
       "      <td>0</td>\n",
       "      <td>0</td>\n",
       "      <td>0</td>\n",
       "      <td>0</td>\n",
       "      <td>0</td>\n",
       "      <td>0</td>\n",
       "      <td>0</td>\n",
       "      <td>0</td>\n",
       "      <td>0</td>\n",
       "      <td>1</td>\n",
       "      <td>1</td>\n",
       "      <td>0</td>\n",
       "      <td>0</td>\n",
       "      <td>0</td>\n",
       "      <td>0</td>\n",
       "      <td>0</td>\n",
       "      <td>0</td>\n",
       "      <td>0</td>\n",
       "      <td>0</td>\n",
       "      <td>0</td>\n",
       "      <td>0</td>\n",
       "      <td>0</td>\n",
       "      <td>0</td>\n",
       "      <td>0</td>\n",
       "      <td>0</td>\n",
       "      <td>0</td>\n",
       "      <td>0</td>\n",
       "      <td>0</td>\n",
       "      <td>0</td>\n",
       "      <td>0</td>\n",
       "      <td>0</td>\n",
       "      <td>0</td>\n",
       "      <td>0</td>\n",
       "      <td>0</td>\n",
       "      <td>0</td>\n",
       "      <td>0</td>\n",
       "      <td>0</td>\n",
       "      <td>0</td>\n",
       "      <td>0</td>\n",
       "      <td>0</td>\n",
       "      <td>0</td>\n",
       "      <td>0</td>\n",
       "      <td>0</td>\n",
       "      <td>0</td>\n",
       "      <td>0</td>\n",
       "      <td>0</td>\n",
       "      <td>0</td>\n",
       "      <td>0</td>\n",
       "      <td>0</td>\n",
       "      <td>0</td>\n",
       "      <td>1</td>\n",
       "      <td>0</td>\n",
       "      <td>0</td>\n",
       "      <td>0</td>\n",
       "      <td>0</td>\n",
       "      <td>0</td>\n",
       "      <td>0</td>\n",
       "      <td>0</td>\n",
       "      <td>0</td>\n",
       "      <td>0</td>\n",
       "      <td>0</td>\n",
       "      <td>0</td>\n",
       "      <td>0</td>\n",
       "      <td>0</td>\n",
       "      <td>0</td>\n",
       "      <td>0</td>\n",
       "      <td>0</td>\n",
       "      <td>0</td>\n",
       "      <td>0</td>\n",
       "      <td>0</td>\n",
       "      <td>0</td>\n",
       "      <td>0</td>\n",
       "      <td>0</td>\n",
       "      <td>0</td>\n",
       "      <td>0</td>\n",
       "      <td>0</td>\n",
       "      <td>0</td>\n",
       "      <td>0</td>\n",
       "      <td>0</td>\n",
       "      <td>0</td>\n",
       "      <td>0</td>\n",
       "      <td>0</td>\n",
       "      <td>0</td>\n",
       "      <td>0</td>\n",
       "      <td>0</td>\n",
       "      <td>0</td>\n",
       "      <td>0</td>\n",
       "      <td>0</td>\n",
       "      <td>0</td>\n",
       "      <td>0</td>\n",
       "      <td>0</td>\n",
       "      <td>0</td>\n",
       "      <td>0</td>\n",
       "      <td>0</td>\n",
       "      <td>0</td>\n",
       "      <td>0</td>\n",
       "      <td>1</td>\n",
       "      <td>0</td>\n",
       "      <td>0</td>\n",
       "      <td>0</td>\n",
       "      <td>0</td>\n",
       "      <td>0</td>\n",
       "      <td>0</td>\n",
       "      <td>0</td>\n",
       "    </tr>\n",
       "    <tr>\n",
       "      <th>2010-01-01</th>\n",
       "      <td>1</td>\n",
       "      <td>0</td>\n",
       "      <td>0</td>\n",
       "      <td>0</td>\n",
       "      <td>0</td>\n",
       "      <td>0</td>\n",
       "      <td>0</td>\n",
       "      <td>0</td>\n",
       "      <td>1</td>\n",
       "      <td>0</td>\n",
       "      <td>0</td>\n",
       "      <td>0</td>\n",
       "      <td>0</td>\n",
       "      <td>0</td>\n",
       "      <td>0</td>\n",
       "      <td>0</td>\n",
       "      <td>0</td>\n",
       "      <td>0</td>\n",
       "      <td>0</td>\n",
       "      <td>0</td>\n",
       "      <td>0</td>\n",
       "      <td>0</td>\n",
       "      <td>0</td>\n",
       "      <td>0</td>\n",
       "      <td>0</td>\n",
       "      <td>0</td>\n",
       "      <td>1</td>\n",
       "      <td>1</td>\n",
       "      <td>0</td>\n",
       "      <td>0</td>\n",
       "      <td>0</td>\n",
       "      <td>0</td>\n",
       "      <td>0</td>\n",
       "      <td>0</td>\n",
       "      <td>0</td>\n",
       "      <td>0</td>\n",
       "      <td>0</td>\n",
       "      <td>0</td>\n",
       "      <td>0</td>\n",
       "      <td>0</td>\n",
       "      <td>0</td>\n",
       "      <td>0</td>\n",
       "      <td>0</td>\n",
       "      <td>0</td>\n",
       "      <td>0</td>\n",
       "      <td>0</td>\n",
       "      <td>0</td>\n",
       "      <td>0</td>\n",
       "      <td>0</td>\n",
       "      <td>0</td>\n",
       "      <td>0</td>\n",
       "      <td>0</td>\n",
       "      <td>0</td>\n",
       "      <td>0</td>\n",
       "      <td>0</td>\n",
       "      <td>0</td>\n",
       "      <td>0</td>\n",
       "      <td>0</td>\n",
       "      <td>0</td>\n",
       "      <td>0</td>\n",
       "      <td>0</td>\n",
       "      <td>0</td>\n",
       "      <td>0</td>\n",
       "      <td>0</td>\n",
       "      <td>0</td>\n",
       "      <td>0</td>\n",
       "      <td>0</td>\n",
       "      <td>0</td>\n",
       "      <td>0</td>\n",
       "      <td>0</td>\n",
       "      <td>0</td>\n",
       "      <td>0</td>\n",
       "      <td>0</td>\n",
       "      <td>1</td>\n",
       "      <td>0</td>\n",
       "      <td>0</td>\n",
       "      <td>0</td>\n",
       "      <td>0</td>\n",
       "      <td>0</td>\n",
       "      <td>0</td>\n",
       "      <td>0</td>\n",
       "      <td>0</td>\n",
       "      <td>0</td>\n",
       "      <td>0</td>\n",
       "      <td>0</td>\n",
       "      <td>0</td>\n",
       "      <td>0</td>\n",
       "      <td>0</td>\n",
       "      <td>0</td>\n",
       "      <td>0</td>\n",
       "      <td>0</td>\n",
       "      <td>0</td>\n",
       "      <td>0</td>\n",
       "      <td>0</td>\n",
       "      <td>0</td>\n",
       "      <td>0</td>\n",
       "      <td>0</td>\n",
       "      <td>0</td>\n",
       "      <td>0</td>\n",
       "      <td>0</td>\n",
       "      <td>0</td>\n",
       "      <td>0</td>\n",
       "      <td>0</td>\n",
       "      <td>0</td>\n",
       "      <td>0</td>\n",
       "      <td>0</td>\n",
       "      <td>0</td>\n",
       "      <td>1</td>\n",
       "      <td>0</td>\n",
       "      <td>0</td>\n",
       "      <td>0</td>\n",
       "      <td>0</td>\n",
       "      <td>0</td>\n",
       "      <td>0</td>\n",
       "      <td>0</td>\n",
       "      <td>0</td>\n",
       "      <td>0</td>\n",
       "      <td>0</td>\n",
       "      <td>0</td>\n",
       "      <td>0</td>\n",
       "      <td>0</td>\n",
       "    </tr>\n",
       "  </tbody>\n",
       "</table>\n",
       "</div>"
      ],
      "text/plain": [
       "            OffenseNum  H_10am  H_10pm  H_11am  H_11pm  H_1am  H_1pm  H_2am  \\\n",
       "Date                                                                          \n",
       "2010-01-01           1       0       0       0       0      0      0      1   \n",
       "2010-01-01           1       0       0       0       0      0      0      1   \n",
       "2010-01-01           1       0       0       0       0      0      0      0   \n",
       "2010-01-01           1       1       0       0       0      0      0      0   \n",
       "2010-01-01           1       0       0       0       0      0      0      0   \n",
       "\n",
       "            H_2pm  H_3am  H_3pm  H_4am  H_4pm  H_5am  H_5pm  H_6am  H_6pm  \\\n",
       "Date                                                                        \n",
       "2010-01-01      0      0      0      0      0      0      0      0      0   \n",
       "2010-01-01      0      0      0      0      0      0      0      0      0   \n",
       "2010-01-01      0      0      0      0      0      0      0      0      0   \n",
       "2010-01-01      0      0      0      0      0      0      0      0      0   \n",
       "2010-01-01      1      0      0      0      0      0      0      0      0   \n",
       "\n",
       "            H_7am  H_7pm  H_8am  H_8pm  H_9am  H_9pm  H_noon  S_spr  S_sum  \\\n",
       "Date                                                                         \n",
       "2010-01-01      0      0      0      0      0      0       0      0      0   \n",
       "2010-01-01      0      0      0      0      0      0       0      0      0   \n",
       "2010-01-01      0      0      0      0      1      0       0      0      0   \n",
       "2010-01-01      0      0      0      0      0      0       0      0      0   \n",
       "2010-01-01      0      0      0      0      0      0       0      0      0   \n",
       "\n",
       "            S_win  W_Y  B_10H50  B_10H60  B_10H70  B_10H80  B_11H10  B_12D10  \\\n",
       "Date                                                                           \n",
       "2010-01-01      1    1        0        0        0        0        0        0   \n",
       "2010-01-01      1    1        0        0        0        0        0        0   \n",
       "2010-01-01      1    1        0        0        0        0        0        0   \n",
       "2010-01-01      1    1        0        0        0        0        0        0   \n",
       "2010-01-01      1    1        0        0        0        0        0        0   \n",
       "\n",
       "            B_12D20  B_12D70  B_13D10  B_13D20  B_14D10  B_14D20  B_14D30  \\\n",
       "Date                                                                        \n",
       "2010-01-01        0        0        0        0        0        0        0   \n",
       "2010-01-01        0        0        0        0        0        0        0   \n",
       "2010-01-01        0        0        0        0        0        0        0   \n",
       "2010-01-01        0        0        0        0        0        0        0   \n",
       "2010-01-01        0        0        0        0        0        0        0   \n",
       "\n",
       "            B_14D40  B_15E10  B_15E20  B_15E30  B_15E40  B_16E20  B_16E30  \\\n",
       "Date                                                                        \n",
       "2010-01-01        0        0        0        0        0        0        0   \n",
       "2010-01-01        0        0        0        0        0        0        0   \n",
       "2010-01-01        0        0        0        0        0        0        0   \n",
       "2010-01-01        0        0        0        0        0        0        0   \n",
       "2010-01-01        0        0        0        0        0        0        0   \n",
       "\n",
       "            B_16E40  B_17E10  B_17E20  B_17E30  B_17E40  B_18F20  B_18F30  \\\n",
       "Date                                                                        \n",
       "2010-01-01        0        0        0        0        0        0        0   \n",
       "2010-01-01        0        0        0        0        0        0        0   \n",
       "2010-01-01        0        0        0        0        0        0        0   \n",
       "2010-01-01        0        0        0        0        0        0        0   \n",
       "2010-01-01        0        0        0        0        0        0        0   \n",
       "\n",
       "            B_18F40  B_18F50  B_18F60  B_19G10  B_19G20  B_19G30  B_19G40  \\\n",
       "Date                                                                        \n",
       "2010-01-01        0        0        0        0        0        0        0   \n",
       "2010-01-01        0        0        0        0        0        0        0   \n",
       "2010-01-01        0        0        0        0        0        0        0   \n",
       "2010-01-01        0        0        0        0        0        0        0   \n",
       "2010-01-01        0        0        0        0        0        0        0   \n",
       "\n",
       "            B_19G50  B_1A10  B_1A20  B_1A30  B_1A50  B_20G10  B_20G30  \\\n",
       "Date                                                                    \n",
       "2010-01-01        0       0       0       0       0        0        0   \n",
       "2010-01-01        0       0       0       0       0        0        0   \n",
       "2010-01-01        0       0       0       0       0        0        0   \n",
       "2010-01-01        0       0       0       0       0        1        0   \n",
       "2010-01-01        0       0       0       0       0        0        0   \n",
       "\n",
       "            B_20G40  B_20G50  B_20G60  B_20G70  B_20G80  B_2A10  B_2A30  \\\n",
       "Date                                                                      \n",
       "2010-01-01        0        0        0        0        0       0       0   \n",
       "2010-01-01        0        0        0        1        0       0       0   \n",
       "2010-01-01        0        0        0        0        0       0       0   \n",
       "2010-01-01        0        0        0        0        0       0       0   \n",
       "2010-01-01        0        0        0        0        1       0       0   \n",
       "\n",
       "            B_2A50  B_2A60  B_3B10  B_3B30  B_3B40  B_3B50  B_4F10  B_4F20  \\\n",
       "Date                                                                         \n",
       "2010-01-01       0       0       0       0       0       0       0       0   \n",
       "2010-01-01       0       0       0       0       0       0       0       0   \n",
       "2010-01-01       0       0       0       0       0       0       0       0   \n",
       "2010-01-01       0       0       0       0       0       0       0       0   \n",
       "2010-01-01       0       0       0       0       0       0       0       0   \n",
       "\n",
       "            B_4F30  B_5F10  B_5F20  B_5F30  B_5F40  B_6B10  B_6B20  B_6B30  \\\n",
       "Date                                                                         \n",
       "2010-01-01       0       0       0       0       0       0       0       0   \n",
       "2010-01-01       0       0       0       0       0       0       0       0   \n",
       "2010-01-01       1       0       0       0       0       0       0       0   \n",
       "2010-01-01       0       0       0       0       0       0       0       0   \n",
       "2010-01-01       0       0       0       0       0       0       0       0   \n",
       "\n",
       "            B_6B40  B_6B50  B_6B60  B_7C10  B_7C20  B_7C30  B_7C50  B_8C10  \\\n",
       "Date                                                                         \n",
       "2010-01-01       0       0       0       0       1       0       0       0   \n",
       "2010-01-01       0       0       0       0       0       0       0       0   \n",
       "2010-01-01       0       0       0       0       0       0       0       0   \n",
       "2010-01-01       0       0       0       0       0       0       0       0   \n",
       "2010-01-01       0       0       0       0       0       0       0       0   \n",
       "\n",
       "            B_8C60  B_9C20  B_9C40  B_Other  P_3  P_5  P_7  P_8  P_9  P_11  \\\n",
       "Date                                                                         \n",
       "2010-01-01       0       0       0        0    0    0    0    0    0     0   \n",
       "2010-01-01       0       0       0        0    0    0    0    0    0     0   \n",
       "2010-01-01       0       0       0        0    0    0    0    0    0     0   \n",
       "2010-01-01       0       0       0        0    0    0    0    0    0     0   \n",
       "2010-01-01       0       0       0        0    0    0    0    1    0     0   \n",
       "\n",
       "            P_12  P_13  P_14  P_18  P_20  P_21  P_22  P_23  P_24  P_25  \\\n",
       "Date                                                                     \n",
       "2010-01-01     0     1     0     0     0     0     0     0     0     0   \n",
       "2010-01-01     0     0     0     1     0     0     0     0     0     0   \n",
       "2010-01-01     0     1     0     0     0     0     0     0     0     0   \n",
       "2010-01-01     0     0     0     1     0     0     0     0     0     0   \n",
       "2010-01-01     0     0     0     0     0     0     0     0     0     0   \n",
       "\n",
       "            P_Other  \n",
       "Date                 \n",
       "2010-01-01        0  \n",
       "2010-01-01        0  \n",
       "2010-01-01        0  \n",
       "2010-01-01        0  \n",
       "2010-01-01        0  "
      ]
     },
     "execution_count": 23,
     "metadata": {},
     "output_type": "execute_result"
    }
   ],
   "source": [
    "X_dropAdd=pd.concat([X_crime['OffenseNum'],ohe_dropAdd],axis=1)\n",
    "pd.set_option('display.max_columns', None)\n",
    "X_dropAdd.head()"
   ]
  },
  {
   "cell_type": "code",
   "execution_count": 90,
   "metadata": {},
   "outputs": [
    {
     "name": "stdout",
     "output_type": "stream",
     "text": [
      "<class 'pandas.core.frame.DataFrame'>\n",
      "DatetimeIndex: 999521 entries, 2010-01-01 to 2017-12-31\n",
      "Columns: 121 entries, OffenseNum to P_Other\n",
      "dtypes: int64(1), uint8(120)\n",
      "memory usage: 149.6 MB\n"
     ]
    }
   ],
   "source": [
    "X_dropAdd.info()"
   ]
  },
  {
   "cell_type": "markdown",
   "metadata": {},
   "source": [
    "# Build Machine Learning Models"
   ]
  },
  {
   "cell_type": "markdown",
   "metadata": {},
   "source": [
    "## Dummy classifier\n",
    "Since this is a highly unbalanced classification, we use the dummy classifer to get a baseline. In the dummy classifier, we use the 'most_frequent' strategy, hence the classifer always predict dominant class 'Theft'."
   ]
  },
  {
   "cell_type": "code",
   "execution_count": 24,
   "metadata": {},
   "outputs": [
    {
     "data": {
      "text/plain": [
       "array(['Theft', 'Theft', 'Theft', ..., 'Theft', 'Theft', 'Theft'],\n",
       "      dtype='<U5')"
      ]
     },
     "execution_count": 24,
     "metadata": {},
     "output_type": "execute_result"
    }
   ],
   "source": [
    "from sklearn.model_selection import train_test_split\n",
    "\n",
    "# default is 75% / 25% train-test split\n",
    "X_train, X_test, y_train, y_test = train_test_split(X, y, random_state=0)\n",
    "from sklearn.dummy import DummyClassifier\n",
    "\n",
    "dummy_majority = DummyClassifier(strategy = 'most_frequent').fit(X_train, y_train)\n",
    "y_dummy_predictions = dummy_majority.predict(X_test)\n",
    "\n",
    "y_dummy_predictions"
   ]
  },
  {
   "cell_type": "code",
   "execution_count": 57,
   "metadata": {},
   "outputs": [
    {
     "name": "stdout",
     "output_type": "stream",
     "text": [
      "0.5489452979618298\n"
     ]
    }
   ],
   "source": [
    "dumscore=dummy_majority.score(X_test, y_test)\n",
    "print(dumscore)"
   ]
  },
  {
   "cell_type": "code",
   "execution_count": 25,
   "metadata": {},
   "outputs": [
    {
     "name": "stdout",
     "output_type": "stream",
     "text": [
      "Confusion Matrix:\n",
      " [[     0      0      0      0      0      0  20577]\n",
      " [     0      0      0      0      0      0  25384]\n",
      " [     0      0      0      0      0      0  45258]\n",
      " [     0      0      0      0      0      0    442]\n",
      " [     0      0      0      0      0      0   1730]\n",
      " [     0      0      0      0      0      0  19319]\n",
      " [     0      0      0      0      0      0 137171]]\n",
      "\n",
      "\n",
      "Accuracy :  54.89452979618298\n",
      "\n",
      "\n"
     ]
    },
    {
     "name": "stderr",
     "output_type": "stream",
     "text": [
      "/Users/phyhouhou/anaconda/lib/python3.6/site-packages/sklearn/metrics/classification.py:1135: UndefinedMetricWarning: Precision and F-score are ill-defined and being set to 0.0 in labels with no predicted samples.\n",
      "  'precision', 'predicted', average, warn_for)\n"
     ]
    },
    {
     "name": "stdout",
     "output_type": "stream",
     "text": [
      "Report :\n",
      "                    precision    recall  f1-score   support\n",
      "\n",
      "AggravatedAssault       0.00      0.00      0.00     20577\n",
      "        AutoTheft       0.00      0.00      0.00     25384\n",
      "         Burglary       0.00      0.00      0.00     45258\n",
      "           Murder       0.00      0.00      0.00       442\n",
      "             Rape       0.00      0.00      0.00      1730\n",
      "          Robbery       0.00      0.00      0.00     19319\n",
      "            Theft       0.55      1.00      0.71    137171\n",
      "\n",
      "      avg / total       0.30      0.55      0.39    249881\n",
      "\n"
     ]
    }
   ],
   "source": [
    "from sklearn.metrics import confusion_matrix\n",
    "from sklearn.metrics import accuracy_score\n",
    "from sklearn.metrics import classification_report\n",
    "\n",
    "\n",
    "# Other metrics\n",
    "print(\"Confusion Matrix:\\n\", confusion_matrix(y_test, y_dummy_predictions))\n",
    "print('\\n')\n",
    "\n",
    "\n",
    "print (\"Accuracy : \", accuracy_score(y_test,y_dummy_predictions)*100)\n",
    "print('\\n')\n",
    "\n",
    "print(\"Report :\\n\", classification_report(y_test,y_dummy_predictions))\n",
    "\n",
    "dummycm=confusion_matrix(y_test, y_dummy_predictions)\n",
    "\n"
   ]
  },
  {
   "cell_type": "markdown",
   "metadata": {},
   "source": [
    "Drop 'Address' doesn't affect dummy classifier\n"
   ]
  },
  {
   "cell_type": "markdown",
   "metadata": {},
   "source": [
    "## KNN classifier"
   ]
  },
  {
   "cell_type": "code",
   "execution_count": 27,
   "metadata": {},
   "outputs": [
    {
     "name": "stdout",
     "output_type": "stream",
     "text": [
      "0.577170733269036\n"
     ]
    }
   ],
   "source": [
    "#create classifer object\n",
    "from sklearn.neighbors import KNeighborsClassifier\n",
    "knn = KNeighborsClassifier(n_neighbors =20 )\n",
    "\n",
    "#Train the classifier (fit the estimator) using the training data\n",
    "knn.fit(X_train, y_train)\n",
    "\n",
    "#Estimate the accuracy of the classifier on future data, using the test data\n",
    "knnscore=knn.score(X_test, y_test)\n",
    "print(knnscore)\n"
   ]
  },
  {
   "cell_type": "code",
   "execution_count": 59,
   "metadata": {},
   "outputs": [
    {
     "name": "stdout",
     "output_type": "stream",
     "text": [
      "Confusion Matrix:\n",
      " [[  1710    547   5712      0      3    736  11869]\n",
      " [   491   2069   2702      0      1    690  19431]\n",
      " [  1103    235  22332      0      1    233  21354]\n",
      " [    28     14    107      0      0     28    265]\n",
      " [    97     23    570      0      0     35   1005]\n",
      " [   732    966   2582      0      1   1673  13365]\n",
      " [  1704   2828  14860      0      2   1337 116440]]\n",
      "Accuracy :  57.7170733269036\n",
      "Report :\n",
      "                    precision    recall  f1-score   support\n",
      "\n",
      "AggravatedAssault       0.29      0.08      0.13     20577\n",
      "        AutoTheft       0.31      0.08      0.13     25384\n",
      "         Burglary       0.46      0.49      0.47     45258\n",
      "           Murder       0.00      0.00      0.00       442\n",
      "             Rape       0.00      0.00      0.00      1730\n",
      "          Robbery       0.35      0.09      0.14     19319\n",
      "            Theft       0.63      0.85      0.73    137171\n",
      "\n",
      "      avg / total       0.51      0.58      0.52    249881\n",
      "\n"
     ]
    },
    {
     "name": "stderr",
     "output_type": "stream",
     "text": [
      "/Users/phyhouhou/anaconda/lib/python3.6/site-packages/sklearn/metrics/classification.py:1135: UndefinedMetricWarning: Precision and F-score are ill-defined and being set to 0.0 in labels with no predicted samples.\n",
      "  'precision', 'predicted', average, warn_for)\n"
     ]
    }
   ],
   "source": [
    "from sklearn.metrics import confusion_matrix\n",
    "from sklearn.metrics import accuracy_score\n",
    "from sklearn.metrics import classification_report\n",
    "\n",
    "\n",
    "# Other metrics\n",
    "print(\"Confusion Matrix:\\n\", confusion_matrix(y_test, knn.predict(X_test)))\n",
    "print (\"Accuracy : \", accuracy_score(y_test,knn.predict(X_test))*100)\n",
    "print(\"Report :\\n\", classification_report(y_test, knn.predict(X_test)))\n"
   ]
  },
  {
   "cell_type": "markdown",
   "metadata": {},
   "source": [
    "Accuray is increased compared to that of DummyClassifier and precision for crimes other than majority-class, i.e., 'Theft' gets better but still extreme minority-class like 'Murder' and 'Rape' can't be predicted."
   ]
  },
  {
   "cell_type": "markdown",
   "metadata": {},
   "source": [
    "### How sensitive is k-NN classification accuracy to the choice of the 'k' parameter?"
   ]
  },
  {
   "cell_type": "code",
   "execution_count": 44,
   "metadata": {
    "collapsed": true
   },
   "outputs": [
    {
     "data": {
      "image/png": "[encoded data removed]",
      "text/plain": [
       "<matplotlib.figure.Figure at 0x10e4f6fd0>"
      ]
     },
     "metadata": {},
     "output_type": "display_data"
    }
   ],
   "source": [
    "#calculate accuracy fed by different k's\n",
    "k_range = range(1,20,4)\n",
    "scores = []\n",
    "\n",
    "for k in k_range:\n",
    "    knn = KNeighborsClassifier(n_neighbors = k)\n",
    "    knn.fit(X_train, y_train)\n",
    "    scores.append(knn.score(X_test, y_test))"
   ]
  },
  {
   "cell_type": "code",
   "execution_count": 54,
   "metadata": {},
   "outputs": [
    {
     "data": {
      "image/png": "[encoded data removed]",
      "text/plain": [
       "<matplotlib.figure.Figure at 0x10f2984a8>"
      ]
     },
     "metadata": {},
     "output_type": "display_data"
    }
   ],
   "source": [
    "plt.figure(figsize=(12,8))\n",
    "plt.xlabel('k',fontsize=16)\n",
    "plt.ylabel('Accuracy',fontsize=16)\n",
    "plt.scatter(k_range, scores,color='blue')\n",
    "plt.xticks([0,4,8,12,16,20],fontsize=15)\n",
    "plt.yticks(fontsize=15);"
   ]
  },
  {
   "cell_type": "code",
   "execution_count": null,
   "metadata": {},
   "outputs": [],
   "source": [
    "# from sklearn.model_selection import train_test_split\n",
    "# from sklearn.neighbors import KNeighborsClassifier\n",
    "\n",
    "\n",
    "# # default is 75% / 25% train-test split\n",
    "# X_train, X_test, y_train, y_test = train_test_split(X_dropAdd, y, random_state=0)\n",
    "# knn = KNeighborsClassifier(n_neighbors =20 )\n",
    "\n",
    "# #Train the classifier (fit the estimator) using the training data\n",
    "# knn.fit(X_train, y_train)\n",
    "\n",
    "# #Estimate the accuracy of the classifier on future data, using the test data\n",
    "# knn.score(X_test, y_test)\n",
    "\n",
    "#Drop 'Address' and onehotencode other categoricals; it slows down KNN classifier a lot! Too slow!"
   ]
  },
  {
   "cell_type": "markdown",
   "metadata": {},
   "source": [
    "## Decision tree, criterion = \"gini\""
   ]
  },
  {
   "cell_type": "code",
   "execution_count": 29,
   "metadata": {},
   "outputs": [
    {
     "name": "stdout",
     "output_type": "stream",
     "text": [
      "0.5285510617543333\n"
     ]
    }
   ],
   "source": [
    "from sklearn.tree import DecisionTreeClassifier\n",
    "\n",
    "X_train, X_test, y_train, y_test = train_test_split( \n",
    "          X, y, test_size = 0.2, random_state = 0)\n",
    "\n",
    "# Creating the classifier object\n",
    "clf_gini = DecisionTreeClassifier(criterion = \"gini\",\n",
    "            random_state = 0,max_depth=50, min_samples_leaf=3)\n",
    " \n",
    "# Performing training\n",
    "clf_object=clf_gini.fit(X_train, y_train)\n",
    "\n",
    "# Prediction using gini\n",
    "y_pred_gini = clf_object.predict(X_test)\n",
    "\n",
    "dtscoregini=accuracy_score(y_test,y_pred_gini)\n",
    "print(dtscoregini)\n"
   ]
  },
  {
   "cell_type": "code",
   "execution_count": 30,
   "metadata": {},
   "outputs": [
    {
     "name": "stdout",
     "output_type": "stream",
     "text": [
      "Confusion Matrix:\n",
      " [[ 4350  1562  3364    10    49  1213  5876]\n",
      " [ 1951  3903  1900     3    17  1304 11246]\n",
      " [ 3540  1552 18885     2    62   705 11532]\n",
      " [   66    35    58     0     1    48   136]\n",
      " [  256    90   426     2    11    81   528]\n",
      " [ 2034  1916  1752     7    22  2400  7250]\n",
      " [ 6738  9119 13319    15   127  4331 76111]]\n",
      "Accuracy :  52.85510617543333\n",
      "Report :\n",
      "                    precision    recall  f1-score   support\n",
      "\n",
      "AggravatedAssault       0.23      0.26      0.25     16424\n",
      "        AutoTheft       0.21      0.19      0.20     20324\n",
      "         Burglary       0.48      0.52      0.50     36278\n",
      "           Murder       0.00      0.00      0.00       344\n",
      "             Rape       0.04      0.01      0.01      1394\n",
      "          Robbery       0.24      0.16      0.19     15381\n",
      "            Theft       0.68      0.69      0.68    109760\n",
      "\n",
      "      avg / total       0.52      0.53      0.52    199905\n",
      "\n"
     ]
    }
   ],
   "source": [
    "#Other metrics\n",
    "print(\"Confusion Matrix:\\n\", confusion_matrix(y_test, y_pred_gini))\n",
    "print (\"Accuracy : \", accuracy_score(y_test,y_pred_gini)*100)\n",
    "print(\"Report :\\n\", classification_report(y_test, y_pred_gini))\n",
    "\n"
   ]
  },
  {
   "cell_type": "markdown",
   "metadata": {},
   "source": [
    "The accuracy is lower than KNN classifier. Decision Tree classifier can predict minority class 'Rape' now but with very low precision."
   ]
  },
  {
   "cell_type": "code",
   "execution_count": 31,
   "metadata": {},
   "outputs": [
    {
     "data": {
      "text/plain": [
       "<matplotlib.text.Text at 0x108bcff28>"
      ]
     },
     "execution_count": 31,
     "metadata": {},
     "output_type": "execute_result"
    },
    {
     "data": {
      "image/png": "[encoded data removed]",
      "text/plain": [
       "<matplotlib.figure.Figure at 0x119222f98>"
      ]
     },
     "metadata": {},
     "output_type": "display_data"
    }
   ],
   "source": [
    "index=X.columns\n",
    "\n",
    "\n",
    "f= pd.DataFrame(clf_gini.feature_importances_, index=index)\n",
    "f=f.sort_values(by=0,ascending=False)\n",
    "#len(f) 47\n",
    "featuretop20=f[:20]\n",
    "#featuretop20.index\n",
    "idxdict={'P_20':'Residence','S_spr':'Spring','S_win':'Winter','S_sum':'Summar','W_Y':'Weekday','P_18':'ParkingLot',\n",
    "        'P_13':'Road','P_8':'DiscountStore','H_7pm':'7pm','H_6pm':'6pm','H_7am':'7am','H_10pm':'10pm', 'H_2am':'2am', \n",
    "         'H_3am':'3am', 'H_5pm':'5pm', 'H_4am':'4am', 'H_4pm':'4pm'}\n",
    "featuretop20=featuretop20.rename(index=idxdict)\n",
    "\n",
    "featuretop20.plot(kind='barh',rot=0,legend=False,figsize=(15,9),fontsize=15)\n",
    "plt.xlabel('Importance of Features',fontsize=20)\n",
    "plt.ylabel('Features',fontsize=20)\n",
    "plt.title('Top 20 Important Features',fontsize=20,fontweight='bold')"
   ]
  },
  {
   "cell_type": "markdown",
   "metadata": {},
   "source": [
    "### Try again but remove 'Address' and onehotencode 'Beat' "
   ]
  },
  {
   "cell_type": "markdown",
   "metadata": {},
   "source": [
    "As is shown, 'Address', 'Beat' takes a large portion perhaps due to improper label encoding. Let's use the same classifier but on a new dataset where 'Address' is dropped (should be correlated with 'Beat', both revealing location information) and 'Beat' is onehotencoded."
   ]
  },
  {
   "cell_type": "code",
   "execution_count": 32,
   "metadata": {},
   "outputs": [
    {
     "name": "stdout",
     "output_type": "stream",
     "text": [
      "0.5980766845018228\n"
     ]
    }
   ],
   "source": [
    "from sklearn.metrics import accuracy_score\n",
    "from sklearn.model_selection import train_test_split\n",
    "from sklearn.tree import DecisionTreeClassifier\n",
    "\n",
    "\n",
    "#X = X_dropAdd.values\n",
    "#y = crimes_data.values[:,0]\n",
    "# # default is 75% / 25% train-test split\n",
    "X_train, X_test, y_train, y_test = train_test_split(X_dropAdd, y, random_state=0)\n",
    "\n",
    "\n",
    "# Creating the classifier object\n",
    "clf_gini = DecisionTreeClassifier(criterion = \"gini\",\n",
    "            random_state = 0,max_depth=30, min_samples_leaf=3)\n",
    " \n",
    "# Performing training\n",
    "clf_object=clf_gini.fit(X_train, y_train)\n",
    "\n",
    "# Prediction using gini\n",
    "y_pred_gini = clf_object.predict(X_test)\n",
    "dtginidropAdd=accuracy_score(y_test,y_pred_gini)\n",
    "print(dtginidropAdd)"
   ]
  },
  {
   "cell_type": "code",
   "execution_count": 33,
   "metadata": {},
   "outputs": [
    {
     "name": "stdout",
     "output_type": "stream",
     "text": [
      "Confusion Matrix:\n",
      " [[  2566    231   5145      0      8    326  12301]\n",
      " [   654    385   2641      0      1    260  21443]\n",
      " [   467     73  29007      1      0    109  15601]\n",
      " [    28      3    100      0      0     12    299]\n",
      " [    65      8    629      0      2     24   1002]\n",
      " [   474    147   2140      2      2    758  15796]\n",
      " [  1002    484  18208      1     18    728 116730]]\n",
      "Accuracy :  59.807668450182284\n",
      "Report :\n",
      "                    precision    recall  f1-score   support\n",
      "\n",
      "AggravatedAssault       0.49      0.12      0.20     20577\n",
      "        AutoTheft       0.29      0.02      0.03     25384\n",
      "         Burglary       0.50      0.64      0.56     45258\n",
      "           Murder       0.00      0.00      0.00       442\n",
      "             Rape       0.06      0.00      0.00      1730\n",
      "          Robbery       0.34      0.04      0.07     19319\n",
      "            Theft       0.64      0.85      0.73    137171\n",
      "\n",
      "      avg / total       0.54      0.60      0.53    249881\n",
      "\n"
     ]
    }
   ],
   "source": [
    "print(\"Confusion Matrix:\\n\", confusion_matrix(y_test, y_pred_gini))\n",
    "print (\"Accuracy : \", accuracy_score(y_test,y_pred_gini)*100)\n",
    "print(\"Report :\\n\", classification_report(y_test, y_pred_gini))\n"
   ]
  },
  {
   "cell_type": "code",
   "execution_count": 35,
   "metadata": {},
   "outputs": [
    {
     "data": {
      "image/png": "[encoded data removed]",
      "text/plain": [
       "<matplotlib.figure.Figure at 0x1095a23c8>"
      ]
     },
     "metadata": {},
     "output_type": "display_data"
    }
   ],
   "source": [
    "index=X_dropAdd.columns\n",
    "\n",
    "\n",
    "f= pd.DataFrame(clf_gini.feature_importances_, index=index)\n",
    "f=f.sort_values(by=0,ascending=False)\n",
    "ftop20=f[:20]\n",
    "idx_old=ftop20.index\n",
    "idx_new=['Residence','OffenseNum','ParkingLot','Road','DiscountStore','Weekday','3am','4am','GrocerySpmarkt',\n",
    "        '2am','ParkMallAuto*','Beat1A20','Summer','5am','7am','1am','Winter','10pm','Spring','Beat2A50']\n",
    "idx_dict=dict(zip(idx_old,idx_new))\n",
    "ftop20=ftop20.rename(index=idx_dict)\n",
    "\n",
    "\n",
    "ftop20.plot(kind='barh',rot=0,legend=False,figsize=(15,9),fontsize=15,color='steelblue')\n",
    "plt.xlabel('Importance of Features',fontsize=20)\n",
    "plt.ylabel('Features',fontsize=20)\n",
    "plt.title('Top 20 Important Features',fontsize=20,fontweight='bold');\n",
    "\n"
   ]
  },
  {
   "cell_type": "markdown",
   "metadata": {},
   "source": [
    "Now the feature-importance makes more sense. However, accuracy, precision...still low. What else can we do to improve the model? Remember, we removed 'Address'. Perhaps it helps if we can convert it into coordinates and use coordinates as new features."
   ]
  },
  {
   "cell_type": "markdown",
   "metadata": {},
   "source": [
    "### Decidion tree, criterion = \"entropy\""
   ]
  },
  {
   "cell_type": "code",
   "execution_count": 55,
   "metadata": {},
   "outputs": [
    {
     "name": "stdout",
     "output_type": "stream",
     "text": [
      "Accuracy :  59.670002921390584\n"
     ]
    }
   ],
   "source": [
    "X_train, X_test, y_train, y_test = train_test_split(X_dropAdd, y, random_state=0)\n",
    "\n",
    "\n",
    "# Creating the classifier object\n",
    "clf_entropy = DecisionTreeClassifier(criterion = \"entropy\",\n",
    "            random_state=0,max_depth=30, min_samples_leaf=3)\n",
    " \n",
    "# Performing training\n",
    "clf_object=clf_entropy.fit(X_train, y_train)\n",
    "\n",
    "# Prediction using gini\n",
    "y_pred_entropy = clf_object.predict(X_test)\n",
    "#cal_accuracy(y_test, y_pred_gini)\n",
    "print (\"Accuracy : \", accuracy_score(y_test,y_pred_entropy)*100)"
   ]
  },
  {
   "cell_type": "code",
   "execution_count": 56,
   "metadata": {},
   "outputs": [
    {
     "name": "stdout",
     "output_type": "stream",
     "text": [
      "Confusion Matrix:  [[  2610    220   5304      0      8    332  12103]\n",
      " [   711    358   2675      0      0    255  21385]\n",
      " [   477     89  29142      0      2     91  15457]\n",
      " [    32      3    102      0      1     15    289]\n",
      " [    68      9    648      0      2     27    976]\n",
      " [   487    140   2170      3      3    741  15775]\n",
      " [  1068    525  18559      1     16    751 116251]]\n",
      "Accuracy :  59.670002921390584\n",
      "Report :                     precision    recall  f1-score   support\n",
      "\n",
      "AggravatedAssault       0.48      0.13      0.20     20577\n",
      "        AutoTheft       0.27      0.01      0.03     25384\n",
      "         Burglary       0.50      0.64      0.56     45258\n",
      "           Murder       0.00      0.00      0.00       442\n",
      "             Rape       0.06      0.00      0.00      1730\n",
      "          Robbery       0.33      0.04      0.07     19319\n",
      "            Theft       0.64      0.85      0.73    137171\n",
      "\n",
      "      avg / total       0.53      0.60      0.53    249881\n",
      "\n"
     ]
    }
   ],
   "source": [
    "print(\"Confusion Matrix: \", confusion_matrix(y_test, y_pred_entropy))\n",
    "print (\"Accuracy : \", accuracy_score(y_test,y_pred_entropy)*100)\n",
    "print(\"Report : \", classification_report(y_test, y_pred_entropy))"
   ]
  },
  {
   "cell_type": "markdown",
   "metadata": {},
   "source": [
    "### Visualize confusion matrix"
   ]
  },
  {
   "cell_type": "code",
   "execution_count": 57,
   "metadata": {},
   "outputs": [
    {
     "data": {
      "image/png": "[encoded data removed]",
      "text/plain": [
       "<matplotlib.figure.Figure at 0x11b208a20>"
      ]
     },
     "metadata": {},
     "output_type": "display_data"
    }
   ],
   "source": [
    "#y_code= crimes_data.iloc[:,0].cat.codes\n",
    "#dict(zip(y,y_code))\n",
    "\n",
    "conf_mat=confusion_matrix(y_test, y_pred_gini)\n",
    "labels = ['Assault', 'AutoTheft', 'Burglary', 'Murder', 'Rape', 'Robbery','Theft']\n",
    "fig = plt.figure(figsize=(60,60))\n",
    "ax = fig.add_subplot(666)\n",
    "cax = ax.matshow(conf_mat, cmap=plt.cm.Blues)\n",
    "fig.colorbar(cax)\n",
    "ax.set_xticklabels([''] + labels,fontsize=13)\n",
    "ax.set_yticklabels([''] + labels,fontsize=13)\n",
    "plt.xlabel('Predicted',fontsize=16)\n",
    "plt.ylabel('Expected',fontsize=16)\n",
    "\n",
    "plt.show()\n"
   ]
  },
  {
   "cell_type": "markdown",
   "metadata": {},
   "source": [
    "Due to its highly unbalanced classification, the majority class 'Theft' has most correct predictions. 'Burglary' ranks the 2nd with high prediction rate. Another intereting respect from the plot is that crimes like 'AutoTheft', 'Burglary' have higher probability to be mistaken as 'Theft' than property crimes like 'Assault', 'Murder', 'Rape', 'Robbery'."
   ]
  },
  {
   "cell_type": "markdown",
   "metadata": {},
   "source": [
    "## A summary"
   ]
  },
  {
   "cell_type": "code",
   "execution_count": 38,
   "metadata": {},
   "outputs": [
    {
     "data": {
      "text/html": [
       "<div>\n",
       "<style scoped>\n",
       "    .dataframe tbody tr th:only-of-type {\n",
       "        vertical-align: middle;\n",
       "    }\n",
       "\n",
       "    .dataframe tbody tr th {\n",
       "        vertical-align: top;\n",
       "    }\n",
       "\n",
       "    .dataframe thead th {\n",
       "        text-align: right;\n",
       "    }\n",
       "</style>\n",
       "<table border=\"1\" class=\"dataframe\">\n",
       "  <thead>\n",
       "    <tr style=\"text-align: right;\">\n",
       "      <th></th>\n",
       "      <th>accuray</th>\n",
       "      <th>precision</th>\n",
       "      <th>recall</th>\n",
       "      <th>f1</th>\n",
       "      <th>perct_change</th>\n",
       "    </tr>\n",
       "    <tr>\n",
       "      <th>Classifier</th>\n",
       "      <th></th>\n",
       "      <th></th>\n",
       "      <th></th>\n",
       "      <th></th>\n",
       "      <th></th>\n",
       "    </tr>\n",
       "  </thead>\n",
       "  <tbody>\n",
       "    <tr>\n",
       "      <th>Dummy</th>\n",
       "      <td>54.89</td>\n",
       "      <td>0.30</td>\n",
       "      <td>0.55</td>\n",
       "      <td>0.39</td>\n",
       "      <td>0.0</td>\n",
       "    </tr>\n",
       "    <tr>\n",
       "      <th>KNN</th>\n",
       "      <td>57.72</td>\n",
       "      <td>0.51</td>\n",
       "      <td>0.58</td>\n",
       "      <td>0.52</td>\n",
       "      <td>5.2</td>\n",
       "    </tr>\n",
       "    <tr>\n",
       "      <th>DTree</th>\n",
       "      <td>52.86</td>\n",
       "      <td>0.52</td>\n",
       "      <td>0.53</td>\n",
       "      <td>0.52</td>\n",
       "      <td>-3.7</td>\n",
       "    </tr>\n",
       "    <tr>\n",
       "      <th>DT_rmAdres</th>\n",
       "      <td>59.81</td>\n",
       "      <td>0.64</td>\n",
       "      <td>0.85</td>\n",
       "      <td>0.73</td>\n",
       "      <td>9.0</td>\n",
       "    </tr>\n",
       "  </tbody>\n",
       "</table>\n",
       "</div>"
      ],
      "text/plain": [
       "            accuray  precision  recall    f1  perct_change\n",
       "Classifier                                                \n",
       "Dummy         54.89       0.30    0.55  0.39           0.0\n",
       "KNN           57.72       0.51    0.58  0.52           5.2\n",
       "DTree         52.86       0.52    0.53  0.52          -3.7\n",
       "DT_rmAdres    59.81       0.64    0.85  0.73           9.0"
      ]
     },
     "execution_count": 38,
     "metadata": {},
     "output_type": "execute_result"
    }
   ],
   "source": [
    "acc=[54.89,57.72,52.86,59.81]\n",
    "pre=[0.30,0.51,0.52,0.64]\n",
    "rec=[0.55,0.58,0.53,0.85]\n",
    "f1=[0.39,0.52,0.52,0.73]\n",
    "sumry_tab=pd.DataFrame(list(zip(acc,pre,rec,f1)),index=['Dummy','KNN','DTree','DT_rmAdres'],\n",
    "             columns=['accuray','precision','recall','f1'])\n",
    "sumry_tab['perct_change']=round((sumry_tab.iloc[:,0]/sumry_tab.iloc[0,0]-1)*100,1)\n",
    "sumry_tab.index.name='Classifier'\n",
    "sumry_tab"
   ]
  },
  {
   "cell_type": "code",
   "execution_count": 41,
   "metadata": {},
   "outputs": [
    {
     "data": {
      "image/png": "[encoded data removed]",
      "text/plain": [
       "<matplotlib.figure.Figure at 0x11c53a048>"
      ]
     },
     "metadata": {},
     "output_type": "display_data"
    }
   ],
   "source": [
    "ax1=sumry_tab.perct_change.plot(kind='bar',rot=0,width=0.4,figsize=(15,9),fontsize=20)\n",
    "\n",
    "ax1.axhline(0,color='black',linestyle='--')\n",
    "\n",
    "ax1.text(0.9,5.2,str(sumry_tab.perct_change[1])+'%',fontsize=18)\n",
    "ax1.text(1.9,-3,str(sumry_tab.perct_change[2])+'%',fontsize=18)\n",
    "ax1.text(2.9,9,str(sumry_tab.perct_change[3])+'%',fontsize=18)\n",
    "\n",
    "\n",
    "plt.xlabel('Classifier',fontsize=20)\n",
    "plt.ylabel('Percent Change(%)',fontsize=20)\n",
    "plt.title('Percent Change Compared with Score of Dummy classifer',fontsize=20,fontweight='bold');\n",
    "\n"
   ]
  },
  {
   "cell_type": "markdown",
   "metadata": {},
   "source": [
    "This plot compares accuracy score between classifiers. If we label encode 'Beat' and 'Address' and one hot encode other categorical features, knn got a 5.2% increase in accuracy compared to dummy classifier; Decision tree even has poorer accuracy than dummy classifier. It assigns large weight on 'numeric' features in feature selection process. If we remove 'Addres' and one hot encode other categorical features, knn runs too slow. Decision tree works much better in the sense of gaining 9.0% increase in accuracy compared to dummy classifier."
   ]
  },
  {
   "cell_type": "markdown",
   "metadata": {},
   "source": [
    "# 'Theft' or not?\n",
    "Since 'Theft' takes quite large portion in crimes, let's relabel the crime as 'Y' if it is 'Theft' otherwise label it as 'N'."
   ]
  },
  {
   "cell_type": "code",
   "execution_count": 46,
   "metadata": {},
   "outputs": [],
   "source": [
    "# Relabel the target\n",
    "ctype=crimes.OffenseType.unique().tolist()\n",
    "cdict={i:'Y' if i=='Theft' else 'N' for i in ctype}\n",
    "\n",
    "c_copy=crimes.copy()\n",
    "c_copy['TheftYN']=c_copy.OffenseType.map(cdict)\n",
    "y_theft=c_copy['TheftYN']\n",
    "theft_no_count=y_theft.value_counts(normalize=True)\n",
    "\n"
   ]
  },
  {
   "cell_type": "code",
   "execution_count": 47,
   "metadata": {},
   "outputs": [
    {
     "data": {
      "image/png": "[encoded data removed]",
      "text/plain": [
       "<matplotlib.figure.Figure at 0x12c48d6d8>"
      ]
     },
     "metadata": {},
     "output_type": "display_data"
    }
   ],
   "source": [
    "rcParams['font.size'] = 20.0\n",
    "\n",
    "fig, ax = plt.subplots(figsize=(15,9))\n",
    "lab=['Theft','Not Theft']\n",
    "patches, texts, autotexts=ax.pie(theft_no_count, startangle=45, shadow=False,labels=lab,\n",
    "                labeldistance=0.6, autopct='%1.f%%',pctdistance=0.8,counterclock=False)#autopct='%1.1f%%'\n",
    "#set label size\n",
    "[ _.set_fontsize(20) for _ in texts ]\n",
    "\n",
    "ax.legend(loc='best',fontsize=18)\n",
    "ax.set_title(\"Theft v.s. Not Theft\",fontweight=\"bold\", size=20)\n",
    "ax.axis('equal');\n",
    "\n"
   ]
  },
  {
   "cell_type": "code",
   "execution_count": 63,
   "metadata": {},
   "outputs": [
    {
     "data": {
      "image/png": "[encoded data removed]",
      "text/plain": [
       "<matplotlib.figure.Figure at 0x11abf9dd8>"
      ]
     },
     "metadata": {},
     "output_type": "display_data"
    }
   ],
   "source": [
    "theft_no_count=y_theft.value_counts(normalize=True)\n",
    "ax=theft_no_count.plot('bar',ylim=(0,1),rot=0,figsize=(12,8),width=0.3,fontsize=16,alpha=0.8)\n",
    "\n",
    "for i, v in enumerate(theft_no_count):\n",
    "    ax.text( i,v , round(v,2), color='black', fontweight='bold',fontsize=16);\n",
    "\n",
    "ax.text(-0.05, 0.3, 'Theft', fontweight='bold',fontsize=16)\n",
    "ax.text(0.9, 0.2, 'Not Theft', fontweight='bold',fontsize=16);"
   ]
  },
  {
   "cell_type": "markdown",
   "metadata": {},
   "source": [
    "## Dummy classifier"
   ]
  },
  {
   "cell_type": "code",
   "execution_count": 49,
   "metadata": {},
   "outputs": [
    {
     "data": {
      "text/plain": [
       "array(['Y', 'Y', 'Y', ..., 'Y', 'Y', 'Y'], dtype='<U1')"
      ]
     },
     "execution_count": 49,
     "metadata": {},
     "output_type": "execute_result"
    }
   ],
   "source": [
    "from sklearn.model_selection import train_test_split\n",
    "\n",
    "# default is 75% / 25% train-test split\n",
    "X_train, X_test, y_train, y_test = train_test_split(X_dropAdd, y_theft, random_state=0)\n",
    "from sklearn.dummy import DummyClassifier\n",
    "\n",
    "dummy_majority = DummyClassifier(strategy = 'most_frequent').fit(X_train, y_train)\n",
    "y_dummy_predictions = dummy_majority.predict(X_test)\n",
    "\n",
    "y_dummy_predictions\n"
   ]
  },
  {
   "cell_type": "code",
   "execution_count": 50,
   "metadata": {},
   "outputs": [
    {
     "name": "stdout",
     "output_type": "stream",
     "text": [
      "0.5489452979618298\n"
     ]
    }
   ],
   "source": [
    "dumtheftno=dummy_majority.score(X_test, y_test)\n",
    "print(dumtheftno)"
   ]
  },
  {
   "cell_type": "markdown",
   "metadata": {},
   "source": [
    "## Decision tree, criterion = 'gini'"
   ]
  },
  {
   "cell_type": "code",
   "execution_count": 51,
   "metadata": {},
   "outputs": [
    {
     "name": "stdout",
     "output_type": "stream",
     "text": [
      "Accuracy :  68.36133999783898\n"
     ]
    }
   ],
   "source": [
    "from sklearn.tree import DecisionTreeClassifier\n",
    "\n",
    "\n",
    "# Creating the classifier object\n",
    "clf_gini = DecisionTreeClassifier(criterion = \"gini\",\n",
    "            random_state = 0,max_depth=30, min_samples_leaf=3)\n",
    " \n",
    "# Performing training\n",
    "clf_object=clf_gini.fit(X_train, y_train)\n",
    "\n",
    "# Prediction using gini\n",
    "y_pred_gini = clf_object.predict(X_test)\n",
    "dttheftscoregini=accuracy_score(y_test,y_pred_gini)\n",
    "print (\"Accuracy : \", accuracy_score(y_test,y_pred_gini)*100)"
   ]
  },
  {
   "cell_type": "code",
   "execution_count": 69,
   "metadata": {},
   "outputs": [
    {
     "name": "stdout",
     "output_type": "stream",
     "text": [
      "Confusion Matrix:\n",
      " [[73837 38873]\n",
      " [40186 96985]]\n",
      "Report :\n",
      "              precision    recall  f1-score   support\n",
      "\n",
      "          N       0.65      0.66      0.65    112710\n",
      "          Y       0.71      0.71      0.71    137171\n",
      "\n",
      "avg / total       0.68      0.68      0.68    249881\n",
      "\n"
     ]
    }
   ],
   "source": [
    "print(\"Confusion Matrix:\\n\", confusion_matrix(y_test, y_pred_gini))\n",
    "print(\"Report :\\n\", classification_report(y_test, y_pred_gini))"
   ]
  },
  {
   "cell_type": "code",
   "execution_count": 77,
   "metadata": {
    "collapsed": true
   },
   "outputs": [
    {
     "data": {
      "image/png": "[encoded data removed]",
      "text/plain": [
       "<matplotlib.figure.Figure at 0x11cc1af60>"
      ]
     },
     "metadata": {},
     "output_type": "display_data"
    }
   ],
   "source": [
    "# index=X_dropAdd.columns\n",
    "# f= pd.DataFrame(clf_gini.feature_importances_, index=index)\n",
    "# f.sort_values(by=0,ascending=False)\n",
    "\n",
    "# f.plot(kind='barh',legend=False,figsize=(16,8),fontsize=12)\n",
    "# plt.xlabel('Importance of Features',fontsize=15)\n",
    "# plt.ylabel('Features',fontsize=15)\n",
    "# plt.title('Importance of Each Feature',fontsize=18,fontweight='bold')\n",
    "# plt.show()"
   ]
  },
  {
   "cell_type": "markdown",
   "metadata": {},
   "source": [
    "## Decision tree, criterion = 'entropy'"
   ]
  },
  {
   "cell_type": "code",
   "execution_count": 70,
   "metadata": {},
   "outputs": [
    {
     "name": "stdout",
     "output_type": "stream",
     "text": [
      "Accuracy :  68.40135904690634\n"
     ]
    }
   ],
   "source": [
    "from sklearn.tree import DecisionTreeClassifier\n",
    "\n",
    "\n",
    "# Creating the classifier object\n",
    "clf_entropy = DecisionTreeClassifier(criterion = \"entropy\",\n",
    "            random_state = 0,max_depth=30, min_samples_leaf=3)\n",
    " \n",
    "# Performing training\n",
    "clf_object=clf_entropy.fit(X_train, y_train)\n",
    "\n",
    "# Prediction using gini\n",
    "y_pred_entropy = clf_object.predict(X_test)\n",
    "dttheftscoreentr=accuracy_score(y_test,y_pred_gini)\n",
    "print (\"Accuracy : \", accuracy_score(y_test,y_pred_entropy)*100)"
   ]
  },
  {
   "cell_type": "code",
   "execution_count": 71,
   "metadata": {},
   "outputs": [
    {
     "name": "stdout",
     "output_type": "stream",
     "text": [
      "Confusion Matrix:\n",
      " [[73692 39018]\n",
      " [39941 97230]]\n",
      "Report :\n",
      "              precision    recall  f1-score   support\n",
      "\n",
      "          N       0.65      0.65      0.65    112710\n",
      "          Y       0.71      0.71      0.71    137171\n",
      "\n",
      "avg / total       0.68      0.68      0.68    249881\n",
      "\n"
     ]
    }
   ],
   "source": [
    "print(\"Confusion Matrix:\\n\", confusion_matrix(y_test, y_pred_entropy))\n",
    "print(\"Report :\\n\", classification_report(y_test, y_pred_entropy))"
   ]
  },
  {
   "cell_type": "markdown",
   "metadata": {},
   "source": [
    "## A summary"
   ]
  },
  {
   "cell_type": "code",
   "execution_count": 48,
   "metadata": {},
   "outputs": [
    {
     "data": {
      "text/html": [
       "<div>\n",
       "<style scoped>\n",
       "    .dataframe tbody tr th:only-of-type {\n",
       "        vertical-align: middle;\n",
       "    }\n",
       "\n",
       "    .dataframe tbody tr th {\n",
       "        vertical-align: top;\n",
       "    }\n",
       "\n",
       "    .dataframe thead th {\n",
       "        text-align: right;\n",
       "    }\n",
       "</style>\n",
       "<table border=\"1\" class=\"dataframe\">\n",
       "  <thead>\n",
       "    <tr style=\"text-align: right;\">\n",
       "      <th></th>\n",
       "      <th>accuray</th>\n",
       "      <th>precision</th>\n",
       "      <th>recall</th>\n",
       "      <th>f1</th>\n",
       "      <th>perct_change</th>\n",
       "    </tr>\n",
       "    <tr>\n",
       "      <th>Classifier</th>\n",
       "      <th></th>\n",
       "      <th></th>\n",
       "      <th></th>\n",
       "      <th></th>\n",
       "      <th></th>\n",
       "    </tr>\n",
       "  </thead>\n",
       "  <tbody>\n",
       "    <tr>\n",
       "      <th>Dummy</th>\n",
       "      <td>0.55</td>\n",
       "      <td>0.30</td>\n",
       "      <td>0.55</td>\n",
       "      <td>0.39</td>\n",
       "      <td>0.0</td>\n",
       "    </tr>\n",
       "    <tr>\n",
       "      <th>KNN</th>\n",
       "      <td>0.58</td>\n",
       "      <td>0.51</td>\n",
       "      <td>0.58</td>\n",
       "      <td>0.52</td>\n",
       "      <td>5.5</td>\n",
       "    </tr>\n",
       "    <tr>\n",
       "      <th>DTree</th>\n",
       "      <td>0.53</td>\n",
       "      <td>0.52</td>\n",
       "      <td>0.53</td>\n",
       "      <td>0.52</td>\n",
       "      <td>-3.6</td>\n",
       "    </tr>\n",
       "    <tr>\n",
       "      <th>DT_rmAdres</th>\n",
       "      <td>0.60</td>\n",
       "      <td>0.64</td>\n",
       "      <td>0.85</td>\n",
       "      <td>0.73</td>\n",
       "      <td>9.1</td>\n",
       "    </tr>\n",
       "    <tr>\n",
       "      <th>Dummy_theft</th>\n",
       "      <td>0.55</td>\n",
       "      <td>0.30</td>\n",
       "      <td>0.55</td>\n",
       "      <td>0.39</td>\n",
       "      <td>0.0</td>\n",
       "    </tr>\n",
       "    <tr>\n",
       "      <th>DT_theft</th>\n",
       "      <td>0.68</td>\n",
       "      <td>0.68</td>\n",
       "      <td>0.68</td>\n",
       "      <td>0.68</td>\n",
       "      <td>23.6</td>\n",
       "    </tr>\n",
       "  </tbody>\n",
       "</table>\n",
       "</div>"
      ],
      "text/plain": [
       "             accuray  precision  recall    f1  perct_change\n",
       "Classifier                                                 \n",
       "Dummy           0.55       0.30    0.55  0.39           0.0\n",
       "KNN             0.58       0.51    0.58  0.52           5.5\n",
       "DTree           0.53       0.52    0.53  0.52          -3.6\n",
       "DT_rmAdres      0.60       0.64    0.85  0.73           9.1\n",
       "Dummy_theft     0.55       0.30    0.55  0.39           0.0\n",
       "DT_theft        0.68       0.68    0.68  0.68          23.6"
      ]
     },
     "execution_count": 48,
     "metadata": {},
     "output_type": "execute_result"
    }
   ],
   "source": [
    "acc=[0.55,0.58,0.53,0.60,0.55,0.68]\n",
    "pre=[0.30,0.51,0.52,0.64,0.30,0.68]\n",
    "rec=[0.55,0.58,0.53,0.85,0.55,0.68]\n",
    "f1=[0.39,0.52,0.52,0.73,0.39,0.68]\n",
    "sumry_tab=pd.DataFrame(list(zip(acc,pre,rec,f1)),index=['Dummy','KNN','DTree','DT_rmAdres','Dummy_theft','DT_theft'],\n",
    "             columns=['accuray','precision','recall','f1'])\n",
    "sumry_tab['perct_change']=round((sumry_tab.iloc[:,0]/sumry_tab.iloc[0,0]-1)*100,1)\n",
    "sumry_tab.index.name='Classifier'\n",
    "#sumry_tab.to_csv('sumry_tab.csv',index=True,header=True)\n",
    "sumry_tab\n",
    "\n"
   ]
  },
  {
   "cell_type": "code",
   "execution_count": 52,
   "metadata": {},
   "outputs": [
    {
     "data": {
      "image/png": "[encoded data removed]",
      "text/plain": [
       "<matplotlib.figure.Figure at 0x12c583fd0>"
      ]
     },
     "metadata": {},
     "output_type": "display_data"
    }
   ],
   "source": [
    "ax1=sumry_tab.perct_change.plot(kind='bar',rot=0,width=0.4,figsize=(15,9))\n",
    "\n",
    "ax1.axhline(0,color='black',linestyle='--')\n",
    "\n",
    "ax1.text(0.9,5.2,str(sumry_tab.perct_change[1])+'%',fontsize=18)\n",
    "ax1.text(1.9,-3,str(sumry_tab.perct_change[2])+'%',fontsize=18)\n",
    "ax1.text(2.9,9,str(sumry_tab.perct_change[3])+'%',fontsize=18)\n",
    "ax1.text(3.9,0,str(sumry_tab.perct_change[4])+'%',fontsize=18)\n",
    "ax1.text(4.9,24,str(sumry_tab.perct_change[5])+'%',fontsize=18)\n",
    "\n",
    "\n",
    "\n",
    "\n",
    "plt.ylabel('Percent Change(%)',fontsize=20)\n",
    "plt.title('Percent Change Compared with Score of Dummy classifer',fontsize=20,fontweight='bold');\n",
    "\n"
   ]
  },
  {
   "cell_type": "markdown",
   "metadata": {},
   "source": [
    "The bar chart shows that in predicting 'Theft' or 'Not Theft', decision tree classifier enhances accuracy by 23.6% compared to that of dummy classifier."
   ]
  },
  {
   "cell_type": "markdown",
   "metadata": {},
   "source": [
    "# Violent or property crime?"
   ]
  },
  {
   "cell_type": "code",
   "execution_count": 53,
   "metadata": {},
   "outputs": [
    {
     "data": {
      "text/html": [
       "<div>\n",
       "<style scoped>\n",
       "    .dataframe tbody tr th:only-of-type {\n",
       "        vertical-align: middle;\n",
       "    }\n",
       "\n",
       "    .dataframe tbody tr th {\n",
       "        vertical-align: top;\n",
       "    }\n",
       "\n",
       "    .dataframe thead th {\n",
       "        text-align: right;\n",
       "    }\n",
       "</style>\n",
       "<table border=\"1\" class=\"dataframe\">\n",
       "  <thead>\n",
       "    <tr style=\"text-align: right;\">\n",
       "      <th></th>\n",
       "      <th>Hour</th>\n",
       "      <th>OffenseType</th>\n",
       "      <th>Beat</th>\n",
       "      <th>Premise</th>\n",
       "      <th>BlockRange</th>\n",
       "      <th>StreetName</th>\n",
       "      <th>Type</th>\n",
       "      <th>Suffix</th>\n",
       "      <th>OffenseNum</th>\n",
       "    </tr>\n",
       "    <tr>\n",
       "      <th>Date</th>\n",
       "      <th></th>\n",
       "      <th></th>\n",
       "      <th></th>\n",
       "      <th></th>\n",
       "      <th></th>\n",
       "      <th></th>\n",
       "      <th></th>\n",
       "      <th></th>\n",
       "      <th></th>\n",
       "    </tr>\n",
       "  </thead>\n",
       "  <tbody>\n",
       "    <tr>\n",
       "      <th>2010-01-01</th>\n",
       "      <td>2</td>\n",
       "      <td>Y</td>\n",
       "      <td>7C20</td>\n",
       "      <td>13</td>\n",
       "      <td>3100-3199</td>\n",
       "      <td>COLLINGSWORTH</td>\n",
       "      <td>-</td>\n",
       "      <td>-</td>\n",
       "      <td>1</td>\n",
       "    </tr>\n",
       "    <tr>\n",
       "      <th>2010-01-01</th>\n",
       "      <td>2</td>\n",
       "      <td>N</td>\n",
       "      <td>20G70</td>\n",
       "      <td>18</td>\n",
       "      <td>1900-1999</td>\n",
       "      <td>WESTMEAD</td>\n",
       "      <td>DR</td>\n",
       "      <td>-</td>\n",
       "      <td>1</td>\n",
       "    </tr>\n",
       "    <tr>\n",
       "      <th>2010-01-01</th>\n",
       "      <td>9</td>\n",
       "      <td>N</td>\n",
       "      <td>4F30</td>\n",
       "      <td>13</td>\n",
       "      <td>1700-1799</td>\n",
       "      <td>BRITTMOORE</td>\n",
       "      <td>RD</td>\n",
       "      <td>-</td>\n",
       "      <td>1</td>\n",
       "    </tr>\n",
       "    <tr>\n",
       "      <th>2010-01-01</th>\n",
       "      <td>10</td>\n",
       "      <td>N</td>\n",
       "      <td>20G10</td>\n",
       "      <td>18</td>\n",
       "      <td>2900-2999</td>\n",
       "      <td>WEST SAM HOUSTON</td>\n",
       "      <td>PKWY</td>\n",
       "      <td>S</td>\n",
       "      <td>1</td>\n",
       "    </tr>\n",
       "    <tr>\n",
       "      <th>2010-01-01</th>\n",
       "      <td>14</td>\n",
       "      <td>N</td>\n",
       "      <td>20G80</td>\n",
       "      <td>8</td>\n",
       "      <td>1000-1099</td>\n",
       "      <td>WEST OAKS MALL</td>\n",
       "      <td>-</td>\n",
       "      <td>-</td>\n",
       "      <td>1</td>\n",
       "    </tr>\n",
       "  </tbody>\n",
       "</table>\n",
       "</div>"
      ],
      "text/plain": [
       "            Hour OffenseType   Beat  Premise BlockRange        StreetName  \\\n",
       "Date                                                                        \n",
       "2010-01-01     2           Y   7C20       13  3100-3199     COLLINGSWORTH   \n",
       "2010-01-01     2           N  20G70       18  1900-1999          WESTMEAD   \n",
       "2010-01-01     9           N   4F30       13  1700-1799        BRITTMOORE   \n",
       "2010-01-01    10           N  20G10       18  2900-2999  WEST SAM HOUSTON   \n",
       "2010-01-01    14           N  20G80        8  1000-1099    WEST OAKS MALL   \n",
       "\n",
       "            Type Suffix  OffenseNum  \n",
       "Date                                 \n",
       "2010-01-01     -      -           1  \n",
       "2010-01-01    DR      -           1  \n",
       "2010-01-01    RD      -           1  \n",
       "2010-01-01  PKWY      S           1  \n",
       "2010-01-01     -      -           1  "
      ]
     },
     "execution_count": 53,
     "metadata": {},
     "output_type": "execute_result"
    }
   ],
   "source": [
    "ctype=crimes.OffenseType.unique().tolist()\n",
    "cdict={i:'Y' if i in ['Theft', 'AutoTheft', 'Burglary'] else 'N' for i in ctype}\n",
    "\n",
    "c_copy=crimes.copy()\n",
    "c_copy.OffenseType=c_copy.OffenseType.map(cdict)\n",
    "\n",
    "y_property=c_copy.OffenseType\n",
    "c_copy.head()"
   ]
  },
  {
   "cell_type": "code",
   "execution_count": 55,
   "metadata": {},
   "outputs": [
    {
     "data": {
      "image/png": "[encoded data removed]",
      "text/plain": [
       "<matplotlib.figure.Figure at 0x1198bf630>"
      ]
     },
     "metadata": {},
     "output_type": "display_data"
    }
   ],
   "source": [
    "rcParams['font.size'] = 20.0\n",
    "\n",
    "prop_vio_count=y_property.value_counts(normalize=True)\n",
    "\n",
    "\n",
    "fig, ax = plt.subplots(figsize=(15,9))\n",
    "lab=['Property','Violent']\n",
    "patches, texts, autotexts=ax.pie(prop_vio_count, startangle=45, shadow=False,labels=lab,\n",
    "                labeldistance=0.6, autopct='%1.f%%',pctdistance=0.8,counterclock=False)#autopct='%1.1f%%'\n",
    "#set label size\n",
    "[ _.set_fontsize(20) for _ in texts ]\n",
    "\n",
    "ax.legend(loc='best',fontsize=18)\n",
    "ax.set_title(\"Property v.s. Violent Crimes\",fontweight=\"bold\", size=20)\n",
    "ax.axis('equal');"
   ]
  },
  {
   "cell_type": "code",
   "execution_count": 54,
   "metadata": {},
   "outputs": [
    {
     "data": {
      "image/png": "[encoded data removed]",
      "text/plain": [
       "<matplotlib.figure.Figure at 0x12c5a5320>"
      ]
     },
     "metadata": {},
     "output_type": "display_data"
    }
   ],
   "source": [
    "prop_vio_count=y_property.value_counts(normalize=True)\n",
    "ax=prop_vio_count.plot('bar',ylim=(0,1),rot=0,figsize=(12,8),width=0.3,fontsize=16,alpha=0.8)\n",
    "\n",
    "for i, v in enumerate(prop_vio_count):\n",
    "    ax.text( i,v , round(v,2), color='black', fontweight='bold',fontsize=16);\n",
    "\n",
    "ax.text(0-0.1, 0.5, 'Crime: P', fontweight='bold',fontsize=16)\n",
    "ax.text(1-0.1, 0.1, 'Crime: V', fontweight='bold',fontsize=16);"
   ]
  },
  {
   "cell_type": "markdown",
   "metadata": {},
   "source": [
    "Although it is still an unbalanced classification, but now it's binary!"
   ]
  },
  {
   "cell_type": "markdown",
   "metadata": {},
   "source": [
    "## Dummy classifier"
   ]
  },
  {
   "cell_type": "code",
   "execution_count": 75,
   "metadata": {},
   "outputs": [
    {
     "name": "stdout",
     "output_type": "stream",
     "text": [
      "0.8316478643834465\n"
     ]
    }
   ],
   "source": [
    "from sklearn.model_selection import train_test_split\n",
    "\n",
    "# default is 75% / 25% train-test split\n",
    "X_train, X_test, y_train, y_test = train_test_split(X_dropAdd, y_property, random_state=0)\n",
    "from sklearn.dummy import DummyClassifier\n",
    "\n",
    "dummy_majority = DummyClassifier(strategy = 'most_frequent').fit(X_train, y_train)\n",
    "y_dummy_predictions = dummy_majority.predict(X_test)\n",
    "\n",
    "y_dummy_predictions\n",
    "dumporvscore=dummy_majority.score(X_test, y_test)\n",
    "print(dumporvscore)"
   ]
  },
  {
   "cell_type": "markdown",
   "metadata": {},
   "source": [
    "## Decision tree"
   ]
  },
  {
   "cell_type": "code",
   "execution_count": 76,
   "metadata": {},
   "outputs": [
    {
     "name": "stdout",
     "output_type": "stream",
     "text": [
      "Accuracy :  83.67823083787883\n"
     ]
    }
   ],
   "source": [
    "from sklearn.tree import DecisionTreeClassifier\n",
    "\n",
    "\n",
    "# Creating the classifier object\n",
    "clf_gini = DecisionTreeClassifier(criterion = \"gini\",\n",
    "            random_state = 0,max_depth=30, min_samples_leaf=3)\n",
    " \n",
    "# Performing training\n",
    "clf_object=clf_gini.fit(X_train, y_train)\n",
    "\n",
    "# Prediction using gini\n",
    "y_pred_gini = clf_object.predict(X_test)\n",
    "dtPorVscore=accuracy_score(y_test,y_pred_gini)\n",
    "print (\"Accuracy : \", accuracy_score(y_test,y_pred_gini)*100)"
   ]
  },
  {
   "cell_type": "code",
   "execution_count": 151,
   "metadata": {},
   "outputs": [
    {
     "name": "stdout",
     "output_type": "stream",
     "text": [
      "Confusion Matrix:\n",
      " [[  7644  34424]\n",
      " [  6361 201452]]\n",
      "Report: \n",
      "              precision    recall  f1-score   support\n",
      "\n",
      "          N       0.55      0.18      0.27     42068\n",
      "          Y       0.85      0.97      0.91    207813\n",
      "\n",
      "avg / total       0.80      0.84      0.80    249881\n",
      "\n"
     ]
    }
   ],
   "source": [
    "print(\"Confusion Matrix:\\n\", confusion_matrix(y_test, y_pred_gini))\n",
    "print(\"Report: \\n\", classification_report(y_test, y_pred_gini))\n"
   ]
  },
  {
   "cell_type": "markdown",
   "metadata": {},
   "source": [
    "## Resampling\n",
    "In order to balance the unbalanced datasets, we can either remove samples from the majority class(under-sampling) and/or add more examples from the minority class(over-sampling). We use the Python library imbalanced-learn to perform resampling."
   ]
  },
  {
   "cell_type": "markdown",
   "metadata": {},
   "source": [
    "### Under sampling"
   ]
  },
  {
   "cell_type": "code",
   "execution_count": 77,
   "metadata": {},
   "outputs": [
    {
     "name": "stdout",
     "output_type": "stream",
     "text": [
      "Removed indexes: [     1      2      3 ... 683123 144880 643858]\n"
     ]
    },
    {
     "data": {
      "text/plain": [
       "336402"
      ]
     },
     "execution_count": 77,
     "metadata": {},
     "output_type": "execute_result"
    }
   ],
   "source": [
    "import imblearn\n",
    "from imblearn.under_sampling import RandomUnderSampler\n",
    "\n",
    "rus = RandomUnderSampler(return_indices=True)\n",
    "X_rus, y_rus, id_rus = rus.fit_sample(X_dropAdd, y_property)\n",
    "\n",
    "print('Removed indexes:', id_rus)\n",
    "len(id_rus)"
   ]
  },
  {
   "cell_type": "markdown",
   "metadata": {},
   "source": [
    "#### Dummy classifier"
   ]
  },
  {
   "cell_type": "code",
   "execution_count": 78,
   "metadata": {},
   "outputs": [
    {
     "name": "stdout",
     "output_type": "stream",
     "text": [
      "0.4965814913021248\n"
     ]
    }
   ],
   "source": [
    "X_train, X_test, y_train, y_test = train_test_split(X_rus, y_rus, random_state=0)\n",
    "\n",
    "\n",
    "from sklearn.dummy import DummyClassifier\n",
    "\n",
    "dummy_majority = DummyClassifier(strategy = 'most_frequent').fit(X_train, y_train)\n",
    "y_dummy_predictions = dummy_majority.predict(X_test)\n",
    "\n",
    "y_dummy_predictions\n",
    "dumrusscore=dummy_majority.score(X_test, y_test)\n",
    "print(dumrusscore)"
   ]
  },
  {
   "cell_type": "markdown",
   "metadata": {},
   "source": [
    "#### Decision tree"
   ]
  },
  {
   "cell_type": "code",
   "execution_count": 79,
   "metadata": {},
   "outputs": [
    {
     "name": "stdout",
     "output_type": "stream",
     "text": [
      "Accuracy :  66.0788813450494\n"
     ]
    }
   ],
   "source": [
    "from sklearn.tree import DecisionTreeClassifier\n",
    "\n",
    "X_train, X_test, y_train, y_test = train_test_split(X_rus, y_rus, random_state=0)\n",
    "\n",
    "\n",
    "# Creating the classifier object\n",
    "clf_gini = DecisionTreeClassifier(criterion = \"gini\",\n",
    "            random_state = 0,max_depth=30, min_samples_leaf=5)\n",
    " \n",
    "# Performing training\n",
    "clf_object=clf_gini.fit(X_train, y_train)\n",
    "\n",
    "# Prediction using gini\n",
    "y_pred_gini = clf_object.predict(X_test)\n",
    "dtrusscore=accuracy_score(y_test,y_pred_gini)\n",
    "print (\"Accuracy : \", accuracy_score(y_test,y_pred_gini)*100)"
   ]
  },
  {
   "cell_type": "code",
   "execution_count": 80,
   "metadata": {},
   "outputs": [
    {
     "name": "stdout",
     "output_type": "stream",
     "text": [
      "Confusion Matrix:\n",
      " [[24573 17765]\n",
      " [10763 31000]]\n",
      "Report: \n",
      "              precision    recall  f1-score   support\n",
      "\n",
      "          N       0.70      0.58      0.63     42338\n",
      "          Y       0.64      0.74      0.68     41763\n",
      "\n",
      "avg / total       0.67      0.66      0.66     84101\n",
      "\n"
     ]
    }
   ],
   "source": [
    "print(\"Confusion Matrix:\\n\", confusion_matrix(y_test, y_pred_gini))\n",
    "print(\"Report: \\n\", classification_report(y_test, y_pred_gini))"
   ]
  },
  {
   "cell_type": "markdown",
   "metadata": {},
   "source": [
    "### Over sampling"
   ]
  },
  {
   "cell_type": "code",
   "execution_count": 81,
   "metadata": {},
   "outputs": [
    {
     "name": "stdout",
     "output_type": "stream",
     "text": [
      "663119 new random picked points\n"
     ]
    }
   ],
   "source": [
    "from imblearn.over_sampling import RandomOverSampler\n",
    "\n",
    "ros = RandomOverSampler()\n",
    "X_ros, y_ros = ros.fit_sample(X_dropAdd, y_property)\n",
    "\n",
    "print(X_ros.shape[0] - X.shape[0], 'new random picked points')\n"
   ]
  },
  {
   "cell_type": "markdown",
   "metadata": {},
   "source": [
    "#### Dummy classifier"
   ]
  },
  {
   "cell_type": "code",
   "execution_count": 82,
   "metadata": {},
   "outputs": [
    {
     "name": "stdout",
     "output_type": "stream",
     "text": [
      "0.499494779386999\n"
     ]
    }
   ],
   "source": [
    "X_train, X_test, y_train, y_test = train_test_split(X_ros, y_ros, random_state=0)\n",
    "\n",
    "\n",
    "from sklearn.dummy import DummyClassifier\n",
    "\n",
    "dummy_majority = DummyClassifier(strategy = 'most_frequent').fit(X_train, y_train)\n",
    "y_dummy_predictions = dummy_majority.predict(X_test)\n",
    "\n",
    "y_dummy_predictions\n",
    "dumrosscore=dummy_majority.score(X_test, y_test)\n",
    "print(dumrosscore)"
   ]
  },
  {
   "cell_type": "markdown",
   "metadata": {},
   "source": [
    "#### Decision tree"
   ]
  },
  {
   "cell_type": "code",
   "execution_count": 83,
   "metadata": {},
   "outputs": [
    {
     "name": "stdout",
     "output_type": "stream",
     "text": [
      "Accuracy :  67.78809604003271\n"
     ]
    }
   ],
   "source": [
    "from sklearn.tree import DecisionTreeClassifier\n",
    "\n",
    "X_train, X_test, y_train, y_test = train_test_split(X_ros, y_ros, random_state=0)\n",
    "\n",
    "\n",
    "# Creating the classifier object\n",
    "clf_gini = DecisionTreeClassifier(criterion = \"gini\",\n",
    "            random_state = 0,max_depth=30, min_samples_leaf=3)\n",
    " \n",
    "# Performing training\n",
    "clf_object=clf_gini.fit(X_train, y_train)\n",
    "\n",
    "# Prediction using gini\n",
    "y_pred_gini = clf_object.predict(X_test)\n",
    "dtrosscore=accuracy_score(y_test,y_pred_gini)\n",
    "print (\"Accuracy : \", accuracy_score(y_test,y_pred_gini)*100)"
   ]
  },
  {
   "cell_type": "code",
   "execution_count": 84,
   "metadata": {},
   "outputs": [
    {
     "name": "stdout",
     "output_type": "stream",
     "text": [
      "Confusion Matrix:\n",
      " [[124767  83273]\n",
      " [ 50619 157001]]\n",
      "Report: \n",
      "              precision    recall  f1-score   support\n",
      "\n",
      "          N       0.71      0.60      0.65    208040\n",
      "          Y       0.65      0.76      0.70    207620\n",
      "\n",
      "avg / total       0.68      0.68      0.68    415660\n",
      "\n"
     ]
    }
   ],
   "source": [
    "print(\"Confusion Matrix:\\n\", confusion_matrix(y_test, y_pred_gini))\n",
    "print(\"Report: \\n\", classification_report(y_test, y_pred_gini))"
   ]
  },
  {
   "cell_type": "markdown",
   "metadata": {},
   "source": [
    "## A summary"
   ]
  },
  {
   "cell_type": "code",
   "execution_count": 56,
   "metadata": {},
   "outputs": [
    {
     "data": {
      "text/html": [
       "<div>\n",
       "<style scoped>\n",
       "    .dataframe tbody tr th:only-of-type {\n",
       "        vertical-align: middle;\n",
       "    }\n",
       "\n",
       "    .dataframe tbody tr th {\n",
       "        vertical-align: top;\n",
       "    }\n",
       "\n",
       "    .dataframe thead th {\n",
       "        text-align: right;\n",
       "    }\n",
       "</style>\n",
       "<table border=\"1\" class=\"dataframe\">\n",
       "  <thead>\n",
       "    <tr style=\"text-align: right;\">\n",
       "      <th></th>\n",
       "      <th>accuray</th>\n",
       "      <th>precision</th>\n",
       "      <th>recall</th>\n",
       "      <th>f1</th>\n",
       "      <th>perct_change</th>\n",
       "    </tr>\n",
       "    <tr>\n",
       "      <th>Classifier</th>\n",
       "      <th></th>\n",
       "      <th></th>\n",
       "      <th></th>\n",
       "      <th></th>\n",
       "      <th></th>\n",
       "    </tr>\n",
       "  </thead>\n",
       "  <tbody>\n",
       "    <tr>\n",
       "      <th>Dmy_PorV</th>\n",
       "      <td>0.83</td>\n",
       "      <td>0.69</td>\n",
       "      <td>0.83</td>\n",
       "      <td>0.76</td>\n",
       "      <td>0.0</td>\n",
       "    </tr>\n",
       "    <tr>\n",
       "      <th>DT_PorV</th>\n",
       "      <td>0.84</td>\n",
       "      <td>0.80</td>\n",
       "      <td>0.84</td>\n",
       "      <td>0.80</td>\n",
       "      <td>1.2</td>\n",
       "    </tr>\n",
       "    <tr>\n",
       "      <th>Dmy_rus</th>\n",
       "      <td>0.50</td>\n",
       "      <td>0.25</td>\n",
       "      <td>0.50</td>\n",
       "      <td>0.33</td>\n",
       "      <td>-39.8</td>\n",
       "    </tr>\n",
       "    <tr>\n",
       "      <th>DT_rus</th>\n",
       "      <td>0.66</td>\n",
       "      <td>0.67</td>\n",
       "      <td>0.66</td>\n",
       "      <td>0.66</td>\n",
       "      <td>-20.5</td>\n",
       "    </tr>\n",
       "    <tr>\n",
       "      <th>Dmy_ros</th>\n",
       "      <td>0.50</td>\n",
       "      <td>0.25</td>\n",
       "      <td>0.50</td>\n",
       "      <td>0.33</td>\n",
       "      <td>-39.8</td>\n",
       "    </tr>\n",
       "    <tr>\n",
       "      <th>DT_ros</th>\n",
       "      <td>0.68</td>\n",
       "      <td>0.68</td>\n",
       "      <td>0.68</td>\n",
       "      <td>0.68</td>\n",
       "      <td>-18.1</td>\n",
       "    </tr>\n",
       "  </tbody>\n",
       "</table>\n",
       "</div>"
      ],
      "text/plain": [
       "            accuray  precision  recall    f1  perct_change\n",
       "Classifier                                                \n",
       "Dmy_PorV       0.83       0.69    0.83  0.76           0.0\n",
       "DT_PorV        0.84       0.80    0.84  0.80           1.2\n",
       "Dmy_rus        0.50       0.25    0.50  0.33         -39.8\n",
       "DT_rus         0.66       0.67    0.66  0.66         -20.5\n",
       "Dmy_ros        0.50       0.25    0.50  0.33         -39.8\n",
       "DT_ros         0.68       0.68    0.68  0.68         -18.1"
      ]
     },
     "execution_count": 56,
     "metadata": {},
     "output_type": "execute_result"
    }
   ],
   "source": [
    "acc=[0.83,0.84,0.50,0.66,0.50,0.68]\n",
    "pre=[0.69,0.80,0.25,0.67,0.25,0.68]\n",
    "rec=[0.83,0.84,0.50,0.66,0.50,0.68]\n",
    "f1=[0.76,0.80,0.33,0.66,0.33,0.68]\n",
    "sumry_tab=pd.DataFrame(list(zip(acc,pre,rec,f1)),index=['Dmy_PorV','DT_PorV',\n",
    "                        'Dmy_rus','DT_rus','Dmy_ros','DT_ros'],\n",
    "             columns=['accuray','precision','recall','f1'])\n",
    "sumry_tab['perct_change']=round((sumry_tab.iloc[:,0]/sumry_tab.iloc[0,0]-1)*100,1)\n",
    "sumry_tab.index.name='Classifier'\n",
    "#sumry_tab.to_csv('sumry_tab_PorV.csv',index=True,header=True)\n",
    "sumry_tab"
   ]
  },
  {
   "cell_type": "code",
   "execution_count": 57,
   "metadata": {},
   "outputs": [
    {
     "data": {
      "image/png": "[encoded data removed]",
      "text/plain": [
       "<matplotlib.figure.Figure at 0x12dcd04a8>"
      ]
     },
     "metadata": {},
     "output_type": "display_data"
    }
   ],
   "source": [
    "ax1=sumry_tab.perct_change.plot(kind='bar',rot=0,width=0.4,figsize=(15,9))\n",
    "\n",
    "ax1.axhline(0,color='black',linestyle='--')\n",
    "\n",
    "ax1.text(0.9,1.2,str(sumry_tab.perct_change[1])+'%',fontsize=18)\n",
    "ax1.text(1.8,-25,str(sumry_tab.perct_change[2])+'%',fontsize=18)\n",
    "ax1.text(2.9,-20,str(sumry_tab.perct_change[3])+'%',fontsize=18)\n",
    "ax1.text(3.9,-25,str(sumry_tab.perct_change[4])+'%',fontsize=18)\n",
    "ax1.text(4.9,-20,str(sumry_tab.perct_change[5])+'%',fontsize=18)\n",
    "\n",
    "\n",
    "\n",
    "\n",
    "plt.ylabel('Percent Change(%)',fontsize=20)\n",
    "plt.title('Percent Change Compared with Score of Dummy classifer:\\nProperty or Violent',fontsize=20,fontweight='bold');\n",
    "\n"
   ]
  },
  {
   "cell_type": "markdown",
   "metadata": {},
   "source": [
    "'Property crime' or 'Violent crime'? This is a binary classification. However, it is highly unbalanced since there are as much as 4 times property crimes as violent crime. If we take the dummy classifer without further steps, we get a high accuracy determined by the portion of majority class. If we take the decision tree classifier, accuracy is slightly enhanced by 1.2%.\n",
    "\n",
    "What if we try to balance the classes by resampling the data? According to this plot, whether undersampling (indicated by '_rus') or oversampling (indicated by '_ros'), dummy classifer gave poorer accuracy. Even the decision tree method can't reach the accuracy of the dummy classifer without resampling. But metrics other than 'accuracy' is increased in decision tree classifers with resampling."
   ]
  },
  {
   "cell_type": "markdown",
   "metadata": {},
   "source": [
    "# What's next?\n",
    "\n",
    "1. Reduce levels of categorical estimators, i.e., 'Beat', 'Premise'... to less.\n",
    "2. Convert 'Address' to coordinates\n",
    "3. Involve more features like information on criminals/ victims, weather, ecomomics by concating other data sets. "
   ]
  },
  {
   "cell_type": "code",
   "execution_count": null,
   "metadata": {},
   "outputs": [],
   "source": []
  }
 ],
 "metadata": {
  "kernelspec": {
   "display_name": "Python 3",
   "language": "python",
   "name": "python3"
  },
  "language_info": {
   "codemirror_mode": {
    "name": "ipython",
    "version": 3
   },
   "file_extension": ".py",
   "mimetype": "text/x-python",
   "name": "python",
   "nbconvert_exporter": "python",
   "pygments_lexer": "ipython3",
   "version": "3.6.0"
  },
  "toc": {
   "nav_menu": {},
   "number_sections": true,
   "sideBar": true,
   "skip_h1_title": false,
   "title_cell": "Table of Contents",
   "title_sidebar": "Contents",
   "toc_cell": false,
   "toc_position": {},
   "toc_section_display": true,
   "toc_window_display": false
  }
 },
 "nbformat": 4,
 "nbformat_minor": 2
}
