{
 "cells": [
  {
   "cell_type": "markdown",
   "metadata": {},
   "source": [
    "# What is the True Normal Human Body Temperature? \n",
    "\n",
    "#### Background\n",
    "\n",
    "The mean normal body temperature was held to be 37$^{\\circ}$C or 98.6$^{\\circ}$F for more than 120 years since it was first conceptualized and reported by Carl Wunderlich in a famous 1868 book. But, is this value statistically correct?"
   ]
  },
  {
   "cell_type": "markdown",
   "metadata": {},
   "source": [
    "<h3>Exercises</h3>\n",
    "\n",
    "<p>In this exercise, you will analyze a dataset of human body temperatures and employ the concepts of hypothesis testing, confidence intervals, and statistical significance.</p>\n",
    "\n",
    "<p>Answer the following questions <b>in this notebook below and submit to your Github account</b>.</p> \n",
    "\n",
    "<ol>\n",
    "<li>  Is the distribution of body temperatures normal? \n",
    "    <ul>\n",
    "    <li> Although this is not a requirement for the Central Limit Theorem to hold (read the introduction on Wikipedia's page about the CLT carefully: https://en.wikipedia.org/wiki/Central_limit_theorem), it gives us some peace of mind that the population may also be normally distributed if we assume that this sample is representative of the population.\n",
    "    <li> Think about the way you're going to check for the normality of the distribution. Graphical methods are usually used first, but there are also other ways: https://en.wikipedia.org/wiki/Normality_test\n",
    "    </ul>\n",
    "<li>  Is the sample size large? Are the observations independent?\n",
    "    <ul>\n",
    "    <li> Remember that this is a condition for the Central Limit Theorem, and hence the statistical tests we are using, to apply.\n",
    "    </ul>\n",
    "<li>  Is the true population mean really 98.6 degrees F?\n",
    "    <ul>\n",
    "    <li> First, try a bootstrap hypothesis test.\n",
    "    <li> Now, let's try frequentist statistical testing. Would you use a one-sample or two-sample test? Why?\n",
    "    <li> In this situation, is it appropriate to use the $t$ or $z$ statistic? \n",
    "    <li> Now try using the other test. How is the result be different? Why?\n",
    "    </ul>\n",
    "<li>  Draw a small sample of size 10 from the data and repeat both frequentist tests. \n",
    "    <ul>\n",
    "    <li> Which one is the correct one to use? \n",
    "    <li> What do you notice? What does this tell you about the difference in application of the $t$ and $z$ statistic?\n",
    "    </ul>\n",
    "<li>  At what temperature should we consider someone's temperature to be \"abnormal\"?\n",
    "    <ul>\n",
    "    <li> As in the previous example, try calculating everything using the boostrap approach, as well as the frequentist approach.\n",
    "    <li> Start by computing the margin of error and confidence interval. When calculating the confidence interval, keep in mind that you should use the appropriate formula for one draw, and not N draws.\n",
    "    </ul>\n",
    "<li>  Is there a significant difference between males and females in normal temperature?\n",
    "    <ul>\n",
    "    <li> What testing approach did you use and why?\n",
    "    <li> Write a story with your conclusion in the context of the original problem.\n",
    "    </ul>\n",
    "</ol>\n",
    "\n",
    "You can include written notes in notebook cells using Markdown: \n",
    "   - In the control panel at the top, choose Cell > Cell Type > Markdown\n",
    "   - Markdown syntax: http://nestacms.com/docs/creating-content/markdown-cheat-sheet\n",
    "\n",
    "#### Resources\n",
    "\n",
    "+ Information and data sources: http://www.amstat.org/publications/jse/datasets/normtemp.txt, http://www.amstat.org/publications/jse/jse_data_archive.htm\n",
    "+ Markdown syntax: http://nestacms.com/docs/creating-content/markdown-cheat-sheet\n",
    "\n",
    "****"
   ]
  },
  {
   "cell_type": "code",
   "execution_count": 17,
   "metadata": {},
   "outputs": [],
   "source": [
    "import pandas as pd\n",
    "import numpy as np\n",
    "import matplotlib.pyplot as plt\n",
    "%matplotlib inline\n",
    "import seaborn as sns\n",
    "sns.set()\n",
    "sns.set_context('paper',font_scale=2)#font_scale=2 set fontsize doulble the size of default\n",
    "sns.set_style('white')\n",
    "\n",
    "df = pd.read_csv('data/human_body_temperature.csv')"
   ]
  },
  {
   "cell_type": "markdown",
   "metadata": {
    "collapsed": true
   },
   "source": [
    "# Overview of the data"
   ]
  },
  {
   "cell_type": "code",
   "execution_count": 21,
   "metadata": {},
   "outputs": [
    {
     "name": "stdout",
     "output_type": "stream",
     "text": [
      "<class 'pandas.core.frame.DataFrame'>\n",
      "RangeIndex: 130 entries, 0 to 129\n",
      "Data columns (total 3 columns):\n",
      "temperature    130 non-null float64\n",
      "gender         130 non-null object\n",
      "heart_rate     130 non-null float64\n",
      "dtypes: float64(2), object(1)\n",
      "memory usage: 3.1+ KB\n"
     ]
    },
    {
     "data": {
      "text/html": [
       "<div>\n",
       "<style scoped>\n",
       "    .dataframe tbody tr th:only-of-type {\n",
       "        vertical-align: middle;\n",
       "    }\n",
       "\n",
       "    .dataframe tbody tr th {\n",
       "        vertical-align: top;\n",
       "    }\n",
       "\n",
       "    .dataframe thead th {\n",
       "        text-align: right;\n",
       "    }\n",
       "</style>\n",
       "<table border=\"1\" class=\"dataframe\">\n",
       "  <thead>\n",
       "    <tr style=\"text-align: right;\">\n",
       "      <th></th>\n",
       "      <th>temperature</th>\n",
       "      <th>gender</th>\n",
       "      <th>heart_rate</th>\n",
       "    </tr>\n",
       "  </thead>\n",
       "  <tbody>\n",
       "    <tr>\n",
       "      <th>0</th>\n",
       "      <td>99.3</td>\n",
       "      <td>F</td>\n",
       "      <td>68.0</td>\n",
       "    </tr>\n",
       "    <tr>\n",
       "      <th>1</th>\n",
       "      <td>98.4</td>\n",
       "      <td>F</td>\n",
       "      <td>81.0</td>\n",
       "    </tr>\n",
       "    <tr>\n",
       "      <th>2</th>\n",
       "      <td>97.8</td>\n",
       "      <td>M</td>\n",
       "      <td>73.0</td>\n",
       "    </tr>\n",
       "    <tr>\n",
       "      <th>3</th>\n",
       "      <td>99.2</td>\n",
       "      <td>F</td>\n",
       "      <td>66.0</td>\n",
       "    </tr>\n",
       "    <tr>\n",
       "      <th>4</th>\n",
       "      <td>98.0</td>\n",
       "      <td>F</td>\n",
       "      <td>73.0</td>\n",
       "    </tr>\n",
       "  </tbody>\n",
       "</table>\n",
       "</div>"
      ],
      "text/plain": [
       "   temperature gender  heart_rate\n",
       "0         99.3      F        68.0\n",
       "1         98.4      F        81.0\n",
       "2         97.8      M        73.0\n",
       "3         99.2      F        66.0\n",
       "4         98.0      F        73.0"
      ]
     },
     "execution_count": 21,
     "metadata": {},
     "output_type": "execute_result"
    }
   ],
   "source": [
    "df.info()\n",
    "df.head()"
   ]
  },
  {
   "cell_type": "code",
   "execution_count": 22,
   "metadata": {},
   "outputs": [
    {
     "data": {
      "text/html": [
       "<div>\n",
       "<style scoped>\n",
       "    .dataframe tbody tr th:only-of-type {\n",
       "        vertical-align: middle;\n",
       "    }\n",
       "\n",
       "    .dataframe tbody tr th {\n",
       "        vertical-align: top;\n",
       "    }\n",
       "\n",
       "    .dataframe thead th {\n",
       "        text-align: right;\n",
       "    }\n",
       "</style>\n",
       "<table border=\"1\" class=\"dataframe\">\n",
       "  <thead>\n",
       "    <tr style=\"text-align: right;\">\n",
       "      <th></th>\n",
       "      <th>temperature</th>\n",
       "      <th>heart_rate</th>\n",
       "    </tr>\n",
       "  </thead>\n",
       "  <tbody>\n",
       "    <tr>\n",
       "      <th>count</th>\n",
       "      <td>130.000000</td>\n",
       "      <td>130.000000</td>\n",
       "    </tr>\n",
       "    <tr>\n",
       "      <th>mean</th>\n",
       "      <td>98.249231</td>\n",
       "      <td>73.761538</td>\n",
       "    </tr>\n",
       "    <tr>\n",
       "      <th>std</th>\n",
       "      <td>0.733183</td>\n",
       "      <td>7.062077</td>\n",
       "    </tr>\n",
       "    <tr>\n",
       "      <th>min</th>\n",
       "      <td>96.300000</td>\n",
       "      <td>57.000000</td>\n",
       "    </tr>\n",
       "    <tr>\n",
       "      <th>25%</th>\n",
       "      <td>97.800000</td>\n",
       "      <td>69.000000</td>\n",
       "    </tr>\n",
       "    <tr>\n",
       "      <th>50%</th>\n",
       "      <td>98.300000</td>\n",
       "      <td>74.000000</td>\n",
       "    </tr>\n",
       "    <tr>\n",
       "      <th>75%</th>\n",
       "      <td>98.700000</td>\n",
       "      <td>79.000000</td>\n",
       "    </tr>\n",
       "    <tr>\n",
       "      <th>max</th>\n",
       "      <td>100.800000</td>\n",
       "      <td>89.000000</td>\n",
       "    </tr>\n",
       "  </tbody>\n",
       "</table>\n",
       "</div>"
      ],
      "text/plain": [
       "       temperature  heart_rate\n",
       "count   130.000000  130.000000\n",
       "mean     98.249231   73.761538\n",
       "std       0.733183    7.062077\n",
       "min      96.300000   57.000000\n",
       "25%      97.800000   69.000000\n",
       "50%      98.300000   74.000000\n",
       "75%      98.700000   79.000000\n",
       "max     100.800000   89.000000"
      ]
     },
     "execution_count": 22,
     "metadata": {},
     "output_type": "execute_result"
    }
   ],
   "source": [
    "df.describe()"
   ]
  },
  {
   "cell_type": "markdown",
   "metadata": {},
   "source": [
    "# Is the distribution of body temperatures normal?"
   ]
  },
  {
   "cell_type": "markdown",
   "metadata": {},
   "source": [
    "## Histogram\n",
    "We plot histgrams to visualize the sample data's distribution. "
   ]
  },
  {
   "cell_type": "code",
   "execution_count": 56,
   "metadata": {},
   "outputs": [
    {
     "data": {
      "image/png": "[encoded data removed]",
      "text/plain": [
       "<matplotlib.figure.Figure at 0x113bffe10>"
      ]
     },
     "metadata": {},
     "output_type": "display_data"
    }
   ],
   "source": [
    "#histogram of temperature\n",
    "sns.distplot(df.temperature,norm_hist=True);\n",
    "plt.xlabel('Temperature ($^\\circ$F)');"
   ]
  },
  {
   "cell_type": "markdown",
   "metadata": {},
   "source": [
    "It doesn't look like a perfect bell-shaped curve as a normal distribution would have especially the right tail is slightly skewed. It's hard to tell from the histogram whether the distribution of the temperature is normal."
   ]
  },
  {
   "cell_type": "markdown",
   "metadata": {},
   "source": [
    "## CDF plot\n",
    "We draw random data from a normal distribution with the same mean, standard deviation and the same size as that of the temperature data. We compare the CDF plot of the temperature data and that of the theoretical data of a normal distribution."
   ]
  },
  {
   "cell_type": "code",
   "execution_count": 24,
   "metadata": {},
   "outputs": [
    {
     "data": {
      "image/png": "[encoded data removed]",
      "text/plain": [
       "<matplotlib.figure.Figure at 0x10e2da5f8>"
      ]
     },
     "metadata": {},
     "output_type": "display_data"
    }
   ],
   "source": [
    "#Define a cumulative distribution function for a one-dimensional array of measurements.\n",
    "\n",
    "\n",
    "import numpy as np\n",
    "def ecdf(data):\n",
    "    n=len(data)\n",
    "    x=np.sort(data)\n",
    "    y = np.arange(1, n+1) / n\n",
    "\n",
    "    return x, y\n",
    "\n",
    "x,y=ecdf(df.temperature)\n",
    "plt.plot(x,y,marker='o',linestyle='none')\n",
    "\n",
    "\n",
    "#draw samples from normal distribution \n",
    "#with the same mean and std and size as that of df.temperature \n",
    "mu=np.mean(df.temperature)\n",
    "sigma=np.std(df.temperature)\n",
    "np.random.seed(6)\n",
    "samples=np.random.normal(mu,sigma,size=len(df))\n",
    "\n",
    "\n",
    "x_theory,y_theory=ecdf(samples)\n",
    "plt.plot(x_theory,y_theory,marker='o',linestyle='none')\n",
    "\n",
    "plt.xlabel('Temperature ($^\\circ$F)')\n",
    "plt.ylabel('ECDF')\n",
    "plt.legend(('data','samples'),loc='best');\n",
    "\n"
   ]
  },
  {
   "cell_type": "markdown",
   "metadata": {},
   "source": [
    "The theoretical CDF (cumulative distribution function) and the ECDF (empirical cumulative distribution function) of the data suggest that temperature is normally distributed."
   ]
  },
  {
   "cell_type": "markdown",
   "metadata": {},
   "source": [
    "## Plot Quantiles"
   ]
  },
  {
   "cell_type": "code",
   "execution_count": 25,
   "metadata": {},
   "outputs": [
    {
     "name": "stdout",
     "output_type": "stream",
     "text": [
      "goodness fit: 0.99\n"
     ]
    },
    {
     "data": {
      "image/png": "[encoded data removed]",
      "text/plain": [
       "<matplotlib.figure.Figure at 0x10cb8f710>"
      ]
     },
     "metadata": {},
     "output_type": "display_data"
    }
   ],
   "source": [
    "from scipy import stats\n",
    "_,fit=stats.probplot(df.temperature,dist=stats.norm,plot=plt)\n",
    "print('goodness fit:', '%.2f' %fit[2])"
   ]
  },
  {
   "cell_type": "markdown",
   "metadata": {},
   "source": [
    "The linearity of the points suggests that the temperature data are normally distributed."
   ]
  },
  {
   "cell_type": "markdown",
   "metadata": {},
   "source": [
    "## normaltest()\n",
    "We use the normaltest() to check for normality. The function tests whether the sample data comes from a normal distribution. Since the pvalue=0.26 much larger than 0.05, we can't reject that the sample fits a normal distribution. So the distribution of temperature is approximately a normal distribution."
   ]
  },
  {
   "cell_type": "code",
   "execution_count": 26,
   "metadata": {},
   "outputs": [
    {
     "data": {
      "text/plain": [
       "NormaltestResult(statistic=2.703801433319203, pvalue=0.2587479863488254)"
      ]
     },
     "execution_count": 26,
     "metadata": {},
     "output_type": "execute_result"
    }
   ],
   "source": [
    "stats.normaltest(df.temperature)"
   ]
  },
  {
   "cell_type": "markdown",
   "metadata": {},
   "source": [
    "# Is the sample size large? Are the observations independent?"
   ]
  },
  {
   "cell_type": "code",
   "execution_count": 27,
   "metadata": {},
   "outputs": [
    {
     "data": {
      "text/plain": [
       "(130, 3)"
      ]
     },
     "execution_count": 27,
     "metadata": {},
     "output_type": "execute_result"
    }
   ],
   "source": [
    "df.shape"
   ]
  },
  {
   "cell_type": "code",
   "execution_count": 30,
   "metadata": {},
   "outputs": [
    {
     "data": {
      "text/plain": [
       "gender\n",
       "F    65\n",
       "M    65\n",
       "dtype: int64"
      ]
     },
     "execution_count": 30,
     "metadata": {},
     "output_type": "execute_result"
    }
   ],
   "source": [
    "df.gender.value_counts()\n",
    "df.groupby('gender').size()"
   ]
  },
  {
   "cell_type": "markdown",
   "metadata": {},
   "source": [
    "Since there are 130 individual observations, it is much larger than 30(CLT requires that a large sample size and as a rule of thumb: x>=30). Since there are equal number of males as females, the sample is not biased by gender. One person's temperature is not dependent on another's so the observations are independent. If sampling without replacement, n=130<10% of the population, the observations can be considered as independent. "
   ]
  },
  {
   "cell_type": "markdown",
   "metadata": {},
   "source": [
    "# Is the true population mean really 98.6$^{\\circ}$F?\n",
    "\n",
    "## Bootstrap hypothesis test\n",
    "Null hypothesis: the true population mean of the temperature is 98.6$^{\\circ}$F<br>\n",
    "Alternative hypothesis: the true population mean is not 98.6$^{\\circ}$F"
   ]
  },
  {
   "cell_type": "code",
   "execution_count": 32,
   "metadata": {},
   "outputs": [],
   "source": [
    "#define a function to calcute the difference between mean of the data from mu\n",
    "def diff_from_mu(data, val=mu):\n",
    "    diff = np.mean(data)-val\n",
    "\n",
    "    return diff\n",
    "\n",
    "\n",
    "#define a function to draw bootstrap replicates\n",
    "def draw_bs_reps(data, func, size=1):\n",
    "\n",
    "    # Initialize array of replicates: bs_replicates\n",
    "    bs_replicates = np.empty(size)\n",
    "\n",
    "    # Generate replicates\n",
    "    for i in range(size):\n",
    "        bs_replicates[i] =func(np.random.choice(data,len(data)))\n",
    "\n",
    "    return bs_replicates"
   ]
  },
  {
   "cell_type": "code",
   "execution_count": 33,
   "metadata": {},
   "outputs": [
    {
     "name": "stdout",
     "output_type": "stream",
     "text": [
      "p_value:  0.0\n"
     ]
    }
   ],
   "source": [
    "#null hypothesis\n",
    "mu=98.6\n",
    "\n",
    "#shift the temperature so that its mean is 98.6\n",
    "temp_shifted=df.temperature-np.mean(df.temperature)+mu\n",
    "\n",
    "#calculating the test statistic\n",
    "diff=diff_from_mu(df.temperature) \n",
    "\n",
    "#Generate 10,000 bootstrap replicates, values of the test satistic computed from a bootstrap sample.\n",
    "bs_replicates=draw_bs_reps(temp_shifted,diff_from_mu,10000)\n",
    "\n",
    "#Calcuate p-value as the fraction of bs replicates that are less than the observed test statistic.\n",
    "p_value=np.sum(bs_replicates<=diff)/10000\n",
    "print('p_value: ',p_value)\n"
   ]
  },
  {
   "cell_type": "markdown",
   "metadata": {},
   "source": [
    "We use 'less than' because the mean of temperature was lower than 98.6$^{\\circ}$F. We get a p-value much smaller than 0.05, suggesting that the true mean of temperature is statistically significantly different from 98.6$^{\\circ}$F."
   ]
  },
  {
   "cell_type": "markdown",
   "metadata": {},
   "source": [
    "## Frequentist statistical testing\n",
    "Would you use a one-sample or two-sample test? Why?\n",
    "    <li> In this situation, is it appropriate to use the $t$ or $z$ statistic? \n",
    "    <li> Now try using the other test. How is the result be different? Why?"
   ]
  },
  {
   "cell_type": "markdown",
   "metadata": {},
   "source": [
    "The question is whether the true population mean temperature is 98.6$^{\\circ}$F. So there is only one group, regardless of gender. We use a one-sample test. We don't know the standard deviation of the population, but we know the sample standard deviation. Since the sample is of large size (n>30), we can use z statistic. \n",
    "\n",
    "Since the null hyothesis is that the true poopulation mean is 98.6$^{\\circ}$F, the alternative hypotheis is either the true mean is larger than or less than 98.6$^{\\circ}$F. We use a two-tailed test. Assuming the significance level is 0.05, if z-statistic is in the range of [-1.96,1.96] we can't reject the null hypothesis; otherwise we reject the null hypothesis and accept the alternative hypothesis."
   ]
  },
  {
   "cell_type": "markdown",
   "metadata": {},
   "source": [
    "### z-test"
   ]
  },
  {
   "cell_type": "code",
   "execution_count": 20,
   "metadata": {},
   "outputs": [
    {
     "name": "stdout",
     "output_type": "stream",
     "text": [
      "z score:  -5.475925202078116\n",
      "p value:  4.3523151658821886e-08\n"
     ]
    }
   ],
   "source": [
    "xbar=np.mean(df.temperature)\n",
    "sigma=np.std(df.temperature)/np.sqrt(len(df.temperature))\n",
    "z_score=(xbar-98.6)/sigma\n",
    "print('z score: ',z_score)\n",
    "\n",
    "p=stats.norm.sf(abs(z_score))*2\n",
    "print('p value: ',p)"
   ]
  },
  {
   "cell_type": "markdown",
   "metadata": {},
   "source": [
    "Since z_score=-5.48 is much smaller than -1.96 and p values is much smaller than 0.05, we reject the null hypothesis. The true population mean of the temperature is not 98.6$^{\\circ}$F."
   ]
  },
  {
   "cell_type": "markdown",
   "metadata": {},
   "source": [
    "### t-test\n",
    "In case of large sample size(130>30), t test is expected to be very similar to the Z-test."
   ]
  },
  {
   "cell_type": "code",
   "execution_count": 4,
   "metadata": {},
   "outputs": [
    {
     "name": "stdout",
     "output_type": "stream",
     "text": [
      "t statistic:  -5.4548232923645195\n",
      "p value:  2.4106320415561276e-07\n"
     ]
    }
   ],
   "source": [
    "t,p=stats.ttest_1samp(df.temperature,98.6)\n",
    "print('t statistic: ', t)\n",
    "print('p value: ',p)"
   ]
  },
  {
   "cell_type": "markdown",
   "metadata": {},
   "source": [
    "p value of t test is larger than that of z test, but still much smaller than 0.05, we get the same conclution as that of z-test, i.e., the true population mean of the temperature is not 98.6$^{\\circ}$F."
   ]
  },
  {
   "cell_type": "markdown",
   "metadata": {},
   "source": [
    "# Draw a small sample of size 10 from the data and repeat both frequentist tests.\n",
    "  <li>Which one is the correct one to use?\n",
    " <li>What do you notice? What does this tell you about the difference in application of the  t\n",
    "  and  z statistic?"
   ]
  },
  {
   "cell_type": "code",
   "execution_count": 34,
   "metadata": {},
   "outputs": [
    {
     "data": {
      "image/png": "[encoded data removed]",
      "text/plain": [
       "<matplotlib.figure.Figure at 0x10c468f28>"
      ]
     },
     "metadata": {},
     "output_type": "display_data"
    }
   ],
   "source": [
    "#draw samples\n",
    "np.random.seed(456)\n",
    "sample=np.random.choice(df.temperature, size=10)\n",
    "\n",
    "plt.subplot(121)\n",
    "stats.probplot(sample,dist=stats.norm,plot=plt)\n",
    "\n",
    "plt.subplot(122)\n",
    "sns.distplot(sample,norm_hist=True);\n"
   ]
  },
  {
   "cell_type": "markdown",
   "metadata": {},
   "source": [
    "The figure shows that the current sample data isn't quite normally distributed."
   ]
  },
  {
   "cell_type": "code",
   "execution_count": 35,
   "metadata": {},
   "outputs": [
    {
     "name": "stdout",
     "output_type": "stream",
     "text": [
      "t statistic:  -1.8988863132818794\n",
      "p value:  0.09004829006314735\n",
      "\n",
      "\n",
      "z statistic:  -2.001601922563594\n",
      "p value:  0.045327562077971624\n"
     ]
    }
   ],
   "source": [
    "#t-test\n",
    "t,p=stats.ttest_1samp(sample,98.6)\n",
    "print('t statistic: ', t)\n",
    "print('p value: ',p)\n",
    "\n",
    "#z-test\n",
    "z=(np.mean(sample)-98.6)/(np.std(sample)/np.sqrt(10))\n",
    "p=stats.norm.sf(abs(z))*2\n",
    "print('\\n')\n",
    "print('z statistic: ', z)\n",
    "print('p value: ',p)"
   ]
  },
  {
   "cell_type": "markdown",
   "metadata": {},
   "source": [
    "P-value of z test is much smaller than thatn of a t-test. In this case, the t test will fail to reject the null hypothesis but the z test will reject the null hypotheis. So with the same data but different test, we might reach different conclusions. If we apply a wrong test, we will end up with an incorrect conclusion. When the sample size is less than 30, t test should be used."
   ]
  },
  {
   "cell_type": "markdown",
   "metadata": {},
   "source": [
    "# At what temperature should we consider someone's temperature to be \"abnormal\"?\n",
    "<li>As in the previous example, try calculating everything using the boostrap approach, as well as the frequentist approach.\n",
    "<li>Start by computing the margin of error and confidence interval. When calculating the confidence interval, keep in mind that you should use the appropriate formula for one draw, and not N draws."
   ]
  },
  {
   "cell_type": "code",
   "execution_count": 53,
   "metadata": {},
   "outputs": [
    {
     "name": "stdout",
     "output_type": "stream",
     "text": [
      "bootstrap mean temperature:  98.24939223076925\n",
      "bootstrap 95% confidence interval: [98.12287706 98.37590741]\n"
     ]
    }
   ],
   "source": [
    "# bootstrap approach\n",
    "np.random.seed(123)\n",
    "bs_replicates=draw_bs_reps(df.temperature, np.mean, size=10000)\n",
    "margin_error=1.96*np.std(bs_replicates)#/np.sqrt(10000)\n",
    "mean_bs=bs_replicates.mean()\n",
    "\n",
    "#bs_ci = np.percentile(bs_replicates,[2.5,97.5]) \n",
    "print('bootstrap mean temperature: ',mean_bs)\n",
    "print('bootstrap 95% confidence interval:',mean_bs+np.array([-1,1])*margin_error)"
   ]
  },
  {
   "cell_type": "markdown",
   "metadata": {},
   "source": [
    "With a bootstrap approach, the mean temperature is 98.25$^{\\circ}$F. We are 95% confident that human temperature on average can be as low as 98.12$^{\\circ}$F and as high as 98.38$^{\\circ}$F. \n",
    "\n",
    "If we define 'abnormal' temperature as out of the confidence interval, it would include temperatures larger than 98.38$^{\\circ}$F or less than 98.12$^{\\circ}$F."
   ]
  },
  {
   "cell_type": "code",
   "execution_count": 38,
   "metadata": {},
   "outputs": [
    {
     "name": "stdout",
     "output_type": "stream",
     "text": [
      "frequentist mean temperature:  98.24923076923078\n",
      "frequentist 95% confidence interval: [96.81772952 99.68073202]\n"
     ]
    }
   ],
   "source": [
    "#frequentist approach\n",
    "mean_f=df.temperature.mean()\n",
    "me_f=1.96*np.std(df.temperature)\n",
    "print('frequentist mean temperature: ',mean_f)\n",
    "print('frequentist 95% confidence interval:',mean_f+np.array([-1,1])*me_f)"
   ]
  },
  {
   "cell_type": "markdown",
   "metadata": {},
   "source": [
    "With a frequentist approach, the mean temperature is 98.25$^{\\circ}$F. A temperature lower than 96.82$^{\\circ}$F and a temperature higher than 99.68$^{\\circ}$F is considered abnormal. \n"
   ]
  },
  {
   "cell_type": "markdown",
   "metadata": {},
   "source": [
    "# Is there a significant difference between males and females in normal temperature?\n",
    "<li>What testing approach did you use and why?\n",
    "<li>Write a story with your conclusion in the context of the original problem."
   ]
  },
  {
   "cell_type": "markdown",
   "metadata": {},
   "source": [
    "## EDA: summary statistics"
   ]
  },
  {
   "cell_type": "code",
   "execution_count": 39,
   "metadata": {},
   "outputs": [
    {
     "data": {
      "text/html": [
       "<div>\n",
       "<style scoped>\n",
       "    .dataframe tbody tr th:only-of-type {\n",
       "        vertical-align: middle;\n",
       "    }\n",
       "\n",
       "    .dataframe tbody tr th {\n",
       "        vertical-align: top;\n",
       "    }\n",
       "\n",
       "    .dataframe thead th {\n",
       "        text-align: right;\n",
       "    }\n",
       "</style>\n",
       "<table border=\"1\" class=\"dataframe\">\n",
       "  <thead>\n",
       "    <tr style=\"text-align: right;\">\n",
       "      <th></th>\n",
       "      <th>temp_m</th>\n",
       "      <th>temp_f</th>\n",
       "    </tr>\n",
       "  </thead>\n",
       "  <tbody>\n",
       "    <tr>\n",
       "      <th>count</th>\n",
       "      <td>65.000000</td>\n",
       "      <td>65.000000</td>\n",
       "    </tr>\n",
       "    <tr>\n",
       "      <th>mean</th>\n",
       "      <td>98.104615</td>\n",
       "      <td>98.393846</td>\n",
       "    </tr>\n",
       "    <tr>\n",
       "      <th>std</th>\n",
       "      <td>0.698756</td>\n",
       "      <td>0.743488</td>\n",
       "    </tr>\n",
       "    <tr>\n",
       "      <th>min</th>\n",
       "      <td>96.300000</td>\n",
       "      <td>96.400000</td>\n",
       "    </tr>\n",
       "    <tr>\n",
       "      <th>25%</th>\n",
       "      <td>97.600000</td>\n",
       "      <td>98.000000</td>\n",
       "    </tr>\n",
       "    <tr>\n",
       "      <th>50%</th>\n",
       "      <td>98.100000</td>\n",
       "      <td>98.400000</td>\n",
       "    </tr>\n",
       "    <tr>\n",
       "      <th>75%</th>\n",
       "      <td>98.600000</td>\n",
       "      <td>98.800000</td>\n",
       "    </tr>\n",
       "    <tr>\n",
       "      <th>max</th>\n",
       "      <td>99.500000</td>\n",
       "      <td>100.800000</td>\n",
       "    </tr>\n",
       "  </tbody>\n",
       "</table>\n",
       "</div>"
      ],
      "text/plain": [
       "          temp_m      temp_f\n",
       "count  65.000000   65.000000\n",
       "mean   98.104615   98.393846\n",
       "std     0.698756    0.743488\n",
       "min    96.300000   96.400000\n",
       "25%    97.600000   98.000000\n",
       "50%    98.100000   98.400000\n",
       "75%    98.600000   98.800000\n",
       "max    99.500000  100.800000"
      ]
     },
     "execution_count": 39,
     "metadata": {},
     "output_type": "execute_result"
    }
   ],
   "source": [
    "#subset by gender and plot hist according to gender\n",
    "idx_male=df.gender=='M'\n",
    "males=df[idx_male].temperature\n",
    "females=df[~idx_male].temperature\n",
    "\n",
    "m_f=pd.concat([males.describe(),females.describe()],axis=1)\n",
    "m_f.columns=['temp_m','temp_f']\n",
    "m_f"
   ]
  },
  {
   "cell_type": "code",
   "execution_count": 40,
   "metadata": {},
   "outputs": [
    {
     "name": "stderr",
     "output_type": "stream",
     "text": [
      "/Users/phyhouhou/anaconda/lib/python3.6/site-packages/seaborn/categorical.py:454: FutureWarning: remove_na is deprecated and is a private function. Do not use.\n",
      "  box_data = remove_na(group_data)\n"
     ]
    },
    {
     "data": {
      "image/png": "[encoded data removed]",
      "text/plain": [
       "<matplotlib.figure.Figure at 0x10c408828>"
      ]
     },
     "metadata": {},
     "output_type": "display_data"
    }
   ],
   "source": [
    "sns.boxplot('gender','temperature',data=df);"
   ]
  },
  {
   "cell_type": "markdown",
   "metadata": {},
   "source": [
    "The boxplot visualizes the summary statistics of temperatures of male and female. It appears that temperature of females has relatively higher   average and a larger variance than that of males. Is this statistically correct?"
   ]
  },
  {
   "cell_type": "markdown",
   "metadata": {},
   "source": [
    "## Is the distribution of temperature of female and male normal?"
   ]
  },
  {
   "cell_type": "code",
   "execution_count": 41,
   "metadata": {},
   "outputs": [
    {
     "data": {
      "image/png": "[encoded data removed]",
      "text/plain": [
       "<matplotlib.figure.Figure at 0x10caa3128>"
      ]
     },
     "metadata": {},
     "output_type": "display_data"
    }
   ],
   "source": [
    "sns.distplot(males,norm_hist=True)\n",
    "sns.distplot(females,norm_hist=True)\n",
    "plt.legend(('M','F'),loc='best')\n",
    "plt.xlabel('Temperature ($^\\circ$F)');"
   ]
  },
  {
   "cell_type": "markdown",
   "metadata": {},
   "source": [
    "The histogram of males temperature is more likely bell-shaped than that of females which has an obvious skewed right tail and is less symetric. It's hard to telll how normal the distribution is for the histogram."
   ]
  },
  {
   "cell_type": "code",
   "execution_count": 42,
   "metadata": {},
   "outputs": [
    {
     "name": "stdout",
     "output_type": "stream",
     "text": [
      "goodness fit of females: 0.98\n"
     ]
    },
    {
     "data": {
      "image/png": "[encoded data removed]",
      "text/plain": [
       "<matplotlib.figure.Figure at 0x113c391d0>"
      ]
     },
     "metadata": {},
     "output_type": "display_data"
    }
   ],
   "source": [
    "from scipy import stats\n",
    "_,fit=stats.probplot(females,dist=stats.norm,plot=plt)\n",
    "print('goodness fit of females:', '%.2f' %fit[2])"
   ]
  },
  {
   "cell_type": "code",
   "execution_count": 43,
   "metadata": {},
   "outputs": [
    {
     "name": "stdout",
     "output_type": "stream",
     "text": [
      "goodness fit of males: 1.00\n"
     ]
    },
    {
     "data": {
      "image/png": "[encoded data removed]",
      "text/plain": [
       "<matplotlib.figure.Figure at 0x113db7940>"
      ]
     },
     "metadata": {},
     "output_type": "display_data"
    }
   ],
   "source": [
    "_,fit=stats.probplot(males,dist=stats.norm,plot=plt)\n",
    "print('goodness fit of males:', '%.2f' %fit[2])"
   ]
  },
  {
   "cell_type": "code",
   "execution_count": 44,
   "metadata": {},
   "outputs": [
    {
     "name": "stdout",
     "output_type": "stream",
     "text": [
      "M:  NormaltestResult(statistic=0.8911999666950503, pvalue=0.6404399074569123)\n",
      "F:  NormaltestResult(statistic=4.735438112908399, pvalue=0.09369419389856404)\n"
     ]
    }
   ],
   "source": [
    "print('M: ',stats.normaltest(males))\n",
    "print('F: ',stats.normaltest(females))"
   ]
  },
  {
   "cell_type": "markdown",
   "metadata": {},
   "source": [
    "The quantitle plot shows that males temperature has a better normal distribution approximation than that of females. The normaltest reaches the same conclusion. Since the p-values are all greater than 0.05, we consider that both males and females temperaturea distribution is approximately normal. "
   ]
  },
  {
   "cell_type": "markdown",
   "metadata": {},
   "source": [
    "## z-test\n",
    "Since the sample size is 65 for both group, much larger than 30, we consider z-test for two samples. The null hypothesis is that female and male has the same average temperature. "
   ]
  },
  {
   "cell_type": "code",
   "execution_count": 47,
   "metadata": {},
   "outputs": [
    {
     "name": "stdout",
     "output_type": "stream",
     "text": [
      "z score: -2.285434538165274\n",
      "p value: 0.02228736076067726\n",
      "\n",
      "\n",
      "average male temperature:  98.1046153846154\n",
      "male 95% CI:  [96.73505409 99.47417668]\n",
      "\n",
      "\n",
      "average female temperature:  98.39384615384613\n",
      "female 95% CI:  [96.93661016 99.85108215]\n"
     ]
    }
   ],
   "source": [
    "m_mean=males.mean()\n",
    "m_std=males.std()\n",
    "m_size=len(males)\n",
    "\n",
    "\n",
    "f_mean=females.mean()\n",
    "f_std=females.std()\n",
    "f_size=len(females)\n",
    "\n",
    "\n",
    "\n",
    "z = (m_mean-f_mean) / np.sqrt(((m_std ** 2)/ m_size) + ((f_std ** 2)/ f_size))\n",
    "print('z score:', z)\n",
    "\n",
    "p=stats.norm.sf(abs(z)) * 2\n",
    "print('p value:', p)\n",
    "print('\\n')\n",
    "\n",
    "print('average male temperature: ',m_mean)\n",
    "print('male 95% CI: ',m_mean+np.array([-1,1])*1.96*m_std)\n",
    "print('\\n')\n",
    "\n",
    "\n",
    "print('average female temperature: ',f_mean)\n",
    "print('female 95% CI: ',f_mean+np.array([-1,1])*1.96*f_std)"
   ]
  },
  {
   "cell_type": "markdown",
   "metadata": {},
   "source": [
    "Since p value is smaller than 0.05, we reject the null hypothesis that females and males have the same average temperature. In fact the average temperature of female and males are significantly different.\n",
    "\n",
    "The average male temperature is 98.1$^{\\circ}$F. We are 95% confident that male temperature on average is between 96.74$^{\\circ}$F and 99.47$^{\\circ}$F. The average female tempereture is 98.39$^{\\circ}$F and we are 95% confident that the true female average temperature is between 96.94$^{\\circ}$F and 99.85$^{\\circ}$F."
   ]
  },
  {
   "cell_type": "markdown",
   "metadata": {},
   "source": [
    "## t-test\n",
    "\n",
    "We can perform a two-sample t-test."
   ]
  },
  {
   "cell_type": "code",
   "execution_count": 48,
   "metadata": {},
   "outputs": [
    {
     "data": {
      "text/plain": [
       "Ttest_indResult(statistic=-2.285434538165611, pvalue=0.023938264182934196)"
      ]
     },
     "execution_count": 48,
     "metadata": {},
     "output_type": "execute_result"
    }
   ],
   "source": [
    "stats.ttest_ind(males, females, equal_var = False)"
   ]
  },
  {
   "cell_type": "markdown",
   "metadata": {},
   "source": [
    "P-value of t-test is slightly greater than that of z-test, but in the large sample size case(65>30), it gives the same conclusion as that of z-test. It rejects the null hypotheis that males and females have the same mean body temperature. Instead the mean temperature is significantly different."
   ]
  },
  {
   "cell_type": "markdown",
   "metadata": {},
   "source": [
    "## Bootstrap hypothesis testing\n",
    "We can performa bootstrap hypothesis testing."
   ]
  },
  {
   "cell_type": "code",
   "execution_count": 49,
   "metadata": {},
   "outputs": [
    {
     "name": "stdout",
     "output_type": "stream",
     "text": [
      "p value : 0.022\n"
     ]
    }
   ],
   "source": [
    "diff=df.groupby('gender')['temperature'].mean().diff()[1]\n",
    "\n",
    "bs_permutations_replicates = np.empty(10000)\n",
    "for i in range(10000):\n",
    "    permuted = np.random.permutation(np.concatenate((females,males)))\n",
    "    f_permuted =permuted[:len(females)]\n",
    "    m_permuted =permuted[len(males):]\n",
    "    bs_permutations_replicates[i] = np.abs(np.mean(f_permuted) - np.mean(m_permuted))\n",
    "    \n",
    "bs_permutations_replicates_pval = np.sum(bs_permutations_replicates > abs(diff))/10000\n",
    "print('p value :',bs_permutations_replicates_pval)\n"
   ]
  },
  {
   "cell_type": "markdown",
   "metadata": {},
   "source": [
    "Bootstrap testing gives a p value  smaller than 0.05. We reject the null hypothesis."
   ]
  },
  {
   "cell_type": "markdown",
   "metadata": {},
   "source": [
    "# Conclusion\n",
    "The mean normal body temperature was held to be 37$^{\\circ}$C or 98.6$^{\\circ}$F for more than 120 years since it was first conceptualized and reported by Carl Wunderlich in a famous 1868 book. But this value is not statistically correct according to our inferential statistic analysis. \n",
    "\n",
    "\n",
    "According to the statistic analysis, with a frequentist approach, the mean temperature is 98.25$^{\\circ}$F. A temperature lower than 96.82$^{\\circ}$F and a temperature higher than 99.68$^{\\circ}$F is considered abnormal if we define 'abnormal' as temperature out of the 95% confidence interval. \n",
    "\n",
    "We also find that there is a significant difference between males and females in normal temperature. The average male temperature is 98.1$^{\\circ}$F. We are 95% confident that male temperature on average is between 96.74$^{\\circ}$F and 99.47$^{\\circ}$F. The average female tempereture is 98.39$^{\\circ}$F and we are 95% confident that the true female average temperature is between 96.94$^{\\circ}$F and 99.85$^{\\circ}$F."
   ]
  },
  {
   "cell_type": "code",
   "execution_count": null,
   "metadata": {},
   "outputs": [],
   "source": []
  }
 ],
 "metadata": {
  "kernelspec": {
   "display_name": "Python 3",
   "language": "python",
   "name": "python3"
  },
  "language_info": {
   "codemirror_mode": {
    "name": "ipython",
    "version": 3
   },
   "file_extension": ".py",
   "mimetype": "text/x-python",
   "name": "python",
   "nbconvert_exporter": "python",
   "pygments_lexer": "ipython3",
   "version": "3.6.0"
  },
  "toc": {
   "nav_menu": {},
   "number_sections": true,
   "sideBar": true,
   "skip_h1_title": false,
   "title_cell": "Table of Contents",
   "title_sidebar": "Contents",
   "toc_cell": false,
   "toc_position": {},
   "toc_section_display": true,
   "toc_window_display": false
  }
 },
 "nbformat": 4,
 "nbformat_minor": 1
}
