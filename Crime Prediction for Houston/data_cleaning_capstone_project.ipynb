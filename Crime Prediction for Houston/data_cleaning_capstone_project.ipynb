{
 "cells": [
  {
   "cell_type": "markdown",
   "metadata": {},
   "source": [
    "# Introduction\n",
    "\n",
    "This project works on the  Uniform Crime Reporting (UCR) Statistics in Houston. The original raw data is available from http://www.houstontx.gov/police/cs/index-2.htm. The UCR data contained in these reports, is presented in a monthly breakdown of Part I crimes for which HPD wrote police reports. The data is furthered broken down by police districts and beats and shows reports of the following types of crimes:  murder, rape, robbery, aggravated assault, burglary, theft, auto theft. More information can be found [here](http://www.houstontx.gov/police/cs/index-2.htm). We use spreadsheets for the year 2010-2017 for our project."
   ]
  },
  {
   "cell_type": "markdown",
   "metadata": {},
   "source": [
    "# Load the data\n",
    "We save all 96 spreadsheets in the computer. Since most spreadsheets have 10 columns: 'Date', 'Hour', 'Offense Type', 'Beat', 'Premise', 'Block Range', 'Street Name',\n",
    " 'Type,' 'Suffix', '# Of Offenses' with some of them having alias. We first check if all spreadsheets have 10 columns and if all columns are in the same order before stacking them into one big dataframe. "
   ]
  },
  {
   "cell_type": "code",
   "execution_count": 1,
   "metadata": {},
   "outputs": [
    {
     "data": {
      "text/plain": [
       "96"
      ]
     },
     "execution_count": 1,
     "metadata": {},
     "output_type": "execute_result"
    }
   ],
   "source": [
    "import glob\n",
    " # Write the pattern: pattern\n",
    "pattern = '/Users/phyhouhou/Downloads/Houston crime statistics data/*.xls'\n",
    " # Save filenames\n",
    "files = glob.glob(pattern)\n",
    "len(files)\n"
   ]
  },
  {
   "cell_type": "code",
   "execution_count": 2,
   "metadata": {},
   "outputs": [
    {
     "name": "stdout",
     "output_type": "stream",
     "text": [
      "WARNING *** file size (2752234) not 512 + multiple of sector size (512)\n",
      "WARNING *** OLE2 inconsistency: SSCS size is 0 but SSAT size is non-zero\n",
      "WARNING *** file size (3078551) not 512 + multiple of sector size (512)\n",
      "WARNING *** OLE2 inconsistency: SSCS size is 0 but SSAT size is non-zero\n"
     ]
    }
   ],
   "source": [
    "import pandas as pd\n",
    "\n",
    "# Produce the file names in a chronological order\n",
    "import calendar\n",
    "files=['/Users/phyhouhou/Downloads/Houston crime statistics data/'+str(calendar.month_abbr[i]).lower()+str(j)+'.xls' for j in range(10,18) for i in range(1,13) ]\n",
    "\n",
    "# Take record for files, information includes: filename, number of columns, column names\n",
    "record=pd.DataFrame(columns=['file','num_col','colnames'])\n",
    "for file in files:\n",
    "    df=pd.read_excel(file)\n",
    "    record=record.append({'file':file[-9:],'num_col':len(df.columns),'colnames':df.columns.values},ignore_index=True)"
   ]
  },
  {
   "cell_type": "markdown",
   "metadata": {},
   "source": [
    "## Problems\n",
    "From the record we spot the problems below:<br>\n",
    "1. jun14.xls and jul14.xls has 9 cols with 'Premise' missing\n",
    "\n",
    "2. jan10.xls, nov10.xls,jul13.xls has extra col: 'Unnamed: 1; sep10.xls has an extra col: 'Field11'\n",
    "\n",
    "3. Different names used for some columns"
   ]
  },
  {
   "cell_type": "code",
   "execution_count": 3,
   "metadata": {},
   "outputs": [
    {
     "name": "stdout",
     "output_type": "stream",
     "text": [
      "column names: ['Date' 'Hour' 'Offense Type' 'Beat' 'Premise' 'Block Range' 'Street Name'\n",
      " 'Type' 'Suffix' '# Of Offenses']\n",
      "\n",
      "          file  num_col                                           colnames\n",
      "53  jun14.xls      9.0  [Date, Hour, Offense Type, Beat, Block Range, ...\n",
      "54  jul14.xls      9.0  [Date, Hour, Offense Type, Beat, Block Range, ...\n",
      "\n",
      "          file  num_col                                           colnames\n",
      "0   jan10.xls     11.0  [Date, Unnamed: 1, Hour, Offense Type, Beat, P...\n",
      "8   sep10.xls     11.0  [Date, Hour, Offense Type, Beat, Premise, Bloc...\n",
      "10  nov10.xls     11.0  [Date, Unnamed: 1, Hour, Offense Type, Beat, P...\n",
      "42  jul13.xls     11.0  [Date, Unnamed: 1, Hour, Offense Type, Beat, P...\n"
     ]
    }
   ],
   "source": [
    "print('column names:',record.colnames[1])\n",
    "\n",
    "record_col_missing=record[record.num_col<10]\n",
    "print('\\n', record_col_missing)\n",
    "\n",
    "record_col_extra=record[record.num_col>10];\n",
    "print('\\n', record_col_extra)\n",
    "\n"
   ]
  },
  {
   "cell_type": "markdown",
   "metadata": {},
   "source": [
    "## Solutions\n",
    "### How to deal with extra/missing cols?\n",
    "We find that all extral columns are empty. So let's drop them. We fill missing columns with 'UNK' so far. Later we will check the proportion of nan and make decisions then."
   ]
  },
  {
   "cell_type": "code",
   "execution_count": 4,
   "metadata": {},
   "outputs": [
    {
     "name": "stdout",
     "output_type": "stream",
     "text": [
      "WARNING *** file size (2752234) not 512 + multiple of sector size (512)\n",
      "WARNING *** OLE2 inconsistency: SSCS size is 0 but SSAT size is non-zero\n",
      "[True, True, True, True]\n"
     ]
    }
   ],
   "source": [
    "# Check whether extra columns in some files are empty\n",
    "file_extra=['jan10.xls','sep10.xls','nov10.xls','jul13.xls']\n",
    "res=[ ]\n",
    "for file in file_extra:\n",
    "    fn='/Users/phyhouhou/Downloads/Houston crime statistics data/'+file\n",
    "    df=pd.read_excel(fn)\n",
    "    if (file!='sep10.xls'):\n",
    "        res.append(df['Unnamed: 1'].isnull().values.all()) \n",
    "    else:\n",
    "        res.append(df['Field11'].isnull().values.all())\n",
    "print(res)"
   ]
  },
  {
   "cell_type": "markdown",
   "metadata": {},
   "source": [
    " First fix columns such that all files have 10 columns."
   ]
  },
  {
   "cell_type": "code",
   "execution_count": 5,
   "metadata": {},
   "outputs": [
    {
     "name": "stdout",
     "output_type": "stream",
     "text": [
      "WARNING *** file size (2752234) not 512 + multiple of sector size (512)\n",
      "WARNING *** OLE2 inconsistency: SSCS size is 0 but SSAT size is non-zero\n",
      "WARNING *** file size (3078551) not 512 + multiple of sector size (512)\n",
      "WARNING *** OLE2 inconsistency: SSCS size is 0 but SSAT size is non-zero\n"
     ]
    }
   ],
   "source": [
    "import calendar\n",
    "files=['/Users/phyhouhou/Downloads/Houston crime statistics data/'+str(calendar.month_abbr[i]).lower()+str(j)+'.xls' for j in range(10,18) for i in range(1,13) ]\n",
    "\n",
    "# Take record of information for files\n",
    "record=pd.DataFrame(columns=['file','num_col','colnames'])\n",
    "for file in files:\n",
    "    df=pd.read_excel(file)\n",
    "    if(len(df.columns)<10):\n",
    "         df.insert(4,'Premise','UNK')\n",
    "    elif(len(df.columns)>10):\n",
    "         df.dropna(axis=1,how='all',inplace=True)\n",
    "    \n",
    "\n",
    "    record=record.append({'file':file[-9:],'num_col':len(df.columns),'colnames':df.columns.values},ignore_index=True)"
   ]
  },
  {
   "cell_type": "markdown",
   "metadata": {},
   "source": [
    "### Columns have variant names in different order?\n",
    "Now check the order of columns. We find that the order of columns is the same except that some colnames need to be cleaned. So let's rename the columns. "
   ]
  },
  {
   "cell_type": "code",
   "execution_count": 6,
   "metadata": {},
   "outputs": [
    {
     "data": {
      "text/plain": [
       "[{'Date'},\n",
       " {'Hour'},\n",
       " {'Offense Type'},\n",
       " {'Beat'},\n",
       " {'Premise'},\n",
       " {'Block Range', 'BlockRange'},\n",
       " {'Street Name', 'StreetName'},\n",
       " {'Type'},\n",
       " {'Suffix'},\n",
       " {'# Of', '# Of Offenses', '# Offenses', '# offenses', 'Offenses'}]"
      ]
     },
     "execution_count": 6,
     "metadata": {},
     "output_type": "execute_result"
    }
   ],
   "source": [
    "col_order=pd.DataFrame.from_items(zip(record.colnames.index, record.colnames.values)).T\n",
    "[ set(col_order[i]) for i in range(10)]\n"
   ]
  },
  {
   "cell_type": "markdown",
   "metadata": {},
   "source": [
    "## Merge and explore the raw data "
   ]
  },
  {
   "cell_type": "code",
   "execution_count": 7,
   "metadata": {},
   "outputs": [
    {
     "name": "stdout",
     "output_type": "stream",
     "text": [
      "WARNING *** file size (2752234) not 512 + multiple of sector size (512)\n",
      "WARNING *** OLE2 inconsistency: SSCS size is 0 but SSAT size is non-zero\n",
      "WARNING *** file size (3078551) not 512 + multiple of sector size (512)\n",
      "WARNING *** OLE2 inconsistency: SSCS size is 0 but SSAT size is non-zero\n"
     ]
    }
   ],
   "source": [
    "import calendar\n",
    "files=['/Users/phyhouhou/Downloads/Houston crime statistics data/'+str(calendar.month_abbr[i]).lower()+str(j)+'.xls' for j in range(10,18) for i in range(1,13) ]\n",
    "\n",
    "import pandas as pd\n",
    "\n",
    "dfs=[]\n",
    "for file in files:\n",
    "    \n",
    "    df=pd.read_excel(file)\n",
    "    \n",
    "    if(len(df.columns)<10):\n",
    "        df.insert(4,'Premise','UNK')\n",
    "    elif(len(df.columns)>10):\n",
    "        df.dropna(axis=1,how='all',inplace=True)\n",
    "    \n",
    "    df.columns=['Date', 'Hour', 'OffenseType', 'Beat', 'Premise', 'BlockRange',\n",
    "       'StreetName', 'Type', 'Suffix', 'OffenseNum']\n",
    "    df['Date']=pd.to_datetime(df['Date'])\n",
    "    \n",
    "    dfs.append(df)\n",
    "\n",
    "# Concatenate frames into a single DataFrame: crimes\n",
    "crimes = pd.concat(dfs,ignore_index=True)\n",
    "\n",
    "# Save crimes into a csv file\n",
    "crimes.to_csv('crimes.csv',index=False)#,na_rep=\"UNK\""
   ]
  },
  {
   "cell_type": "code",
   "execution_count": 35,
   "metadata": {},
   "outputs": [],
   "source": [
    "# Load data\n",
    "import pandas as pd\n",
    "crimes=pd.read_csv('crimes.csv',low_memory=False,keep_default_na=True,na_values=['UNK'])"
   ]
  },
  {
   "cell_type": "code",
   "execution_count": 36,
   "metadata": {},
   "outputs": [
    {
     "data": {
      "text/html": [
       "<div>\n",
       "<style scoped>\n",
       "    .dataframe tbody tr th:only-of-type {\n",
       "        vertical-align: middle;\n",
       "    }\n",
       "\n",
       "    .dataframe tbody tr th {\n",
       "        vertical-align: top;\n",
       "    }\n",
       "\n",
       "    .dataframe thead th {\n",
       "        text-align: right;\n",
       "    }\n",
       "</style>\n",
       "<table border=\"1\" class=\"dataframe\">\n",
       "  <thead>\n",
       "    <tr style=\"text-align: right;\">\n",
       "      <th></th>\n",
       "      <th>Date</th>\n",
       "      <th>Hour</th>\n",
       "      <th>OffenseType</th>\n",
       "      <th>Beat</th>\n",
       "      <th>Premise</th>\n",
       "      <th>BlockRange</th>\n",
       "      <th>StreetName</th>\n",
       "      <th>Type</th>\n",
       "      <th>Suffix</th>\n",
       "      <th>OffenseNum</th>\n",
       "    </tr>\n",
       "  </thead>\n",
       "  <tbody>\n",
       "    <tr>\n",
       "      <th>567114</th>\n",
       "      <td>2014-05-06</td>\n",
       "      <td>0</td>\n",
       "      <td>Theft</td>\n",
       "      <td>19G30</td>\n",
       "      <td>20D</td>\n",
       "      <td>4500-4599</td>\n",
       "      <td>COOK</td>\n",
       "      <td>RD</td>\n",
       "      <td>-</td>\n",
       "      <td>1.0</td>\n",
       "    </tr>\n",
       "    <tr>\n",
       "      <th>180642</th>\n",
       "      <td>2011-05-24</td>\n",
       "      <td>12</td>\n",
       "      <td>Theft</td>\n",
       "      <td>20G50</td>\n",
       "      <td>080</td>\n",
       "      <td>900-999</td>\n",
       "      <td>GESSNER</td>\n",
       "      <td>DR</td>\n",
       "      <td>-</td>\n",
       "      <td>1.0</td>\n",
       "    </tr>\n",
       "    <tr>\n",
       "      <th>530741</th>\n",
       "      <td>2014-01-26</td>\n",
       "      <td>16</td>\n",
       "      <td>Theft</td>\n",
       "      <td>19G40</td>\n",
       "      <td>20R</td>\n",
       "      <td>12700-12799</td>\n",
       "      <td>SHANNON HILLS</td>\n",
       "      <td>DR</td>\n",
       "      <td>-</td>\n",
       "      <td>1.0</td>\n",
       "    </tr>\n",
       "    <tr>\n",
       "      <th>519262</th>\n",
       "      <td>2013-11-24</td>\n",
       "      <td>14</td>\n",
       "      <td>Theft</td>\n",
       "      <td>20G40</td>\n",
       "      <td>20R</td>\n",
       "      <td>2000-2099</td>\n",
       "      <td>BENTWORTH</td>\n",
       "      <td>DR</td>\n",
       "      <td>-</td>\n",
       "      <td>1.0</td>\n",
       "    </tr>\n",
       "    <tr>\n",
       "      <th>548362</th>\n",
       "      <td>2014-03-31</td>\n",
       "      <td>12</td>\n",
       "      <td>Theft</td>\n",
       "      <td>20G80</td>\n",
       "      <td>240</td>\n",
       "      <td>1000-1099</td>\n",
       "      <td>WEST OAKS MALL</td>\n",
       "      <td>-</td>\n",
       "      <td>-</td>\n",
       "      <td>1.0</td>\n",
       "    </tr>\n",
       "  </tbody>\n",
       "</table>\n",
       "</div>"
      ],
      "text/plain": [
       "              Date Hour OffenseType   Beat Premise   BlockRange  \\\n",
       "567114  2014-05-06    0       Theft  19G30     20D    4500-4599   \n",
       "180642  2011-05-24   12       Theft  20G50     080      900-999   \n",
       "530741  2014-01-26   16       Theft  19G40     20R  12700-12799   \n",
       "519262  2013-11-24   14       Theft  20G40     20R    2000-2099   \n",
       "548362  2014-03-31   12       Theft  20G80     240    1000-1099   \n",
       "\n",
       "            StreetName Type Suffix  OffenseNum  \n",
       "567114            COOK   RD      -         1.0  \n",
       "180642         GESSNER   DR      -         1.0  \n",
       "530741   SHANNON HILLS   DR      -         1.0  \n",
       "519262       BENTWORTH   DR      -         1.0  \n",
       "548362  WEST OAKS MALL    -      -         1.0  "
      ]
     },
     "execution_count": 36,
     "metadata": {},
     "output_type": "execute_result"
    }
   ],
   "source": [
    "#Randomly select 5 observations\n",
    "crimes.sample(n=5)"
   ]
  },
  {
   "cell_type": "code",
   "execution_count": 37,
   "metadata": {},
   "outputs": [
    {
     "name": "stdout",
     "output_type": "stream",
     "text": [
      "<class 'pandas.core.frame.DataFrame'>\n",
      "RangeIndex: 1006331 entries, 0 to 1006330\n",
      "Data columns (total 10 columns):\n",
      "Date           1006326 non-null object\n",
      "Hour           1006330 non-null object\n",
      "OffenseType    1006330 non-null object\n",
      "Beat           1003191 non-null object\n",
      "Premise        972734 non-null object\n",
      "BlockRange     1000767 non-null object\n",
      "StreetName     1006323 non-null object\n",
      "Type           1006330 non-null object\n",
      "Suffix         1006330 non-null object\n",
      "OffenseNum     1006330 non-null float64\n",
      "dtypes: float64(1), object(9)\n",
      "memory usage: 76.8+ MB\n"
     ]
    }
   ],
   "source": [
    "crimes.info()"
   ]
  },
  {
   "cell_type": "code",
   "execution_count": 38,
   "metadata": {},
   "outputs": [
    {
     "data": {
      "text/plain": [
       "count    1.006330e+06\n",
       "mean     1.015497e+00\n",
       "std      1.636272e-01\n",
       "min      1.000000e+00\n",
       "25%      1.000000e+00\n",
       "50%      1.000000e+00\n",
       "75%      1.000000e+00\n",
       "max      3.300000e+01\n",
       "Name: OffenseNum, dtype: float64"
      ]
     },
     "execution_count": 38,
     "metadata": {},
     "output_type": "execute_result"
    }
   ],
   "source": [
    "crimes.OffenseNum.describe()"
   ]
  },
  {
   "cell_type": "code",
   "execution_count": 39,
   "metadata": {},
   "outputs": [
    {
     "name": "stdout",
     "output_type": "stream",
     "text": [
      "Date :  3910\n",
      "Hour :  83\n",
      "OffenseType :  16\n",
      "Beat :  354\n",
      "Premise :  384\n",
      "BlockRange :  346\n",
      "StreetName :  27793\n",
      "Type :  53\n",
      "Suffix :  5\n"
     ]
    }
   ],
   "source": [
    "for col in crimes.columns.values[:-1]:\n",
    "    print(col,': ',len(crimes[col].value_counts()))"
   ]
  },
  {
   "cell_type": "code",
   "execution_count": 40,
   "metadata": {},
   "outputs": [
    {
     "name": "stdout",
     "output_type": "stream",
     "text": [
      "2921\n"
     ]
    }
   ],
   "source": [
    "from datetime import date\n",
    "\n",
    "d0 = date(2010, 1, 1)\n",
    "d1 = date(2017, 12, 31)\n",
    "delta = d1 - d0\n",
    "print (delta.days)\n"
   ]
  },
  {
   "cell_type": "markdown",
   "metadata": {},
   "source": [
    "### A short summary of data\n",
    "The dimension of crimes dataframe is (1006331,10) with most of columns having missing values. We need to calculate the missing proportion and decide how to take care of the the missing values. \n",
    "\n",
    "The data types are not clear, indicating it might be a mixture of multiple data types. For the numeric column 'OffenseNum', it seems that max is quite larger than other quantiles indicating it might be an outlier? \n",
    "\n",
    "Concerning the categorical columns, it looks quite messy. Take the 'Date' column for example, relevant date should be from '2010-01-01' to '2017-12-31', which is 2921 days together but the crimes data has much more than that. Take the 'Hour' column for example, it should be from 0 to 23 at most but the crimes data gives a set of 83 hour types."
   ]
  },
  {
   "cell_type": "markdown",
   "metadata": {},
   "source": [
    "## Processing missing data"
   ]
  },
  {
   "cell_type": "code",
   "execution_count": 41,
   "metadata": {},
   "outputs": [
    {
     "data": {
      "text/plain": [
       "Date               5\n",
       "Hour               1\n",
       "OffenseType        1\n",
       "Beat            3140\n",
       "Premise        33597\n",
       "BlockRange      5564\n",
       "StreetName         8\n",
       "Type               1\n",
       "Suffix             1\n",
       "OffenseNum         1\n",
       "dtype: int64"
      ]
     },
     "execution_count": 41,
     "metadata": {},
     "output_type": "execute_result"
    }
   ],
   "source": [
    "#Count number of NaN's in each column\n",
    "crimes.isnull().sum() "
   ]
  },
  {
   "cell_type": "markdown",
   "metadata": {},
   "source": [
    "###  Drop empty rows "
   ]
  },
  {
   "cell_type": "code",
   "execution_count": 42,
   "metadata": {},
   "outputs": [],
   "source": [
    "crimes.dropna(axis=0,how='all',inplace=True)"
   ]
  },
  {
   "cell_type": "markdown",
   "metadata": {},
   "source": [
    "### Drop rows where 'Date' is NaN since it's a low proportion and no idea how to fillnas"
   ]
  },
  {
   "cell_type": "code",
   "execution_count": 43,
   "metadata": {},
   "outputs": [],
   "source": [
    "crimes.dropna(subset=['Date'],inplace=True)"
   ]
  },
  {
   "cell_type": "markdown",
   "metadata": {},
   "source": [
    "### Calculate proportion of NaN"
   ]
  },
  {
   "cell_type": "code",
   "execution_count": 44,
   "metadata": {},
   "outputs": [
    {
     "data": {
      "text/html": [
       "<div>\n",
       "<style scoped>\n",
       "    .dataframe tbody tr th:only-of-type {\n",
       "        vertical-align: middle;\n",
       "    }\n",
       "\n",
       "    .dataframe tbody tr th {\n",
       "        vertical-align: top;\n",
       "    }\n",
       "\n",
       "    .dataframe thead th {\n",
       "        text-align: right;\n",
       "    }\n",
       "</style>\n",
       "<table border=\"1\" class=\"dataframe\">\n",
       "  <thead>\n",
       "    <tr style=\"text-align: right;\">\n",
       "      <th></th>\n",
       "      <th>Date</th>\n",
       "      <th>Hour</th>\n",
       "      <th>OffenseType</th>\n",
       "      <th>Beat</th>\n",
       "      <th>Premise</th>\n",
       "      <th>BlockRange</th>\n",
       "      <th>StreetName</th>\n",
       "      <th>Type</th>\n",
       "      <th>Suffix</th>\n",
       "      <th>OffenseNum</th>\n",
       "    </tr>\n",
       "  </thead>\n",
       "  <tbody>\n",
       "    <tr>\n",
       "      <th>0</th>\n",
       "      <td>0.0</td>\n",
       "      <td>0.0</td>\n",
       "      <td>0.0</td>\n",
       "      <td>0.003119</td>\n",
       "      <td>0.033381</td>\n",
       "      <td>0.005528</td>\n",
       "      <td>0.000007</td>\n",
       "      <td>0.0</td>\n",
       "      <td>0.0</td>\n",
       "      <td>0.0</td>\n",
       "    </tr>\n",
       "  </tbody>\n",
       "</table>\n",
       "</div>"
      ],
      "text/plain": [
       "   Date  Hour  OffenseType      Beat   Premise  BlockRange  StreetName  Type  \\\n",
       "0   0.0   0.0          0.0  0.003119  0.033381    0.005528    0.000007   0.0   \n",
       "\n",
       "   Suffix  OffenseNum  \n",
       "0     0.0         0.0  "
      ]
     },
     "execution_count": 44,
     "metadata": {},
     "output_type": "execute_result"
    }
   ],
   "source": [
    "prop_na=pd.DataFrame(crimes.isnull().sum()/crimes.shape[0]).T\n",
    "prop_na"
   ]
  },
  {
   "cell_type": "markdown",
   "metadata": {},
   "source": [
    "### Fill NaN with 'UNK'\n",
    "Since columns with missing data are object type, we fill NaN with 'UNK'."
   ]
  },
  {
   "cell_type": "code",
   "execution_count": 45,
   "metadata": {},
   "outputs": [
    {
     "data": {
      "text/plain": [
       "Date           0\n",
       "Hour           0\n",
       "OffenseType    0\n",
       "Beat           0\n",
       "Premise        0\n",
       "BlockRange     0\n",
       "StreetName     0\n",
       "Type           0\n",
       "Suffix         0\n",
       "OffenseNum     0\n",
       "dtype: int64"
      ]
     },
     "execution_count": 45,
     "metadata": {},
     "output_type": "execute_result"
    }
   ],
   "source": [
    "crimes.fillna('UNK',axis=1,inplace=True)\n",
    "crimes.isnull().sum()"
   ]
  },
  {
   "cell_type": "markdown",
   "metadata": {},
   "source": [
    "## Clean data types"
   ]
  },
  {
   "cell_type": "code",
   "execution_count": 19,
   "metadata": {},
   "outputs": [
    {
     "data": {
      "text/plain": [
       "Date            object\n",
       "Hour            object\n",
       "OffenseType     object\n",
       "Beat            object\n",
       "Premise         object\n",
       "BlockRange      object\n",
       "StreetName      object\n",
       "Type            object\n",
       "Suffix          object\n",
       "OffenseNum     float64\n",
       "dtype: object"
      ]
     },
     "execution_count": 19,
     "metadata": {},
     "output_type": "execute_result"
    }
   ],
   "source": [
    "crimes.dtypes"
   ]
  },
  {
   "cell_type": "markdown",
   "metadata": {},
   "source": [
    "A short summary after setting the string columns:<br>\n",
    "1. Note that when 'Hour' contains \"'\", corresponding 'Beat' contains \"'\". So let's remove \"'\"\n",
    "2. Note that 'OffenseType' contains type '1'. This is ambiguous. Remove?\n",
    "3. Note that 'Premise' contains code or word. Need to map via dictionary!\n",
    "4. Note that 'BlockRange' contains '1.1103e+006-1.1104e+006' Yes, in sep17 file\n",
    "5. Note that 'OffenseNum' contains 33, 29, 17...really??? (seem so, related crime types: 'Aggravated Assault','Aggravated Assault ','Auto Theft','AutoTheft','Burglary','Theft') outliers?"
   ]
  },
  {
   "cell_type": "markdown",
   "metadata": {},
   "source": [
    "### Clean 'Date' column"
   ]
  },
  {
   "cell_type": "code",
   "execution_count": 46,
   "metadata": {},
   "outputs": [],
   "source": [
    "crimes.Date=pd.to_datetime(crimes.Date)"
   ]
  },
  {
   "cell_type": "code",
   "execution_count": 51,
   "metadata": {},
   "outputs": [
    {
     "data": {
      "text/plain": [
       "2010    136357\n",
       "2013    130200\n",
       "2012    127486\n",
       "2011    127168\n",
       "2016    122423\n",
       "2014    121451\n",
       "2015    120079\n",
       "2017    118581\n",
       "2009      1596\n",
       "2008       195\n",
       "2001       146\n",
       "2007       109\n",
       "2005        98\n",
       "2006        87\n",
       "2000        56\n",
       "Name: Date, dtype: int64"
      ]
     },
     "execution_count": 51,
     "metadata": {},
     "output_type": "execute_result"
    }
   ],
   "source": [
    "#crimes.Date.dt.year.unique()\n",
    "crimes.Date.dt.year.value_counts().head(15)"
   ]
  },
  {
   "cell_type": "code",
   "execution_count": 52,
   "metadata": {},
   "outputs": [
    {
     "data": {
      "image/png": "[encoded data removed]",
      "text/plain": [
       "<matplotlib.figure.Figure at 0x1250777f0>"
      ]
     },
     "metadata": {},
     "output_type": "display_data"
    }
   ],
   "source": [
    "import matplotlib.pyplot as plt\n",
    "crimes.Date.dt.year.value_counts()[:15].plot(kind='bar',logy=True,rot=60)#value_counts(normalize=True)\n",
    "plt.show()"
   ]
  },
  {
   "cell_type": "markdown",
   "metadata": {},
   "source": [
    "As shown in the previous graph, there are years outside the range of '2010'-'2017'. We keep data with years in the range only."
   ]
  },
  {
   "cell_type": "code",
   "execution_count": 53,
   "metadata": {},
   "outputs": [],
   "source": [
    "crimes=crimes[(crimes.Date>='2010')&(crimes.Date<'2018')]\n",
    "crimes.sort_values(by='Date',inplace=True) \n",
    "\n",
    "#crimes.insert(1,'Year',crimes['Date'].dt.year.astype('category'))\n",
    "#crimes.insert(2,'Month',crimes['Date'].dt.month.astype('category'))\n",
    "#crimes.insert(3,'Weekday',crimes['Date'].dt.weekday_name.astype('category'))"
   ]
  },
  {
   "cell_type": "markdown",
   "metadata": {},
   "source": [
    "### Clean 'Hour' column\n",
    "We find that some Hour has a leading \"'\" and some has trailing \".0\". We remove them and convert to categorical type. We unify '0' with '24' as '0'."
   ]
  },
  {
   "cell_type": "code",
   "execution_count": 25,
   "metadata": {},
   "outputs": [],
   "source": [
    "# Count types of Hour\n",
    "#set(crimes.Hour)"
   ]
  },
  {
   "cell_type": "code",
   "execution_count": 54,
   "metadata": {},
   "outputs": [
    {
     "data": {
      "text/plain": [
       "24"
      ]
     },
     "execution_count": 54,
     "metadata": {},
     "output_type": "execute_result"
    }
   ],
   "source": [
    "# Remove \"'\" and \".0\"\n",
    "crimes.Hour=crimes.Hour.str.translate(str.maketrans({\"'\":None})).astype(float).astype(int).astype('category')#.astype(int)\n",
    "\n",
    "# Replace 24 with 0\n",
    "crimes.Hour.replace(24,0,inplace=True)\n",
    "\n",
    "len(set(crimes.Hour))\n",
    "#set(crimes.Hour)"
   ]
  },
  {
   "cell_type": "markdown",
   "metadata": {},
   "source": [
    "### Clean and recode 'OffenseType' column\n",
    "We need to move trailing whitespaces and we will move spaces between words."
   ]
  },
  {
   "cell_type": "code",
   "execution_count": 55,
   "metadata": {},
   "outputs": [
    {
     "data": {
      "text/plain": [
       "{'1',\n",
       " 'Aggravated Assault',\n",
       " 'Aggravated Assault       ',\n",
       " 'Auto Theft',\n",
       " 'AutoTheft',\n",
       " 'AutoTheft                ',\n",
       " 'Burglary',\n",
       " 'Burglary                 ',\n",
       " 'Murder',\n",
       " 'Murder                   ',\n",
       " 'Rape',\n",
       " 'Rape                     ',\n",
       " 'Robbery',\n",
       " 'Robbery                  ',\n",
       " 'Theft',\n",
       " 'Theft                    '}"
      ]
     },
     "execution_count": 55,
     "metadata": {},
     "output_type": "execute_result"
    }
   ],
   "source": [
    "set(crimes.OffenseType)"
   ]
  },
  {
   "cell_type": "code",
   "execution_count": 56,
   "metadata": {},
   "outputs": [
    {
     "data": {
      "text/plain": [
       "Theft                0.550739\n",
       "Burglary             0.181179\n",
       "AutoTheft            0.100354\n",
       "AggravatedAssault    0.082556\n",
       "Robbery              0.076426\n",
       "Rape                 0.006835\n",
       "Murder               0.001896\n",
       "1                    0.000014\n",
       "Name: OffenseType, dtype: float64"
      ]
     },
     "execution_count": 56,
     "metadata": {},
     "output_type": "execute_result"
    }
   ],
   "source": [
    "# Clean the offense types by removing trailing whitespaces and spaces inbetween words\n",
    "crimes.OffenseType=crimes.OffenseType.str.strip().replace('\\s+','',regex=True)#.astype('category')\n",
    "crimes.OffenseType.value_counts(normalize=True)"
   ]
  },
  {
   "cell_type": "markdown",
   "metadata": {},
   "source": [
    "There is an unknow type of crimes '1', which has only a small portion 0.0013%. We just remove it."
   ]
  },
  {
   "cell_type": "code",
   "execution_count": 57,
   "metadata": {},
   "outputs": [
    {
     "data": {
      "text/plain": [
       "OffenseType\n",
       "Theft                552802\n",
       "Burglary             181858\n",
       "AutoTheft            100730\n",
       "AggravatedAssault     82865\n",
       "Robbery               76712\n",
       "Rape                   6861\n",
       "Murder                 1903\n",
       "dtype: int64"
      ]
     },
     "execution_count": 57,
     "metadata": {},
     "output_type": "execute_result"
    }
   ],
   "source": [
    "# Remove offensetype='1'\n",
    "crimes=crimes[crimes.OffenseType!='1']\n",
    "crimes.groupby('OffenseType').size().sort_values(ascending=False)"
   ]
  },
  {
   "cell_type": "markdown",
   "metadata": {},
   "source": [
    "### Clean 'Beat'\n"
   ]
  },
  {
   "cell_type": "code",
   "execution_count": 58,
   "metadata": {},
   "outputs": [
    {
     "data": {
      "text/plain": [
       "0.003176149785151599"
      ]
     },
     "execution_count": 58,
     "metadata": {},
     "output_type": "execute_result"
    }
   ],
   "source": [
    "# Remove \"'\" \n",
    "crimes.Beat=crimes.Beat.str.translate(str.maketrans({\"'\":None}))\n",
    "# Remove whitespaces\n",
    "crimes.Beat=crimes.Beat.str.strip()\n",
    "#set(crimes.Beat)\n",
    "crimes.Beat.value_counts(normalize=True)['UNK']"
   ]
  },
  {
   "cell_type": "markdown",
   "metadata": {},
   "source": [
    "The beat 'UNK' representing missing values takes a portion of 0.032%. Shall we remove all rows containing it or keep it???"
   ]
  },
  {
   "cell_type": "markdown",
   "metadata": {},
   "source": [
    "### Clean 'Premise' column\n",
    "\n",
    "The 'Premise' column is a mixture of premise type and premise description. The plan is to convert description ino code according to the (HPD table)[http://www.houstontx.gov/police/cs/beatpages/premise.htm#]. However both the table and the 'Premise' column are messy, making looking up a dictionary very difficult. Since the premise data is expected to play an important role in predicting crime types, we wish to keep as much information as possible. We need a better plan. \n",
    "\n",
    "First, translate the HPD Premise table into a reduced dictionary by keeping only the first two digits in the premise type. This largely reduces the variaties of premise types (from 126 to 25).  This might lose some information but the reason to do this is that if we keep lots of types, then more data are required to train and it's hard for the model to learn. \n",
    "\n",
    "Then we convert descriptions in 'Premise' column by looking up the reduced dictionary if it finds a match otherwise keep the description as is. Certainly there are descriptions not translated, we can do it manually by selecing dominant ones according to its frequencies."
   ]
  },
  {
   "cell_type": "code",
   "execution_count": 59,
   "metadata": {
    "collapsed": true
   },
   "outputs": [
    {
     "data": {
      "text/plain": [
       "{'---',\n",
       " '01a',\n",
       " '01b',\n",
       " '01k',\n",
       " '01p',\n",
       " '01r',\n",
       " '01t',\n",
       " '02b',\n",
       " '02c',\n",
       " '02s',\n",
       " '02v',\n",
       " '03b',\n",
       " '03s',\n",
       " '040',\n",
       " '04v',\n",
       " '05a',\n",
       " '05b',\n",
       " '05c',\n",
       " '05d',\n",
       " '05e',\n",
       " '05f',\n",
       " '05g',\n",
       " '05h',\n",
       " '05l',\n",
       " '05m',\n",
       " '05n',\n",
       " '05o',\n",
       " '05p',\n",
       " '05q',\n",
       " '05r',\n",
       " '05s',\n",
       " '05t',\n",
       " '05u',\n",
       " '05v',\n",
       " '05w',\n",
       " '05x',\n",
       " '05y',\n",
       " '05z',\n",
       " '06',\n",
       " '060',\n",
       " '070',\n",
       " '080',\n",
       " '09d',\n",
       " '09h',\n",
       " '09p',\n",
       " '09r',\n",
       " '09v',\n",
       " '100',\n",
       " '11c',\n",
       " '11f',\n",
       " '11g',\n",
       " '11l',\n",
       " '11p',\n",
       " '11r',\n",
       " '11s',\n",
       " '11v',\n",
       " '120',\n",
       " '12v',\n",
       " '13a',\n",
       " '13b',\n",
       " '13c',\n",
       " '13h',\n",
       " '13r',\n",
       " '13s',\n",
       " '13t',\n",
       " '140',\n",
       " '14v',\n",
       " '150',\n",
       " '160',\n",
       " '170',\n",
       " '18a',\n",
       " '18b',\n",
       " '18c',\n",
       " '18d',\n",
       " '18g',\n",
       " '18h',\n",
       " '18l',\n",
       " '18m',\n",
       " '18n',\n",
       " '18o',\n",
       " '18p',\n",
       " '18r',\n",
       " '18s',\n",
       " '18t',\n",
       " '18u',\n",
       " '18w',\n",
       " '190',\n",
       " '19v',\n",
       " '20a',\n",
       " '20c',\n",
       " '20d',\n",
       " '20g',\n",
       " '20h',\n",
       " '20l',\n",
       " '20m',\n",
       " '20n',\n",
       " '20p',\n",
       " '20r',\n",
       " '20v',\n",
       " '20w',\n",
       " '210',\n",
       " '21v',\n",
       " '22c',\n",
       " '22d',\n",
       " '22e',\n",
       " '22h',\n",
       " '22m',\n",
       " '22p',\n",
       " '22u',\n",
       " '22v',\n",
       " '23c',\n",
       " '23s',\n",
       " '240',\n",
       " '24a',\n",
       " '24b',\n",
       " '24c',\n",
       " '24e',\n",
       " '24f',\n",
       " '24g',\n",
       " '24j',\n",
       " '24m',\n",
       " '24p',\n",
       " '24s',\n",
       " '24t',\n",
       " '24v',\n",
       " '250',\n",
       " '25r',\n",
       " '25v',\n",
       " 'adult book store/newsstand',\n",
       " 'adult novelty store',\n",
       " 'adult theater/arcade',\n",
       " 'airport terminal',\n",
       " 'alley',\n",
       " 'amusement park, bowling alley, skate rink',\n",
       " 'apartment',\n",
       " 'apartment laundry',\n",
       " 'apartment parking lot',\n",
       " 'apartment rental office',\n",
       " 'auto repair',\n",
       " 'bank',\n",
       " 'bank/savings institution parking lot',\n",
       " 'bar/night club',\n",
       " 'bar/night club parking lot',\n",
       " 'barber and beauty shops',\n",
       " 'body shop',\n",
       " 'book, record, stationary, office supplies',\n",
       " 'bus station',\n",
       " 'bus stop',\n",
       " 'cantina',\n",
       " 'car wash',\n",
       " 'check cashing places',\n",
       " 'church, synagogue,/temple',\n",
       " 'church, synagogue,/temple parking lot',\n",
       " 'clothing store',\n",
       " 'commercial building',\n",
       " 'commercial parking lot/garage',\n",
       " 'commercial/training school',\n",
       " 'condominium',\n",
       " 'construction site',\n",
       " 'contra-flow, managed,/hov lanes',\n",
       " 'convenience store',\n",
       " 'convenience store parking lot',\n",
       " 'convention center/exhibit halls',\n",
       " 'credit union',\n",
       " 'daycare, child care,/kindergarten',\n",
       " 'department/discount store',\n",
       " 'driveway',\n",
       " 'drug store/medical supply',\n",
       " 'electronics store, electrical supplies',\n",
       " 'elementary school',\n",
       " 'factory, manufacturing,/industrial',\n",
       " 'field, woods, forest, park',\n",
       " 'fire station',\n",
       " 'freeway service road',\n",
       " 'furniture, appliances, radios, tv store',\n",
       " 'garage/carport',\n",
       " 'garden supply, nursery,/florist',\n",
       " 'government/public building',\n",
       " 'grocery store/supermarket',\n",
       " 'grocery store/supermarket parking lot',\n",
       " 'gym, recreat, club house, indoor pool',\n",
       " 'gym, recreat, club house, indoor pool, spa',\n",
       " 'high rise',\n",
       " 'high school',\n",
       " 'highway/freeway',\n",
       " 'hospital',\n",
       " 'hospital parking lot',\n",
       " 'hotel, motel, inn, etc.',\n",
       " 'hotel/motel parking lot',\n",
       " 'illicit massage parlor/spa',\n",
       " 'jail/prison',\n",
       " 'jewelry stores',\n",
       " 'lake, pond, waterway, bayou, river',\n",
       " 'laundry, dry cleaners, washaterias',\n",
       " 'laundry/dry cleaners parking lot',\n",
       " 'libraries, museums',\n",
       " 'light rail (metro rail) vehicle',\n",
       " 'light rail platform',\n",
       " 'liquor store',\n",
       " 'liquor store parking lot',\n",
       " 'maintenance/building services',\n",
       " 'mall common area',\n",
       " 'mall parking lot',\n",
       " 'marine vehicle sales, boats, sailboats',\n",
       " 'middle school',\n",
       " 'miscellaneous business (non-specific)',\n",
       " 'mobile home',\n",
       " 'modeling studio',\n",
       " 'multi-plex home (duplex,triplex etc.)',\n",
       " 'n',\n",
       " 'not listed',\n",
       " 'nursing home',\n",
       " 'office building',\n",
       " 'other parking lot',\n",
       " 'other, unknown,/not listed',\n",
       " 'package facility (fedex,ups,dhl)',\n",
       " 'park and ride terminal',\n",
       " 'parks and recreation, zoo, swimming pool',\n",
       " 'pawn, resale shop,/flea market',\n",
       " \"physician, doctor, dentist's office\",\n",
       " 'police station',\n",
       " 'pool hall/game room',\n",
       " 'private school',\n",
       " 'railroad track/right of way',\n",
       " 'rehabilitation center',\n",
       " 'rental storage facility',\n",
       " 'res',\n",
       " 'residence/house',\n",
       " 'restaurant/cafeteria',\n",
       " 'restaurant/cafeteria parking lot',\n",
       " 'road, street,/sidewalk',\n",
       " 'savings and loan institutions',\n",
       " 'service/gas station',\n",
       " 'sexually oriented business parking lot',\n",
       " 'sexually oriented club',\n",
       " 'social services/public charities',\n",
       " 'specialty store (non-specific)',\n",
       " 'sporting goods/gun shops',\n",
       " 'stadium, sports arena, race track',\n",
       " 'strip business center parking lot',\n",
       " 'theatres, dinner theaters, auditoriums',\n",
       " 'tollway',\n",
       " 'toys, arts craft,musical, bike,pet stores',\n",
       " 'train (not metro) terminal',\n",
       " 'university/college',\n",
       " 'unk',\n",
       " 'utility company, electric, gas, water',\n",
       " 'vacant bank',\n",
       " 'vacant building (commercial)',\n",
       " 'vacant church, synagogue,/temple',\n",
       " 'vacant government/public building',\n",
       " 'vacant grocery store/supermarket',\n",
       " 'vacant hospital',\n",
       " 'vacant hotel, motel, etc.',\n",
       " 'vacant industrial/manufacturing blding',\n",
       " 'vacant jail/prison',\n",
       " 'vacant other out build/monument/underconst',\n",
       " 'vacant other residential (apartment,dorms)',\n",
       " 'vacant restaurant',\n",
       " 'vacant school/college/university',\n",
       " 'vacant single occ resd(house,townhs,dplex)',\n",
       " 'vacant storage fac (barn,garage,warehouse)',\n",
       " 'vehicle/auto sales/lease/auto parts store',\n",
       " 'video rental & sales',\n",
       " 'warehouse'}"
      ]
     },
     "execution_count": 59,
     "metadata": {},
     "output_type": "execute_result"
    }
   ],
   "source": [
    "#set(crimes.Premise)\n",
    "# Remove whitespaces\n",
    "crimes.Premise=crimes.Premise.str.strip().str.lower().str.replace(' or ','/')\n",
    "set(crimes.Premise)"
   ]
  },
  {
   "cell_type": "code",
   "execution_count": 60,
   "metadata": {},
   "outputs": [],
   "source": [
    "# Download the Premise table from HPD\n",
    "url='http://www.houstontx.gov/police/cs/beatpages/premise.htm#'\n",
    "premise_hpd=pd.read_html(url,header=0)[0]\n",
    "\n",
    "# Build a reduced dictionary: {'Premise Description': 'Premise Type'}\n",
    "premise_dict=dict(zip(premise_hpd['Premise Description'].str.lower().str.replace('&','and'),\n",
    "                      premise_hpd['Premise Type'].apply(lambda x: x[0:2])))\n",
    "\n",
    "\n",
    "# First translate the parts that can be found in the premise_hpd dictionary\n",
    "crimes.Premise=crimes.Premise.apply(lambda x: premise_dict[x] if x in premise_dict else x )"
   ]
  },
  {
   "cell_type": "code",
   "execution_count": 62,
   "metadata": {},
   "outputs": [
    {
     "data": {
      "image/png": "[encoded data removed]",
      "text/plain": [
       "<matplotlib.figure.Figure at 0x128945b38>"
      ]
     },
     "metadata": {},
     "output_type": "display_data"
    }
   ],
   "source": [
    "# Plot proportion of those not the form of two digits\n",
    "mask=crimes.Premise.str.contains('\\d{2}')\n",
    "crimes[~mask].Premise.value_counts(dropna=False,normalize=True).plot()\n",
    "plt.show()"
   ]
  },
  {
   "cell_type": "code",
   "execution_count": 63,
   "metadata": {},
   "outputs": [
    {
     "data": {
      "text/plain": [
       "56"
      ]
     },
     "execution_count": 63,
     "metadata": {},
     "output_type": "execute_result"
    }
   ],
   "source": [
    "len(set(crimes[~mask].Premise))#.value_counts()"
   ]
  },
  {
   "cell_type": "code",
   "execution_count": 64,
   "metadata": {},
   "outputs": [
    {
     "data": {
      "text/plain": [
       "road, street,/sidewalk                        0.305602\n",
       "unk                                           0.255469\n",
       "miscellaneous business (non-specific)         0.081380\n",
       "grocery store/supermarket                     0.060397\n",
       "other, unknown,/not listed                    0.054759\n",
       "grocery store/supermarket parking lot         0.040358\n",
       "hotel, motel, inn, etc.                       0.031612\n",
       "parks and recreation, zoo, swimming pool      0.025402\n",
       "---                                           0.016869\n",
       "vacant single occ resd(house,townhs,dplex)    0.011794\n",
       "gym, recreat, club house, indoor pool, spa    0.010827\n",
       "church, synagogue,/temple                     0.009013\n",
       "electronics store, electrical supplies        0.008114\n",
       "church, synagogue,/temple parking lot         0.007893\n",
       "field, woods, forest, park                    0.007634\n",
       "apartment rental office                       0.007086\n",
       "multi-plex home (duplex,triplex etc.)         0.006560\n",
       "pawn, resale shop,/flea market                0.006438\n",
       "bank/savings institution parking lot          0.005935\n",
       "laundry, dry cleaners, washaterias            0.005844\n",
       "physician, doctor, dentist's office           0.004861\n",
       "stadium, sports arena, race track             0.003421\n",
       "gym, recreat, club house, indoor pool         0.003261\n",
       "factory, manufacturing,/industrial            0.003200\n",
       "vacant other residential (apartment,dorms)    0.003200\n",
       "theatres, dinner theaters, auditoriums        0.002941\n",
       "vacant storage fac (barn,garage,warehouse)    0.002598\n",
       "daycare, child care,/kindergarten             0.002286\n",
       "amusement park, bowling alley, skate rink     0.001928\n",
       "furniture, appliances, radios, tv store       0.001722\n",
       "Name: Premise, dtype: float64"
      ]
     },
     "execution_count": 64,
     "metadata": {},
     "output_type": "execute_result"
    }
   ],
   "source": [
    "crimes[~mask].Premise.value_counts(normalize=True)[:30]"
   ]
  },
  {
   "cell_type": "markdown",
   "metadata": {},
   "source": [
    "HPD table has code '250' for unknown premise. Shall we distinguish it from missing premise?"
   ]
  },
  {
   "cell_type": "code",
   "execution_count": 65,
   "metadata": {},
   "outputs": [
    {
     "data": {
      "text/plain": [
       "{'01',\n",
       " '02',\n",
       " '03',\n",
       " '04',\n",
       " '05',\n",
       " '06',\n",
       " '07',\n",
       " '08',\n",
       " '09',\n",
       " '10',\n",
       " '11',\n",
       " '12',\n",
       " '13',\n",
       " '14',\n",
       " '15',\n",
       " '16',\n",
       " '17',\n",
       " '18',\n",
       " '19',\n",
       " '20',\n",
       " '21',\n",
       " '22',\n",
       " '23',\n",
       " '24',\n",
       " '25'}"
      ]
     },
     "execution_count": 65,
     "metadata": {},
     "output_type": "execute_result"
    }
   ],
   "source": [
    "replacements = {\n",
    "   'road, street,/sidewalk':'13',\n",
    "   'miscellaneous business (non-specific)':'05',\n",
    "   'grocery store/supermarket':'12',\n",
    "   'grocery store/supermarket parking lot':'18',\n",
    "   'hotel, motel, inn, etc.':'14',\n",
    "   'parks and recreation, zoo, swimming pool':'11',\n",
    "   'vacant single occ resd(house,townhs,dplex)':'20',\n",
    "   'gym, recreat, club house, indoor pool, spa':'05',\n",
    "   'church, synagogue,/temple':'04',\n",
    "    'electronics store, electrical supplies':'24',\n",
    "    'church, synagogue,/temple parking lot':'18',\n",
    "    'field, woods, forest, park':'10' ,\n",
    "    'apartment rental office':'05',\n",
    "    'multi-plex home (duplex,triplex etc.)':'20',\n",
    "    'pawn, resale shop,/flea market':'24',\n",
    "    'bank/savings institution parking lot':'18',\n",
    "    'laundry, dry cleaners, washaterias':'05',\n",
    "    \"physician, doctor, dentist's office\":'09',\n",
    "    'stadium, sports arena, race track':'05',\n",
    "    'gym, recreat, club house, indoor pool':'05',\n",
    "    'factory, manufacturing,/industrial': '05',     \n",
    "    'vacant other residential (apartment,dorms)':'20',\n",
    "    'theatres, dinner theaters, auditoriums': '05', \n",
    "    'vacant storage fac (barn,garage,warehouse)' : '19',\n",
    "    'daycare, child care,/kindergarten': '22',\n",
    "    'amusement park, bowling alley, skate rink': '05',\n",
    "    'furniture, appliances, radios, tv store': '24'\n",
    "    \n",
    "}\n",
    "crimes.Premise.replace(replacements, inplace=True)\n",
    "\n",
    "\n",
    "# First cut and keep only the first two character\n",
    "crimes.Premise=crimes.Premise.apply(lambda x: x[0:2])\n",
    "\n",
    "# Define a function to replace nondigit with '25'\n",
    "def func(x):\n",
    "    if not str(x).isdigit():\n",
    "        #res='UNK'\n",
    "        res='25'#UNK'\n",
    "    else:\n",
    "        res=x\n",
    "    return res\n",
    "\n",
    "#25\tOTHER/UNKNOWN!!!!\n",
    "\n",
    "crimes.Premise=crimes.Premise.apply(lambda x: func(x))\n",
    "\n",
    "\n",
    "set(crimes.Premise)"
   ]
  },
  {
   "cell_type": "markdown",
   "metadata": {},
   "source": [
    "### Clean columns: 'Type', 'Suffix','OffenseNum'"
   ]
  },
  {
   "cell_type": "code",
   "execution_count": 66,
   "metadata": {},
   "outputs": [],
   "source": [
    "crimes.Type=crimes.Type.str.strip()\n",
    "crimes.Suffix=crimes.Suffix.astype('category')\n",
    "crimes.OffenseNum=crimes.OffenseNum.astype(int)"
   ]
  },
  {
   "cell_type": "markdown",
   "metadata": {},
   "source": [
    "## Drop duplicates"
   ]
  },
  {
   "cell_type": "code",
   "execution_count": 67,
   "metadata": {},
   "outputs": [],
   "source": [
    "#crimes.duplicated().sum()\n",
    "#crimes[crimes.duplicated(keep=False)]\n",
    "crimes.drop_duplicates(keep='first',inplace=True)"
   ]
  },
  {
   "cell_type": "markdown",
   "metadata": {},
   "source": [
    "## Reset index"
   ]
  },
  {
   "cell_type": "code",
   "execution_count": 68,
   "metadata": {},
   "outputs": [],
   "source": [
    "crimes.reset_index(drop=True,inplace=True)"
   ]
  },
  {
   "cell_type": "code",
   "execution_count": 69,
   "metadata": {},
   "outputs": [
    {
     "name": "stdout",
     "output_type": "stream",
     "text": [
      "<class 'pandas.core.frame.DataFrame'>\n",
      "RangeIndex: 999521 entries, 0 to 999520\n",
      "Data columns (total 10 columns):\n",
      "Date           999521 non-null datetime64[ns]\n",
      "Hour           999521 non-null category\n",
      "OffenseType    999521 non-null object\n",
      "Beat           999521 non-null object\n",
      "Premise        999521 non-null object\n",
      "BlockRange     999521 non-null object\n",
      "StreetName     999521 non-null object\n",
      "Type           999521 non-null object\n",
      "Suffix         999521 non-null category\n",
      "OffenseNum     999521 non-null int64\n",
      "dtypes: category(2), datetime64[ns](1), int64(1), object(6)\n",
      "memory usage: 62.9+ MB\n"
     ]
    }
   ],
   "source": [
    "crimes.info()"
   ]
  },
  {
   "cell_type": "markdown",
   "metadata": {},
   "source": [
    "## Save cleaned crimes into a csv file"
   ]
  },
  {
   "cell_type": "code",
   "execution_count": 70,
   "metadata": {},
   "outputs": [],
   "source": [
    "crimes.to_csv('crimes_clean.csv',index=False)"
   ]
  },
  {
   "cell_type": "code",
   "execution_count": 2,
   "metadata": {},
   "outputs": [
    {
     "data": {
      "text/html": [
       "<div>\n",
       "<style scoped>\n",
       "    .dataframe tbody tr th:only-of-type {\n",
       "        vertical-align: middle;\n",
       "    }\n",
       "\n",
       "    .dataframe tbody tr th {\n",
       "        vertical-align: top;\n",
       "    }\n",
       "\n",
       "    .dataframe thead th {\n",
       "        text-align: right;\n",
       "    }\n",
       "</style>\n",
       "<table border=\"1\" class=\"dataframe\">\n",
       "  <thead>\n",
       "    <tr style=\"text-align: right;\">\n",
       "      <th></th>\n",
       "      <th>Date</th>\n",
       "      <th>Hour</th>\n",
       "      <th>OffenseType</th>\n",
       "      <th>Beat</th>\n",
       "      <th>Premise</th>\n",
       "      <th>BlockRange</th>\n",
       "      <th>StreetName</th>\n",
       "      <th>Type</th>\n",
       "      <th>Suffix</th>\n",
       "      <th>OffenseNum</th>\n",
       "    </tr>\n",
       "  </thead>\n",
       "  <tbody>\n",
       "    <tr>\n",
       "      <th>0</th>\n",
       "      <td>2010-01-01</td>\n",
       "      <td>2</td>\n",
       "      <td>Theft</td>\n",
       "      <td>7C20</td>\n",
       "      <td>13</td>\n",
       "      <td>3100-3199</td>\n",
       "      <td>COLLINGSWORTH</td>\n",
       "      <td>-</td>\n",
       "      <td>-</td>\n",
       "      <td>1</td>\n",
       "    </tr>\n",
       "    <tr>\n",
       "      <th>1</th>\n",
       "      <td>2010-01-01</td>\n",
       "      <td>2</td>\n",
       "      <td>Robbery</td>\n",
       "      <td>20G70</td>\n",
       "      <td>18</td>\n",
       "      <td>1900-1999</td>\n",
       "      <td>WESTMEAD</td>\n",
       "      <td>DR</td>\n",
       "      <td>-</td>\n",
       "      <td>1</td>\n",
       "    </tr>\n",
       "    <tr>\n",
       "      <th>2</th>\n",
       "      <td>2010-01-01</td>\n",
       "      <td>9</td>\n",
       "      <td>Robbery</td>\n",
       "      <td>4F30</td>\n",
       "      <td>13</td>\n",
       "      <td>1700-1799</td>\n",
       "      <td>BRITTMOORE</td>\n",
       "      <td>RD</td>\n",
       "      <td>-</td>\n",
       "      <td>1</td>\n",
       "    </tr>\n",
       "    <tr>\n",
       "      <th>3</th>\n",
       "      <td>2010-01-01</td>\n",
       "      <td>10</td>\n",
       "      <td>Robbery</td>\n",
       "      <td>20G10</td>\n",
       "      <td>18</td>\n",
       "      <td>2900-2999</td>\n",
       "      <td>WEST SAM HOUSTON</td>\n",
       "      <td>PKWY</td>\n",
       "      <td>S</td>\n",
       "      <td>1</td>\n",
       "    </tr>\n",
       "    <tr>\n",
       "      <th>4</th>\n",
       "      <td>2010-01-01</td>\n",
       "      <td>14</td>\n",
       "      <td>Robbery</td>\n",
       "      <td>20G80</td>\n",
       "      <td>8</td>\n",
       "      <td>1000-1099</td>\n",
       "      <td>WEST OAKS MALL</td>\n",
       "      <td>-</td>\n",
       "      <td>-</td>\n",
       "      <td>1</td>\n",
       "    </tr>\n",
       "  </tbody>\n",
       "</table>\n",
       "</div>"
      ],
      "text/plain": [
       "         Date  Hour OffenseType   Beat  Premise BlockRange        StreetName  \\\n",
       "0  2010-01-01     2       Theft   7C20       13  3100-3199     COLLINGSWORTH   \n",
       "1  2010-01-01     2     Robbery  20G70       18  1900-1999          WESTMEAD   \n",
       "2  2010-01-01     9     Robbery   4F30       13  1700-1799        BRITTMOORE   \n",
       "3  2010-01-01    10     Robbery  20G10       18  2900-2999  WEST SAM HOUSTON   \n",
       "4  2010-01-01    14     Robbery  20G80        8  1000-1099    WEST OAKS MALL   \n",
       "\n",
       "   Type Suffix  OffenseNum  \n",
       "0     -      -           1  \n",
       "1    DR      -           1  \n",
       "2    RD      -           1  \n",
       "3  PKWY      S           1  \n",
       "4     -      -           1  "
      ]
     },
     "execution_count": 2,
     "metadata": {},
     "output_type": "execute_result"
    }
   ],
   "source": [
    "import pandas as pd\n",
    "crimes_clean=pd.read_csv('crimes_clean.csv')\n",
    "crimes_clean.head()"
   ]
  },
  {
   "cell_type": "markdown",
   "metadata": {},
   "source": [
    "## Append: adding columns 'Address', 'Latitude' and 'Longitude'\n",
    "\n",
    "In this section, we add the column 'Address' by combining the 'StreetName' and 'Type' columns and then geocode the 'Address' columns to get corresponding latitudes and longtitudes of the addresses. This will help us to visualize the geographical visualiztion of the crime patterns/distributions and make better use of address information in machine learning. "
   ]
  },
  {
   "cell_type": "markdown",
   "metadata": {},
   "source": [
    "### Add columns Address"
   ]
  },
  {
   "cell_type": "code",
   "execution_count": 3,
   "metadata": {},
   "outputs": [
    {
     "data": {
      "text/html": [
       "<div>\n",
       "<style scoped>\n",
       "    .dataframe tbody tr th:only-of-type {\n",
       "        vertical-align: middle;\n",
       "    }\n",
       "\n",
       "    .dataframe tbody tr th {\n",
       "        vertical-align: top;\n",
       "    }\n",
       "\n",
       "    .dataframe thead th {\n",
       "        text-align: right;\n",
       "    }\n",
       "</style>\n",
       "<table border=\"1\" class=\"dataframe\">\n",
       "  <thead>\n",
       "    <tr style=\"text-align: right;\">\n",
       "      <th></th>\n",
       "      <th>Date</th>\n",
       "      <th>Hour</th>\n",
       "      <th>OffenseType</th>\n",
       "      <th>Beat</th>\n",
       "      <th>Premise</th>\n",
       "      <th>BlockRange</th>\n",
       "      <th>StreetName</th>\n",
       "      <th>Type</th>\n",
       "      <th>Suffix</th>\n",
       "      <th>OffenseNum</th>\n",
       "      <th>Address</th>\n",
       "    </tr>\n",
       "  </thead>\n",
       "  <tbody>\n",
       "    <tr>\n",
       "      <th>0</th>\n",
       "      <td>2010-01-01</td>\n",
       "      <td>2</td>\n",
       "      <td>Theft</td>\n",
       "      <td>7C20</td>\n",
       "      <td>13</td>\n",
       "      <td>3100-3199</td>\n",
       "      <td>COLLINGSWORTH</td>\n",
       "      <td>-</td>\n",
       "      <td>-</td>\n",
       "      <td>1</td>\n",
       "      <td>COLLINGSWORTH, -</td>\n",
       "    </tr>\n",
       "    <tr>\n",
       "      <th>1</th>\n",
       "      <td>2010-01-01</td>\n",
       "      <td>2</td>\n",
       "      <td>Robbery</td>\n",
       "      <td>20G70</td>\n",
       "      <td>18</td>\n",
       "      <td>1900-1999</td>\n",
       "      <td>WESTMEAD</td>\n",
       "      <td>DR</td>\n",
       "      <td>-</td>\n",
       "      <td>1</td>\n",
       "      <td>WESTMEAD, DR</td>\n",
       "    </tr>\n",
       "    <tr>\n",
       "      <th>2</th>\n",
       "      <td>2010-01-01</td>\n",
       "      <td>9</td>\n",
       "      <td>Robbery</td>\n",
       "      <td>4F30</td>\n",
       "      <td>13</td>\n",
       "      <td>1700-1799</td>\n",
       "      <td>BRITTMOORE</td>\n",
       "      <td>RD</td>\n",
       "      <td>-</td>\n",
       "      <td>1</td>\n",
       "      <td>BRITTMOORE, RD</td>\n",
       "    </tr>\n",
       "    <tr>\n",
       "      <th>3</th>\n",
       "      <td>2010-01-01</td>\n",
       "      <td>10</td>\n",
       "      <td>Robbery</td>\n",
       "      <td>20G10</td>\n",
       "      <td>18</td>\n",
       "      <td>2900-2999</td>\n",
       "      <td>WEST SAM HOUSTON</td>\n",
       "      <td>PKWY</td>\n",
       "      <td>S</td>\n",
       "      <td>1</td>\n",
       "      <td>WEST SAM HOUSTON, PKWY</td>\n",
       "    </tr>\n",
       "    <tr>\n",
       "      <th>4</th>\n",
       "      <td>2010-01-01</td>\n",
       "      <td>14</td>\n",
       "      <td>Robbery</td>\n",
       "      <td>20G80</td>\n",
       "      <td>8</td>\n",
       "      <td>1000-1099</td>\n",
       "      <td>WEST OAKS MALL</td>\n",
       "      <td>-</td>\n",
       "      <td>-</td>\n",
       "      <td>1</td>\n",
       "      <td>WEST OAKS MALL, -</td>\n",
       "    </tr>\n",
       "  </tbody>\n",
       "</table>\n",
       "</div>"
      ],
      "text/plain": [
       "         Date  Hour OffenseType   Beat  Premise BlockRange        StreetName  \\\n",
       "0  2010-01-01     2       Theft   7C20       13  3100-3199     COLLINGSWORTH   \n",
       "1  2010-01-01     2     Robbery  20G70       18  1900-1999          WESTMEAD   \n",
       "2  2010-01-01     9     Robbery   4F30       13  1700-1799        BRITTMOORE   \n",
       "3  2010-01-01    10     Robbery  20G10       18  2900-2999  WEST SAM HOUSTON   \n",
       "4  2010-01-01    14     Robbery  20G80        8  1000-1099    WEST OAKS MALL   \n",
       "\n",
       "   Type Suffix  OffenseNum                 Address  \n",
       "0     -      -           1        COLLINGSWORTH, -  \n",
       "1    DR      -           1            WESTMEAD, DR  \n",
       "2    RD      -           1          BRITTMOORE, RD  \n",
       "3  PKWY      S           1  WEST SAM HOUSTON, PKWY  \n",
       "4     -      -           1       WEST OAKS MALL, -  "
      ]
     },
     "execution_count": 3,
     "metadata": {},
     "output_type": "execute_result"
    }
   ],
   "source": [
    "crimes_clean['Address']=crimes_clean['StreetName']+', '+crimes_clean['Type']\n",
    "crimes_clean.head()"
   ]
  },
  {
   "cell_type": "markdown",
   "metadata": {},
   "source": [
    "### Add column: Latitude, Longitude\n",
    "\n",
    "We use the geocoders in geopy but receive the error 'GeocoderServiceError: HTTP Error 429: Too Many Requests'. How to solve this problem?"
   ]
  },
  {
   "cell_type": "code",
   "execution_count": 4,
   "metadata": {},
   "outputs": [],
   "source": [
    "from geopy.geocoders import Nominatim\n",
    "nom=Nominatim()\n",
    "#crimes_clean['Coordinate']=crimes_clean['Address'].apply(nom.geocode)#slow\n",
    "addr=crimes_clean['Address'].unique()\n",
    "#addr_coor_dict=dict(zip(addr, pd.Series(addr).apply(nom.geocode).apply(lambda x: (x.latitude, x.longitude)))\n",
    "#crimes_clean['Coordinate']=crimes_clean['Address'].map(addr_coor_dict)"
   ]
  },
  {
   "cell_type": "code",
   "execution_count": 5,
   "metadata": {},
   "outputs": [],
   "source": [
    "# d_lat=dict(zip(addr, pd.Series(addr).apply(nom.geocode).apply(lambda x: x.latitude if x!=None else None)))\n",
    "# crimes_clean['Latitude']=crimes_clean['Address'].map(d_lat)\n",
    "\n",
    "# d_lon=dict(zip(addr, pd.Series(addr).apply(nom.geocode).apply(lambda x: x.longitude if x!=None else None))) \n",
    "# crimes_clean['Longitude']=crimes_clean['Address'].map(d_lon)\n",
    "\n",
    "# HTTPERROR"
   ]
  },
  {
   "cell_type": "code",
   "execution_count": null,
   "metadata": {},
   "outputs": [],
   "source": [
    "crimes_clean.head()"
   ]
  }
 ],
 "metadata": {
  "kernelspec": {
   "display_name": "Python 3",
   "language": "python",
   "name": "python3"
  },
  "language_info": {
   "codemirror_mode": {
    "name": "ipython",
    "version": 3
   },
   "file_extension": ".py",
   "mimetype": "text/x-python",
   "name": "python",
   "nbconvert_exporter": "python",
   "pygments_lexer": "ipython3",
   "version": "3.6.5"
  },
  "toc": {
   "nav_menu": {},
   "number_sections": true,
   "sideBar": true,
   "skip_h1_title": false,
   "title_cell": "Table of Contents",
   "title_sidebar": "Contents",
   "toc_cell": false,
   "toc_position": {},
   "toc_section_display": true,
   "toc_window_display": false
  }
 },
 "nbformat": 4,
 "nbformat_minor": 2
}
