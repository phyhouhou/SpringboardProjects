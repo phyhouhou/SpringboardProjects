{
 "cells": [
  {
   "cell_type": "markdown",
   "metadata": {},
   "source": [
    "# Introduction\n",
    "\n",
    "This notebook serves as an inferential statistic analysis of the projecet on crimes dataset. The original raw data is available from http://www.houstontx.gov/police/cs/index-2.htm. A detailed introduction on the data cleaning process can be found in [previous report](https://github.com/phyhouhou/SpringboardProjects/blob/master/FirstCapstoneProject/data_cleaning_capstone_project.ipynb).\n",
    "\n"
   ]
  },
  {
   "cell_type": "code",
   "execution_count": 21,
   "metadata": {},
   "outputs": [],
   "source": [
    "#Import modules\n",
    "import numpy as np\n",
    "import pandas as pd\n",
    "import matplotlib.pyplot as plt\n",
    "import seaborn as sns\n",
    "%matplotlib inline\n",
    "sns.set()\n",
    "sns.set_context('paper',font_scale=2)#'paper',#font_scale=2 set fontsize doulble the size of default\n",
    "#sns.set_style('white')\n",
    "\n"
   ]
  },
  {
   "cell_type": "markdown",
   "metadata": {},
   "source": [
    "# Load data\n",
    "Raw data can be downloaded in the [HPD website](http://www.houstontx.gov/police/cs/index-2.htm). I've downloaded the data and made it clean. Read the data cleaning [report](https://github.com/phyhouhou/SpringboardProjects/blob/master/FirstCapstoneProject/data_cleaning_capstone_project.ipynb) for details. The cleaned data is also uploaded [online](https://file.io/eLoGQ3)."
   ]
  },
  {
   "cell_type": "code",
   "execution_count": 2,
   "metadata": {},
   "outputs": [
    {
     "data": {
      "text/html": [
       "<div>\n",
       "<style scoped>\n",
       "    .dataframe tbody tr th:only-of-type {\n",
       "        vertical-align: middle;\n",
       "    }\n",
       "\n",
       "    .dataframe tbody tr th {\n",
       "        vertical-align: top;\n",
       "    }\n",
       "\n",
       "    .dataframe thead th {\n",
       "        text-align: right;\n",
       "    }\n",
       "</style>\n",
       "<table border=\"1\" class=\"dataframe\">\n",
       "  <thead>\n",
       "    <tr style=\"text-align: right;\">\n",
       "      <th></th>\n",
       "      <th>Hour</th>\n",
       "      <th>OffenseType</th>\n",
       "      <th>Beat</th>\n",
       "      <th>Premise</th>\n",
       "      <th>BlockRange</th>\n",
       "      <th>StreetName</th>\n",
       "      <th>Type</th>\n",
       "      <th>Suffix</th>\n",
       "      <th>OffenseNum</th>\n",
       "    </tr>\n",
       "    <tr>\n",
       "      <th>Date</th>\n",
       "      <th></th>\n",
       "      <th></th>\n",
       "      <th></th>\n",
       "      <th></th>\n",
       "      <th></th>\n",
       "      <th></th>\n",
       "      <th></th>\n",
       "      <th></th>\n",
       "      <th></th>\n",
       "    </tr>\n",
       "  </thead>\n",
       "  <tbody>\n",
       "    <tr>\n",
       "      <th>2010-01-01</th>\n",
       "      <td>2</td>\n",
       "      <td>Theft</td>\n",
       "      <td>7C20</td>\n",
       "      <td>13</td>\n",
       "      <td>3100-3199</td>\n",
       "      <td>COLLINGSWORTH</td>\n",
       "      <td>-</td>\n",
       "      <td>-</td>\n",
       "      <td>1</td>\n",
       "    </tr>\n",
       "    <tr>\n",
       "      <th>2010-01-01</th>\n",
       "      <td>2</td>\n",
       "      <td>Robbery</td>\n",
       "      <td>20G70</td>\n",
       "      <td>18</td>\n",
       "      <td>1900-1999</td>\n",
       "      <td>WESTMEAD</td>\n",
       "      <td>DR</td>\n",
       "      <td>-</td>\n",
       "      <td>1</td>\n",
       "    </tr>\n",
       "    <tr>\n",
       "      <th>2010-01-01</th>\n",
       "      <td>9</td>\n",
       "      <td>Robbery</td>\n",
       "      <td>4F30</td>\n",
       "      <td>13</td>\n",
       "      <td>1700-1799</td>\n",
       "      <td>BRITTMOORE</td>\n",
       "      <td>RD</td>\n",
       "      <td>-</td>\n",
       "      <td>1</td>\n",
       "    </tr>\n",
       "    <tr>\n",
       "      <th>2010-01-01</th>\n",
       "      <td>10</td>\n",
       "      <td>Robbery</td>\n",
       "      <td>20G10</td>\n",
       "      <td>18</td>\n",
       "      <td>2900-2999</td>\n",
       "      <td>WEST SAM HOUSTON</td>\n",
       "      <td>PKWY</td>\n",
       "      <td>S</td>\n",
       "      <td>1</td>\n",
       "    </tr>\n",
       "    <tr>\n",
       "      <th>2010-01-01</th>\n",
       "      <td>14</td>\n",
       "      <td>Robbery</td>\n",
       "      <td>20G80</td>\n",
       "      <td>8</td>\n",
       "      <td>1000-1099</td>\n",
       "      <td>WEST OAKS MALL</td>\n",
       "      <td>-</td>\n",
       "      <td>-</td>\n",
       "      <td>1</td>\n",
       "    </tr>\n",
       "  </tbody>\n",
       "</table>\n",
       "</div>"
      ],
      "text/plain": [
       "            Hour OffenseType   Beat  Premise BlockRange        StreetName  \\\n",
       "Date                                                                        \n",
       "2010-01-01     2       Theft   7C20       13  3100-3199     COLLINGSWORTH   \n",
       "2010-01-01     2     Robbery  20G70       18  1900-1999          WESTMEAD   \n",
       "2010-01-01     9     Robbery   4F30       13  1700-1799        BRITTMOORE   \n",
       "2010-01-01    10     Robbery  20G10       18  2900-2999  WEST SAM HOUSTON   \n",
       "2010-01-01    14     Robbery  20G80        8  1000-1099    WEST OAKS MALL   \n",
       "\n",
       "            Type Suffix  OffenseNum  \n",
       "Date                                 \n",
       "2010-01-01     -      -           1  \n",
       "2010-01-01    DR      -           1  \n",
       "2010-01-01    RD      -           1  \n",
       "2010-01-01  PKWY      S           1  \n",
       "2010-01-01     -      -           1  "
      ]
     },
     "execution_count": 2,
     "metadata": {},
     "output_type": "execute_result"
    }
   ],
   "source": [
    "import pandas as pd\n",
    "crimes=pd.read_csv('crimes_clean.csv', parse_dates=['Date'],index_col='Date')\n",
    "crimes.head()"
   ]
  },
  {
   "cell_type": "code",
   "execution_count": 3,
   "metadata": {},
   "outputs": [
    {
     "data": {
      "text/html": [
       "<div>\n",
       "<style scoped>\n",
       "    .dataframe tbody tr th:only-of-type {\n",
       "        vertical-align: middle;\n",
       "    }\n",
       "\n",
       "    .dataframe tbody tr th {\n",
       "        vertical-align: top;\n",
       "    }\n",
       "\n",
       "    .dataframe thead th {\n",
       "        text-align: right;\n",
       "    }\n",
       "</style>\n",
       "<table border=\"1\" class=\"dataframe\">\n",
       "  <thead>\n",
       "    <tr style=\"text-align: right;\">\n",
       "      <th>OffenseType</th>\n",
       "      <th>AggravatedAssault</th>\n",
       "      <th>AutoTheft</th>\n",
       "      <th>Burglary</th>\n",
       "      <th>Murder</th>\n",
       "      <th>Rape</th>\n",
       "      <th>Robbery</th>\n",
       "      <th>Theft</th>\n",
       "    </tr>\n",
       "    <tr>\n",
       "      <th>Date</th>\n",
       "      <th></th>\n",
       "      <th></th>\n",
       "      <th></th>\n",
       "      <th></th>\n",
       "      <th></th>\n",
       "      <th></th>\n",
       "      <th></th>\n",
       "    </tr>\n",
       "  </thead>\n",
       "  <tbody>\n",
       "    <tr>\n",
       "      <th>2010-01-01</th>\n",
       "      <td>53.0</td>\n",
       "      <td>21.0</td>\n",
       "      <td>77.0</td>\n",
       "      <td>1.0</td>\n",
       "      <td>13.0</td>\n",
       "      <td>31.0</td>\n",
       "      <td>215.0</td>\n",
       "    </tr>\n",
       "    <tr>\n",
       "      <th>2010-01-02</th>\n",
       "      <td>15.0</td>\n",
       "      <td>28.0</td>\n",
       "      <td>67.0</td>\n",
       "      <td>0.0</td>\n",
       "      <td>2.0</td>\n",
       "      <td>32.0</td>\n",
       "      <td>200.0</td>\n",
       "    </tr>\n",
       "    <tr>\n",
       "      <th>2010-01-03</th>\n",
       "      <td>29.0</td>\n",
       "      <td>34.0</td>\n",
       "      <td>52.0</td>\n",
       "      <td>0.0</td>\n",
       "      <td>0.0</td>\n",
       "      <td>38.0</td>\n",
       "      <td>179.0</td>\n",
       "    </tr>\n",
       "    <tr>\n",
       "      <th>2010-01-04</th>\n",
       "      <td>25.0</td>\n",
       "      <td>29.0</td>\n",
       "      <td>94.0</td>\n",
       "      <td>0.0</td>\n",
       "      <td>1.0</td>\n",
       "      <td>24.0</td>\n",
       "      <td>211.0</td>\n",
       "    </tr>\n",
       "    <tr>\n",
       "      <th>2010-01-05</th>\n",
       "      <td>21.0</td>\n",
       "      <td>20.0</td>\n",
       "      <td>88.0</td>\n",
       "      <td>2.0</td>\n",
       "      <td>3.0</td>\n",
       "      <td>19.0</td>\n",
       "      <td>183.0</td>\n",
       "    </tr>\n",
       "  </tbody>\n",
       "</table>\n",
       "</div>"
      ],
      "text/plain": [
       "OffenseType  AggravatedAssault  AutoTheft  Burglary  Murder  Rape  Robbery  \\\n",
       "Date                                                                         \n",
       "2010-01-01                53.0       21.0      77.0     1.0  13.0     31.0   \n",
       "2010-01-02                15.0       28.0      67.0     0.0   2.0     32.0   \n",
       "2010-01-03                29.0       34.0      52.0     0.0   0.0     38.0   \n",
       "2010-01-04                25.0       29.0      94.0     0.0   1.0     24.0   \n",
       "2010-01-05                21.0       20.0      88.0     2.0   3.0     19.0   \n",
       "\n",
       "OffenseType  Theft  \n",
       "Date                \n",
       "2010-01-01   215.0  \n",
       "2010-01-02   200.0  \n",
       "2010-01-03   179.0  \n",
       "2010-01-04   211.0  \n",
       "2010-01-05   183.0  "
      ]
     },
     "execution_count": 3,
     "metadata": {},
     "output_type": "execute_result"
    }
   ],
   "source": [
    "date_crime=crimes.groupby(['Date','OffenseType']).size().unstack()#.fillna(0)\n",
    "c=date_crime.fillna(0).copy()\n",
    "c.head()"
   ]
  },
  {
   "cell_type": "markdown",
   "metadata": {},
   "source": [
    "# Weekday Crimes v.s. Weekend Crimes\n",
    "\n",
    "According to the [EDA](https://github.com/phyhouhou/SpringboardProjects/blob/master/FirstCapstoneProject/Exploratory_Data_Analysis_Capstone_Project.ipynb), dominant property crimes like 'Theft', 'Burglary' are more frequent during weekdays than weekends while violent crimes like 'AggravatedAssault', 'Robbery', 'Rape', 'Murder' are more likely to occur during weekends than weekdays. A follow-up question is which has a higher crime rate on average, weekday or weekend? The EDA shows that weekday tends to have higher crime rate than weekend days. Is it statistically true?"
   ]
  },
  {
   "cell_type": "code",
   "execution_count": 7,
   "metadata": {},
   "outputs": [
    {
     "data": {
      "text/html": [
       "<div>\n",
       "<style scoped>\n",
       "    .dataframe tbody tr th:only-of-type {\n",
       "        vertical-align: middle;\n",
       "    }\n",
       "\n",
       "    .dataframe tbody tr th {\n",
       "        vertical-align: top;\n",
       "    }\n",
       "\n",
       "    .dataframe thead th {\n",
       "        text-align: right;\n",
       "    }\n",
       "</style>\n",
       "<table border=\"1\" class=\"dataframe\">\n",
       "  <thead>\n",
       "    <tr style=\"text-align: right;\">\n",
       "      <th></th>\n",
       "      <th>Weekday</th>\n",
       "      <th>Weekend</th>\n",
       "    </tr>\n",
       "    <tr>\n",
       "      <th>OffenseType</th>\n",
       "      <th></th>\n",
       "      <th></th>\n",
       "    </tr>\n",
       "  </thead>\n",
       "  <tbody>\n",
       "    <tr>\n",
       "      <th>AggravatedAssault</th>\n",
       "      <td>26.0</td>\n",
       "      <td>34.0</td>\n",
       "    </tr>\n",
       "    <tr>\n",
       "      <th>AutoTheft</th>\n",
       "      <td>34.0</td>\n",
       "      <td>35.0</td>\n",
       "    </tr>\n",
       "    <tr>\n",
       "      <th>Burglary</th>\n",
       "      <td>68.0</td>\n",
       "      <td>48.0</td>\n",
       "    </tr>\n",
       "    <tr>\n",
       "      <th>Murder</th>\n",
       "      <td>1.0</td>\n",
       "      <td>1.0</td>\n",
       "    </tr>\n",
       "    <tr>\n",
       "      <th>Rape</th>\n",
       "      <td>3.0</td>\n",
       "      <td>3.0</td>\n",
       "    </tr>\n",
       "    <tr>\n",
       "      <th>Robbery</th>\n",
       "      <td>25.0</td>\n",
       "      <td>28.0</td>\n",
       "    </tr>\n",
       "    <tr>\n",
       "      <th>Theft</th>\n",
       "      <td>194.0</td>\n",
       "      <td>174.0</td>\n",
       "    </tr>\n",
       "  </tbody>\n",
       "</table>\n",
       "</div>"
      ],
      "text/plain": [
       "                   Weekday  Weekend\n",
       "OffenseType                        \n",
       "AggravatedAssault     26.0     34.0\n",
       "AutoTheft             34.0     35.0\n",
       "Burglary              68.0     48.0\n",
       "Murder                 1.0      1.0\n",
       "Rape                   3.0      3.0\n",
       "Robbery               25.0     28.0\n",
       "Theft                194.0    174.0"
      ]
     },
     "execution_count": 7,
     "metadata": {},
     "output_type": "execute_result"
    }
   ],
   "source": [
    "import calendar\n",
    "weekday=list(calendar.day_name)#day_abbr#day_name\n",
    "\n",
    "index_weekday = date_crime.index.weekday_name\n",
    "crimes_by_weekday =date_crime.groupby(index_weekday).mean().reindex(weekday)#.sum(axis=1)\n",
    "\n",
    "weekend=crimes_by_weekday.loc['Saturday':'Sunday'].mean(axis=0).round(0)\n",
    "weekday=crimes_by_weekday.loc['Monday':'Friday'].mean(axis=0).round(0)\n",
    "week_day_end=pd.concat([weekday,weekend],axis=1)\n",
    "week_day_end.columns=['Weekday','Weekend']\n",
    "week_day_end"
   ]
  },
  {
   "cell_type": "code",
   "execution_count": 22,
   "metadata": {},
   "outputs": [
    {
     "data": {
      "image/png": "[encoded data removed]",
      "text/plain": [
       "<matplotlib.figure.Figure at 0x10bf846a0>"
      ]
     },
     "metadata": {},
     "output_type": "display_data"
    }
   ],
   "source": [
    "week_day_end.plot(kind='bar',rot=60,figsize=(12,8),fontsize=15)\n",
    "plt.ylabel('Number of Crimes',fontsize=16)\n",
    "plt.xlabel('OffenseType',fontsize=16)\n",
    "plt.legend(fontsize=14)\n",
    "plt.title('Crimes: Weekday v.s. Weekend',fontweight='bold',fontsize=18);"
   ]
  },
  {
   "cell_type": "code",
   "execution_count": 23,
   "metadata": {},
   "outputs": [
    {
     "data": {
      "image/png": "[encoded data removed]",
      "text/plain": [
       "<matplotlib.figure.Figure at 0x1086e2c18>"
      ]
     },
     "metadata": {},
     "output_type": "display_data"
    }
   ],
   "source": [
    "avg=week_day_end.mean(axis=0)\n",
    "ax=avg.plot('bar',rot=0,figsize=(12,8),ylim=(0,80),width=0.3,fontsize=16,alpha=0.8)\n",
    "plt.title('Average Number of Crimes',fontweight='bold',fontsize=18)\n",
    "\n",
    "for i, v in enumerate(avg):\n",
    "    ax.text( i,v + 1, int(round(v,0)), color='blue', fontweight='bold',fontsize=16)\n"
   ]
  },
  {
   "cell_type": "markdown",
   "metadata": {},
   "source": [
    "#  Hypothesis test\n",
    "Is the average number of crime on weekday significantly greater than that of weekend day? We will compute the probability of getting at least a difference of 4 in the average count under the hypothesis that the distributions of weekday and weekend day crimes are identical. "
   ]
  },
  {
   "cell_type": "markdown",
   "metadata": {},
   "source": [
    "## Reshape the data\n",
    "Take daily averge of crimes and group that into either week day average crime (if the day is from 'Monday' to 'Friday') or week end day averge crime (for 'Saturday' and 'Sunday')."
   ]
  },
  {
   "cell_type": "code",
   "execution_count": 10,
   "metadata": {},
   "outputs": [],
   "source": [
    "c['Day']=c.index.weekday_name\n",
    "c['Crime_daily']=c.mean(axis=1)"
   ]
  },
  {
   "cell_type": "code",
   "execution_count": 11,
   "metadata": {},
   "outputs": [
    {
     "data": {
      "text/html": [
       "<div>\n",
       "<style scoped>\n",
       "    .dataframe tbody tr th:only-of-type {\n",
       "        vertical-align: middle;\n",
       "    }\n",
       "\n",
       "    .dataframe tbody tr th {\n",
       "        vertical-align: top;\n",
       "    }\n",
       "\n",
       "    .dataframe thead th {\n",
       "        text-align: right;\n",
       "    }\n",
       "</style>\n",
       "<table border=\"1\" class=\"dataframe\">\n",
       "  <thead>\n",
       "    <tr style=\"text-align: right;\">\n",
       "      <th>OffenseType</th>\n",
       "      <th>Day</th>\n",
       "      <th>Crime_daily</th>\n",
       "    </tr>\n",
       "    <tr>\n",
       "      <th>Date</th>\n",
       "      <th></th>\n",
       "      <th></th>\n",
       "    </tr>\n",
       "  </thead>\n",
       "  <tbody>\n",
       "    <tr>\n",
       "      <th>2010-01-04</th>\n",
       "      <td>weekday</td>\n",
       "      <td>54.857143</td>\n",
       "    </tr>\n",
       "    <tr>\n",
       "      <th>2010-01-05</th>\n",
       "      <td>weekday</td>\n",
       "      <td>48.000000</td>\n",
       "    </tr>\n",
       "    <tr>\n",
       "      <th>2010-01-06</th>\n",
       "      <td>weekday</td>\n",
       "      <td>55.428571</td>\n",
       "    </tr>\n",
       "    <tr>\n",
       "      <th>2010-01-07</th>\n",
       "      <td>weekday</td>\n",
       "      <td>53.857143</td>\n",
       "    </tr>\n",
       "    <tr>\n",
       "      <th>2010-01-08</th>\n",
       "      <td>weekday</td>\n",
       "      <td>51.428571</td>\n",
       "    </tr>\n",
       "    <tr>\n",
       "      <th>2010-01-09</th>\n",
       "      <td>weekend</td>\n",
       "      <td>50.285714</td>\n",
       "    </tr>\n",
       "    <tr>\n",
       "      <th>2010-01-10</th>\n",
       "      <td>weekend</td>\n",
       "      <td>45.428571</td>\n",
       "    </tr>\n",
       "  </tbody>\n",
       "</table>\n",
       "</div>"
      ],
      "text/plain": [
       "OffenseType      Day  Crime_daily\n",
       "Date                             \n",
       "2010-01-04   weekday    54.857143\n",
       "2010-01-05   weekday    48.000000\n",
       "2010-01-06   weekday    55.428571\n",
       "2010-01-07   weekday    53.857143\n",
       "2010-01-08   weekday    51.428571\n",
       "2010-01-09   weekend    50.285714\n",
       "2010-01-10   weekend    45.428571"
      ]
     },
     "execution_count": 11,
     "metadata": {},
     "output_type": "execute_result"
    }
   ],
   "source": [
    "days = ['Monday', 'Tuesday', 'Wednesday', 'Thursday', 'Friday', 'Saturday', 'Sunday']\n",
    "wdict={i:'weekend' if i in ['Saturday','Sunday'] else 'weekday' for i in days}\n",
    "\n",
    "#Select dates starting from the first week of Janualy 2010, so that we can \n",
    "#calculate the averge number of crimes for weekday and weekend day conviently.\n",
    "cc=c.loc['2010-01-04':,['Day','Crime_daily']]\n",
    "cc.Day=cc.Day.replace(wdict)\n",
    "cc.head(7)\n"
   ]
  },
  {
   "cell_type": "code",
   "execution_count": 12,
   "metadata": {},
   "outputs": [],
   "source": [
    "# Define a function to calcuate averages of every n rows\n",
    "def ave_n(df,l,n):\n",
    "    return df.groupby(np.arange(l)//n).mean()"
   ]
  },
  {
   "cell_type": "code",
   "execution_count": 15,
   "metadata": {},
   "outputs": [],
   "source": [
    "weekday=cc.Day=='weekday'\n",
    "\n",
    "#Take averge of every 5 oberations as the mean of that week day\n",
    "wkday=ave_n(cc[weekday],np.sum(weekday),5).round(0)\n",
    "\n",
    "#Take averge of every 2 oberations as the mean of that weekend\n",
    "wkend=ave_n(cc[~weekday],np.sum(~weekday),2).round(0)"
   ]
  },
  {
   "cell_type": "code",
   "execution_count": 16,
   "metadata": {},
   "outputs": [
    {
     "data": {
      "text/html": [
       "<div>\n",
       "<style scoped>\n",
       "    .dataframe tbody tr th:only-of-type {\n",
       "        vertical-align: middle;\n",
       "    }\n",
       "\n",
       "    .dataframe tbody tr th {\n",
       "        vertical-align: top;\n",
       "    }\n",
       "\n",
       "    .dataframe thead th {\n",
       "        text-align: right;\n",
       "    }\n",
       "</style>\n",
       "<table border=\"1\" class=\"dataframe\">\n",
       "  <thead>\n",
       "    <tr style=\"text-align: right;\">\n",
       "      <th></th>\n",
       "      <th>wkday</th>\n",
       "      <th>wkend</th>\n",
       "    </tr>\n",
       "  </thead>\n",
       "  <tbody>\n",
       "    <tr>\n",
       "      <th>0</th>\n",
       "      <td>53.0</td>\n",
       "      <td>48.0</td>\n",
       "    </tr>\n",
       "    <tr>\n",
       "      <th>1</th>\n",
       "      <td>54.0</td>\n",
       "      <td>52.0</td>\n",
       "    </tr>\n",
       "    <tr>\n",
       "      <th>2</th>\n",
       "      <td>53.0</td>\n",
       "      <td>48.0</td>\n",
       "    </tr>\n",
       "    <tr>\n",
       "      <th>3</th>\n",
       "      <td>51.0</td>\n",
       "      <td>40.0</td>\n",
       "    </tr>\n",
       "    <tr>\n",
       "      <th>4</th>\n",
       "      <td>49.0</td>\n",
       "      <td>48.0</td>\n",
       "    </tr>\n",
       "  </tbody>\n",
       "</table>\n",
       "</div>"
      ],
      "text/plain": [
       "   wkday  wkend\n",
       "0   53.0   48.0\n",
       "1   54.0   52.0\n",
       "2   53.0   48.0\n",
       "3   51.0   40.0\n",
       "4   49.0   48.0"
      ]
     },
     "execution_count": 16,
     "metadata": {},
     "output_type": "execute_result"
    }
   ],
   "source": [
    "wkday_wkend=pd.concat([wkday,wkend],axis=1)\n",
    "wkday_wkend.columns=['wkday','wkend']\n",
    "wkday_wkend.head()"
   ]
  },
  {
   "cell_type": "code",
   "execution_count": 17,
   "metadata": {},
   "outputs": [
    {
     "name": "stdout",
     "output_type": "stream",
     "text": [
      "<class 'pandas.core.frame.DataFrame'>\n",
      "Int64Index: 417 entries, 0 to 416\n",
      "Data columns (total 2 columns):\n",
      "wkday    417 non-null float64\n",
      "wkend    417 non-null float64\n",
      "dtypes: float64(2)\n",
      "memory usage: 9.8 KB\n"
     ]
    },
    {
     "data": {
      "text/html": [
       "<div>\n",
       "<style scoped>\n",
       "    .dataframe tbody tr th:only-of-type {\n",
       "        vertical-align: middle;\n",
       "    }\n",
       "\n",
       "    .dataframe tbody tr th {\n",
       "        vertical-align: top;\n",
       "    }\n",
       "\n",
       "    .dataframe thead th {\n",
       "        text-align: right;\n",
       "    }\n",
       "</style>\n",
       "<table border=\"1\" class=\"dataframe\">\n",
       "  <thead>\n",
       "    <tr style=\"text-align: right;\">\n",
       "      <th></th>\n",
       "      <th>wkday</th>\n",
       "      <th>wkend</th>\n",
       "    </tr>\n",
       "  </thead>\n",
       "  <tbody>\n",
       "    <tr>\n",
       "      <th>count</th>\n",
       "      <td>417.000000</td>\n",
       "      <td>417.000000</td>\n",
       "    </tr>\n",
       "    <tr>\n",
       "      <th>mean</th>\n",
       "      <td>49.976019</td>\n",
       "      <td>46.052758</td>\n",
       "    </tr>\n",
       "    <tr>\n",
       "      <th>std</th>\n",
       "      <td>4.240306</td>\n",
       "      <td>4.952864</td>\n",
       "    </tr>\n",
       "    <tr>\n",
       "      <th>min</th>\n",
       "      <td>14.000000</td>\n",
       "      <td>3.000000</td>\n",
       "    </tr>\n",
       "    <tr>\n",
       "      <th>25%</th>\n",
       "      <td>48.000000</td>\n",
       "      <td>44.000000</td>\n",
       "    </tr>\n",
       "    <tr>\n",
       "      <th>50%</th>\n",
       "      <td>50.000000</td>\n",
       "      <td>46.000000</td>\n",
       "    </tr>\n",
       "    <tr>\n",
       "      <th>75%</th>\n",
       "      <td>53.000000</td>\n",
       "      <td>49.000000</td>\n",
       "    </tr>\n",
       "    <tr>\n",
       "      <th>max</th>\n",
       "      <td>62.000000</td>\n",
       "      <td>57.000000</td>\n",
       "    </tr>\n",
       "  </tbody>\n",
       "</table>\n",
       "</div>"
      ],
      "text/plain": [
       "            wkday       wkend\n",
       "count  417.000000  417.000000\n",
       "mean    49.976019   46.052758\n",
       "std      4.240306    4.952864\n",
       "min     14.000000    3.000000\n",
       "25%     48.000000   44.000000\n",
       "50%     50.000000   46.000000\n",
       "75%     53.000000   49.000000\n",
       "max     62.000000   57.000000"
      ]
     },
     "execution_count": 17,
     "metadata": {},
     "output_type": "execute_result"
    }
   ],
   "source": [
    "wkday_wkend.info()\n",
    "wkday_wkend.describe()"
   ]
  },
  {
   "cell_type": "markdown",
   "metadata": {},
   "source": [
    "The summary statistics shows that week day crime rate is higher in average than that of weekend day."
   ]
  },
  {
   "cell_type": "markdown",
   "metadata": {},
   "source": [
    "## Normality check"
   ]
  },
  {
   "cell_type": "code",
   "execution_count": 24,
   "metadata": {},
   "outputs": [
    {
     "name": "stdout",
     "output_type": "stream",
     "text": [
      "goodness fit: 0.95\n"
     ]
    },
    {
     "data": {
      "image/png": "[encoded data removed]",
      "text/plain": [
       "<matplotlib.figure.Figure at 0x10be739e8>"
      ]
     },
     "metadata": {},
     "output_type": "display_data"
    }
   ],
   "source": [
    "from scipy import stats\n",
    "_,fit=stats.probplot(wkday_wkend.wkday,dist=stats.norm,plot=plt)\n",
    "print('goodness fit:', '%.2f' %fit[2])\n"
   ]
  },
  {
   "cell_type": "code",
   "execution_count": 25,
   "metadata": {},
   "outputs": [
    {
     "name": "stdout",
     "output_type": "stream",
     "text": [
      "goodness fit: 0.94\n"
     ]
    },
    {
     "data": {
      "image/png": "[encoded data removed]",
      "text/plain": [
       "<matplotlib.figure.Figure at 0x104b35518>"
      ]
     },
     "metadata": {},
     "output_type": "display_data"
    }
   ],
   "source": [
    "_,fit=stats.probplot(wkday_wkend.wkend,dist=stats.norm,plot=plt)\n",
    "print('goodness fit:', '%.2f' %fit[2])"
   ]
  },
  {
   "cell_type": "code",
   "execution_count": 26,
   "metadata": {},
   "outputs": [
    {
     "name": "stdout",
     "output_type": "stream",
     "text": [
      "weekday p value:  8.712439211436335e-45\n",
      "weekend p value:  5.549145755553319e-52\n"
     ]
    }
   ],
   "source": [
    "print('weekday p value: ',stats.normaltest(wkday_wkend.wkday)[1])\n",
    "print('weekend p value: ',stats.normaltest(wkday_wkend.wkend)[1])"
   ]
  },
  {
   "cell_type": "code",
   "execution_count": 27,
   "metadata": {},
   "outputs": [
    {
     "name": "stdout",
     "output_type": "stream",
     "text": [
      "weekday p value:  3.933432542218207e-15\n",
      "weekend p value:  6.104513511302539e-17\n"
     ]
    }
   ],
   "source": [
    "print('weekday p value: ',stats.shapiro(wkday_wkend.wkday)[1])\n",
    "print('weekend p value: ',stats.shapiro(wkday_wkend.wkend)[1])"
   ]
  },
  {
   "cell_type": "markdown",
   "metadata": {},
   "source": [
    "The normality check rejects the distribution of average weekday or average weekend crime is normally distributed."
   ]
  },
  {
   "cell_type": "markdown",
   "metadata": {},
   "source": [
    "## Bootstrap hypothesis test\n",
    "Is the average number of crime on weekday significantly greater than that of weekend day? We will compute the probability of getting at least a difference of 4 in the average count under the hypothesis that the distributions of weekday and weekend day crimes are identical. We use a permutation test with a test statistic of the difference of means to test this hypothesis. "
   ]
  },
  {
   "cell_type": "code",
   "execution_count": 28,
   "metadata": {},
   "outputs": [
    {
     "name": "stdout",
     "output_type": "stream",
     "text": [
      "p value : 0.0\n"
     ]
    }
   ],
   "source": [
    "diff=wkday_wkend.wkday.mean()-wkday_wkend.wkend.mean()\n",
    "\n",
    "bs_permutations_replicates = np.empty(10000)\n",
    "for i in range(10000):\n",
    "    permuted = np.random.permutation(np.concatenate((wkday_wkend.wkday,wkday_wkend.wkend)))\n",
    "    wkd_permuted =permuted[:len(wkday_wkend.wkday)]\n",
    "    wke_permuted =permuted[len(wkday_wkend.wkend):]\n",
    "    bs_permutations_replicates[i] = np.abs(np.mean(wkd_permuted) - np.mean(wke_permuted))\n",
    "    \n",
    "bs_permutations_replicates_pval = np.sum(bs_permutations_replicates >= abs(diff))/10000\n",
    "print('p value :',bs_permutations_replicates_pval)"
   ]
  },
  {
   "cell_type": "markdown",
   "metadata": {},
   "source": [
    "Since the p value is much less than 0.05, we reject the hypothesis that weekday has the same averge crime rate as that of weekend. "
   ]
  },
  {
   "cell_type": "markdown",
   "metadata": {},
   "source": [
    "## t-test"
   ]
  },
  {
   "cell_type": "markdown",
   "metadata": {},
   "source": [
    "Since the sample size is 417 much larger than 30, we perform a two-sample t-test. It turns out that pvalue is much smaller than 0.05, indicating that the average crime rate on weekday is significantly different from that of weekend."
   ]
  },
  {
   "cell_type": "code",
   "execution_count": 29,
   "metadata": {},
   "outputs": [
    {
     "name": "stdout",
     "output_type": "stream",
     "text": [
      "t score: 12.287522397773321\n",
      "p value: 5.956274641711443e-32\n"
     ]
    }
   ],
   "source": [
    "t,p=stats.ttest_ind(wkday, wkend, equal_var = False)\n",
    "print('t score:', t[0])\n",
    "\n",
    "print('p value:', p[0])\n",
    "\n"
   ]
  },
  {
   "cell_type": "markdown",
   "metadata": {},
   "source": [
    "## z-test\n",
    "In the case of large sample size (>30), t-test and z-test are equivalent."
   ]
  },
  {
   "cell_type": "code",
   "execution_count": 30,
   "metadata": {},
   "outputs": [
    {
     "name": "stdout",
     "output_type": "stream",
     "text": [
      "z score: 12.287522397773317\n",
      "p value: 1.0569603086893555e-34\n"
     ]
    }
   ],
   "source": [
    "z = (diff) / np.sqrt(((wkday_wkend.wkday.std() ** 2)/ 417) + ((wkday_wkend.wkend.std() ** 2)/ 417))\n",
    "print('z score:', z)\n",
    "\n",
    "p=stats.norm.sf(abs(z)) * 2\n",
    "print('p value:', p)\n"
   ]
  }
 ],
 "metadata": {
  "kernelspec": {
   "display_name": "Python 3",
   "language": "python",
   "name": "python3"
  },
  "language_info": {
   "codemirror_mode": {
    "name": "ipython",
    "version": 3
   },
   "file_extension": ".py",
   "mimetype": "text/x-python",
   "name": "python",
   "nbconvert_exporter": "python",
   "pygments_lexer": "ipython3",
   "version": "3.6.0"
  },
  "toc": {
   "nav_menu": {},
   "number_sections": true,
   "sideBar": true,
   "skip_h1_title": false,
   "title_cell": "Table of Contents",
   "title_sidebar": "Contents",
   "toc_cell": false,
   "toc_position": {},
   "toc_section_display": true,
   "toc_window_display": false
  }
 },
 "nbformat": 4,
 "nbformat_minor": 2
}
