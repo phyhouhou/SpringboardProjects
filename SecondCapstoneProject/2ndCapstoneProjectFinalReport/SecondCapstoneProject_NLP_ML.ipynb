{
 "cells": [
  {
   "cell_type": "markdown",
   "metadata": {},
   "source": [
    "# Table of Contents\n",
    "* [Load Packages and Data](#Load-Packages-and-Data)\n",
    "* [Topic Modeling](#Topic-Modeling) \n",
    "    * [Build LDA Model with sklearn](#Build-LDA-Model-with-sklearn)\n",
    "        * [Clean-up Review Text](#Clean-up-Review-Text)\n",
    "        * [Create the Document-Word Matrix](#Create-the-Document-Word-Matrix)\n",
    "        * [LDA Model](#LDA-Model)\n",
    "        * [Dominant Topic in each Document](#Dominant-Topic-in-each-Document)\n",
    "        * [Visualize the LDA Model with pyLDAvis](#Visualize-the-LDA-Model-with-pyLDAvis)        \n",
    "    * [Build LDA Model with Gensim](#Build-LDA-Model-with-Gensim)\n",
    "        * [Create the Dictionary and Corpus Needed for Topic Modeling](#Create-the-Dictionary-and-Corpus-Needed-for-Topic-Modeling)\n",
    "        * [Model Perplexity](#Model-Perplexity)\n",
    "        * [Visualize Topics with pyLDAvis](#Visualize-Topics-with-pyLDAvis)\n",
    "        * [Test on Holdout data](#Test-on-Holdout-data)\n",
    "* [Build Machine Learning Models for Prediction](#Build-Machine-Learning-Models-for-Prediction)\n",
    "    * [Create a Target Column](#Create-a-Target-Column)\n",
    "        * [t-test of the Character Length of Reviews](#t-test-of-the-Character-Length-of-Reviews)\n",
    "    * [Build a Pipeline](#Build-a-Pipeline)       \n",
    "    * [Use bag-of-word Features for Prediction](#Use-bag-of-word-Features-for-Prediction)\n",
    "        * [Dummy Classifiers](#Dummy-Classifier)\n",
    "        * [NaiveBayes Classifier](#NaiveBayes-Classifier)\n",
    "    * [Use Tfidf-weighted Features for Prediction](#Use-Tfidf-weighted-Features-for-Prediction)\n",
    "        * [Feed Less TfidfVectorized Features to Classifier](#Feed-Less-TfidfVectorized-Features-to-Classifier)\n",
    "    * [Use sklearn LDA Document Topics for Prediction](#Use-sklearn-LDA-Document-Topics-for-Prediction)\n",
    "    * [Use Gensim LDA Document Topics for Prediction](#Use-Gensim-LDA-Document-Topics-for-Prediction)\n",
    "    * [Compare Model Performance](#Compare-Model-Performance)\n",
    "        * [Pick Classifiers](#Pick-Classifiers)\n",
    "        * [Grid Search Hyperparameters](Grid-Search-Hyperparameters)\n",
    "    * [Enrich Predictors with Categorical and Numerical Features](#Enrich-Predictors-with-Categorical-and-Numerical-Features)\n",
    "        * [Save the Model](#Save-the-Model)"
   ]
  },
  {
   "cell_type": "markdown",
   "metadata": {},
   "source": [
    "# Load Packages and Data \n",
    "This is the second part of the capstone project that investigates reviews dataset of hotels. It focuses on wrangling the text data and uses word features to train a machine learning classifier for hotel classification based on the review texts. "
   ]
  },
  {
   "cell_type": "code",
   "execution_count": 1,
   "metadata": {},
   "outputs": [
    {
     "name": "stderr",
     "output_type": "stream",
     "text": [
      "Using TensorFlow backend.\n"
     ]
    }
   ],
   "source": [
    "import warnings\n",
    "warnings.filterwarnings('ignore')\n",
    "\n",
    "#manipulate and view data in tabular format\n",
    "import pandas as pd\n",
    "import numpy as np\n",
    "import pickle \n",
    "#process text\n",
    "import re,nltk,spacy,gensim\n",
    "from gensim.models import CoherenceModel\n",
    "from collections import Counter\n",
    "from wordcloud import WordCloud, STOPWORDS\n",
    "\n",
    " #visualization tools\n",
    "import matplotlib.pyplot as plt\n",
    "%matplotlib inline\n",
    "from matplotlib.pylab import rcParams\n",
    "rcParams['figure.figsize'] = 10, 8\n",
    "\n",
    "#seaborn\n",
    "import seaborn as sns\n",
    "sns.set(context='paper',style='whitegrid',font_scale=2, rc={\"lines.linewidth\": 2.5})#style=whitegrid,darkgrid,white,dark\n",
    "pd.set_option('display.max_columns', None)\n",
    "\n",
    "\n",
    "#LDA visualzation\n",
    "import pyLDAvis\n",
    "import pyLDAvis.sklearn\n",
    "import pyLDAvis.gensim\n",
    "\n",
    "\n",
    "\n",
    "\n",
    "#sklearn\n",
    "from sklearn.feature_extraction.text import CountVectorizer,TfidfVectorizer,TfidfTransformer\n",
    "from sklearn.preprocessing import FunctionTransformer, LabelBinarizer, Imputer, StandardScaler, MinMaxScaler, PolynomialFeatures\n",
    "from sklearn.pipeline import Pipeline, FeatureUnion\n",
    "from sklearn.model_selection import train_test_split\n",
    "from sklearn.metrics import classification_report, f1_score, accuracy_score, confusion_matrix,roc_curve, auc\n",
    "from sklearn.decomposition import LatentDirichletAllocation as LDA\n",
    "from sklearn.model_selection import GridSearchCV\n",
    "from sklearn.cross_validation import cross_val_score,  KFold \n",
    "\n",
    "from sklearn.naive_bayes import MultinomialNB\n",
    "from sklearn.svm import LinearSVC\n",
    "from sklearn.linear_model import SGDClassifier,LogisticRegression\n",
    "from sklearn.ensemble import RandomForestClassifier\n",
    "from pprint import pprint #Data pretty printer\n",
    "from sklearn.feature_selection import SelectKBest,chi2\n",
    "\n",
    "\n"
   ]
  },
  {
   "cell_type": "markdown",
   "metadata": {},
   "source": [
    "We've cleaned the raw hotel data as reported in the [milestone report](https://github.com/phyhouhou/SpringboardProjects/blob/master/SecondCapstoneProject/2ndCapstoneProject_MilestoneReport/2ndCapstoneProject_Milestone.ipynb) by handling missing values, drop duplilcates and cleaning and enriching features. Here we load the cleaned hotel data for analysis and focus on the review texts."
   ]
  },
  {
   "cell_type": "code",
   "execution_count": 2,
   "metadata": {},
   "outputs": [
    {
     "name": "stdout",
     "output_type": "stream",
     "text": [
      "<class 'pandas.core.frame.DataFrame'>\n",
      "RangeIndex: 515212 entries, 0 to 515211\n",
      "Data columns (total 24 columns):\n",
      "Review_Date                                   515212 non-null object\n",
      "Review_Month                                  515212 non-null object\n",
      "Review_Wday                                   515212 non-null object\n",
      "Hotel_Name                                    515212 non-null object\n",
      "Hotel_Address                                 515212 non-null object\n",
      "Hotel_City                                    515212 non-null object\n",
      "lat                                           511944 non-null float64\n",
      "lng                                           511944 non-null float64\n",
      "Average_Score                                 515212 non-null float64\n",
      "Total_Number_of_Reviews                       515212 non-null int64\n",
      "Reviewer_Nationality                          515212 non-null object\n",
      "Total_Number_of_Reviews_Reviewer_Has_Given    515212 non-null int64\n",
      "Reviewer_Score                                515212 non-null float64\n",
      "Negative_Review                               515212 non-null object\n",
      "Review_Total_Negative_Word_Counts             515212 non-null int64\n",
      "Neg_Rev_WCRatio                               515085 non-null float64\n",
      "Positive_Review                               515212 non-null object\n",
      "Review_Total_Positive_Word_Counts             515212 non-null int64\n",
      "Pos_Rev_WCRatio                               515085 non-null float64\n",
      "Trip_Type                                     500208 non-null object\n",
      "Traveler_Type                                 515212 non-null object\n",
      "Num_Nights                                    515020 non-null float64\n",
      "Additional_Number_of_Scoring                  515212 non-null int64\n",
      "days_since_review                             515212 non-null int64\n",
      "dtypes: float64(7), int64(6), object(11)\n",
      "memory usage: 94.3+ MB\n"
     ]
    },
    {
     "data": {
      "text/html": [
       "<div>\n",
       "<style scoped>\n",
       "    .dataframe tbody tr th:only-of-type {\n",
       "        vertical-align: middle;\n",
       "    }\n",
       "\n",
       "    .dataframe tbody tr th {\n",
       "        vertical-align: top;\n",
       "    }\n",
       "\n",
       "    .dataframe thead th {\n",
       "        text-align: right;\n",
       "    }\n",
       "</style>\n",
       "<table border=\"1\" class=\"dataframe\">\n",
       "  <thead>\n",
       "    <tr style=\"text-align: right;\">\n",
       "      <th></th>\n",
       "      <th>Review_Date</th>\n",
       "      <th>Review_Month</th>\n",
       "      <th>Review_Wday</th>\n",
       "      <th>Hotel_Name</th>\n",
       "      <th>Hotel_Address</th>\n",
       "      <th>Hotel_City</th>\n",
       "      <th>lat</th>\n",
       "      <th>lng</th>\n",
       "      <th>Average_Score</th>\n",
       "      <th>Total_Number_of_Reviews</th>\n",
       "      <th>Reviewer_Nationality</th>\n",
       "      <th>Total_Number_of_Reviews_Reviewer_Has_Given</th>\n",
       "      <th>Reviewer_Score</th>\n",
       "      <th>Negative_Review</th>\n",
       "      <th>Review_Total_Negative_Word_Counts</th>\n",
       "      <th>Neg_Rev_WCRatio</th>\n",
       "      <th>Positive_Review</th>\n",
       "      <th>Review_Total_Positive_Word_Counts</th>\n",
       "      <th>Pos_Rev_WCRatio</th>\n",
       "      <th>Trip_Type</th>\n",
       "      <th>Traveler_Type</th>\n",
       "      <th>Num_Nights</th>\n",
       "      <th>Additional_Number_of_Scoring</th>\n",
       "      <th>days_since_review</th>\n",
       "    </tr>\n",
       "  </thead>\n",
       "  <tbody>\n",
       "    <tr>\n",
       "      <th>0</th>\n",
       "      <td>2017-08-03</td>\n",
       "      <td>Aug</td>\n",
       "      <td>Thu</td>\n",
       "      <td>Hotel Arena</td>\n",
       "      <td>s Gravesandestraat 55 Oost 1092 AA Amsterdam ...</td>\n",
       "      <td>Amsterdam</td>\n",
       "      <td>52.360576</td>\n",
       "      <td>4.915968</td>\n",
       "      <td>7.7</td>\n",
       "      <td>1403</td>\n",
       "      <td>Russia</td>\n",
       "      <td>7</td>\n",
       "      <td>2.9</td>\n",
       "      <td>I am so angry that i made this post available...</td>\n",
       "      <td>397</td>\n",
       "      <td>0.973039</td>\n",
       "      <td>Only the park outside of the hotel was beauti...</td>\n",
       "      <td>11</td>\n",
       "      <td>0.026961</td>\n",
       "      <td>Leisure trip</td>\n",
       "      <td>Couple</td>\n",
       "      <td>6.0</td>\n",
       "      <td>194</td>\n",
       "      <td>0</td>\n",
       "    </tr>\n",
       "    <tr>\n",
       "      <th>1</th>\n",
       "      <td>2017-08-03</td>\n",
       "      <td>Aug</td>\n",
       "      <td>Thu</td>\n",
       "      <td>Hotel Arena</td>\n",
       "      <td>s Gravesandestraat 55 Oost 1092 AA Amsterdam ...</td>\n",
       "      <td>Amsterdam</td>\n",
       "      <td>52.360576</td>\n",
       "      <td>4.915968</td>\n",
       "      <td>7.7</td>\n",
       "      <td>1403</td>\n",
       "      <td>Ireland</td>\n",
       "      <td>7</td>\n",
       "      <td>7.5</td>\n",
       "      <td>No Negative</td>\n",
       "      <td>0</td>\n",
       "      <td>0.000000</td>\n",
       "      <td>No real complaints the hotel was great great ...</td>\n",
       "      <td>105</td>\n",
       "      <td>1.000000</td>\n",
       "      <td>Leisure trip</td>\n",
       "      <td>Couple</td>\n",
       "      <td>4.0</td>\n",
       "      <td>194</td>\n",
       "      <td>0</td>\n",
       "    </tr>\n",
       "    <tr>\n",
       "      <th>2</th>\n",
       "      <td>2017-07-31</td>\n",
       "      <td>Jul</td>\n",
       "      <td>Mon</td>\n",
       "      <td>Hotel Arena</td>\n",
       "      <td>s Gravesandestraat 55 Oost 1092 AA Amsterdam ...</td>\n",
       "      <td>Amsterdam</td>\n",
       "      <td>52.360576</td>\n",
       "      <td>4.915968</td>\n",
       "      <td>7.7</td>\n",
       "      <td>1403</td>\n",
       "      <td>Australia</td>\n",
       "      <td>9</td>\n",
       "      <td>7.1</td>\n",
       "      <td>Rooms are nice but for elderly a bit difficul...</td>\n",
       "      <td>42</td>\n",
       "      <td>0.666667</td>\n",
       "      <td>Location was good and staff were ok It is cut...</td>\n",
       "      <td>21</td>\n",
       "      <td>0.333333</td>\n",
       "      <td>Leisure trip</td>\n",
       "      <td>Family with young children</td>\n",
       "      <td>3.0</td>\n",
       "      <td>194</td>\n",
       "      <td>3</td>\n",
       "    </tr>\n",
       "    <tr>\n",
       "      <th>3</th>\n",
       "      <td>2017-07-31</td>\n",
       "      <td>Jul</td>\n",
       "      <td>Mon</td>\n",
       "      <td>Hotel Arena</td>\n",
       "      <td>s Gravesandestraat 55 Oost 1092 AA Amsterdam ...</td>\n",
       "      <td>Amsterdam</td>\n",
       "      <td>52.360576</td>\n",
       "      <td>4.915968</td>\n",
       "      <td>7.7</td>\n",
       "      <td>1403</td>\n",
       "      <td>United Kingdom</td>\n",
       "      <td>1</td>\n",
       "      <td>3.8</td>\n",
       "      <td>My room was dirty and I was afraid to walk ba...</td>\n",
       "      <td>210</td>\n",
       "      <td>0.889831</td>\n",
       "      <td>Great location in nice surroundings the bar a...</td>\n",
       "      <td>26</td>\n",
       "      <td>0.110169</td>\n",
       "      <td>Leisure trip</td>\n",
       "      <td>Solo traveler</td>\n",
       "      <td>3.0</td>\n",
       "      <td>194</td>\n",
       "      <td>3</td>\n",
       "    </tr>\n",
       "    <tr>\n",
       "      <th>4</th>\n",
       "      <td>2017-07-24</td>\n",
       "      <td>Jul</td>\n",
       "      <td>Mon</td>\n",
       "      <td>Hotel Arena</td>\n",
       "      <td>s Gravesandestraat 55 Oost 1092 AA Amsterdam ...</td>\n",
       "      <td>Amsterdam</td>\n",
       "      <td>52.360576</td>\n",
       "      <td>4.915968</td>\n",
       "      <td>7.7</td>\n",
       "      <td>1403</td>\n",
       "      <td>New Zealand</td>\n",
       "      <td>3</td>\n",
       "      <td>6.7</td>\n",
       "      <td>You When I booked with your company on line y...</td>\n",
       "      <td>140</td>\n",
       "      <td>0.945946</td>\n",
       "      <td>Amazing location and building Romantic setting</td>\n",
       "      <td>8</td>\n",
       "      <td>0.054054</td>\n",
       "      <td>Leisure trip</td>\n",
       "      <td>Couple</td>\n",
       "      <td>2.0</td>\n",
       "      <td>194</td>\n",
       "      <td>10</td>\n",
       "    </tr>\n",
       "  </tbody>\n",
       "</table>\n",
       "</div>"
      ],
      "text/plain": [
       "  Review_Date Review_Month Review_Wday   Hotel_Name  \\\n",
       "0  2017-08-03          Aug         Thu  Hotel Arena   \n",
       "1  2017-08-03          Aug         Thu  Hotel Arena   \n",
       "2  2017-07-31          Jul         Mon  Hotel Arena   \n",
       "3  2017-07-31          Jul         Mon  Hotel Arena   \n",
       "4  2017-07-24          Jul         Mon  Hotel Arena   \n",
       "\n",
       "                                       Hotel_Address Hotel_City        lat  \\\n",
       "0   s Gravesandestraat 55 Oost 1092 AA Amsterdam ...  Amsterdam  52.360576   \n",
       "1   s Gravesandestraat 55 Oost 1092 AA Amsterdam ...  Amsterdam  52.360576   \n",
       "2   s Gravesandestraat 55 Oost 1092 AA Amsterdam ...  Amsterdam  52.360576   \n",
       "3   s Gravesandestraat 55 Oost 1092 AA Amsterdam ...  Amsterdam  52.360576   \n",
       "4   s Gravesandestraat 55 Oost 1092 AA Amsterdam ...  Amsterdam  52.360576   \n",
       "\n",
       "        lng  Average_Score  Total_Number_of_Reviews Reviewer_Nationality  \\\n",
       "0  4.915968            7.7                     1403              Russia    \n",
       "1  4.915968            7.7                     1403             Ireland    \n",
       "2  4.915968            7.7                     1403           Australia    \n",
       "3  4.915968            7.7                     1403      United Kingdom    \n",
       "4  4.915968            7.7                     1403         New Zealand    \n",
       "\n",
       "   Total_Number_of_Reviews_Reviewer_Has_Given  Reviewer_Score  \\\n",
       "0                                           7             2.9   \n",
       "1                                           7             7.5   \n",
       "2                                           9             7.1   \n",
       "3                                           1             3.8   \n",
       "4                                           3             6.7   \n",
       "\n",
       "                                     Negative_Review  \\\n",
       "0   I am so angry that i made this post available...   \n",
       "1                                        No Negative   \n",
       "2   Rooms are nice but for elderly a bit difficul...   \n",
       "3   My room was dirty and I was afraid to walk ba...   \n",
       "4   You When I booked with your company on line y...   \n",
       "\n",
       "   Review_Total_Negative_Word_Counts  Neg_Rev_WCRatio  \\\n",
       "0                                397         0.973039   \n",
       "1                                  0         0.000000   \n",
       "2                                 42         0.666667   \n",
       "3                                210         0.889831   \n",
       "4                                140         0.945946   \n",
       "\n",
       "                                     Positive_Review  \\\n",
       "0   Only the park outside of the hotel was beauti...   \n",
       "1   No real complaints the hotel was great great ...   \n",
       "2   Location was good and staff were ok It is cut...   \n",
       "3   Great location in nice surroundings the bar a...   \n",
       "4    Amazing location and building Romantic setting    \n",
       "\n",
       "   Review_Total_Positive_Word_Counts  Pos_Rev_WCRatio     Trip_Type  \\\n",
       "0                                 11         0.026961  Leisure trip   \n",
       "1                                105         1.000000  Leisure trip   \n",
       "2                                 21         0.333333  Leisure trip   \n",
       "3                                 26         0.110169  Leisure trip   \n",
       "4                                  8         0.054054  Leisure trip   \n",
       "\n",
       "                Traveler_Type  Num_Nights  Additional_Number_of_Scoring  \\\n",
       "0                      Couple         6.0                           194   \n",
       "1                      Couple         4.0                           194   \n",
       "2  Family with young children         3.0                           194   \n",
       "3               Solo traveler         3.0                           194   \n",
       "4                      Couple         2.0                           194   \n",
       "\n",
       "   days_since_review  \n",
       "0                  0  \n",
       "1                  0  \n",
       "2                  3  \n",
       "3                  3  \n",
       "4                 10  "
      ]
     },
     "execution_count": 2,
     "metadata": {},
     "output_type": "execute_result"
    }
   ],
   "source": [
    "data=pd.read_csv('data/htl_clean.csv')\n",
    "data.info()\n",
    "data.head()"
   ]
  },
  {
   "cell_type": "markdown",
   "metadata": {},
   "source": [
    "# Topic Modeling \n",
    "\n",
    "## Build LDA Model with sklearn\n",
    "The aim  of topic modeling is to extract hidden topics from a large volume of texts and LDA is a popular algorithm for topic modeling. In this section, we will first clean the texts and then create a word-document matrix, which is a required input for implementing the LDA algorithm with sklearn. We will then build a LDA model and discuss the model performance to find out what topics reviewers are talking about. "
   ]
  },
  {
   "cell_type": "markdown",
   "metadata": {},
   "source": [
    "### Clean-up Review Text \n",
    "\n",
    "Review texts will be processed in the following steps:\n",
    "\n",
    "* Remove short reviews\n",
    "* Remove all non-letters characters;\n",
    "* Strip whitespaces;\n",
    "* Tokenize sentence into a list of words;\n",
    "* Remove English stopwords;\n",
    "* Lemmatize words to its roots.\n",
    "\n",
    "Then we will save the cleaned review texts in a csv file for future analysis."
   ]
  },
  {
   "cell_type": "code",
   "execution_count": 4,
   "metadata": {},
   "outputs": [
    {
     "data": {
      "image/png": "[encoded data removed]",
      "text/plain": [
       "<Figure size 720x576 with 1 Axes>"
      ]
     },
     "metadata": {},
     "output_type": "display_data"
    }
   ],
   "source": [
    "Rev_Tot_WCounts=data['Review_Total_Positive_Word_Counts']+data['Review_Total_Negative_Word_Counts']\n",
    "\n",
    "plt.hist(Rev_Tot_WCounts,bins=np.arange(0,600,10))\n",
    "plt.xlabel('Rev_Tot_WCounts')\n",
    "plt.ylabel('Frequency')\n",
    "plt.title('Distribution of Review Total Word Counts');\n",
    "\n"
   ]
  },
  {
   "cell_type": "code",
   "execution_count": 5,
   "metadata": {},
   "outputs": [
    {
     "name": "stdout",
     "output_type": "stream",
     "text": [
      "0  I am so angry that i made this post available via all possible sites i use when planing my trips so no one will make the mistake of booking this place I made my booking via booking com We stayed for 6 nights in this hotel from 11 to 17 July Upon arrival we were placed in a small room on the 2nd floor of the hotel It turned out that this was not the room we booked I had specially reserved the 2 level duplex room so that we would have a big windows and high ceilings The room itself was ok if you don t mind the broken window that can not be closed hello rain and a mini fridge that contained some sort of a bio weapon at least i guessed so by the smell of it I intimately asked to change the room and after explaining 2 times that i booked a duplex btw it costs the same as a simple double but got way more volume due to the high ceiling was offered a room but only the next day SO i had to check out the next day before 11 o clock in order to get the room i waned to Not the best way to begin your holiday So we had to wait till 13 00 in order to check in my new room what a wonderful waist of my time The room 023 i got was just as i wanted to peaceful internal garden view big window We were tired from waiting the room so we placed our belongings and rushed to the city In the evening it turned out that there was a constant noise in the room i guess it was made by vibrating vent tubes or something it was constant and annoying as hell AND it did not stop even at 2 am making it hard to fall asleep for me and my wife I have an audio recording that i can not attach here but if you want i can send it via e mail The next day the technician came but was not able to determine the cause of the disturbing sound so i was offered to change the room once again the hotel was fully booked and they had only 1 room left the one that was smaller but seems newer   Only the park outside of the hotel was beautiful \n",
      "\n",
      "\n",
      "1    No real complaints the hotel was great great location surroundings rooms amenities and service Two recommendations however firstly the staff upon check in are very confusing regarding deposit payments and the staff offer you upon checkout to refund your original payment and you can make a new one Bit confusing Secondly the on site restaurant is a bit lacking very well thought out and excellent quality food for anyone of a vegetarian or vegan background but even a wrap or toasted sandwich option would be great Aside from those minor minor things fantastic spot and will be back when i return to Amsterdam \n",
      "\n",
      "\n",
      "2  Rooms are nice but for elderly a bit difficult as most rooms are two story with narrow steps So ask for single level Inside the rooms are very very basic just tea coffee and boiler and no bar empty fridge   Location was good and staff were ok It is cute hotel the breakfast range is nice Will go back \n",
      "\n",
      "\n",
      "3  My room was dirty and I was afraid to walk barefoot on the floor which looked as if it was not cleaned in weeks White furniture which looked nice in pictures was dirty too and the door looked like it was attacked by an angry dog My shower drain was clogged and the staff did not respond to my request to clean it On a day with heavy rainfall a pretty common occurrence in Amsterdam the roof in my room was leaking luckily not on the bed you could also see signs of earlier water damage I also saw insects running on the floor Overall the second floor of the property looked dirty and badly kept On top of all of this a repairman who came to fix something in a room next door at midnight was very noisy as were many of the guests I understand the challenges of running a hotel in an old building but this negligence is inconsistent with prices demanded by the hotel On the last night after I complained about water damage the night shift manager offered to move me to a different room but that offer came pretty late around midnight when I was already in bed and ready to sleep   Great location in nice surroundings the bar and restaurant are nice and have a lovely outdoor area The building also has quite some character \n",
      "\n",
      "\n",
      "4  You When I booked with your company on line you showed me pictures of a room I thought I was getting and paying for and then when we arrived that s room was booked and the staff told me we could only book the villa suite theough them directly Which was completely false advertising After being there we realised that you have grouped lots of rooms on the photos together leaving me the consumer confused and extreamly disgruntled especially as its my my wife s 40th birthday present Please make your website more clear through pricing and photos as again I didn t really know what I was paying for and how much it had wnded up being Your photos told me I was getting something I wasn t Not happy and won t be using you again   Amazing location and building Romantic setting \n",
      "\n",
      "\n",
      "5  Backyard of the hotel is total mess shouldn t happen in hotel with 4 stars   Good restaurant with modern design great chill out place Great park nearby the hotel and awesome main stairs \n",
      "\n",
      "\n",
      "6  Cleaner did not change our sheet and duvet everyday but just made bed They also didn t clean the floor and changed the body gel when we run out of it   The room is spacious and bright The hotel is located in a quiet and beautiful park \n",
      "\n",
      "\n",
      "7  Apart from the price for the brekfast Everything very good  Good location Set in a lovely park friendly staff Food high quality We Oth enjoyed the breakfast \n",
      "\n",
      "\n",
      "8  Even though the pictures show very clean rooms the actual room was quit dirty and outlived Also check in is at 15 o clock but our room was not ready at that time  \n",
      "\n",
      "\n",
      "9  The aircondition makes so much noise and its hard to sleep at night   The room was big enough and the bed is good The breakfast food and service on the hotel is good outside the hotel there is a big park which is very good for walk in the morning and evening Many people are having picnics and do some bicycling \n",
      "\n",
      "\n"
     ]
    }
   ],
   "source": [
    "# Set for the total word count of a review a threshold below which reviews will be removed \n",
    "thresh=10\n",
    "idx=Rev_Tot_WCounts<thresh\n",
    "#len(data[idx])/len(data), len(data[~idx])\n",
    "\n",
    "\n",
    "# Reorganize columns\n",
    "categories=['Review_Month','Hotel_City','Reviewer_Nationality','Trip_Type','Traveler_Type']\n",
    "numerics=['Total_Number_of_Reviews_Reviewer_Has_Given','Review_Total_Positive_Word_Counts',\n",
    "          'Review_Total_Negative_Word_Counts','Num_Nights']\n",
    "text=['Negative_Review','Positive_Review']\n",
    "cols=categories+text+['Reviewer_Score']\n",
    "df=data[~idx][cols]\n",
    "\n",
    "\n",
    "df.Negative_Review.replace('No Negative', ' ',inplace=True)\n",
    "df.Positive_Review.replace('No Positive', ' ',inplace=True)\n",
    "\n",
    "# Combine positive and negative reviews\n",
    "Full_Review=df.Negative_Review+' '+df.Positive_Review\n",
    "for num,message in enumerate(Full_Review.head(10)):\n",
    "    print(num,message)\n",
    "    print ('\\n')\n"
   ]
  },
  {
   "cell_type": "code",
   "execution_count": null,
   "metadata": {},
   "outputs": [],
   "source": [
    "# Caution: very time-consuming. We've saved the lemmatized reviews in a csv file\n",
    "\n",
    "\n",
    "#---------Prepare the review text column--------\n",
    "def prepare_txt(txts): #txts=df[txt_col]\n",
    "    # Convert reviews to a list\n",
    "    texts=txts.values.tolist()\n",
    "    \n",
    "    # Remove non-letter characters\n",
    "    texts=[re.sub('[^a-zA-Z]',' ', t) for t in texts]\n",
    "    \n",
    "    # Strip whitespaces\n",
    "    texts=[t.strip() for t in texts]\n",
    "    \n",
    "    return texts\n",
    "   \n",
    "#----------Remove Stopwords-----------------   \n",
    "#Prepare NLTK stopwords\n",
    "from nltk.corpus import stopwords\n",
    "stop_words = stopwords.words('english')\n",
    "stop_words.extend(['hotel'])\n",
    "\n",
    "# Tokenize and Remove stopwords\n",
    "def remove_stopwords(texts):\n",
    "    return [[word for word in gensim.utils.simple_preprocess(str(doc)) if word not in stop_words] for doc in texts]\n",
    "\n",
    "\n",
    "#-----------Lemmatization------------------\n",
    "import warnings\n",
    "warnings.filterwarnings('ignore')\n",
    "\n",
    "# Initialize spacy 'en' model, keeping only tagger component (for efficiency)\n",
    "nlp = spacy.load('en_core_web_sm', disable=['parser', 'ner'])\n",
    "\n",
    "\n",
    "def lemmatization(texts, allowed_postags=['NOUN', 'ADJ', 'VERB', 'ADV']):\n",
    "    \"\"\"https://spacy.io/api/annotation. All pronouns are lemmatized to the special token -PRON-\"\"\"\n",
    "    texts_lemma = []\n",
    "    for w in texts:\n",
    "        doc = nlp(' '.join(w)) \n",
    "        texts_lemma.append(' '.join([token.lemma_ if token.lemma_ not in ['-PRON-'] else '' for token in doc if token.pos_ in allowed_postags]))\n",
    "    return texts_lemma\n",
    "\n",
    "\n",
    "# Do lemmatization keeping only Noun, Adj, Verb, Adverb\n",
    "neg_reviews=remove_stopwords(prepare_txt(df['Negative_Review']))\n",
    "pos_reviews=remove_stopwords(prepare_txt(df['Positive_Review']))\n",
    "\n",
    "\n",
    "neg_rev_lemmatized = lemmatization(neg_reviews, allowed_postags=['NOUN', 'ADJ', 'VERB', 'ADV'])\n",
    "pos_rev_lemmatized = lemmatization(pos_reviews, allowed_postags=['NOUN', 'ADJ', 'VERB', 'ADV'])\n",
    "\n",
    "\n",
    "\n",
    "# Save the lemmatized reviews\n",
    "df['Neg_Rev_Lemmatized']=neg_rev_lemmatized\n",
    "df['Pos_Rev_Lemmatized']=pos_rev_lemmatized\n",
    "\n",
    "\n",
    "df.to_csv('data/htl_rev_lem_added.csv',index=False) "
   ]
  },
  {
   "cell_type": "markdown",
   "metadata": {},
   "source": [
    "**Load Cleaned Data**"
   ]
  },
  {
   "cell_type": "code",
   "execution_count": 6,
   "metadata": {},
   "outputs": [
    {
     "data": {
      "text/html": [
       "<div>\n",
       "<style scoped>\n",
       "    .dataframe tbody tr th:only-of-type {\n",
       "        vertical-align: middle;\n",
       "    }\n",
       "\n",
       "    .dataframe tbody tr th {\n",
       "        vertical-align: top;\n",
       "    }\n",
       "\n",
       "    .dataframe thead th {\n",
       "        text-align: right;\n",
       "    }\n",
       "</style>\n",
       "<table border=\"1\" class=\"dataframe\">\n",
       "  <thead>\n",
       "    <tr style=\"text-align: right;\">\n",
       "      <th></th>\n",
       "      <th>Review_Month</th>\n",
       "      <th>Hotel_City</th>\n",
       "      <th>Reviewer_Nationality</th>\n",
       "      <th>Trip_Type</th>\n",
       "      <th>Traveler_Type</th>\n",
       "      <th>Negative_Review</th>\n",
       "      <th>Positive_Review</th>\n",
       "      <th>Reviewer_Score</th>\n",
       "      <th>Neg_Rev_Lemmatized</th>\n",
       "      <th>Pos_Rev_Lemmatized</th>\n",
       "      <th>Rev_Lemmatized</th>\n",
       "    </tr>\n",
       "  </thead>\n",
       "  <tbody>\n",
       "    <tr>\n",
       "      <th>0</th>\n",
       "      <td>Aug</td>\n",
       "      <td>Amsterdam</td>\n",
       "      <td>Russia</td>\n",
       "      <td>Leisure trip</td>\n",
       "      <td>Couple</td>\n",
       "      <td>I am so angry that i made this post available...</td>\n",
       "      <td>Only the park outside of the hotel was beauti...</td>\n",
       "      <td>2.9</td>\n",
       "      <td>angry make post available possible site use pl...</td>\n",
       "      <td>park beautiful</td>\n",
       "      <td>angry make post available possible site use pl...</td>\n",
       "    </tr>\n",
       "    <tr>\n",
       "      <th>1</th>\n",
       "      <td>Aug</td>\n",
       "      <td>Amsterdam</td>\n",
       "      <td>Ireland</td>\n",
       "      <td>Leisure trip</td>\n",
       "      <td>Couple</td>\n",
       "      <td></td>\n",
       "      <td>No real complaints the hotel was great great ...</td>\n",
       "      <td>7.5</td>\n",
       "      <td>NaN</td>\n",
       "      <td>real complaint great great location surroundin...</td>\n",
       "      <td>real complaint great great location surroundi...</td>\n",
       "    </tr>\n",
       "    <tr>\n",
       "      <th>2</th>\n",
       "      <td>Jul</td>\n",
       "      <td>Amsterdam</td>\n",
       "      <td>Australia</td>\n",
       "      <td>Leisure trip</td>\n",
       "      <td>Family with young children</td>\n",
       "      <td>Rooms are nice but for elderly a bit difficul...</td>\n",
       "      <td>Location was good and staff were ok It is cut...</td>\n",
       "      <td>7.1</td>\n",
       "      <td>room nice elderly bit difficult room story nar...</td>\n",
       "      <td>location good staff cute breakfast range nice ...</td>\n",
       "      <td>room nice elderly bit difficult room story nar...</td>\n",
       "    </tr>\n",
       "    <tr>\n",
       "      <th>3</th>\n",
       "      <td>Jul</td>\n",
       "      <td>Amsterdam</td>\n",
       "      <td>United Kingdom</td>\n",
       "      <td>Leisure trip</td>\n",
       "      <td>Solo traveler</td>\n",
       "      <td>My room was dirty and I was afraid to walk ba...</td>\n",
       "      <td>Great location in nice surroundings the bar a...</td>\n",
       "      <td>3.8</td>\n",
       "      <td>room dirty afraid walk barefoot floor look cle...</td>\n",
       "      <td>great location nice surrounding bar restaurant...</td>\n",
       "      <td>room dirty afraid walk barefoot floor look cle...</td>\n",
       "    </tr>\n",
       "    <tr>\n",
       "      <th>4</th>\n",
       "      <td>Jul</td>\n",
       "      <td>Amsterdam</td>\n",
       "      <td>New Zealand</td>\n",
       "      <td>Leisure trip</td>\n",
       "      <td>Couple</td>\n",
       "      <td>You When I booked with your company on line y...</td>\n",
       "      <td>Amazing location and building Romantic setting</td>\n",
       "      <td>6.7</td>\n",
       "      <td>book company line show picture room think get ...</td>\n",
       "      <td>amazing location build romantic setting</td>\n",
       "      <td>book company line show picture room think get ...</td>\n",
       "    </tr>\n",
       "  </tbody>\n",
       "</table>\n",
       "</div>"
      ],
      "text/plain": [
       "  Review_Month Hotel_City Reviewer_Nationality     Trip_Type  \\\n",
       "0          Aug  Amsterdam              Russia   Leisure trip   \n",
       "1          Aug  Amsterdam             Ireland   Leisure trip   \n",
       "2          Jul  Amsterdam           Australia   Leisure trip   \n",
       "3          Jul  Amsterdam      United Kingdom   Leisure trip   \n",
       "4          Jul  Amsterdam         New Zealand   Leisure trip   \n",
       "\n",
       "                Traveler_Type  \\\n",
       "0                      Couple   \n",
       "1                      Couple   \n",
       "2  Family with young children   \n",
       "3               Solo traveler   \n",
       "4                      Couple   \n",
       "\n",
       "                                     Negative_Review  \\\n",
       "0   I am so angry that i made this post available...   \n",
       "1                                                      \n",
       "2   Rooms are nice but for elderly a bit difficul...   \n",
       "3   My room was dirty and I was afraid to walk ba...   \n",
       "4   You When I booked with your company on line y...   \n",
       "\n",
       "                                     Positive_Review  Reviewer_Score  \\\n",
       "0   Only the park outside of the hotel was beauti...             2.9   \n",
       "1   No real complaints the hotel was great great ...             7.5   \n",
       "2   Location was good and staff were ok It is cut...             7.1   \n",
       "3   Great location in nice surroundings the bar a...             3.8   \n",
       "4    Amazing location and building Romantic setting              6.7   \n",
       "\n",
       "                                  Neg_Rev_Lemmatized  \\\n",
       "0  angry make post available possible site use pl...   \n",
       "1                                                NaN   \n",
       "2  room nice elderly bit difficult room story nar...   \n",
       "3  room dirty afraid walk barefoot floor look cle...   \n",
       "4  book company line show picture room think get ...   \n",
       "\n",
       "                                  Pos_Rev_Lemmatized  \\\n",
       "0                                     park beautiful   \n",
       "1  real complaint great great location surroundin...   \n",
       "2  location good staff cute breakfast range nice ...   \n",
       "3  great location nice surrounding bar restaurant...   \n",
       "4            amazing location build romantic setting   \n",
       "\n",
       "                                      Rev_Lemmatized  \n",
       "0  angry make post available possible site use pl...  \n",
       "1   real complaint great great location surroundi...  \n",
       "2  room nice elderly bit difficult room story nar...  \n",
       "3  room dirty afraid walk barefoot floor look cle...  \n",
       "4  book company line show picture room think get ...  "
      ]
     },
     "execution_count": 6,
     "metadata": {},
     "output_type": "execute_result"
    }
   ],
   "source": [
    "#Load cleaned data\n",
    "df_txt=pd.read_csv('data/htl_rev_lem_added.csv')\n",
    "\n",
    "# Join negative and positive reviews\n",
    "df_txt['Rev_Lemmatized']=df_txt['Neg_Rev_Lemmatized'].fillna('')+' '+df_txt['Pos_Rev_Lemmatized'].fillna('')\n",
    "\n",
    "df_txt.head()"
   ]
  },
  {
   "cell_type": "code",
   "execution_count": 7,
   "metadata": {},
   "outputs": [
    {
     "name": "stdout",
     "output_type": "stream",
     "text": [
      "Number of non-null Negative_Review: 343488\n",
      "Number of non-null Positive_Review: 405189\n",
      "Number of Observations: 429464\n"
     ]
    }
   ],
   "source": [
    "print('Number of non-null Negative_Review: %d' %len(df_txt.Neg_Rev_Lemmatized.dropna()))\n",
    "print('Number of non-null Positive_Review: %d' %len(df_txt.Pos_Rev_Lemmatized.dropna()))\n",
    "print('Number of Observations: %d' %len(df_txt))"
   ]
  },
  {
   "cell_type": "markdown",
   "metadata": {},
   "source": [
    "### Create the Document-Word Matrix \n",
    "We create the document-word matrix by using CountVectorizer as the main input of the LDA topic model. Since the review data is very large, we only consider words that has occurred at at least 10 times (min_df) and with at least character length 3 , remove built-in english stopwords and convert all words to lowercase."
   ]
  },
  {
   "cell_type": "code",
   "execution_count": 8,
   "metadata": {},
   "outputs": [],
   "source": [
    "# Joined negative and positive reviews\n",
    "rev_lemmatized=df_txt['Rev_Lemmatized']\n",
    "\n",
    "# Initialise the CountVectorizer with the required configuration\n",
    "c_vec = CountVectorizer(analyzer='word',       \n",
    "                             min_df=10,                       \n",
    "                             stop_words='english',             \n",
    "                             lowercase=True,                  \n",
    "                             token_pattern='[a-zA-Z]{3,}',    # num chars > 3 \n",
    "                             #max_features=10000             # max number of unique words\n",
    "                            )\n",
    "\n",
    "# Build the vocabulary by 'fit'\n",
    "c_vec.fit(rev_lemmatized)\n",
    "\n",
    "# Convert reviews to a bag of words\n",
    "rev_vectorized=c_vec.transform(rev_lemmatized) "
   ]
  },
  {
   "cell_type": "code",
   "execution_count": 9,
   "metadata": {},
   "outputs": [
    {
     "name": "stdout",
     "output_type": "stream",
     "text": [
      "Shape of Sparse Matrix:  (429464, 10670)\n",
      "Amount of Non-Zero occurences:  6941938\n",
      "sparsity: 0.15%\n"
     ]
    }
   ],
   "source": [
    "# Check the sparscity, i.e., percentage of Non-Zero cells\n",
    "print ('Shape of Sparse Matrix: ', rev_vectorized.shape)\n",
    "print ('Amount of Non-Zero occurences: ', rev_vectorized.nnz)\n",
    "print ('sparsity: %.2f%%' % (100.0 * rev_vectorized.nnz / (rev_vectorized.shape[0] * rev_vectorized.shape[1])))"
   ]
  },
  {
   "cell_type": "code",
   "execution_count": 10,
   "metadata": {},
   "outputs": [
    {
     "data": {
      "image/png": "[encoded data removed]",
      "text/plain": [
       "<Figure size 720x576 with 1 Axes>"
      ]
     },
     "metadata": {},
     "output_type": "display_data"
    }
   ],
   "source": [
    "#Calculate 'count' as the number of documents that a word appears \n",
    "count=(rev_vectorized>0).sum(axis=0).A.tolist()[0]#count as 1 if the word appear in a document regardless how many times it appear\n",
    "plt.hist(count,bins=50,log=True)\n",
    "plt.xlabel('Number of Documents a Word Appears')\n",
    "plt.ylabel('Count (log)')\n",
    "plt.title('Distribution of Number of Documents a Word Appears');"
   ]
  },
  {
   "cell_type": "markdown",
   "metadata": {},
   "source": [
    "The distribution is very long-tailed. Some of the words appear in too many documents."
   ]
  },
  {
   "cell_type": "code",
   "execution_count": 11,
   "metadata": {},
   "outputs": [
    {
     "data": {
      "image/png": "[encoded data removed]",
      "text/plain": [
       "<Figure size 720x576 with 1 Axes>"
      ]
     },
     "metadata": {},
     "output_type": "display_data"
    }
   ],
   "source": [
    "#Construct the cumulative distribution of document frequencies (df)\n",
    "plt.hist(count,bins=np.unique(count),cumulative=True,density=True,histtype='step',linewidth=1.5);\n",
    "plt.xlabel('Document Frequency')\n",
    "plt.ylabel('CDF')\n",
    "plt.xticks(np.arange(0,501,50))\n",
    "plt.xlim(-1,500);\n",
    "\n"
   ]
  },
  {
   "cell_type": "markdown",
   "metadata": {},
   "source": [
    "This CDF plot justified us in setting 'min_df'=10 around which the curve starts to climb steeply."
   ]
  },
  {
   "cell_type": "code",
   "execution_count": 12,
   "metadata": {},
   "outputs": [
    {
     "name": "stdout",
     "output_type": "stream",
     "text": [
      "Lengh of features: 10670\n"
     ]
    }
   ],
   "source": [
    "# Word feature in each column of the transformed matrix\n",
    "wfeatures=c_vec.get_feature_names()\n",
    "print(\"Lengh of features:\",len(wfeatures))"
   ]
  },
  {
   "cell_type": "code",
   "execution_count": 13,
   "metadata": {},
   "outputs": [
    {
     "name": "stdout",
     "output_type": "stream",
     "text": [
      "\n",
      " Top 10 Features in the bag-of-word and the counts:\n",
      "\n"
     ]
    },
    {
     "data": {
      "text/html": [
       "<div>\n",
       "<style scoped>\n",
       "    .dataframe tbody tr th:only-of-type {\n",
       "        vertical-align: middle;\n",
       "    }\n",
       "\n",
       "    .dataframe tbody tr th {\n",
       "        vertical-align: top;\n",
       "    }\n",
       "\n",
       "    .dataframe thead th {\n",
       "        text-align: right;\n",
       "    }\n",
       "</style>\n",
       "<table border=\"1\" class=\"dataframe\">\n",
       "  <thead>\n",
       "    <tr style=\"text-align: right;\">\n",
       "      <th></th>\n",
       "      <th>word</th>\n",
       "      <th>count</th>\n",
       "    </tr>\n",
       "  </thead>\n",
       "  <tbody>\n",
       "    <tr>\n",
       "      <th>0</th>\n",
       "      <td>room</td>\n",
       "      <td>376243</td>\n",
       "    </tr>\n",
       "    <tr>\n",
       "      <th>1</th>\n",
       "      <td>staff</td>\n",
       "      <td>218196</td>\n",
       "    </tr>\n",
       "    <tr>\n",
       "      <th>2</th>\n",
       "      <td>location</td>\n",
       "      <td>178012</td>\n",
       "    </tr>\n",
       "    <tr>\n",
       "      <th>3</th>\n",
       "      <td>good</td>\n",
       "      <td>145318</td>\n",
       "    </tr>\n",
       "    <tr>\n",
       "      <th>4</th>\n",
       "      <td>breakfast</td>\n",
       "      <td>135939</td>\n",
       "    </tr>\n",
       "    <tr>\n",
       "      <th>5</th>\n",
       "      <td>great</td>\n",
       "      <td>106319</td>\n",
       "    </tr>\n",
       "    <tr>\n",
       "      <th>6</th>\n",
       "      <td>bed</td>\n",
       "      <td>97308</td>\n",
       "    </tr>\n",
       "    <tr>\n",
       "      <th>7</th>\n",
       "      <td>friendly</td>\n",
       "      <td>83682</td>\n",
       "    </tr>\n",
       "    <tr>\n",
       "      <th>8</th>\n",
       "      <td>clean</td>\n",
       "      <td>81072</td>\n",
       "    </tr>\n",
       "    <tr>\n",
       "      <th>9</th>\n",
       "      <td>helpful</td>\n",
       "      <td>76320</td>\n",
       "    </tr>\n",
       "  </tbody>\n",
       "</table>\n",
       "</div>"
      ],
      "text/plain": [
       "        word   count\n",
       "0       room  376243\n",
       "1      staff  218196\n",
       "2   location  178012\n",
       "3       good  145318\n",
       "4  breakfast  135939\n",
       "5      great  106319\n",
       "6        bed   97308\n",
       "7   friendly   83682\n",
       "8      clean   81072\n",
       "9    helpful   76320"
      ]
     },
     "execution_count": 13,
     "metadata": {},
     "output_type": "execute_result"
    }
   ],
   "source": [
    "# Word and its count\n",
    "d=dict(zip(wfeatures, np.ravel(rev_vectorized.sum(axis=0))))\n",
    "print('\\n Top 10 Features in the bag-of-word and the counts:\\n')\n",
    "pd.DataFrame(sorted(d.items(),key=lambda x: x[1],reverse=True)[:10],columns=['word','count'])"
   ]
  },
  {
   "cell_type": "code",
   "execution_count": 14,
   "metadata": {},
   "outputs": [
    {
     "data": {
      "image/png": "[encoded data removed]",
      "text/plain": [
       "<Figure size 1080x576 with 1 Axes>"
      ]
     },
     "metadata": {},
     "output_type": "display_data"
    }
   ],
   "source": [
    "# Visualize counts of words\n",
    "d=dict(zip(wfeatures, np.ravel(rev_vectorized.sum(axis=0))))\n",
    "w_c=pd.DataFrame.from_dict((d),orient='index').reset_index()\n",
    "w_c.columns=('word','count')\n",
    "w_c=w_c.sort_values(by='count',ascending=False)\n",
    "\n",
    "plt.figure(figsize=(15,8))\n",
    "sns.barplot(x='word', y='count', data=w_c.head(10).sort_values('count',ascending=False))            \n",
    "plt.title(\"Top 10 Words in Reviews\");"
   ]
  },
  {
   "cell_type": "markdown",
   "metadata": {},
   "source": [
    "### LDA Model \n",
    "\n",
    "The reviews have both negative and positive part. Will the model be able to separate reviews into positive and negative ones? Since topic-modeling can be quite time-consuming and the data is quite large, let's build a 2-topic model to explore this issue. "
   ]
  },
  {
   "cell_type": "code",
   "execution_count": 15,
   "metadata": {},
   "outputs": [
    {
     "name": "stdout",
     "output_type": "stream",
     "text": [
      "0 angry make post available possible site use plan trip make mistake book place make booking book com stay night arrival place small room floor turn room book specially reserve level duplex room would big window high ceiling room mind break window close hello rain mini fridge contain sort bio weapon least guess smell intimately ask change room explain time book duplex btw cost simple double get way volume due high ceiling offer room next day check next day clock order get room wan good way begin holiday wait order check new room wonderful waist time room get want peaceful internal garden view big window tired waiting room place belonging rush city evening turn constant noise room guess make vibrate vent tube something constant annoying hell stop even make hard fall asleep wife audio recording attach want send mail next day technician come able determine because disturb sound offer change room fully book room leave small seem new park beautiful\n",
      "\n",
      "\n",
      "1  real complaint great great location surrounding room amenity service recommendation however firstly staff check confusing regard deposit payment staff offer checkout refund original payment make new bit confusing secondly site restaurant bit lack well think excellent quality food anyone vegetarian vegan background even wrap toast sandwich option would great aside minor minor thing fantastic spot back return amsterdam\n",
      "\n",
      "\n",
      "2 room nice elderly bit difficult room story narrow step ask single level room basic tea coffee boiler bar empty fridge location good staff cute breakfast range nice go back\n",
      "\n",
      "\n",
      "3 room dirty afraid walk barefoot floor look clean week white furniture look nice picture dirty door look attack angry dog shower drain clog staff respond request clean day heavy rainfall pretty common occurrence amsterdam roof room leak luckily bed could also see sign early water damage also see insect run floor overall second floor property look dirty badly keep top repairman come fix something room next door midnight noisy many guest understand challenge run old building negligence inconsistent price demand last night complain water damage night shift manager offer move different room offer come pretty late midnight already bed ready sleep great location nice surrounding bar restaurant nice lovely outdoor area building also character\n",
      "\n",
      "\n",
      "4 book company line show picture room think get pay arrive room book staff tell could book villa suite theough directly completely false advertising realise grouped lot room photo together leave consumer confuse extreamly disgruntle especially wife birthday present make website clear pricing photo really know pay much wnded photo tell get something happy use amazing location build romantic setting\n",
      "\n",
      "\n",
      "5 backyard total mess happen star good restaurant modern design great chill place great park nearby awesome main stair\n",
      "\n",
      "\n",
      "6 clean change sheet duvet everyday make bed also clean floor change body gel run room spacious bright located quiet beautiful park\n",
      "\n",
      "\n",
      "7 apart price brekfast everything good good location set lovely park friendly staff food high quality oth enjoy breakfast\n",
      "\n",
      "\n",
      "8 even picture show clean room actual room quit dirty outlive also check clock room ready time \n",
      "\n",
      "\n",
      "9 aircondition make much noise hard sleep night room big enough bed good breakfast food service good big park good walk morning evening many people picnic bicycle\n",
      "\n",
      "\n"
     ]
    }
   ],
   "source": [
    " for num,message in enumerate(rev_lemmatized[:10]):\n",
    "    print(num,message)\n",
    "    print ('\\n')"
   ]
  },
  {
   "cell_type": "code",
   "execution_count": 16,
   "metadata": {},
   "outputs": [],
   "source": [
    "import timeit\n",
    "start_time = timeit.default_timer()\n",
    "\n",
    "\n",
    "lda_modeln2 = LDA(n_components=2,          \n",
    "                  max_iter=10, # default max learning iterations: 10. with the sample, this code takes mins\n",
    "                  learning_method='online',   \n",
    "                  random_state=100,          # Random state\n",
    "                  batch_size=128,            # default num docs in each learning iter\n",
    "                  evaluate_every = 0,       # compute perplexity every n iters, default: Don't\n",
    "                  n_jobs =1,               # Dont't use all available CPUs\n",
    "                  )\n",
    "\n",
    "lda_modeln2.fit(rev_vectorized)\n",
    "lda_output = lda_modeln2.transform(rev_vectorized)\n",
    "\n",
    "lda_n2_LogLikelihood=lda_modeln2.score(rev_vectorized)\n",
    "lda_n2_perp=lda_modeln2.perplexity(rev_vectorized)\n",
    "\n",
    "elapsed = timeit.default_timer() - start_time #11:37-11:57 #1183.102044557003 seconds\n"
   ]
  },
  {
   "cell_type": "code",
   "execution_count": 18,
   "metadata": {},
   "outputs": [
    {
     "name": "stdout",
     "output_type": "stream",
     "text": [
      "Model parameters:\n",
      "{'batch_size': 128,\n",
      " 'doc_topic_prior': None,\n",
      " 'evaluate_every': 0,\n",
      " 'learning_decay': 0.7,\n",
      " 'learning_method': 'online',\n",
      " 'learning_offset': 10.0,\n",
      " 'max_doc_update_iter': 100,\n",
      " 'max_iter': 10,\n",
      " 'mean_change_tol': 0.001,\n",
      " 'n_components': 2,\n",
      " 'n_jobs': 1,\n",
      " 'n_topics': None,\n",
      " 'perp_tol': 0.1,\n",
      " 'random_state': 100,\n",
      " 'topic_word_prior': None,\n",
      " 'total_samples': 1000000.0,\n",
      " 'verbose': 0}\n",
      "\n",
      "Log Likelihood Score: -49818074.95\n",
      "\n",
      "Perplexity: 703.10\n"
     ]
    }
   ],
   "source": [
    "# See model parameters\n",
    "print('Model parameters:')\n",
    "pprint(lda_modeln2.get_params())\n",
    "\n",
    "#----Diagnose model performance with perplexity and log-likelihood---\n",
    "# Log Likelyhood: Higher the better\n",
    "print(\"\\nLog Likelihood Score: %.2f\" %lda_n2_LogLikelihood) \n",
    "\n",
    "# Perplexity: Lower the better. Perplexity = exp(-1. * log-likelihood per word)\n",
    "print(\"\\nPerplexity: %.2f\" %lda_n2_perp) \n",
    "\n"
   ]
  },
  {
   "cell_type": "code",
   "execution_count": 19,
   "metadata": {},
   "outputs": [
    {
     "name": "stdout",
     "output_type": "stream",
     "text": [
      "Topic 0:\n",
      "room bed staff night good shower check breakfast day bathroom location time work small reception stay make book floor ask pay service need clean door water window use air poor nice hot bad noise come coffee say star open noisy charge leave morning sleep look tell people old arrive really\n",
      "Topic 1:\n",
      "staff room location good breakfast great friendly helpful nice clean excellent comfortable bed stay close restaurant station walk really lovely bar perfect city small view area bit little service food metro quiet amazing price facility minute modern easy love place central pool expensive spacious fantastic train london big comfy beautiful\n"
     ]
    }
   ],
   "source": [
    "# Define a function to display topics\n",
    "def display_topics(model, feature_names, num_top_words):\n",
    "    for topic_idx, topic in enumerate(model.components_):\n",
    "        print (\"Topic %d:\" % (topic_idx))\n",
    "        print (\" \".join([feature_names[i]\n",
    "                        for i in topic.argsort()[:-num_top_words - 1:-1]]))\n",
    "        \n",
    "        \n",
    "num_top_words = 50\n",
    "feature_names=c_vec.get_feature_names()\n",
    "display_topics(lda_modeln2, feature_names, num_top_words)"
   ]
  },
  {
   "cell_type": "markdown",
   "metadata": {},
   "source": [
    "Let's try to include bigrams in the word features."
   ]
  },
  {
   "cell_type": "code",
   "execution_count": 20,
   "metadata": {},
   "outputs": [
    {
     "name": "stdout",
     "output_type": "stream",
     "text": [
      "time 51.05757149000419\n"
     ]
    }
   ],
   "source": [
    "import timeit\n",
    "start_time = timeit.default_timer()\n",
    "\n",
    "\n",
    "# Joined negative and positive reviews\n",
    "rev_lemmatized=df_txt['Rev_Lemmatized']\n",
    "\n",
    "# Initialise the CountVectorizer with the required configuration\n",
    "c_vec2 = CountVectorizer(analyzer='word',       \n",
    "                             min_df=10, \n",
    "                             ngram_range=(1,2),\n",
    "                             stop_words='english',             \n",
    "                             lowercase=True,                  \n",
    "                             token_pattern='[a-zA-Z]{3,}',    # num chars > 3 \n",
    "                             #max_features=10000             # max number of unique words\n",
    "                            )\n",
    "\n",
    "# Build the vocabulary by 'fit'\n",
    "c_vec2.fit(rev_lemmatized)\n",
    "\n",
    "# Convert reviews to a bag of words\n",
    "rev_vectorized2=c_vec2.transform(rev_lemmatized) \n",
    "\n",
    "\n",
    "\n",
    "\n",
    "elapsed = timeit.default_timer() - start_time #11:59-12:00\n",
    "print ('time', elapsed)\n",
    "\n"
   ]
  },
  {
   "cell_type": "code",
   "execution_count": 21,
   "metadata": {},
   "outputs": [
    {
     "name": "stdout",
     "output_type": "stream",
     "text": [
      "time 1406.8599606650096\n",
      "Model parameters:\n",
      "{'batch_size': 128,\n",
      " 'doc_topic_prior': None,\n",
      " 'evaluate_every': 0,\n",
      " 'learning_decay': 0.7,\n",
      " 'learning_method': 'online',\n",
      " 'learning_offset': 10.0,\n",
      " 'max_doc_update_iter': 100,\n",
      " 'max_iter': 10,\n",
      " 'mean_change_tol': 0.001,\n",
      " 'n_components': 2,\n",
      " 'n_jobs': 1,\n",
      " 'n_topics': None,\n",
      " 'perp_tol': 0.1,\n",
      " 'random_state': 100,\n",
      " 'topic_word_prior': None,\n",
      " 'total_samples': 1000000.0,\n",
      " 'verbose': 0}\n",
      "\n",
      "Log Likelihood Score: -107257276.97\n",
      "\n",
      "Perplexity: 5046.94\n"
     ]
    }
   ],
   "source": [
    "import timeit\n",
    "start_time = timeit.default_timer()\n",
    "\n",
    "\n",
    "lda_modeln2bi = LDA(n_components=2,          \n",
    "                  max_iter=10, # default max learning iterations: 10. with the sample, this code takes mins\n",
    "                  learning_method='online',   \n",
    "                  random_state=100,          # Random state\n",
    "                  batch_size=128,            # default num docs in each learning iter\n",
    "                  evaluate_every = 0,       # compute perplexity every n iters, default: Don't\n",
    "                  n_jobs =1,               # Dont't use all available CPUs\n",
    "                  )\n",
    "\n",
    "lda_modeln2bi.fit(rev_vectorized2)\n",
    "lda_outputbi = lda_modeln2bi.transform(rev_vectorized2)\n",
    "\n",
    "lda_n2_LogLikelihoodbi=lda_modeln2bi.score(rev_vectorized2)\n",
    "lda_n2_perpbi=lda_modeln2bi.perplexity(rev_vectorized2)\n",
    "\n",
    "elapsed = timeit.default_timer() - start_time #12:00-12:25\n",
    "print ('time', elapsed)\n",
    "\n",
    "\n",
    "\n",
    "# See model parameters\n",
    "print('Model parameters:')\n",
    "pprint(lda_modeln2bi.get_params())\n",
    "\n",
    "#----Diagnose model performance with perplexity and log-likelihood---\n",
    "# Log Likelyhood: Higher the better\n",
    "print(\"\\nLog Likelihood Score: %.2f\" %lda_n2_LogLikelihoodbi) \n",
    "\n",
    "# Perplexity: Lower the better. Perplexity = exp(-1. * log-likelihood per word)\n",
    "print(\"\\nPerplexity: %.2f\" %lda_n2_perpbi) \n",
    "\n"
   ]
  },
  {
   "cell_type": "code",
   "execution_count": 22,
   "metadata": {},
   "outputs": [
    {
     "name": "stdout",
     "output_type": "stream",
     "text": [
      "Topic 0:\n",
      "staff room location great good breakfast friendly helpful nice clean excellent comfortable stay bed station close walk restaurant lovely really bar perfect city great location staff friendly bit little area view metro service friendly staff small amazing food quiet friendly helpful staff helpful modern facility easy minute love central price place spacious helpful staff fantastic good location\n",
      "Topic 1:\n",
      "room bed staff breakfast good location night check small bathroom day time shower work reception stay book floor service clean ask pay make need water door window use nice air poor hot bad noise star say open coffee noisy charge morning come leave look tell sleep price old people really\n"
     ]
    }
   ],
   "source": [
    "num_top_words = 50\n",
    "feature_names2=c_vec2.get_feature_names()\n",
    "display_topics(lda_modeln2bi, feature_names2, num_top_words)"
   ]
  },
  {
   "cell_type": "markdown",
   "metadata": {},
   "source": [
    "Since we have limited computing resources and it takes several hours to run the LDA code with original data, we pick n_components=5 for display purpose. We will compare accuracy score in machine learning part for larger n_components=5,50,100 to analyze how n_components affects the model performance."
   ]
  },
  {
   "cell_type": "code",
   "execution_count": 23,
   "metadata": {},
   "outputs": [
    {
     "name": "stdout",
     "output_type": "stream",
     "text": [
      "--- 1032.1848027706146 seconds ---\n"
     ]
    }
   ],
   "source": [
    "import time\n",
    "start_time = time.time()\n",
    "\n",
    "\n",
    "lda_modeln5 = LDA(n_components=5,          \n",
    "                  max_iter=10, # default max learning iterations: 10. takes 3mins\n",
    "                  learning_method='online',   \n",
    "                  random_state=100,          # Random state\n",
    "                  batch_size=128,            # default num docs in each learning iter\n",
    "                  evaluate_every = 0,       # compute perplexity every n iters, default: Don't\n",
    "                  n_jobs =1,               # Don't use all available CPUs\n",
    "                  )\n",
    "lda_modeln5.fit(rev_vectorized)\n",
    "lda_output = lda_modeln5.transform(rev_vectorized)\n",
    "\n",
    "print(\"--- %s seconds ---\" % (time.time() - start_time))\n",
    "\n"
   ]
  },
  {
   "cell_type": "code",
   "execution_count": 24,
   "metadata": {},
   "outputs": [
    {
     "name": "stdout",
     "output_type": "stream",
     "text": [
      "\n",
      "Log Likelihood Score: -50135369.38\n",
      "\n",
      "Perplexity: 733.08\n",
      "--- 179.58650016784668 seconds ---\n"
     ]
    }
   ],
   "source": [
    "import time\n",
    "start_time = time.time()\n",
    "\n",
    "\n",
    "lda_n5_LogLikelihood=lda_modeln5.score(rev_vectorized)\n",
    "lda_n5_perp=lda_modeln5.perplexity(rev_vectorized)\n",
    "\n",
    "#----Diagnose model performance with perplexity and log-likelihood---\n",
    "# Log Likelyhood: Higher the better\n",
    "print(\"\\nLog Likelihood Score: %.2f\" %lda_n5_LogLikelihood) \n",
    "\n",
    "# Perplexity: Lower the better. Perplexity = exp(-1. * log-likelihood per word)\n",
    "print(\"\\nPerplexity: %.2f\" %lda_n5_perp) \n",
    "\n",
    "print(\"--- %s seconds ---\" % (time.time() - start_time))\n",
    "\n"
   ]
  },
  {
   "cell_type": "code",
   "execution_count": 25,
   "metadata": {},
   "outputs": [
    {
     "name": "stdout",
     "output_type": "stream",
     "text": [
      "Topic 0:\n",
      "bed room bathroom shower comfortable small comfy clean nice water good location pillow big bath size great coffee double large bedroom really little towel space bit single tea hard lovely spacious make toilet light quiet use uncomfortable view modern design sleep floor need soft free low door mattress area glass\n",
      "Topic 1:\n",
      "staff breakfast room location friendly helpful good great excellent clean nice bar food comfortable service lovely really restaurant facility stay perfect price amazing coffee little expensive view small bit choice fantastic love extremely buffet beautiful quality reception drink tea area free wifi include spacious wonderful modern definitely polite pleasant quiet\n",
      "Topic 2:\n",
      "location close walk station good great city metro nice restaurant pool minute easy room area clean train centre value parking min breakfast central center far tram distance away place street park bus quiet stay right perfect excellent locate money tube stop london bit access comfortable view car shop airport main\n",
      "Topic 3:\n",
      "stay staff check room time day book make pay ask service reception night say charge come tell help leave extra arrive wait welcome feel want upgrade hour request offer use arrival free really guest early desk card experience know booking late return suite thank conditioning long thing try think bar\n",
      "Topic 4:\n",
      "room location good work night breakfast floor window air door noise star open noisy small old bad need clean poor look wifi hot euro lift sleep day bathroom morning smell hear people cold time reception quite outside dirty roof wall machine tiny view internet price rude building nice water light\n"
     ]
    }
   ],
   "source": [
    "num_top_words = 50\n",
    "feature_names=c_vec.get_feature_names()\n",
    "display_topics(lda_modeln5, feature_names, num_top_words)"
   ]
  },
  {
   "cell_type": "code",
   "execution_count": 26,
   "metadata": {},
   "outputs": [],
   "source": [
    "# Save model using pickle\n",
    "filename = 'lda_modeln5.sav'\n",
    "pickle.dump(lda_modeln5, open(filename, 'wb'))\n",
    " \n",
    "# some time later...\n",
    " \n",
    "# load the model from disk\n",
    "lda_modeln5 = pickle.load(open(filename, 'rb'))"
   ]
  },
  {
   "cell_type": "code",
   "execution_count": 27,
   "metadata": {},
   "outputs": [
    {
     "name": "stdout",
     "output_type": "stream",
     "text": [
      "\n",
      "Log Likelihood Score: -106800799.62\n",
      "\n",
      "Perplexity: 4867.08\n",
      "--- 1974.4376039505005 seconds ---\n"
     ]
    }
   ],
   "source": [
    "import time\n",
    "start_time = time.time()\n",
    "\n",
    "\n",
    "lda_modeln5bi = LDA(n_components=5,          \n",
    "                  max_iter=10, # default max learning iterations: 10. takes 3mins\n",
    "                  learning_method='online',   \n",
    "                  random_state=100,          # Random state\n",
    "                  batch_size=128,            # default num docs in each learning iter\n",
    "                  evaluate_every = 0,       # compute perplexity every n iters, default: Don't\n",
    "                  n_jobs =1,               # Don't use all available CPUs\n",
    "                  )\n",
    "lda_modeln5bi.fit(rev_vectorized2)\n",
    "lda_output = lda_modeln5bi.transform(rev_vectorized2)\n",
    "\n",
    "\n",
    "lda_n5_LogLikelihoodbi=lda_modeln5bi.score(rev_vectorized2)\n",
    "lda_n5_perpbi=lda_modeln5bi.perplexity(rev_vectorized2)\n",
    "\n",
    "#----Diagnose model performance with perplexity and log-likelihood---\n",
    "# Log Likelyhood: Higher the better\n",
    "print(\"\\nLog Likelihood Score: %.2f\" %lda_n5_LogLikelihoodbi) \n",
    "\n",
    "# Perplexity: Lower the better. Perplexity = exp(-1. * log-likelihood per word)\n",
    "print(\"\\nPerplexity: %.2f\" %lda_n5_perpbi) \n",
    "\n",
    "\n",
    "print(\"--- %s seconds ---\" % (time.time() - start_time))#9:53-10:26\n",
    "\n"
   ]
  },
  {
   "cell_type": "code",
   "execution_count": 28,
   "metadata": {},
   "outputs": [
    {
     "name": "stdout",
     "output_type": "stream",
     "text": [
      "Topic 0:\n",
      "breakfast room good bed comfortable location clean great nice coffee service excellent food comfy spacious wifi price tea bathroom choice facility breakfast good quality comfortable bed good breakfast expensive lovely good location bed comfortable small include big large bar buffet poor room good size shower bit room clean great location comfy bed slow little fresh free restaurant pillow quiet\n",
      "Topic 1:\n",
      "room bed location small bathroom work shower night floor window door good air noise clean noisy open sleep old water double look need staff hot room small light bad view nice bath toilet wall change star smell hear cold use lift people poor single really conditioning air conditioning dirty towel size quite\n",
      "Topic 2:\n",
      "staff friendly helpful location great room excellent stay nice staff friendly bar really friendly staff amazing friendly helpful clean lovely pool staff helpful good perfect helpful staff love fantastic view comfortable great location beautiful welcome recommend restaurant definitely extremely facility reception wonderful area super food little value polite feel pleasant helpful friendly place service spa especially enjoy\n",
      "Topic 3:\n",
      "stay check room time day pay book staff make ask free reception service night say charge leave tell extra come upgrade arrive use wait want hour guest offer hotel early kind travel help arrival provide card suite know late desk request thing taxi need experience drink morning star booking think\n",
      "Topic 4:\n",
      "location close walk station good city room metro great restaurant easy minute nice central area street clean quiet train centre small min center bit tram london distance perfect far away park bus place right locate convenient tube little minute walk stop access metro station car shop parking train station main modern airport comfortable\n"
     ]
    }
   ],
   "source": [
    "num_top_words = 50\n",
    "feature_names2=c_vec2.get_feature_names()\n",
    "display_topics(lda_modeln5bi, feature_names2, num_top_words)"
   ]
  },
  {
   "cell_type": "code",
   "execution_count": null,
   "metadata": {},
   "outputs": [],
   "source": [
    "# # GridSearch will Take several hours\n",
    "# import warnings\n",
    "# warnings.filterwarnings('ignore')\n",
    "\n",
    "\n",
    "# # Define Search Param\n",
    "# search_params = {'n_components': [5, 50, 100]}\n",
    "\n",
    "# # Init the Model\n",
    "# lda = LDA(n_jobs=1,random_state=100)\n",
    "\n",
    "# # Init Grid Search Class\n",
    "# model = GridSearchCV(lda, param_grid=search_params) \n",
    "\n",
    "# # Do the Grid Search\n",
    "# model.fit(rev_vectorized)\n",
    "\n",
    "# # Show the best topic model and its parameters\n",
    "\n",
    "# # Best Model\n",
    "# best_lda_model = model.best_estimator_\n",
    "\n",
    "# # Model Parameters\n",
    "# print(\"Best Model's Params: \", model.best_params_)\n",
    "\n",
    "# # Log Likelihood Score\n",
    "# print(\"Best Log Likelihood Score: %.2f\" %(model.best_score_))\n",
    "\n",
    "# # Perplexity\n",
    "# print(\"Model Perplexity: %.2f\" %( best_lda_model.perplexity(rev_vectorized)))\n",
    "\n",
    "\n",
    "# #Save the best_lda_model\n",
    "\n",
    "# # # Save model using pickle\n",
    "# filename = 'best_lda.sav'\n",
    "# pickle.dump(best_lda_model, open(filename, 'wb'))\n",
    " \n",
    "# # some time later...\n",
    " \n",
    "# # load the model from disk\n",
    "# best_lda_model = pickle.load(open(filename, 'rb'))"
   ]
  },
  {
   "cell_type": "markdown",
   "metadata": {},
   "source": [
    "### Dominant Topic in each Document\n",
    "\n",
    "What particular topic does a document belong to? A dominant topic in a document is spotted by finding the topic that has the highest contributions (revealed by the document-topic matrix) to that document. We will first display top 20 keywords in all the topics and then make a table to show all major topics in a document and specify the most dominant topic in that document."
   ]
  },
  {
   "cell_type": "markdown",
   "metadata": {},
   "source": [
    "#### Display keywords in topics"
   ]
  },
  {
   "cell_type": "code",
   "execution_count": 29,
   "metadata": {},
   "outputs": [
    {
     "name": "stdout",
     "output_type": "stream",
     "text": [
      "Top 20 Words in topics found in the 5-topic lda_model\n",
      "Topic 0:\n",
      "bed room bathroom shower comfortable small comfy clean nice water good location pillow big bath size great coffee double large\n",
      "Topic 1:\n",
      "staff breakfast room location friendly helpful good great excellent clean nice bar food comfortable service lovely really restaurant facility stay\n",
      "Topic 2:\n",
      "location close walk station good great city metro nice restaurant pool minute easy room area clean train centre value parking\n",
      "Topic 3:\n",
      "stay staff check room time day book make pay ask service reception night say charge come tell help leave extra\n",
      "Topic 4:\n",
      "room location good work night breakfast floor window air door noise star open noisy small old bad need clean poor\n"
     ]
    }
   ],
   "source": [
    "num_top_words = 20\n",
    "feature_names=c_vec.get_feature_names()\n",
    "print('Top 20 Words in topics found in the 5-topic lda_model')\n",
    "display_topics(lda_modeln5, feature_names, num_top_words)"
   ]
  },
  {
   "cell_type": "markdown",
   "metadata": {},
   "source": [
    "Topic 0 mentioned facilities in the hotel, i.e.,'room', 'shower', 'water', 'location', 'pillow'.<br>\n",
    "Topic 1 mentioned 'staff', 'location', food ('breakfast', 'bar', 'restaurant'), 'service'.<br>\n",
    "Topic 2 talks about 'lcoation', 'transport', 'restaurant','parking'.<br>\n",
    "Topic 3 talks about 'staff', 'receptoin', 'service'.<br>\n",
    "Topic 4 talks about some negative aspects 'noise', 'small', 'old', 'bad', 'poor'.<br>"
   ]
  },
  {
   "cell_type": "markdown",
   "metadata": {},
   "source": [
    "#### Make a  Document - Topic Table "
   ]
  },
  {
   "cell_type": "code",
   "execution_count": 30,
   "metadata": {
    "scrolled": true
   },
   "outputs": [
    {
     "data": {
      "text/html": [
       "<div>\n",
       "<style scoped>\n",
       "    .dataframe tbody tr th:only-of-type {\n",
       "        vertical-align: middle;\n",
       "    }\n",
       "\n",
       "    .dataframe tbody tr th {\n",
       "        vertical-align: top;\n",
       "    }\n",
       "\n",
       "    .dataframe thead th {\n",
       "        text-align: right;\n",
       "    }\n",
       "</style>\n",
       "<table border=\"1\" class=\"dataframe\">\n",
       "  <thead>\n",
       "    <tr style=\"text-align: right;\">\n",
       "      <th></th>\n",
       "      <th>Topic0</th>\n",
       "      <th>Topic1</th>\n",
       "      <th>Topic2</th>\n",
       "      <th>Topic3</th>\n",
       "      <th>Topic4</th>\n",
       "      <th>dominant_topic</th>\n",
       "    </tr>\n",
       "  </thead>\n",
       "  <tbody>\n",
       "    <tr>\n",
       "      <th>Doc0</th>\n",
       "      <td>0.03</td>\n",
       "      <td>0.00</td>\n",
       "      <td>0.07</td>\n",
       "      <td>0.47</td>\n",
       "      <td>0.43</td>\n",
       "      <td>3</td>\n",
       "    </tr>\n",
       "    <tr>\n",
       "      <th>Doc1</th>\n",
       "      <td>0.12</td>\n",
       "      <td>0.45</td>\n",
       "      <td>0.11</td>\n",
       "      <td>0.32</td>\n",
       "      <td>0.00</td>\n",
       "      <td>1</td>\n",
       "    </tr>\n",
       "    <tr>\n",
       "      <th>Doc2</th>\n",
       "      <td>0.20</td>\n",
       "      <td>0.41</td>\n",
       "      <td>0.01</td>\n",
       "      <td>0.12</td>\n",
       "      <td>0.26</td>\n",
       "      <td>1</td>\n",
       "    </tr>\n",
       "    <tr>\n",
       "      <th>Doc3</th>\n",
       "      <td>0.08</td>\n",
       "      <td>0.00</td>\n",
       "      <td>0.06</td>\n",
       "      <td>0.25</td>\n",
       "      <td>0.60</td>\n",
       "      <td>4</td>\n",
       "    </tr>\n",
       "    <tr>\n",
       "      <th>Doc4</th>\n",
       "      <td>0.00</td>\n",
       "      <td>0.00</td>\n",
       "      <td>0.06</td>\n",
       "      <td>0.68</td>\n",
       "      <td>0.26</td>\n",
       "      <td>3</td>\n",
       "    </tr>\n",
       "    <tr>\n",
       "      <th>Doc5</th>\n",
       "      <td>0.01</td>\n",
       "      <td>0.38</td>\n",
       "      <td>0.30</td>\n",
       "      <td>0.16</td>\n",
       "      <td>0.14</td>\n",
       "      <td>1</td>\n",
       "    </tr>\n",
       "    <tr>\n",
       "      <th>Doc6</th>\n",
       "      <td>0.89</td>\n",
       "      <td>0.01</td>\n",
       "      <td>0.08</td>\n",
       "      <td>0.01</td>\n",
       "      <td>0.01</td>\n",
       "      <td>0</td>\n",
       "    </tr>\n",
       "    <tr>\n",
       "      <th>Doc7</th>\n",
       "      <td>0.01</td>\n",
       "      <td>0.88</td>\n",
       "      <td>0.09</td>\n",
       "      <td>0.01</td>\n",
       "      <td>0.01</td>\n",
       "      <td>1</td>\n",
       "    </tr>\n",
       "    <tr>\n",
       "      <th>Doc8</th>\n",
       "      <td>0.22</td>\n",
       "      <td>0.02</td>\n",
       "      <td>0.02</td>\n",
       "      <td>0.34</td>\n",
       "      <td>0.41</td>\n",
       "      <td>4</td>\n",
       "    </tr>\n",
       "    <tr>\n",
       "      <th>Doc9</th>\n",
       "      <td>0.27</td>\n",
       "      <td>0.22</td>\n",
       "      <td>0.25</td>\n",
       "      <td>0.01</td>\n",
       "      <td>0.26</td>\n",
       "      <td>0</td>\n",
       "    </tr>\n",
       "  </tbody>\n",
       "</table>\n",
       "</div>"
      ],
      "text/plain": [
       "      Topic0  Topic1  Topic2  Topic3  Topic4  dominant_topic\n",
       "Doc0    0.03    0.00    0.07    0.47    0.43               3\n",
       "Doc1    0.12    0.45    0.11    0.32    0.00               1\n",
       "Doc2    0.20    0.41    0.01    0.12    0.26               1\n",
       "Doc3    0.08    0.00    0.06    0.25    0.60               4\n",
       "Doc4    0.00    0.00    0.06    0.68    0.26               3\n",
       "Doc5    0.01    0.38    0.30    0.16    0.14               1\n",
       "Doc6    0.89    0.01    0.08    0.01    0.01               0\n",
       "Doc7    0.01    0.88    0.09    0.01    0.01               1\n",
       "Doc8    0.22    0.02    0.02    0.34    0.41               4\n",
       "Doc9    0.27    0.22    0.25    0.01    0.26               0"
      ]
     },
     "execution_count": 30,
     "metadata": {},
     "output_type": "execute_result"
    }
   ],
   "source": [
    "# Create Document - Topic Matrix\n",
    "lda_output=lda_modeln5.transform(rev_vectorized)\n",
    "\n",
    "# column names\n",
    "topicnames = [\"Topic\" + str(i) for i in range(lda_modeln5.n_components)]\n",
    "\n",
    "# index names\n",
    "docnames = [\"Doc\" + str(i) for i in range(len(df_txt))]\n",
    "\n",
    "# Make the pandas dataframe\n",
    "df_document_topic = pd.DataFrame(np.round(lda_output, 2), columns=topicnames, index=docnames)\n",
    "\n",
    "# Get dominant topic for each document\n",
    "dominant_topic = np.argmax(df_document_topic.values, axis=1)\n",
    "df_document_topic['dominant_topic'] = dominant_topic\n",
    "\n",
    "df_document_topics = df_document_topic.head(10)\n",
    "df_document_topics\n"
   ]
  },
  {
   "cell_type": "markdown",
   "metadata": {},
   "source": [
    "#### Visualize topics distribution across documents"
   ]
  },
  {
   "cell_type": "code",
   "execution_count": 31,
   "metadata": {},
   "outputs": [
    {
     "data": {
      "text/html": [
       "<div>\n",
       "<style scoped>\n",
       "    .dataframe tbody tr th:only-of-type {\n",
       "        vertical-align: middle;\n",
       "    }\n",
       "\n",
       "    .dataframe tbody tr th {\n",
       "        vertical-align: top;\n",
       "    }\n",
       "\n",
       "    .dataframe thead th {\n",
       "        text-align: right;\n",
       "    }\n",
       "</style>\n",
       "<table border=\"1\" class=\"dataframe\">\n",
       "  <thead>\n",
       "    <tr style=\"text-align: right;\">\n",
       "      <th></th>\n",
       "      <th>Topic</th>\n",
       "      <th>Num_Documents</th>\n",
       "    </tr>\n",
       "  </thead>\n",
       "  <tbody>\n",
       "    <tr>\n",
       "      <th>0</th>\n",
       "      <td>1</td>\n",
       "      <td>153341</td>\n",
       "    </tr>\n",
       "    <tr>\n",
       "      <th>1</th>\n",
       "      <td>2</td>\n",
       "      <td>78369</td>\n",
       "    </tr>\n",
       "    <tr>\n",
       "      <th>2</th>\n",
       "      <td>3</td>\n",
       "      <td>75114</td>\n",
       "    </tr>\n",
       "    <tr>\n",
       "      <th>3</th>\n",
       "      <td>4</td>\n",
       "      <td>65793</td>\n",
       "    </tr>\n",
       "    <tr>\n",
       "      <th>4</th>\n",
       "      <td>0</td>\n",
       "      <td>56847</td>\n",
       "    </tr>\n",
       "  </tbody>\n",
       "</table>\n",
       "</div>"
      ],
      "text/plain": [
       "   Topic  Num_Documents\n",
       "0      1         153341\n",
       "1      2          78369\n",
       "2      3          75114\n",
       "3      4          65793\n",
       "4      0          56847"
      ]
     },
     "execution_count": 31,
     "metadata": {},
     "output_type": "execute_result"
    }
   ],
   "source": [
    "df_topic_distribution = df_document_topic['dominant_topic'].value_counts().reset_index(name=\"Num_Documents\")\n",
    "df_topic_distribution.columns = ['Topic', 'Num_Documents']\n",
    "df_topic_distribution"
   ]
  },
  {
   "cell_type": "code",
   "execution_count": 32,
   "metadata": {},
   "outputs": [
    {
     "data": {
      "image/png": "[encoded data removed]",
      "text/plain": [
       "<Figure size 720x576 with 1 Axes>"
      ]
     },
     "metadata": {},
     "output_type": "display_data"
    }
   ],
   "source": [
    "# Visualize the topic distributions across sampled documents\n",
    "df_topic_distribution['Num_Documents'].plot(kind='bar',rot=0)\n",
    "plt.xticks(np.arange(0,5),'Topic'+df_topic_distribution['Topic'].astype('str'));"
   ]
  },
  {
   "cell_type": "markdown",
   "metadata": {},
   "source": [
    "Most of the documents in our sample seems to about Topic1. "
   ]
  },
  {
   "cell_type": "markdown",
   "metadata": {},
   "source": [
    "### Visualize the LDA Model with pyLDAvis "
   ]
  },
  {
   "cell_type": "code",
   "execution_count": 34,
   "metadata": {},
   "outputs": [
    {
     "name": "stdout",
     "output_type": "stream",
     "text": [
      "--- 70.61420583724976 seconds ---\n"
     ]
    },
    {
     "data": {
      "text/html": [
       "\n",
       "<link rel=\"stylesheet\" type=\"text/css\" href=\"https://cdn.rawgit.com/bmabey/pyLDAvis/files/ldavis.v1.0.0.css\">\n",
       "\n",
       "\n",
       "<div id=\"ldavis_el1042554812181206994587430\"></div>\n",
       "<script type=\"text/javascript\">\n",
       "\n",
       "var ldavis_el1042554812181206994587430_data = {\"mdsDat\": {\"Freq\": [24.981591857422984, 22.721737469317834, 18.682258956335623, 18.41067906031288, 15.20373265661068], \"cluster\": [1, 1, 1, 1, 1], \"topics\": [1, 2, 3, 4, 5], \"x\": [151.94564819335938, -25.139259338378906, 57.24263000488281, 97.99536895751953, -81.8672866821289], \"y\": [-108.52029418945312, -175.86215209960938, -5.324613094329834, -243.45773315429688, -47.35063552856445]}, \"tinfo\": {\"Category\": [\"Default\", \"Default\", \"Default\", \"Default\", \"Default\", \"Default\", \"Default\", \"Default\", \"Default\", \"Default\", \"Default\", \"Default\", \"Default\", \"Default\", \"Default\", \"Default\", \"Default\", \"Default\", \"Default\", \"Default\", \"Default\", \"Default\", \"Default\", \"Default\", \"Default\", \"Default\", \"Default\", \"Default\", \"Default\", \"Default\", \"Topic1\", \"Topic1\", \"Topic1\", \"Topic1\", \"Topic1\", \"Topic1\", \"Topic1\", \"Topic1\", \"Topic1\", \"Topic1\", \"Topic1\", \"Topic1\", \"Topic1\", \"Topic1\", \"Topic1\", \"Topic1\", \"Topic1\", \"Topic1\", \"Topic1\", \"Topic1\", \"Topic1\", \"Topic1\", \"Topic1\", \"Topic1\", \"Topic1\", \"Topic1\", \"Topic1\", \"Topic1\", \"Topic1\", \"Topic1\", \"Topic1\", \"Topic1\", \"Topic1\", \"Topic1\", \"Topic1\", \"Topic1\", \"Topic1\", \"Topic1\", \"Topic1\", \"Topic1\", \"Topic1\", \"Topic1\", \"Topic1\", \"Topic1\", \"Topic1\", \"Topic1\", \"Topic1\", \"Topic1\", \"Topic1\", \"Topic1\", \"Topic1\", \"Topic1\", \"Topic1\", \"Topic1\", \"Topic1\", \"Topic1\", \"Topic1\", \"Topic1\", \"Topic1\", \"Topic1\", \"Topic1\", \"Topic1\", \"Topic1\", \"Topic1\", \"Topic1\", \"Topic1\", \"Topic1\", \"Topic1\", \"Topic1\", \"Topic1\", \"Topic2\", \"Topic2\", \"Topic2\", \"Topic2\", \"Topic2\", \"Topic2\", \"Topic2\", \"Topic2\", \"Topic2\", \"Topic2\", \"Topic2\", \"Topic2\", \"Topic2\", \"Topic2\", \"Topic2\", \"Topic2\", \"Topic2\", \"Topic2\", \"Topic2\", \"Topic2\", \"Topic2\", \"Topic2\", \"Topic2\", \"Topic2\", \"Topic2\", \"Topic2\", \"Topic2\", \"Topic2\", \"Topic2\", \"Topic2\", \"Topic2\", \"Topic2\", \"Topic2\", \"Topic2\", \"Topic2\", \"Topic2\", \"Topic2\", \"Topic2\", \"Topic2\", \"Topic2\", \"Topic2\", \"Topic2\", \"Topic2\", \"Topic2\", \"Topic2\", \"Topic2\", \"Topic2\", \"Topic2\", \"Topic2\", \"Topic2\", \"Topic2\", \"Topic2\", \"Topic2\", \"Topic2\", \"Topic2\", \"Topic2\", \"Topic3\", \"Topic3\", \"Topic3\", \"Topic3\", \"Topic3\", \"Topic3\", \"Topic3\", \"Topic3\", \"Topic3\", \"Topic3\", \"Topic3\", \"Topic3\", \"Topic3\", \"Topic3\", \"Topic3\", \"Topic3\", \"Topic3\", \"Topic3\", \"Topic3\", \"Topic3\", \"Topic3\", \"Topic3\", \"Topic3\", \"Topic3\", \"Topic3\", \"Topic3\", \"Topic3\", \"Topic3\", \"Topic3\", \"Topic3\", \"Topic3\", \"Topic3\", \"Topic3\", \"Topic3\", \"Topic3\", \"Topic3\", \"Topic3\", \"Topic3\", \"Topic3\", \"Topic3\", \"Topic3\", \"Topic3\", \"Topic3\", \"Topic3\", \"Topic3\", \"Topic3\", \"Topic3\", \"Topic3\", \"Topic3\", \"Topic3\", \"Topic3\", \"Topic3\", \"Topic3\", \"Topic4\", \"Topic4\", \"Topic4\", \"Topic4\", \"Topic4\", \"Topic4\", \"Topic4\", \"Topic4\", \"Topic4\", \"Topic4\", \"Topic4\", \"Topic4\", \"Topic4\", \"Topic4\", \"Topic4\", \"Topic4\", \"Topic4\", \"Topic4\", \"Topic4\", \"Topic4\", \"Topic4\", \"Topic4\", \"Topic4\", \"Topic4\", \"Topic4\", \"Topic4\", \"Topic4\", \"Topic4\", \"Topic4\", \"Topic4\", \"Topic4\", \"Topic4\", \"Topic4\", \"Topic4\", \"Topic4\", \"Topic4\", \"Topic4\", \"Topic4\", \"Topic4\", \"Topic4\", \"Topic4\", \"Topic4\", \"Topic4\", \"Topic4\", \"Topic4\", \"Topic4\", \"Topic4\", \"Topic4\", \"Topic4\", \"Topic4\", \"Topic4\", \"Topic4\", \"Topic4\", \"Topic5\", \"Topic5\", \"Topic5\", \"Topic5\", \"Topic5\", \"Topic5\", \"Topic5\", \"Topic5\", \"Topic5\", \"Topic5\", \"Topic5\", \"Topic5\", \"Topic5\", \"Topic5\", \"Topic5\", \"Topic5\", \"Topic5\", \"Topic5\", \"Topic5\", \"Topic5\", \"Topic5\", \"Topic5\", \"Topic5\", \"Topic5\", \"Topic5\", \"Topic5\", \"Topic5\", \"Topic5\", \"Topic5\", \"Topic5\", \"Topic5\", \"Topic5\", \"Topic5\", \"Topic5\", \"Topic5\", \"Topic5\", \"Topic5\", \"Topic5\", \"Topic5\", \"Topic5\", \"Topic5\", \"Topic5\", \"Topic5\", \"Topic5\", \"Topic5\", \"Topic5\", \"Topic5\", \"Topic5\", \"Topic5\", \"Topic5\", \"Topic5\", \"Topic5\", \"Topic5\", \"Topic5\", \"Topic5\", \"Topic5\", \"Topic5\", \"Topic5\"], \"Freq\": [98758.0, 211354.0, 80403.0, 369911.0, 74356.0, 140570.0, 35152.0, 45774.0, 36392.0, 36350.0, 104244.0, 40649.0, 173833.0, 57183.0, 33777.0, 27482.0, 61678.0, 25840.0, 147976.0, 20165.0, 27087.0, 66914.0, 21424.0, 24008.0, 54293.0, 43905.0, 37157.0, 18126.0, 34023.0, 36149.0, 8605.053601653857, 6148.848543538645, 5021.984597760158, 4783.977456459595, 4704.962870393747, 4218.512108660954, 2981.743203760355, 2790.8760324912882, 2829.425341651265, 2574.3143068180834, 2348.1129090554427, 2280.7282384020577, 2240.7566516048387, 2113.6573078728306, 1972.0177249235685, 1926.9581382932065, 1788.9476945809195, 1620.3291968763592, 1584.2380682478304, 1514.0074416489247, 1428.2584015059026, 1427.663907292701, 1398.7818382965443, 1280.0229733278154, 1250.5431514706768, 1279.8971749954615, 1234.7059939203743, 5050.999897046174, 1100.8914004785554, 1040.0338792948855, 80299.37332290655, 73906.55385640786, 27020.399443253227, 4726.914404409726, 1837.1962450221126, 4899.126354801091, 170853.820436352, 11454.934203789686, 48077.334966527545, 107933.22244492332, 6574.948222935317, 5034.00879378527, 67935.56466580111, 28815.660134392037, 6080.617903536358, 11287.2947739577, 17282.0107346602, 21228.687574169777, 86353.12660964335, 5037.503636071762, 71670.16056656613, 12214.18034630879, 25772.030144166823, 13867.67735551732, 16268.945482379906, 38185.05211575596, 35675.67054862486, 99294.44346385573, 18940.65587286662, 26287.288174739893, 12797.779115530022, 19030.757233600943, 8280.579944620922, 14106.678675524849, 9357.365631402334, 12489.767225427784, 17117.265111681794, 12158.746009493476, 11600.695176762752, 11652.588424099413, 33776.28562049033, 24008.081836905694, 14307.736448784, 13760.744049748058, 12998.848242887745, 11767.369349214776, 11290.502661299355, 8133.35521353558, 7573.7660334258635, 7171.882913325297, 6745.2129513642885, 6650.371894992413, 6026.715827967633, 5749.865821688516, 5483.425758846561, 5268.816850162126, 5258.22611182602, 5062.4022458698155, 4972.540327079044, 4875.93515777428, 4552.768485778899, 4402.40697937705, 3920.824715580854, 3760.026459198457, 3587.283024071854, 3435.5170353965177, 3311.6435691945367, 3198.21867064714, 3171.228265022545, 3049.5670980407253, 12899.281216193303, 5881.62912881273, 19985.63929674595, 6818.2452541362445, 12134.472531667281, 18766.680329478077, 27673.834452242976, 7210.520916573544, 25431.763678295225, 8289.636720932647, 11917.811813191858, 40362.5650348376, 9996.974183156444, 22349.93938974559, 8769.533771774551, 13042.258258029127, 10938.816722390342, 10188.124033657263, 17195.091293681064, 18132.98966707717, 38402.616649490396, 15867.3810207462, 10429.435167702308, 32555.489166642536, 8268.007779746173, 8240.403890686306, 16166.524156889756, 14717.04498883882, 13833.000221964201, 14364.413859423697, 14239.770409493442, 8348.146494098639, 8431.370238950945, 7765.953051785949, 7611.674995106313, 6310.193643237137, 6330.246896818162, 6251.144543233362, 6186.961897469944, 6025.1266567512075, 18124.132322178473, 5532.360040481483, 4628.2395931392175, 4434.004441844088, 4408.897264525966, 4362.554005813525, 4251.066067298174, 4004.788215464146, 3985.505077425297, 4016.5906402136525, 5881.023597273773, 3609.3912870932863, 3579.495068161722, 3334.7144883154383, 27475.256407120385, 2942.1135901063753, 4132.281465083863, 3902.0892339823436, 13463.271088298894, 18770.251468634156, 15691.529089538715, 11299.920374335641, 123754.6666702322, 10966.62398105245, 20435.18692321341, 9966.70861063854, 8322.927190058796, 7270.596882782294, 8458.247869279707, 28409.55688538343, 28575.903289397735, 11224.514593473057, 19711.00031626716, 13545.435101925323, 9230.898631637607, 7861.760200651631, 11019.979766126871, 8248.886688922388, 8042.81920781324, 36349.21483203517, 36391.43625117827, 25839.27628830359, 21423.65719822402, 17589.743553076285, 16662.779047584303, 14129.851539230913, 13336.298972357134, 13275.764389468543, 12084.212999165165, 11259.24095906949, 10769.276373066281, 9659.013491422938, 9672.932347429141, 8888.051670352199, 7568.368214329287, 6402.918416000016, 6188.951304905881, 5781.584167388762, 5572.2134763414115, 5352.546912090079, 5400.9446682269445, 5218.402609819458, 5295.660089191788, 5151.812775814864, 4084.0092364115967, 3867.913334077232, 3761.6478996222063, 3690.353422667396, 3682.9709842570724, 6419.494556329416, 37534.40316515866, 12732.00985457277, 8966.659586394386, 11457.405082171601, 17282.580895175968, 13024.320656247046, 7569.537273404032, 8859.109920492658, 10177.783428267014, 12220.138292774287, 9332.337911387562, 46372.44764418621, 17960.951440983306, 15118.42564592784, 34790.366303868876, 26000.643111759608, 18570.70470488842, 9964.566133929997, 14661.45086135385, 15795.312048406537, 12619.832369834487, 10073.62737015276, 98757.2588674601, 35151.59552608716, 20164.2086169602, 11102.100710640874, 10685.30754878454, 9524.134873551508, 8573.368431585208, 5624.363865981273, 4320.153473301655, 3997.9510421655364, 4028.647491857442, 3517.642635125383, 3582.9749807270664, 3336.819545092389, 2965.606816707281, 2921.641981474608, 2794.599389630302, 2841.285003820016, 2439.805998026058, 2454.9047426199218, 2381.857270155653, 2356.3702238316537, 2185.3233212957634, 2195.774737811309, 2103.4447803370986, 2094.7065582923483, 2089.436226624462, 2007.5776533010962, 1995.8880084768757, 1790.03899444776, 3379.1665002549903, 7630.133946508329, 37730.95794817581, 10112.95943294782, 8440.622856130498, 6878.666564945703, 14479.767963991933, 3565.6744895483635, 10426.37738883034, 9697.799686794242, 25807.40511216579, 27137.080614517436, 98511.47121760379, 6037.339421682024, 11028.830384112582, 10121.232184852726, 18515.25746303346, 18909.74223797142, 7316.0299266831325, 6014.857140519315, 8896.02956199987, 8186.233475575449, 9305.274417482784, 13070.980838007117, 12531.528916890435, 10307.215229358611, 6282.498705199171, 6310.869784884304], \"Term\": [\"bed\", \"staff\", \"friendly\", \"room\", \"helpful\", \"breakfast\", \"shower\", \"bathroom\", \"walk\", \"station\", \"great\", \"close\", \"location\", \"excellent\", \"check\", \"work\", \"comfortable\", \"city\", \"good\", \"comfy\", \"food\", \"stay\", \"metro\", \"book\", \"small\", \"service\", \"restaurant\", \"window\", \"day\", \"time\", \"buffet\", \"selection\", \"efficient\", \"delicious\", \"egg\", \"menu\", \"milk\", \"cook\", \"quick\", \"particularly\", \"tasty\", \"cocktail\", \"helpfull\", \"taste\", \"bread\", \"continental\", \"cramp\", \"friendliness\", \"croissant\", \"bacon\", \"exceptionally\", \"cheese\", \"deliver\", \"scramble\", \"pastry\", \"attend\", \"beer\", \"attentive\", \"computer\", \"environment\", \"friendly\", \"helpful\", \"food\", \"variety\", \"fab\", \"atmosphere\", \"staff\", \"choice\", \"excellent\", \"breakfast\", \"polite\", \"superb\", \"great\", \"bar\", \"slow\", \"fantastic\", \"facility\", \"lovely\", \"location\", \"professional\", \"good\", \"expensive\", \"service\", \"amazing\", \"perfect\", \"clean\", \"nice\", \"room\", \"restaurant\", \"comfortable\", \"coffee\", \"really\", \"quality\", \"price\", \"extremely\", \"little\", \"stay\", \"view\", \"bit\", \"small\", \"check\", \"book\", \"say\", \"charge\", \"tell\", \"arrive\", \"wait\", \"arrival\", \"card\", \"booking\", \"thank\", \"conditioning\", \"customer\", \"special\", \"com\", \"year\", \"absolutely\", \"concierge\", \"birthday\", \"ready\", \"manager\", \"member\", \"deal\", \"home\", \"mention\", \"receive\", \"spend\", \"add\", \"wine\", \"later\", \"help\", \"happy\", \"pay\", \"return\", \"leave\", \"ask\", \"time\", \"know\", \"day\", \"request\", \"extra\", \"stay\", \"upgrade\", \"make\", \"hour\", \"come\", \"welcome\", \"want\", \"reception\", \"service\", \"staff\", \"night\", \"feel\", \"room\", \"offer\", \"use\", \"air\", \"noise\", \"noisy\", \"star\", \"open\", \"lift\", \"euro\", \"smell\", \"hear\", \"dirty\", \"outside\", \"roof\", \"machine\", \"tiny\", \"window\", \"rude\", \"carpet\", \"tired\", \"furniture\", \"sound\", \"iron\", \"corridor\", \"properly\", \"lady\", \"internet\", \"terrible\", \"actually\", \"heating\", \"work\", \"stair\", \"connection\", \"fix\", \"old\", \"floor\", \"door\", \"bad\", \"room\", \"poor\", \"night\", \"look\", \"sleep\", \"cold\", \"hot\", \"good\", \"location\", \"need\", \"breakfast\", \"small\", \"wifi\", \"morning\", \"clean\", \"day\", \"bathroom\", \"station\", \"walk\", \"city\", \"metro\", \"pool\", \"easy\", \"train\", \"centre\", \"value\", \"center\", \"tram\", \"distance\", \"bus\", \"park\", \"tube\", \"shop\", \"nearby\", \"transport\", \"underground\", \"walking\", \"attraction\", \"gym\", \"shopping\", \"milan\", \"comfort\", \"town\", \"museum\", \"tourist\", \"cafe\", \"barcelona\", \"public\", \"close\", \"min\", \"locate\", \"far\", \"minute\", \"parking\", \"car\", \"stop\", \"away\", \"central\", \"right\", \"location\", \"restaurant\", \"area\", \"good\", \"great\", \"nice\", \"street\", \"clean\", \"room\", \"breakfast\", \"place\", \"bed\", \"shower\", \"comfy\", \"pillow\", \"bath\", \"bedroom\", \"towel\", \"uncomfortable\", \"soft\", \"mattress\", \"low\", \"hair\", \"house\", \"toiletry\", \"equip\", \"sheet\", \"separate\", \"surprise\", \"mirror\", \"outstanding\", \"slipper\", \"exceptional\", \"incredibly\", \"partner\", \"lighting\", \"sofa\", \"connect\", \"hang\", \"tub\", \"wardrobe\", \"sink\", \"single\", \"bathroom\", \"double\", \"space\", \"hard\", \"water\", \"kettle\", \"size\", \"large\", \"small\", \"comfortable\", \"room\", \"toilet\", \"big\", \"coffee\", \"nice\", \"clean\", \"tea\", \"light\", \"little\", \"bit\", \"really\", \"good\", \"location\", \"great\", \"spacious\", \"lovely\"], \"Total\": [98758.0, 211354.0, 80403.0, 369911.0, 74356.0, 140570.0, 35152.0, 45774.0, 36392.0, 36350.0, 104244.0, 40649.0, 173833.0, 57183.0, 33777.0, 27482.0, 61678.0, 25840.0, 147976.0, 20165.0, 27087.0, 66914.0, 21424.0, 24008.0, 54293.0, 43905.0, 37157.0, 18126.0, 34023.0, 36149.0, 8605.876775773455, 6149.6692772664655, 5022.806361233131, 4784.796030109347, 4705.781211833541, 4219.332947113807, 2982.572644657729, 2791.6929479877754, 2830.263828630804, 2575.14436532494, 2348.9351778734454, 2281.547362291385, 2241.5801685782903, 2114.4881219876997, 1972.8367966512017, 1927.7751257345624, 1789.784558949128, 1621.1483409359398, 1585.0589234420456, 1514.8244275603904, 1429.0791048656372, 1428.4855216737499, 1399.6256044104482, 1280.8403529818079, 1251.3651321236223, 1280.7470612511693, 1235.5391632902426, 5054.82348887091, 1101.7626250331111, 1040.8647795174993, 80403.0059029499, 74356.6486517213, 27087.338435622343, 4775.3609888375995, 1839.5752767828037, 5071.222611080775, 211354.73527410039, 12631.445892376505, 57183.21114343496, 140570.98523763218, 7484.531889820084, 5667.826410962572, 104244.22967724172, 40271.87951918862, 7020.877656089722, 14840.44753313751, 24929.739466509753, 32267.45241103918, 173833.22512054592, 5876.859619126387, 147976.28414219414, 17458.303685053652, 43905.635350412434, 20850.289148705062, 26559.0712743271, 82776.43333834063, 78888.63875038641, 369911.38256674074, 37157.659960775294, 61678.061475885836, 22979.100207823307, 43625.05207088895, 11543.6802096005, 28513.64514700995, 14699.889202329003, 28399.841560041146, 66914.34882464913, 32529.64544476773, 28908.979173112268, 54293.19292112927, 33777.09403499043, 24008.89106437204, 14308.550745765828, 13761.55337068178, 12999.653676365733, 11768.178386307474, 11291.311981202023, 8134.163562024061, 7574.569973167547, 7172.688196454828, 6746.02139417374, 6651.228843815586, 6027.524226924759, 5750.675629886224, 5484.228569027609, 5269.628075759011, 5259.043662639161, 5063.2177799411, 4973.341902845413, 4876.742602056538, 4553.5725081171395, 4403.214676632094, 3921.640605034672, 3760.8372768130225, 3588.09438853971, 3436.323828807159, 3312.455825333166, 3199.0350651069407, 3172.0430807602397, 3050.3727005520786, 12908.209190839694, 5885.8485602837945, 22002.46077035381, 7168.600656208064, 13709.255733384509, 22233.891765973058, 36149.490230031995, 7849.876974095238, 34023.998344684165, 9286.201945232659, 14378.19198356284, 66914.34882464913, 11945.806365761611, 34286.30106042698, 10231.955990381526, 17693.59336583383, 14170.391561128114, 13310.247690183818, 32398.114600586563, 43905.635350412434, 211354.73527410039, 39980.32748890478, 18535.441528790492, 369911.38256674074, 11531.485683951403, 21631.155755005726, 16167.331457664115, 14717.850479179715, 13833.805918892396, 14365.270411114556, 14240.66151235508, 8348.953975531738, 8432.197626420291, 7766.758822522622, 7612.480854564347, 6310.998968648023, 6331.066833859318, 6251.975419304953, 6187.786349001714, 6025.935579261721, 18126.787789008882, 5533.174526935411, 4629.043354143598, 4434.813404069242, 4409.706044067413, 4363.360674796119, 4251.877749312093, 4005.5933219008143, 3986.3124055163107, 4017.41043550008, 5882.332362125861, 3610.200111789234, 3580.3147586013024, 3335.5202008552355, 27482.482060933035, 2942.9195402095024, 4133.78976978511, 3911.7874881843964, 15503.490338704538, 23564.884084799145, 19723.791109624537, 14714.143486420775, 369911.38256674074, 15692.262856927275, 39980.32748890478, 17564.82119247398, 13348.606323459777, 10921.457171883678, 14942.84238400313, 147976.28414219414, 173833.22512054592, 29002.915076293248, 140570.98523763218, 54293.19292112927, 19727.380882245056, 13693.683424686964, 82776.43333834063, 34023.998344684165, 45774.37298789963, 36350.032868177615, 36392.25865893627, 25840.10016352315, 21424.476144229306, 17590.579172889873, 16663.601467092114, 14130.674261712567, 13337.118793338017, 13276.610935727476, 12085.032679782751, 11260.06093336913, 10770.093050353804, 9659.830693274858, 9673.753233096899, 8888.868720602119, 7569.188537552082, 6403.7406399124, 6189.770611771788, 5782.402741820416, 5573.03103811969, 5353.364707510465, 5401.779228382886, 5219.221564720629, 5296.497828223497, 5152.653717004143, 4084.832573748822, 3868.730755677215, 3762.4703492804633, 3691.1762893041905, 3683.802102040189, 6421.768182362473, 40649.85375760771, 14154.875680355979, 9769.754300420173, 12890.450959939477, 21290.954899476932, 15355.254437462898, 8173.351933805047, 9964.495208512611, 12553.23638405135, 16252.083084927977, 12029.062470155619, 173833.22512054592, 37157.659960775294, 30491.72582047839, 147976.28414219414, 104244.22967724172, 78888.63875038641, 14801.630630898213, 82776.43333834063, 369911.38256674074, 140570.98523763218, 22442.535860606644, 98758.0598395685, 35152.395846075524, 20165.007350824915, 11102.900345781785, 10686.10698321624, 9524.938664254989, 8574.374398674656, 5625.1652766394445, 4320.953056965447, 3998.7495235814786, 4029.460012918995, 3518.4430711514483, 3583.795497673192, 3337.6207398607457, 2966.415278675112, 2922.443427431698, 2795.4027968692835, 2842.1096088821564, 2440.602946718608, 2455.722872907002, 2382.660055705263, 2357.1876945512277, 2186.1367335849777, 2196.5947940855244, 2104.2451514057, 2095.5051377401883, 2090.2562911998884, 2008.3820898369042, 1996.6880742499516, 1790.8373980461354, 3382.014320826107, 7739.590833454958, 45774.37298789963, 11828.225315156347, 10149.448024054735, 8058.074918147548, 19713.550762392064, 3994.362312386116, 15936.321909602193, 14966.263537261424, 54293.19292112927, 61678.061475885836, 369911.38256674074, 8645.533905273054, 22081.925034569096, 22979.100207823307, 78888.63875038641, 82776.43333834063, 14717.671453880801, 11026.287218647785, 28399.841560041146, 28908.979173112268, 43625.05207088895, 147976.28414219414, 173833.22512054592, 104244.22967724172, 16777.778128026155, 32267.45241103918], \"loglift\": [30.0, 29.0, 28.0, 27.0, 26.0, 25.0, 24.0, 23.0, 22.0, 21.0, 20.0, 19.0, 18.0, 17.0, 16.0, 15.0, 14.0, 13.0, 12.0, 11.0, 10.0, 9.0, 8.0, 7.0, 6.0, 5.0, 4.0, 3.0, 2.0, 1.0, 1.3869, 1.3869, 1.3869, 1.3869, 1.3869, 1.3868, 1.3868, 1.3867, 1.3867, 1.3867, 1.3867, 1.3867, 1.3867, 1.3866, 1.3866, 1.3866, 1.3866, 1.3865, 1.3865, 1.3865, 1.3865, 1.3865, 1.3864, 1.3864, 1.3864, 1.3864, 1.3864, 1.3863, 1.3862, 1.3862, 1.3857, 1.381, 1.3846, 1.3768, 1.3857, 1.3525, 1.1743, 1.2893, 1.2136, 1.1228, 1.2575, 1.2684, 0.9589, 1.0523, 1.2432, 1.1134, 1.0206, 0.9683, 0.6874, 1.2329, 0.6621, 1.0298, 0.8543, 0.9792, 0.8969, 0.6133, 0.5935, 0.0719, 0.7132, 0.5342, 0.8017, 0.5575, 1.0548, 0.6833, 0.9354, 0.5656, 0.0237, 0.4029, 0.4739, -0.1518, 1.4818, 1.4818, 1.4818, 1.4818, 1.4818, 1.4818, 1.4818, 1.4817, 1.4817, 1.4817, 1.4817, 1.4817, 1.4817, 1.4817, 1.4817, 1.4817, 1.4817, 1.4817, 1.4817, 1.4817, 1.4817, 1.4817, 1.4816, 1.4816, 1.4816, 1.4816, 1.4816, 1.4816, 1.4816, 1.4816, 1.4812, 1.4811, 1.3857, 1.4317, 1.3598, 1.3123, 1.2147, 1.3969, 1.1908, 1.3683, 1.2942, 0.9763, 1.3038, 1.0539, 1.3276, 1.1768, 1.223, 1.2145, 0.8484, 0.5975, -0.2236, 0.5577, 0.9068, -0.9485, 1.1492, 0.5168, 1.6775, 1.6775, 1.6775, 1.6775, 1.6775, 1.6775, 1.6775, 1.6775, 1.6775, 1.6775, 1.6775, 1.6775, 1.6775, 1.6775, 1.6774, 1.6774, 1.6774, 1.6774, 1.6774, 1.6774, 1.6774, 1.6774, 1.6774, 1.6774, 1.6774, 1.6774, 1.6774, 1.6774, 1.6773, 1.6773, 1.6772, 1.6751, 1.5365, 1.4501, 1.4489, 1.4136, 0.5826, 1.3193, 1.0065, 1.1109, 1.2052, 1.2707, 1.1085, 0.0273, -0.1279, 0.7283, -0.2869, 0.2892, 0.9181, 1.1227, -0.3388, 0.2606, -0.0613, 1.6922, 1.6922, 1.6922, 1.6922, 1.6922, 1.6922, 1.6922, 1.6922, 1.6922, 1.6922, 1.6922, 1.6922, 1.6922, 1.6922, 1.6921, 1.6921, 1.6921, 1.6921, 1.6921, 1.6921, 1.6921, 1.6921, 1.6921, 1.6921, 1.6921, 1.692, 1.692, 1.692, 1.692, 1.692, 1.6919, 1.6125, 1.5863, 1.6065, 1.5744, 1.4837, 1.5276, 1.6155, 1.5747, 1.4825, 1.4071, 1.4384, 0.3708, 0.9653, 0.9907, 0.2445, 0.3036, 0.2458, 1.2965, -0.0387, -1.4613, -0.7182, 0.8912, 1.8836, 1.8836, 1.8836, 1.8836, 1.8836, 1.8835, 1.8835, 1.8835, 1.8834, 1.8834, 1.8834, 1.8834, 1.8834, 1.8834, 1.8834, 1.8834, 1.8833, 1.8833, 1.8833, 1.8833, 1.8833, 1.8833, 1.8833, 1.8833, 1.8832, 1.8832, 1.8832, 1.8832, 1.8832, 1.8832, 1.8828, 1.8694, 1.6904, 1.727, 1.6993, 1.7254, 1.5751, 1.7701, 1.4594, 1.4497, 1.1399, 1.0626, 0.5605, 1.5245, 1.1894, 1.0637, 0.4342, 0.4072, 1.1846, 1.2776, 0.7229, 0.6219, 0.3386, -0.543, -0.7462, -0.4303, 0.9013, 0.2518], \"logprob\": [30.0, 29.0, 28.0, 27.0, 26.0, 25.0, 24.0, 23.0, 22.0, 21.0, 20.0, 19.0, 18.0, 17.0, 16.0, 15.0, 14.0, 13.0, 12.0, 11.0, 10.0, 9.0, 8.0, 7.0, 6.0, 5.0, 4.0, 3.0, 2.0, 1.0, -5.3964, -5.7325, -5.935, -5.9835, -6.0002, -6.1093, -6.4563, -6.5224, -6.5087, -6.6032, -6.6952, -6.7243, -6.742, -6.8004, -6.8697, -6.8929, -6.9672, -7.0662, -7.0887, -7.134, -7.1923, -7.1928, -7.2132, -7.3019, -7.3252, -7.302, -7.338, -5.9292, -7.4527, -7.5095, -3.163, -3.246, -4.2522, -5.9955, -6.9406, -5.9597, -2.408, -5.1104, -3.676, -2.8673, -5.6655, -5.9326, -3.3302, -4.1879, -5.7437, -5.1251, -4.6991, -4.4934, -3.0904, -5.9319, -3.2767, -5.0462, -4.2995, -4.9192, -4.7595, -3.9064, -3.9743, -2.9507, -4.6075, -4.2797, -4.9995, -4.6027, -5.4349, -4.9021, -5.3126, -5.0239, -4.7087, -5.0507, -5.0977, -5.0933, -3.9342, -4.2756, -4.7932, -4.8322, -4.8891, -4.9887, -5.03, -5.358, -5.4293, -5.4838, -5.5451, -5.5593, -5.6578, -5.7048, -5.7523, -5.7922, -5.7942, -5.8321, -5.8501, -5.8697, -5.9382, -5.9718, -6.0877, -6.1296, -6.1766, -6.2198, -6.2565, -6.2914, -6.2999, -6.339, -4.8968, -5.6821, -4.459, -5.5344, -4.9579, -4.5219, -4.1335, -5.4784, -4.218, -5.339, -4.9759, -3.7561, -5.1517, -4.3472, -5.2827, -4.8858, -5.0617, -5.1328, -4.6094, -4.5562, -3.8059, -4.6897, -5.1093, -3.971, -5.3416, -5.3449, -4.4753, -4.5692, -4.6312, -4.5935, -4.6022, -5.1362, -5.1263, -5.2085, -5.2285, -5.4161, -5.4129, -5.4255, -5.4358, -5.4623, -4.361, -5.5476, -5.7261, -5.7689, -5.7746, -5.7852, -5.8111, -5.8707, -5.8756, -5.8678, -5.4865, -5.9747, -5.983, -6.0538, -3.9449, -6.1791, -5.8394, -5.8967, -4.6583, -4.326, -4.5051, -4.8334, -2.4399, -4.8634, -4.241, -4.959, -5.1392, -5.2744, -5.1231, -3.9115, -3.9057, -4.8401, -4.2771, -4.6522, -5.0357, -5.1962, -4.8585, -5.1482, -5.1735, -3.6504, -3.6493, -3.9917, -4.1791, -4.3763, -4.4304, -4.5953, -4.6531, -4.6576, -4.7517, -4.8224, -4.8669, -4.9757, -4.9743, -5.0589, -5.2196, -5.3868, -5.4208, -5.4889, -5.5258, -5.566, -5.557, -5.5914, -5.5767, -5.6042, -5.8365, -5.8909, -5.9187, -5.9379, -5.9399, -5.3843, -3.6183, -4.6995, -5.0501, -4.805, -4.3939, -4.6768, -5.2195, -5.0621, -4.9234, -4.7405, -5.0101, -3.4069, -4.3554, -4.5277, -3.6942, -3.9855, -4.322, -4.9446, -4.5584, -4.4839, -4.7083, -4.9337, -2.4595, -3.4925, -4.0483, -4.6451, -4.6833, -4.7984, -4.9035, -5.3251, -5.5889, -5.6664, -5.6588, -5.7944, -5.776, -5.8472, -5.9651, -5.9801, -6.0245, -6.0079, -6.1603, -6.1541, -6.1843, -6.1951, -6.2704, -6.2657, -6.3086, -6.3128, -6.3153, -6.3553, -6.3611, -6.47, -5.8346, -5.0201, -3.4217, -4.7384, -4.9191, -5.1238, -4.3794, -5.7808, -4.7079, -4.7803, -3.8015, -3.7513, -2.462, -5.2542, -4.6517, -4.7376, -4.1336, -4.1125, -5.0621, -5.258, -4.8666, -4.9497, -4.8216, -4.4818, -4.524, -4.7194, -5.2144, -5.2099]}, \"token.table\": {\"Topic\": [2, 3, 2, 3, 1, 2, 4, 5, 1, 2, 3, 4, 5, 2, 2, 2, 3, 1, 4, 5, 1, 1, 2, 4, 2, 3, 4, 1, 2, 3, 1, 2, 3, 4, 5, 4, 5, 3, 5, 5, 5, 1, 1, 2, 3, 4, 5, 2, 1, 3, 4, 5, 2, 2, 1, 1, 2, 3, 4, 1, 4, 4, 2, 3, 4, 2, 3, 4, 1, 4, 4, 2, 2, 1, 1, 4, 4, 1, 3, 4, 5, 3, 4, 1, 1, 3, 5, 1, 3, 5, 2, 2, 3, 4, 4, 1, 4, 5, 5, 1, 2, 2, 5, 3, 5, 1, 1, 3, 1, 1, 2, 2, 3, 4, 2, 1, 1, 3, 4, 3, 4, 5, 2, 3, 5, 4, 1, 1, 1, 5, 3, 1, 4, 5, 1, 1, 2, 4, 1, 2, 1, 2, 3, 4, 5, 1, 2, 1, 2, 4, 1, 2, 4, 5, 2, 4, 1, 2, 3, 4, 5, 2, 3, 3, 5, 1, 2, 4, 1, 1, 4, 3, 1, 2, 3, 4, 5, 1, 2, 4, 5, 4, 5, 5, 1, 2, 3, 5, 3, 3, 2, 4, 1, 2, 4, 1, 2, 1, 3, 5, 2, 3, 5, 5, 3, 5, 3, 1, 5, 2, 3, 3, 1, 4, 5, 2, 2, 3, 3, 3, 5, 5, 1, 2, 3, 4, 5, 3, 4, 1, 3, 4, 5, 1, 2, 3, 4, 5, 1, 2, 4, 5, 5, 3, 1, 2, 3, 4, 5, 2, 5, 2, 2, 1, 4, 4, 1, 2, 4, 2, 4, 5, 2, 3, 4, 4, 1, 2, 3, 4, 5, 1, 2, 3, 4, 5, 2, 3, 4, 5, 3, 3, 1, 2, 3, 4, 3, 4, 3, 3, 5, 4, 3, 4, 1, 5, 1, 2, 3, 1, 2, 4, 5, 1, 2, 3, 4, 5, 1, 2, 4, 1, 3, 1, 2, 3, 4, 1, 2, 3, 3, 4, 1, 3, 4, 5, 1, 2, 1, 2, 3, 4, 5, 2, 1, 2, 3, 2, 3, 1, 2, 4, 2, 4, 2, 3, 4, 5, 3, 1, 2, 3, 4, 5, 3, 2, 1, 1, 5, 1, 2, 5, 4, 4, 5, 2, 3, 5, 3, 5, 1, 3, 4, 5, 3, 5, 5, 1, 4, 1, 3, 4, 5, 3, 5, 5, 3, 3, 4, 5, 1, 4, 5, 2, 2, 1, 2, 3, 4, 5, 3, 3, 4, 1, 2, 4, 5, 3, 4, 3, 4, 1, 4, 5, 1, 1, 1, 5, 2, 3, 2, 1, 2, 3, 4, 3, 3, 3, 5, 5, 4, 5, 4, 4, 4, 4, 5, 4, 5, 4, 2, 5, 2, 3, 4, 5, 4, 1, 4, 1, 2, 3, 4, 5, 2, 4, 4, 2, 3, 4, 5, 2, 3, 5, 2, 5, 1, 3, 4, 5, 3, 5, 2, 2, 3, 2], \"Freq\": [0.9998015489685748, 0.9996327812804324, 0.9996764445884853, 0.9999794983071274, 0.6651226705343457, 0.1903570723500734, 0.07021485359549193, 0.07429153566900068, 0.2349161881545352, 3.279578223573016e-05, 0.1381686305591312, 0.49580663583976864, 0.13108474159621347, 0.9998569536971824, 0.9998998667194877, 0.844071753048703, 0.1559331149261924, 0.9660392326882943, 0.008479217596570046, 0.02524046168281316, 0.9994166988363499, 0.9992435959674303, 0.0005934925337363474, 0.9999318732179868, 0.1888755956999512, 0.0003186429282158603, 0.8107869308452565, 0.9994557603208722, 0.23202166019046058, 0.7679685882109563, 0.7155365069631241, 0.15353144858942935, 0.010354619773862532, 0.11566383430851722, 0.004916582050898757, 0.9997822624511385, 0.9998964091209289, 0.17570967060818402, 0.8242821809918427, 0.9999892683233124, 0.9999014519370596, 0.9995636210439443, 0.14228831929649347, 0.039353453045401915, 0.07259330866717983, 0.24631004731178482, 0.4994582665566602, 0.9999312528975302, 0.4012940038640273, 0.01726107300475387, 0.2982810270941736, 0.2831646164667639, 0.9999628860670969, 0.9999040532034881, 0.9995758409146555, 0.767818478454438, 0.002183949977166506, 0.1402209706838078, 0.08977670590176319, 0.999898118948679, 0.9999140054001737, 0.9996813239975563, 0.048205436789086856, 0.02557090428659683, 0.9261806002370241, 0.999924751745701, 0.9997746069622218, 0.9999145488630347, 0.24802974356796822, 0.7519036135947833, 0.9999161143155915, 0.9999597886469009, 0.9999676101505567, 0.9996601143894123, 0.9068637191339648, 0.09310098068106003, 0.9999574241772985, 0.46130279428593546, 0.13312967901089456, 0.17711562831022915, 0.22844666334809585, 0.07663004198181207, 0.9233489552954525, 0.9997600916376177, 0.5569408673209442, 0.0026110682949880173, 0.4404437035595621, 0.24346568027985857, 0.6657536522432688, 0.09073880750558098, 0.9997759814325486, 0.737102957570167, 0.26032021335440797, 0.002543293443540677, 0.999873130033562, 0.4261969227142034, 0.1338077073519352, 0.43997815999145345, 0.9999500446090899, 0.9993078136653182, 0.99975948497694, 0.9998152455968, 0.9993989774339264, 0.9995670389921151, 0.0002419087703272302, 0.9995979169332486, 0.999751782162048, 0.9998518766501906, 0.9995616461516527, 0.9993319343360775, 0.9999130278195453, 0.7474724088085738, 0.24244652014241605, 0.010081119700430198, 0.9998366487143545, 0.9998336334288154, 0.9995530201730543, 0.9998417099015566, 0.9998985105932982, 0.7955874158666606, 0.0001521005765740493, 0.20427107433894823, 0.13315607016564357, 0.011836095125834983, 0.8549887857683514, 0.9999639053362323, 0.9998394600199294, 0.9998339889173817, 0.9991691720821794, 0.999860006561422, 0.9998579698349883, 0.8407537638872101, 0.1592250560599257, 0.9994961391687336, 0.9992448949383116, 0.6996097799843298, 0.0012028660045579603, 0.29911267980007944, 0.17109244352921937, 0.8288942040574133, 0.6365354099755737, 0.10864027463193236, 0.09877625470605246, 0.010884435780281263, 0.14517116221950135, 0.9986000699099916, 0.001087207479488287, 0.6932282635049751, 0.12214327406391906, 0.18459880040793283, 0.7605565785531095, 0.09635828008602344, 0.14204423386107512, 0.0010107511897135327, 0.11108998470653376, 0.8887974544572328, 0.08124975052041677, 0.5626518248190083, 0.11442942951779812, 0.06118009102931781, 0.18046508332722053, 0.002300738480089886, 0.9974979499234149, 0.79652418116955, 0.20343830178619193, 0.9975140253893019, 0.00232580990375744, 0.00011075285255987808, 0.9992916496862484, 0.9987064426039565, 0.0012810466330615265, 0.9998398886319502, 0.48433436760130083, 0.0002365243876942309, 0.19199022441123142, 0.23510524136806552, 0.08833172204432263, 0.6517003407319684, 9.592857111575135e-06, 0.2494238777580651, 0.09887357824900492, 0.999855745977401, 0.9998740718145815, 0.9998097524177109, 0.0006795961464233009, 0.9993461333154638, 0.14631286156756626, 0.8536778411563091, 0.9999368333959016, 0.9998440420612347, 0.9992865632479655, 0.0006197606408236084, 0.9939528117542331, 0.00022862784039159975, 0.005823285581738982, 0.999741178751301, 0.999777369571881, 0.18851835063292266, 0.5660235036042811, 0.24540177201665864, 0.857118620158665, 0.14288568103443194, 0.9997780292782585, 0.9994800263096473, 0.9997734976461989, 0.00017000059473664325, 0.9997935619592461, 0.107151020995971, 0.8927582730645621, 0.9186131227019804, 0.08140254963341638, 0.9998978358057585, 0.1747931267872545, 0.17719853678891395, 0.6479907276692638, 0.9998778180279376, 0.8850954592999183, 0.11481294321230191, 0.9998857371193405, 0.4544594114622135, 0.5455145400010406, 0.9994082669479512, 0.43979118593300714, 0.01573952442850714, 0.0005633834247340364, 0.23067030096454202, 0.31324118415212426, 0.08209008899696771, 0.9178327032865455, 0.4967577397250605, 0.16438744653206408, 0.26676143164140803, 0.07209208706396371, 0.0031881907243094727, 0.2562508294663739, 0.5674410169498664, 0.09040797982506148, 0.08272216290038686, 0.6579075326299154, 0.07970880276622273, 0.06681655472938422, 0.19558408019348042, 0.9998858375768663, 0.9998729191737783, 0.09782332582592773, 0.6518638438310926, 0.055649047607593954, 0.01650805081021917, 0.17817611731383198, 0.9998742727570235, 0.999812560507464, 0.9997241386756498, 0.9996949944953495, 0.9999210901064268, 0.9999777756886049, 0.9999060080378313, 0.9998080031147758, 0.10046008401002349, 0.899478051769071, 0.1882489544937445, 0.8117531638012442, 0.9997529517370211, 0.4258167666917052, 0.5741333252838599, 0.9998111122940923, 0.9998843426125374, 0.16884509667798078, 0.19791114048021435, 0.3870300613049488, 0.0966454576247458, 0.14957117202145817, 0.45223241984036966, 0.008366223710467652, 0.06930021973504039, 0.23540778867741632, 0.23469792727167968, 0.3968701858283517, 0.5111263784837945, 0.04984951662922449, 0.0421457278074477, 0.9999422144435481, 0.9999417427931893, 0.1922562331309523, 0.71699347565481, 0.06772761302448072, 0.02306727921192301, 0.8683850994759261, 0.1315832728909522, 0.9999535476386047, 0.9998314922449385, 0.9997056374255511, 0.9999221364160581, 0.1517395891738137, 0.8481787164805793, 0.9995556111958813, 0.9997292199329953, 0.9997082129633877, 0.9083529432730181, 0.0916261149623939, 0.6125590700050633, 0.04194423775189873, 0.34545635670886077, 0.9999189089558813, 0.21851363101119, 0.17680711416239844, 0.13104579706441882, 0.4488797550584682, 0.024729825695597566, 0.8784784535346608, 0.12145048125673107, 0.9999670748254403, 0.30110380147718285, 0.6988794477884157, 0.49474558329064827, 0.13379559085941894, 0.20204361702257212, 0.16942765385107547, 0.8572605654223393, 0.1427633216334543, 0.9999216304482613, 0.00015572035171660694, 0.9995689376688999, 0.717362214617914, 0.2812794482386628, 0.0007796473773168972, 0.0006930198909483531, 0.9995534590740203, 0.9998477258044693, 0.4362401669819303, 0.18069892471854113, 0.029134635711945425, 0.14063020463633769, 0.21329487435063113, 0.9999057630120758, 0.2514035183964852, 0.5307407610592465, 0.21782131728962506, 0.892722347509997, 0.1072559056839514, 0.5097468468142147, 0.006889561944165511, 0.48337274249670603, 0.951092176420172, 0.04882403369713408, 0.06076949070749511, 0.16119294457159097, 0.775787807499787, 0.0021614319540285538, 0.999843982223292, 0.26842645206270455, 0.0880075648770454, 0.3345531006407235, 0.04269941598012386, 0.2663097288773651, 0.9997877300038714, 0.9999615093257442, 0.9993439049762514, 0.9998911685756924, 0.999855907395623, 0.5869861532423515, 0.4129993759406938, 0.9998482682581514, 0.9998429768863352, 0.9997659488669945, 0.9999887391437768, 0.010336463738392221, 0.0037469681051671803, 0.9858402290491581, 0.0005913635515036703, 0.999108720265451, 0.24528871982967979, 0.09481485179397446, 0.0056474762815735945, 0.65422875235207, 0.623510784445907, 0.3764437933246044, 0.9997229752923912, 0.8661310306020648, 0.13388639512677863, 0.21463095782427274, 0.24947878861492956, 0.060560078033657316, 0.47532662220638516, 0.9999022986885571, 0.9997589422564084, 0.999779433621962, 0.9999173401368806, 0.028474454897946623, 0.13990908634977234, 0.8316708435763579, 0.41298674634548715, 0.2125430419206245, 0.37442383324323136, 0.9998825129550496, 0.9998623905171263, 0.8083755482384813, 0.18169926474652276, 0.003553267917210598, 0.006221767391653711, 0.00015140422550031843, 0.9996875415053186, 0.9999115637173406, 0.9999715854953595, 0.2558046263717751, 0.6032039571329064, 0.1409264255819267, 5.9777911169428076e-05, 0.11089372586139686, 0.8890565768381129, 0.32672075939423273, 0.673236635104121, 0.8881711673920288, 0.11168302522033259, 0.9996095826569501, 0.9997691535920094, 0.9996018715704654, 0.5028648739164837, 0.4970895037931353, 0.9999497158630525, 0.9996675774882076, 0.9998485931019101, 5.532581475626053e-05, 0.7655432987823769, 0.19740250705033757, 0.036985307164560166, 0.9998447412440086, 0.999816586630568, 0.30165864000710674, 0.698279604955101, 0.9998140172568644, 0.9998749892393031, 0.9998397085768883, 0.9997961792230672, 0.9999522838259464, 0.999905779073896, 0.9998755023699388, 0.9996553922173297, 0.999902268710516, 0.9997928457952544, 0.9999303504376298, 0.8368627193433196, 0.16306977866167716, 0.38093202662521436, 0.1966145520918734, 0.15357478063700997, 0.26882521053708996, 0.9999539840603574, 0.9898728098356033, 0.010051596122722438, 0.37378212500486163, 0.023517010085428006, 0.18404750245942156, 0.24685175292285869, 0.17181250897706815, 0.9999723698005561, 0.9999654141022665, 0.9998149950874781, 0.7654252751069053, 0.004207284590301011, 0.23034883131898035, 0.9995323986158381, 0.0001521795863241015, 0.2653504720204583, 0.7345201366576632, 0.7719617311075305, 0.22801063654890127, 0.35240359789762593, 0.46792831015434194, 0.1279439990065604, 0.051704785652413474, 0.9998462061209448, 0.00011033394461718658, 0.9996711643777582, 0.00021832089207579744, 0.9997277516304224, 0.9998808121275389], \"Term\": [\"absolutely\", \"actually\", \"add\", \"air\", \"amazing\", \"amazing\", \"amazing\", \"amazing\", \"area\", \"area\", \"area\", \"area\", \"area\", \"arrival\", \"arrive\", \"ask\", \"ask\", \"atmosphere\", \"atmosphere\", \"atmosphere\", \"attend\", \"attentive\", \"attentive\", \"attraction\", \"away\", \"away\", \"away\", \"bacon\", \"bad\", \"bad\", \"bar\", \"bar\", \"bar\", \"bar\", \"bar\", \"barcelona\", \"bath\", \"bathroom\", \"bathroom\", \"bed\", \"bedroom\", \"beer\", \"big\", \"big\", \"big\", \"big\", \"big\", \"birthday\", \"bit\", \"bit\", \"bit\", \"bit\", \"book\", \"booking\", \"bread\", \"breakfast\", \"breakfast\", \"breakfast\", \"breakfast\", \"buffet\", \"bus\", \"cafe\", \"car\", \"car\", \"car\", \"card\", \"carpet\", \"center\", \"central\", \"central\", \"centre\", \"charge\", \"check\", \"cheese\", \"choice\", \"choice\", \"city\", \"clean\", \"clean\", \"clean\", \"clean\", \"close\", \"close\", \"cocktail\", \"coffee\", \"coffee\", \"coffee\", \"cold\", \"cold\", \"cold\", \"com\", \"come\", \"come\", \"come\", \"comfort\", \"comfortable\", \"comfortable\", \"comfortable\", \"comfy\", \"computer\", \"concierge\", \"conditioning\", \"connect\", \"connection\", \"connection\", \"continental\", \"cook\", \"corridor\", \"cramp\", \"croissant\", \"customer\", \"day\", \"day\", \"day\", \"deal\", \"delicious\", \"deliver\", \"dirty\", \"distance\", \"door\", \"door\", \"door\", \"double\", \"double\", \"double\", \"easy\", \"efficient\", \"egg\", \"environment\", \"equip\", \"euro\", \"excellent\", \"excellent\", \"exceptional\", \"exceptionally\", \"expensive\", \"expensive\", \"expensive\", \"extra\", \"extra\", \"extremely\", \"extremely\", \"extremely\", \"extremely\", \"extremely\", \"fab\", \"fab\", \"facility\", \"facility\", \"facility\", \"fantastic\", \"fantastic\", \"fantastic\", \"fantastic\", \"far\", \"far\", \"feel\", \"feel\", \"feel\", \"feel\", \"feel\", \"fix\", \"fix\", \"floor\", \"floor\", \"food\", \"food\", \"food\", \"friendliness\", \"friendly\", \"friendly\", \"furniture\", \"good\", \"good\", \"good\", \"good\", \"good\", \"great\", \"great\", \"great\", \"great\", \"gym\", \"hair\", \"hang\", \"happy\", \"happy\", \"hard\", \"hard\", \"hear\", \"heating\", \"help\", \"help\", \"helpful\", \"helpful\", \"helpful\", \"helpfull\", \"home\", \"hot\", \"hot\", \"hot\", \"hour\", \"hour\", \"house\", \"incredibly\", \"internet\", \"internet\", \"iron\", \"kettle\", \"kettle\", \"know\", \"know\", \"lady\", \"large\", \"large\", \"large\", \"later\", \"leave\", \"leave\", \"lift\", \"light\", \"light\", \"lighting\", \"little\", \"little\", \"little\", \"little\", \"little\", \"locate\", \"locate\", \"location\", \"location\", \"location\", \"location\", \"look\", \"look\", \"look\", \"look\", \"look\", \"lovely\", \"lovely\", \"lovely\", \"lovely\", \"low\", \"machine\", \"make\", \"make\", \"make\", \"make\", \"make\", \"manager\", \"mattress\", \"member\", \"mention\", \"menu\", \"metro\", \"milan\", \"milk\", \"min\", \"min\", \"minute\", \"minute\", \"mirror\", \"morning\", \"morning\", \"museum\", \"nearby\", \"need\", \"need\", \"need\", \"need\", \"need\", \"nice\", \"nice\", \"nice\", \"nice\", \"nice\", \"night\", \"night\", \"night\", \"night\", \"noise\", \"noisy\", \"offer\", \"offer\", \"offer\", \"offer\", \"old\", \"old\", \"open\", \"outside\", \"outstanding\", \"park\", \"parking\", \"parking\", \"particularly\", \"partner\", \"pastry\", \"pay\", \"pay\", \"perfect\", \"perfect\", \"perfect\", \"pillow\", \"place\", \"place\", \"place\", \"place\", \"place\", \"polite\", \"polite\", \"pool\", \"poor\", \"poor\", \"price\", \"price\", \"price\", \"price\", \"professional\", \"professional\", \"properly\", \"public\", \"public\", \"quality\", \"quality\", \"quality\", \"quality\", \"quick\", \"ready\", \"really\", \"really\", \"really\", \"really\", \"really\", \"receive\", \"reception\", \"reception\", \"reception\", \"request\", \"request\", \"restaurant\", \"restaurant\", \"restaurant\", \"return\", \"return\", \"right\", \"right\", \"right\", \"right\", \"roof\", \"room\", \"room\", \"room\", \"room\", \"room\", \"rude\", \"say\", \"scramble\", \"selection\", \"separate\", \"service\", \"service\", \"sheet\", \"shop\", \"shopping\", \"shower\", \"single\", \"single\", \"single\", \"sink\", \"sink\", \"size\", \"size\", \"size\", \"size\", \"sleep\", \"sleep\", \"slipper\", \"slow\", \"slow\", \"small\", \"small\", \"small\", \"small\", \"smell\", \"sofa\", \"soft\", \"sound\", \"space\", \"space\", \"space\", \"spacious\", \"spacious\", \"spacious\", \"special\", \"spend\", \"staff\", \"staff\", \"staff\", \"staff\", \"staff\", \"stair\", \"star\", \"station\", \"stay\", \"stay\", \"stay\", \"stay\", \"stop\", \"stop\", \"street\", \"street\", \"superb\", \"superb\", \"surprise\", \"taste\", \"tasty\", \"tea\", \"tea\", \"tell\", \"terrible\", \"thank\", \"time\", \"time\", \"time\", \"time\", \"tiny\", \"tired\", \"toilet\", \"toilet\", \"toiletry\", \"tourist\", \"towel\", \"town\", \"train\", \"tram\", \"transport\", \"tub\", \"tube\", \"uncomfortable\", \"underground\", \"upgrade\", \"upgrade\", \"use\", \"use\", \"use\", \"use\", \"value\", \"variety\", \"variety\", \"view\", \"view\", \"view\", \"view\", \"view\", \"wait\", \"walk\", \"walking\", \"want\", \"want\", \"want\", \"wardrobe\", \"water\", \"water\", \"water\", \"welcome\", \"welcome\", \"wifi\", \"wifi\", \"wifi\", \"wifi\", \"window\", \"window\", \"wine\", \"work\", \"work\", \"year\"]}, \"R\": 30, \"lambda.step\": 0.01, \"plot.opts\": {\"xlab\": \"PC1\", \"ylab\": \"PC2\"}, \"topic.order\": [2, 4, 5, 3, 1]};\n",
       "\n",
       "function LDAvis_load_lib(url, callback){\n",
       "  var s = document.createElement('script');\n",
       "  s.src = url;\n",
       "  s.async = true;\n",
       "  s.onreadystatechange = s.onload = callback;\n",
       "  s.onerror = function(){console.warn(\"failed to load library \" + url);};\n",
       "  document.getElementsByTagName(\"head\")[0].appendChild(s);\n",
       "}\n",
       "\n",
       "if(typeof(LDAvis) !== \"undefined\"){\n",
       "   // already loaded: just create the visualization\n",
       "   !function(LDAvis){\n",
       "       new LDAvis(\"#\" + \"ldavis_el1042554812181206994587430\", ldavis_el1042554812181206994587430_data);\n",
       "   }(LDAvis);\n",
       "}else if(typeof define === \"function\" && define.amd){\n",
       "   // require.js is available: use it to load d3/LDAvis\n",
       "   require.config({paths: {d3: \"https://cdnjs.cloudflare.com/ajax/libs/d3/3.5.5/d3.min\"}});\n",
       "   require([\"d3\"], function(d3){\n",
       "      window.d3 = d3;\n",
       "      LDAvis_load_lib(\"https://cdn.rawgit.com/bmabey/pyLDAvis/files/ldavis.v1.0.0.js\", function(){\n",
       "        new LDAvis(\"#\" + \"ldavis_el1042554812181206994587430\", ldavis_el1042554812181206994587430_data);\n",
       "      });\n",
       "    });\n",
       "}else{\n",
       "    // require.js not available: dynamically load d3 & LDAvis\n",
       "    LDAvis_load_lib(\"https://cdnjs.cloudflare.com/ajax/libs/d3/3.5.5/d3.min.js\", function(){\n",
       "         LDAvis_load_lib(\"https://cdn.rawgit.com/bmabey/pyLDAvis/files/ldavis.v1.0.0.js\", function(){\n",
       "                 new LDAvis(\"#\" + \"ldavis_el1042554812181206994587430\", ldavis_el1042554812181206994587430_data);\n",
       "            })\n",
       "         });\n",
       "}\n",
       "</script>"
      ],
      "text/plain": [
       "PreparedData(topic_coordinates=            Freq  cluster  topics           x           y\n",
       "topic                                                    \n",
       "1      24.981592        1       1  151.945648 -108.520294\n",
       "3      22.721737        1       2  -25.139259 -175.862152\n",
       "4      18.682259        1       3   57.242630   -5.324613\n",
       "2      18.410679        1       4   97.995369 -243.457733\n",
       "0      15.203733        1       5  -81.867287  -47.350636, topic_info=      Category           Freq         Term          Total  loglift  logprob\n",
       "term                                                                       \n",
       "843    Default   98758.000000          bed   98758.000000  30.0000  30.0000\n",
       "8900   Default  211354.000000        staff  211354.000000  29.0000  29.0000\n",
       "3879   Default   80403.000000     friendly   80403.000000  28.0000  28.0000\n",
       "8008   Default  369911.000000         room  369911.000000  27.0000  27.0000\n",
       "4427   Default   74356.000000      helpful   74356.000000  26.0000  26.0000\n",
       "1137   Default  140570.000000    breakfast  140570.000000  25.0000  25.0000\n",
       "8456   Default   35152.000000       shower   35152.000000  24.0000  24.0000\n",
       "795    Default   45774.000000     bathroom   45774.000000  23.0000  23.0000\n",
       "10345  Default   36392.000000         walk   36392.000000  22.0000  22.0000\n",
       "8956   Default   36350.000000      station   36350.000000  21.0000  21.0000\n",
       "4192   Default  104244.000000        great  104244.000000  20.0000  20.0000\n",
       "1764   Default   40649.000000        close   40649.000000  19.0000  19.0000\n",
       "5462   Default  173833.000000     location  173833.000000  18.0000  18.0000\n",
       "3354   Default   57183.000000    excellent   57183.000000  17.0000  17.0000\n",
       "1571   Default   33777.000000        check   33777.000000  16.0000  16.0000\n",
       "10581  Default   27482.000000         work   27482.000000  15.0000  15.0000\n",
       "1876   Default   61678.000000  comfortable   61678.000000  14.0000  14.0000\n",
       "1674   Default   25840.000000         city   25840.000000  13.0000  13.0000\n",
       "4113   Default  147976.000000         good  147976.000000  12.0000  12.0000\n",
       "1884   Default   20165.000000        comfy   20165.000000  11.0000  11.0000\n",
       "3762   Default   27087.000000         food   27087.000000  10.0000  10.0000\n",
       "8961   Default   66914.000000         stay   66914.000000   9.0000   9.0000\n",
       "5861   Default   21424.000000        metro   21424.000000   8.0000   8.0000\n",
       "1046   Default   24008.000000         book   24008.000000   7.0000   7.0000\n",
       "8616   Default   54293.000000        small   54293.000000   6.0000   6.0000\n",
       "8340   Default   43905.000000      service   43905.000000   5.0000   5.0000\n",
       "7844   Default   37157.000000   restaurant   37157.000000   4.0000   4.0000\n",
       "10534  Default   18126.000000       window   18126.000000   3.0000   3.0000\n",
       "2444   Default   34023.000000          day   34023.000000   2.0000   2.0000\n",
       "9560   Default   36149.000000         time   36149.000000   1.0000   1.0000\n",
       "...        ...            ...          ...            ...      ...      ...\n",
       "9787    Topic5    1995.888008          tub    1996.688074   1.8832  -6.3611\n",
       "10367   Topic5    1790.038994     wardrobe    1790.837398   1.8832  -6.4700\n",
       "8529    Topic5    3379.166500         sink    3382.014321   1.8828  -5.8346\n",
       "8528    Topic5    7630.133947       single    7739.590833   1.8694  -5.0201\n",
       "795     Topic5   37730.957948     bathroom   45774.372988   1.6904  -3.4217\n",
       "2904    Topic5   10112.959433       double   11828.225315   1.7270  -4.7384\n",
       "8758    Topic5    8440.622856        space   10149.448024   1.6993  -4.9191\n",
       "4345    Topic5    6878.666565         hard    8058.074918   1.7254  -5.1238\n",
       "10398   Topic5   14479.767964        water   19713.550762   1.5751  -4.3794\n",
       "5126    Topic5    3565.674490       kettle    3994.362312   1.7701  -5.7808\n",
       "8547    Topic5   10426.377389         size   15936.321910   1.4594  -4.7079\n",
       "5237    Topic5    9697.799687        large   14966.263537   1.4497  -4.7803\n",
       "8616    Topic5   25807.405112        small   54293.192921   1.1399  -3.8015\n",
       "1876    Topic5   27137.080615  comfortable   61678.061476   1.0626  -3.7513\n",
       "8008    Topic5   98511.471218         room  369911.382567   0.5605  -2.4620\n",
       "9596    Topic5    6037.339422       toilet    8645.533905   1.5245  -5.2542\n",
       "926     Topic5   11028.830384          big   22081.925035   1.1894  -4.6517\n",
       "1815    Topic5   10121.232185       coffee   22979.100208   1.0637  -4.7376\n",
       "6265    Topic5   18515.257463         nice   78888.638750   0.4342  -4.1336\n",
       "1712    Topic5   18909.742238        clean   82776.433338   0.4072  -4.1125\n",
       "9375    Topic5    7316.029927          tea   14717.671454   1.1846  -5.0621\n",
       "5362    Topic5    6014.857141        light   11026.287219   1.2776  -5.2580\n",
       "5426    Topic5    8896.029562       little   28399.841560   0.7229  -4.8666\n",
       "954     Topic5    8186.233476          bit   28908.979173   0.6219  -4.9497\n",
       "7529    Topic5    9305.274417       really   43625.052071   0.3386  -4.8216\n",
       "4113    Topic5   13070.980838         good  147976.284142  -0.5430  -4.4818\n",
       "5462    Topic5   12531.528917     location  173833.225121  -0.7462  -4.5240\n",
       "4192    Topic5   10307.215229        great  104244.229677  -0.4303  -4.7194\n",
       "8763    Topic5    6282.498705     spacious   16777.778128   0.9013  -5.2144\n",
       "5529    Topic5    6310.869785       lovely   32267.452411   0.2518  -5.2099\n",
       "\n",
       "[320 rows x 6 columns], token_table=       Topic      Freq        Term\n",
       "term                              \n",
       "17         2  0.999802  absolutely\n",
       "93         3  0.999633    actually\n",
       "100        2  0.999676         add\n",
       "193        3  0.999979         air\n",
       "297        1  0.665123     amazing\n",
       "297        2  0.190357     amazing\n",
       "297        4  0.070215     amazing\n",
       "297        5  0.074292     amazing\n",
       "473        1  0.234916        area\n",
       "473        2  0.000033        area\n",
       "473        3  0.138169        area\n",
       "473        4  0.495807        area\n",
       "473        5  0.131085        area\n",
       "499        2  0.999857     arrival\n",
       "500        2  0.999900      arrive\n",
       "530        2  0.844072         ask\n",
       "530        3  0.155933         ask\n",
       "577        1  0.966039  atmosphere\n",
       "577        4  0.008479  atmosphere\n",
       "577        5  0.025240  atmosphere\n",
       "588        1  0.999417      attend\n",
       "596        1  0.999244   attentive\n",
       "596        2  0.000593   attentive\n",
       "602        4  0.999932  attraction\n",
       "663        2  0.188876        away\n",
       "663        3  0.000319        away\n",
       "663        4  0.810787        away\n",
       "689        1  0.999456       bacon\n",
       "690        2  0.232022         bad\n",
       "690        3  0.767969         bad\n",
       "...      ...       ...         ...\n",
       "10153      4  0.999954       value\n",
       "10168      1  0.989873     variety\n",
       "10168      4  0.010052     variety\n",
       "10258      1  0.373782        view\n",
       "10258      2  0.023517        view\n",
       "10258      3  0.184048        view\n",
       "10258      4  0.246852        view\n",
       "10258      5  0.171813        view\n",
       "10330      2  0.999972        wait\n",
       "10345      4  0.999965        walk\n",
       "10349      4  0.999815     walking\n",
       "10360      2  0.765425        want\n",
       "10360      3  0.004207        want\n",
       "10360      4  0.230349        want\n",
       "10367      5  0.999532    wardrobe\n",
       "10398      2  0.000152       water\n",
       "10398      3  0.265350       water\n",
       "10398      5  0.734520       water\n",
       "10442      2  0.771962     welcome\n",
       "10442      5  0.228011     welcome\n",
       "10518      1  0.352404        wifi\n",
       "10518      3  0.467928        wifi\n",
       "10518      4  0.127944        wifi\n",
       "10518      5  0.051705        wifi\n",
       "10534      3  0.999846      window\n",
       "10534      5  0.000110      window\n",
       "10539      2  0.999671        wine\n",
       "10581      2  0.000218        work\n",
       "10581      3  0.999728        work\n",
       "10636      2  0.999881        year\n",
       "\n",
       "[476 rows x 3 columns], R=30, lambda_step=0.01, plot_opts={'xlab': 'PC1', 'ylab': 'PC2'}, topic_order=[2, 4, 5, 3, 1])"
      ]
     },
     "execution_count": 34,
     "metadata": {},
     "output_type": "execute_result"
    }
   ],
   "source": [
    "import time\n",
    "start_time = time.time()\n",
    "\n",
    "\n",
    "\n",
    "\n",
    "pyLDAvis.enable_notebook()\n",
    "lda_display_sk= pyLDAvis.sklearn.prepare(lda_modeln5, rev_vectorized, c_vec, mds='tsne')\n",
    "print(\"--- %s seconds ---\" % (time.time() - start_time))#10:37-10:38\n",
    "\n",
    "\n",
    "lda_display_sk\n",
    "\n",
    "\n"
   ]
  },
  {
   "cell_type": "markdown",
   "metadata": {},
   "source": [
    "![title](img/ldavis_skn5.png)\n",
    "For an interactive visualization, click [here]( https://houhouskldan5.herokuapp.com/)"
   ]
  },
  {
   "cell_type": "code",
   "execution_count": 34,
   "metadata": {},
   "outputs": [],
   "source": [
    "# Save the visualization in a html format\n",
    "pyLDAvis.save_html(lda_display_sk, 'skldan5.html')\n"
   ]
  },
  {
   "cell_type": "markdown",
   "metadata": {},
   "source": [
    "## Build LDA Model with Gensim\n",
    "Since the LDA model with sklearn takes lots of computing resources for larger number of topics and Gensim is more efficient in topic modeling, we turn to gensim for building the LDA model. For gensim we need to tokenize the data and filter out stopwords. "
   ]
  },
  {
   "cell_type": "markdown",
   "metadata": {},
   "source": [
    "### Create the Dictionary and Corpus Needed for Topic Modeling\n",
    "Since the size of reviews is quite large, we randomly select some samples to train the model. We can evaluate our topic models by the holdout test set."
   ]
  },
  {
   "cell_type": "code",
   "execution_count": 35,
   "metadata": {},
   "outputs": [],
   "source": [
    "from sklearn.model_selection import train_test_split\n",
    "\n",
    "# small samples for test\n",
    "#dft=df_txt.sample(50,random_state=100)\n",
    "#itrain, itest = train_test_split(range(dft.shape[0]), train_size=0.7,random_state=100)\n",
    "#mask = np.zeros(dft.shape[0], dtype=np.bool)\n",
    "#mask[itrain] = True\n",
    "#rev_gens=dft['Rev_Lemmatized'][mask]\n",
    "\n",
    "itrain, itest = train_test_split(range(df_txt.shape[0]), train_size=0.7,random_state=100)\n",
    "mask = np.zeros(df_txt.shape[0], dtype=np.bool)\n",
    "mask[itrain] = True\n",
    "\n",
    "rev_gens=df_txt['Rev_Lemmatized'][mask]\n",
    "\n"
   ]
  },
  {
   "cell_type": "code",
   "execution_count": 36,
   "metadata": {},
   "outputs": [
    {
     "name": "stdout",
     "output_type": "stream",
     "text": [
      "[[(0, 1), (1, 5), (2, 1), (3, 1), (4, 1), (5, 1), (6, 1), (7, 1), (8, 1), (9, 1), (10, 5), (11, 3), (12, 1), (13, 1), (14, 1), (15, 1), (16, 1), (17, 2), (18, 13), (19, 1), (20, 2), (21, 1), (22, 1), (23, 1), (24, 2), (25, 1), (26, 2), (27, 3), (28, 2), (29, 2), (30, 1), (31, 1), (32, 1), (33, 1), (34, 1), (35, 1), (36, 1), (37, 1), (38, 1), (39, 1), (40, 1), (41, 1), (42, 2), (43, 1), (44, 1), (45, 1), (46, 2), (47, 1), (48, 2), (49, 1), (50, 1), (51, 1), (52, 1), (53, 3), (54, 2), (55, 1), (56, 1), (57, 2), (58, 3), (59, 3), (60, 2), (61, 1), (62, 2), (63, 1), (64, 1), (65, 1), (66, 1), (67, 1), (68, 2), (69, 1), (70, 1), (71, 2), (72, 1), (73, 1), (74, 1), (75, 1), (76, 1), (77, 1), (78, 1), (79, 1), (80, 1), (81, 1), (82, 2), (83, 1), (84, 1), (85, 1), (86, 1), (87, 1), (88, 1), (89, 1), (90, 1), (91, 1), (92, 1), (93, 1), (94, 1), (95, 1), (96, 1), (97, 1), (98, 1), (99, 1), (100, 1), (101, 1), (102, 1), (103, 1), (104, 1), (105, 1), (106, 1), (107, 1), (108, 1), (109, 1), (110, 1), (111, 1)]]\n",
      "time 63.75276076300361\n"
     ]
    }
   ],
   "source": [
    "#Prepare NLTK stopwords\n",
    "from nltk.corpus import stopwords\n",
    "stop_words = stopwords.words('english')\n",
    "stop_words.extend(['hotel'])\n",
    "\n",
    "\n",
    "\n",
    "# Tokenize and clean sentences to words \n",
    "def sent_to_words(sentences):\n",
    "    for sentence in sentences:\n",
    "        yield(gensim.utils.simple_preprocess(str(sentence), deacc=True))  # deacc=True removes punctuations\n",
    "\n",
    "\n",
    "\n",
    "def process_text(sentences):\n",
    "    # Create Corpus\n",
    "    txt_tokenized=list(sent_to_words(sentences))\n",
    "    # Remove stopwords\n",
    "    txt_tokenized = [[w for w in doc if w not in stop_words] for doc in txt_tokenized]\n",
    "    return txt_tokenized\n",
    "\n",
    "\n",
    "import warnings\n",
    "warnings.filterwarnings('ignore')\n",
    "\n",
    "import timeit\n",
    "start_time = timeit.default_timer()\n",
    "\n",
    "\n",
    "rev_tokenized=process_text(rev_gens)\n",
    "    # Create Dictionary-association word to numericID\n",
    "dictionary = gensim.corpora.Dictionary(rev_tokenized )\n",
    "    # Term Document Frequency-transform collections of texts to numeric form\n",
    "corpus = [dictionary.doc2bow(txt) for txt in rev_tokenized ]\n",
    "\n",
    "    # #View the first document:[(word_id,count ),()...]\n",
    "print(corpus[:1])\n",
    "\n",
    "\n",
    "    #save dictionary and corpus\n",
    "pickle.dump(corpus, open('corpus.pkl', 'wb'))\n",
    "dictionary.save('dictionary.gensim')\n",
    "\n",
    "elapsed = timeit.default_timer() - start_time #10:41-10:10:43\n",
    "print ('time', elapsed)\n"
   ]
  },
  {
   "cell_type": "code",
   "execution_count": 37,
   "metadata": {},
   "outputs": [
    {
     "name": "stdout",
     "output_type": "stream",
     "text": [
      "Topics:\n",
      " (0, '0.070*\"breakfast\" + 0.061*\"room\" + 0.061*\"staff\" + 0.049*\"good\" + 0.043*\"location\" + 0.028*\"friendly\" + 0.027*\"great\" + 0.026*\"clean\" + 0.023*\"helpful\" + 0.022*\"nice\"')\n",
      "Topics:\n",
      " (1, '0.030*\"room\" + 0.016*\"check\" + 0.015*\"get\" + 0.014*\"day\" + 0.012*\"time\" + 0.011*\"ask\" + 0.011*\"pay\" + 0.011*\"book\" + 0.010*\"night\" + 0.010*\"reception\"')\n",
      "Topics:\n",
      " (2, '0.049*\"staff\" + 0.040*\"stay\" + 0.019*\"would\" + 0.018*\"helpful\" + 0.018*\"great\" + 0.015*\"friendly\" + 0.015*\"nothing\" + 0.014*\"location\" + 0.013*\"room\" + 0.013*\"everything\"')\n",
      "Topics:\n",
      " (3, '0.036*\"close\" + 0.034*\"station\" + 0.030*\"walk\" + 0.027*\"location\" + 0.023*\"metro\" + 0.022*\"city\" + 0.019*\"good\" + 0.015*\"minute\" + 0.013*\"easy\" + 0.013*\"train\"')\n",
      "Topics:\n",
      " (4, '0.090*\"room\" + 0.032*\"bed\" + 0.020*\"bathroom\" + 0.020*\"small\" + 0.019*\"location\" + 0.017*\"shower\" + 0.015*\"good\" + 0.012*\"floor\" + 0.011*\"clean\" + 0.011*\"nice\"')\n",
      "num_topic: 5\n",
      "\n",
      "Perplexity: -6.84\n",
      "\n",
      "Coherence Score: 0.58\n",
      "time 4806.294151426002\n"
     ]
    }
   ],
   "source": [
    "def build_lda(revs,ntopics,passes=15,num_words=10):\n",
    "    \"\"\"Tokenize and clean reviews by process_text, then create dictionary and corpus and build LDA model\"\"\"\n",
    "#     rev_tokenized=process_text(revs)\n",
    "#     # Create Dictionary-association word to numericID\n",
    "#     dictionary = gensim.corpora.Dictionary(rev_tokenized )\n",
    "#     # Term Document Frequency-transform collections of texts to numeric form\n",
    "#     corpus = [dictionary.doc2bow(txt) for txt in rev_tokenized ]\n",
    "\n",
    "#     # #View the first document:[(word_id,count ),()...]\n",
    "#     # print(corpus[:1])\n",
    "\n",
    "\n",
    "#     #save dictionary and corpus\n",
    "#     pickle.dump(corpus, open('corpus.pkl', 'wb'))\n",
    "#     dictionary.save('dictionary.gensim')\n",
    "\n",
    "    #build lda model\n",
    "    ldamodel=gensim.models.ldamodel.LdaModel(corpus, num_topics = ntopics, id2word=dictionary, passes=15,random_state=100)\n",
    "    #ldamodel = gensim.models.ldamulticore.LdaMulticore(corpus, num_topics =ntopics, id2word=dictionary, passes=15,random_state=100) #Multicore very demanding on memory; can do for ntopics=10 but not 50 +\n",
    "    \n",
    "    #save ldamodel\n",
    "    ldamodel.save('model{0}.gensim'.format(ntopics))\n",
    "    topics = ldamodel.print_topics(num_words=10)\n",
    "    for topic in topics:\n",
    "        print('Topics:\\n',topic)\n",
    "    \n",
    "    print('num_topic: %d' %ntopics)\n",
    "    \n",
    "    # Compute Perplexity\n",
    "    log_perplexity=ldamodel.log_perplexity(corpus)\n",
    "    print('\\nPerplexity: %.2f' %(log_perplexity))  # a measure of how good the model is. lower the better.\n",
    "\n",
    "    # Compute Coherence Score\n",
    "    coherence_ldamodel= CoherenceModel(model=ldamodel, texts=rev_tokenized, dictionary=dictionary, coherence='c_v')\n",
    "    coherence= coherence_ldamodel.get_coherence()\n",
    "    print('\\nCoherence Score: %.2f' %coherence)\n",
    "    \n",
    "    return ntopics,log_perplexity,coherence\n",
    "\n",
    "import timeit\n",
    "start_time = timeit.default_timer()\n",
    "\n",
    "\n",
    "ntopics=5\n",
    "\n",
    "_=build_lda(rev_gens,ntopics=ntopics,passes=15)\n",
    "elapsed = timeit.default_timer() - start_time #10:45-10:\n",
    "print ('time', elapsed)\n",
    "\n",
    "\n"
   ]
  },
  {
   "cell_type": "markdown",
   "metadata": {},
   "source": [
    "### Model Perplexity\n",
    "The coherence takes too long (more than 24 hours for larger ntopics= 50,...) to calculate. ntopics=5 takes 1hour 20mins. So we investigate the model performance by the figure below: ntopics v.s. perplexity. Note the data are obtained by calculations on a cluster."
   ]
  },
  {
   "cell_type": "code",
   "execution_count": 123,
   "metadata": {},
   "outputs": [
    {
     "data": {
      "image/png": "[encoded data removed]",
      "text/plain": [
       "<Figure size 720x576 with 1 Axes>"
      ]
     },
     "metadata": {},
     "output_type": "display_data"
    }
   ],
   "source": [
    "df_ntopic_perp=pd.DataFrame([(5,-6.85),(10,-6.95),(50,-7.58),(80,-10.65),(100,-13.83)],columns=['ntopics','perplexity'])\n",
    "df_ntopic_perp.plot(kind='scatter',x='ntopics',y='perplexity',s=50);"
   ]
  },
  {
   "cell_type": "markdown",
   "metadata": {},
   "source": [
    "### Visualize Topics with pyLDAvis\n",
    "Pick the optimal model and visualize and interpret topics with pyLDAvis."
   ]
  },
  {
   "cell_type": "code",
   "execution_count": 39,
   "metadata": {},
   "outputs": [
    {
     "name": "stdout",
     "output_type": "stream",
     "text": [
      "time 209.81574124799226\n"
     ]
    },
    {
     "data": {
      "text/html": [
       "\n",
       "<link rel=\"stylesheet\" type=\"text/css\" href=\"https://cdn.rawgit.com/bmabey/pyLDAvis/files/ldavis.v1.0.0.css\">\n",
       "\n",
       "\n",
       "<div id=\"ldavis_el1042554665754001586366570\"></div>\n",
       "<script type=\"text/javascript\">\n",
       "\n",
       "var ldavis_el1042554665754001586366570_data = {\"mdsDat\": {\"Freq\": [22.472646192455993, 23.059623432711902, 18.52799027723566, 14.26253148892353, 21.677208608672917], \"cluster\": [1, 1, 1, 1, 1], \"topics\": [1, 2, 3, 4, 5], \"x\": [-0.0010996021409493087, -0.1946493326051096, -0.12753974860977976, 0.3143428588217659, 0.008945824534072758], \"y\": [-0.1955062152347567, 0.21029641782617325, -0.0014405479284524735, 0.13312105328279322, -0.1464707079457573]}, \"tinfo\": {\"Category\": [\"Default\", \"Default\", \"Default\", \"Default\", \"Default\", \"Default\", \"Default\", \"Default\", \"Default\", \"Default\", \"Default\", \"Default\", \"Default\", \"Default\", \"Default\", \"Default\", \"Default\", \"Default\", \"Default\", \"Default\", \"Default\", \"Default\", \"Default\", \"Default\", \"Default\", \"Default\", \"Default\", \"Default\", \"Default\", \"Default\", \"Topic1\", \"Topic1\", \"Topic1\", \"Topic1\", \"Topic1\", \"Topic1\", \"Topic1\", \"Topic1\", \"Topic1\", \"Topic1\", \"Topic1\", \"Topic1\", \"Topic1\", \"Topic1\", \"Topic1\", \"Topic1\", \"Topic1\", \"Topic1\", \"Topic1\", \"Topic1\", \"Topic1\", \"Topic1\", \"Topic1\", \"Topic1\", \"Topic1\", \"Topic1\", \"Topic1\", \"Topic1\", \"Topic1\", \"Topic1\", \"Topic1\", \"Topic1\", \"Topic1\", \"Topic1\", \"Topic1\", \"Topic1\", \"Topic1\", \"Topic1\", \"Topic1\", \"Topic1\", \"Topic1\", \"Topic1\", \"Topic1\", \"Topic1\", \"Topic1\", \"Topic1\", \"Topic1\", \"Topic1\", \"Topic1\", \"Topic1\", \"Topic1\", \"Topic1\", \"Topic1\", \"Topic1\", \"Topic1\", \"Topic1\", \"Topic1\", \"Topic1\", \"Topic1\", \"Topic1\", \"Topic1\", \"Topic1\", \"Topic1\", \"Topic1\", \"Topic1\", \"Topic2\", \"Topic2\", \"Topic2\", \"Topic2\", \"Topic2\", \"Topic2\", \"Topic2\", \"Topic2\", \"Topic2\", \"Topic2\", \"Topic2\", \"Topic2\", \"Topic2\", \"Topic2\", \"Topic2\", \"Topic2\", \"Topic2\", \"Topic2\", \"Topic2\", \"Topic2\", \"Topic2\", \"Topic2\", \"Topic2\", \"Topic2\", \"Topic2\", \"Topic2\", \"Topic2\", \"Topic2\", \"Topic2\", \"Topic2\", \"Topic2\", \"Topic2\", \"Topic2\", \"Topic2\", \"Topic2\", \"Topic2\", \"Topic2\", \"Topic2\", \"Topic2\", \"Topic2\", \"Topic2\", \"Topic2\", \"Topic2\", \"Topic2\", \"Topic2\", \"Topic2\", \"Topic2\", \"Topic2\", \"Topic2\", \"Topic2\", \"Topic2\", \"Topic2\", \"Topic2\", \"Topic2\", \"Topic2\", \"Topic2\", \"Topic2\", \"Topic2\", \"Topic3\", \"Topic3\", \"Topic3\", \"Topic3\", \"Topic3\", \"Topic3\", \"Topic3\", \"Topic3\", \"Topic3\", \"Topic3\", \"Topic3\", \"Topic3\", \"Topic3\", \"Topic3\", \"Topic3\", \"Topic3\", \"Topic3\", \"Topic3\", \"Topic3\", \"Topic3\", \"Topic3\", \"Topic3\", \"Topic3\", \"Topic3\", \"Topic3\", \"Topic3\", \"Topic3\", \"Topic3\", \"Topic3\", \"Topic3\", \"Topic3\", \"Topic3\", \"Topic3\", \"Topic3\", \"Topic3\", \"Topic3\", \"Topic3\", \"Topic3\", \"Topic3\", \"Topic3\", \"Topic3\", \"Topic3\", \"Topic3\", \"Topic3\", \"Topic3\", \"Topic3\", \"Topic3\", \"Topic3\", \"Topic3\", \"Topic3\", \"Topic3\", \"Topic3\", \"Topic3\", \"Topic3\", \"Topic3\", \"Topic3\", \"Topic3\", \"Topic3\", \"Topic3\", \"Topic3\", \"Topic3\", \"Topic3\", \"Topic3\", \"Topic4\", \"Topic4\", \"Topic4\", \"Topic4\", \"Topic4\", \"Topic4\", \"Topic4\", \"Topic4\", \"Topic4\", \"Topic4\", \"Topic4\", \"Topic4\", \"Topic4\", \"Topic4\", \"Topic4\", \"Topic4\", \"Topic4\", \"Topic4\", \"Topic4\", \"Topic4\", \"Topic4\", \"Topic4\", \"Topic4\", \"Topic4\", \"Topic4\", \"Topic4\", \"Topic4\", \"Topic4\", \"Topic4\", \"Topic4\", \"Topic4\", \"Topic4\", \"Topic4\", \"Topic4\", \"Topic4\", \"Topic4\", \"Topic4\", \"Topic4\", \"Topic4\", \"Topic4\", \"Topic4\", \"Topic4\", \"Topic4\", \"Topic4\", \"Topic4\", \"Topic4\", \"Topic4\", \"Topic4\", \"Topic4\", \"Topic4\", \"Topic4\", \"Topic4\", \"Topic4\", \"Topic5\", \"Topic5\", \"Topic5\", \"Topic5\", \"Topic5\", \"Topic5\", \"Topic5\", \"Topic5\", \"Topic5\", \"Topic5\", \"Topic5\", \"Topic5\", \"Topic5\", \"Topic5\", \"Topic5\", \"Topic5\", \"Topic5\", \"Topic5\", \"Topic5\", \"Topic5\", \"Topic5\", \"Topic5\", \"Topic5\", \"Topic5\", \"Topic5\", \"Topic5\", \"Topic5\", \"Topic5\", \"Topic5\", \"Topic5\", \"Topic5\", \"Topic5\", \"Topic5\", \"Topic5\", \"Topic5\", \"Topic5\", \"Topic5\", \"Topic5\", \"Topic5\", \"Topic5\", \"Topic5\", \"Topic5\", \"Topic5\", \"Topic5\", \"Topic5\", \"Topic5\", \"Topic5\", \"Topic5\", \"Topic5\", \"Topic5\", \"Topic5\", \"Topic5\", \"Topic5\", \"Topic5\", \"Topic5\", \"Topic5\", \"Topic5\"], \"Freq\": [103891.0, 145099.0, 254262.0, 48466.0, 30509.0, 28843.0, 63794.0, 105437.0, 25241.0, 53597.0, 50594.0, 119065.0, 19501.0, 20293.0, 22274.0, 30569.0, 36257.0, 22361.0, 70060.0, 58842.0, 38515.0, 15777.0, 15515.0, 15590.0, 25093.0, 11427.0, 11186.0, 11185.0, 25346.0, 34146.0, 8779.367366604989, 6284.021385344938, 4480.301186655186, 3884.3877512469517, 3495.694650885446, 3403.608675646834, 3370.598210638088, 1803.8664434437703, 1591.9584999661708, 1456.0344740925054, 1450.3990330359647, 1433.326173596865, 1116.084115925225, 1095.7616173110637, 1084.786703276109, 1072.7461385659888, 1055.8316561609265, 972.367982418358, 868.1475640550813, 662.0736273753562, 689.6597485630986, 601.3835003556287, 606.6055214362104, 587.3384362606405, 527.8121565288507, 511.62046035373777, 514.846558912204, 512.8803120129893, 506.5204130606082, 450.38037636438196, 456.62249900924166, 8251.172346104619, 92927.79824087194, 8779.569649782445, 12646.256132141807, 2343.318521926179, 14190.717714326353, 37135.46685952491, 65490.241062533976, 8486.659032264264, 25835.503691192705, 80976.66816793964, 30871.626752401717, 34227.442703604414, 6368.8112962269915, 24108.992625845272, 12141.106845420707, 57181.03527942725, 36595.97097886008, 28785.61034506333, 10265.307224866203, 11713.571074333517, 5556.909386506296, 81754.88151863498, 12501.143247374155, 13993.080118716221, 22659.009848449434, 8863.686882748749, 7202.632608367818, 6940.539503417321, 9255.520727823778, 10493.27315546677, 9608.985284631175, 8051.775045077663, 8312.495339204741, 22361.0818677292, 15589.81171574136, 10290.091940204404, 8984.56219624631, 8784.76372784297, 7822.423432474701, 7137.732613163245, 6436.993851036042, 5508.005592519558, 5330.680782973998, 5197.03655033535, 4972.0022983764475, 4722.179580960016, 4592.0525373232595, 4295.563773118544, 3764.398004158452, 3134.9744028250316, 2897.9389448407883, 2534.7970090682857, 2525.460276839648, 2406.368022147007, 2176.431672127974, 2043.289046690746, 1959.8310282796424, 1971.266180390338, 1941.8734814312875, 1904.4598032743593, 1874.4632928476703, 1843.8425530928332, 1759.6446893739324, 14700.701043854886, 7172.869034357199, 14937.466504370286, 18962.099509689906, 5194.261845413806, 6545.909682194311, 12066.046563080052, 7891.923118035554, 7354.525587075809, 4771.087082690614, 10825.659161766607, 16992.952099590882, 20148.212073760264, 13932.41959244373, 10153.619734538132, 14108.042175036948, 11277.37565756914, 41336.49564800131, 7938.877738638446, 9292.372918938177, 8058.175860167708, 6390.1913860631585, 9178.49984510923, 10951.674811498957, 7707.022442289396, 10704.748970944209, 7984.681373649862, 7486.710399774084, 12602.53087932684, 10878.083055279845, 8446.98974511262, 6139.206799055941, 5053.01611258683, 4240.80743756531, 4100.871988357398, 3716.545361451125, 3389.369805720141, 3264.414260845258, 3172.0201159250546, 2365.7205751486586, 2336.380474701475, 2262.5416318735097, 2168.9038869365786, 2095.834111166704, 1924.1714270464547, 1913.1032364799034, 1899.584561575841, 1794.0942622071734, 1756.4385659380018, 1657.6614331898652, 1615.274081647522, 1590.7408071836196, 1537.7865495710143, 1465.7471660494002, 1422.085351594294, 1387.4071065135547, 1266.291143793084, 1164.7411778029502, 1515.1707065181529, 43722.372847030674, 11853.228522179621, 5427.578884291701, 20698.12636293716, 16041.103089958091, 14574.809285486252, 6441.737254474938, 5013.594905090658, 5335.316986030292, 11521.308681702189, 53417.45752886535, 6141.356627901667, 6351.567886245459, 10057.072124992528, 19722.158410777316, 5322.152616747916, 8073.615186643969, 13268.679603017186, 7440.259816499545, 10233.790560726062, 19362.036325562058, 16461.699246473934, 6465.871347195425, 7155.79074829767, 15335.761428140462, 7725.005773651285, 8099.549998046732, 9304.462744758232, 14590.509860955868, 7209.780084307816, 7519.826507218257, 7278.715860545575, 30508.917694984953, 28842.460369599747, 25240.834132395576, 19500.363460465716, 11426.627928506421, 11184.975460597536, 11185.81322736503, 10590.619603623769, 8148.83863719897, 7475.607169316024, 6198.751955840071, 6124.12601946995, 4709.295286967981, 4732.650352701971, 4644.680590816278, 4493.5802098924005, 4442.387836406721, 4555.771458229481, 4219.0312279776, 3749.949820996728, 3582.5834631513403, 3336.013628665829, 3149.4715285749, 2497.995608127377, 2090.5275262519517, 2031.0299508372143, 1971.63504676483, 1923.8538437001096, 1666.2986883191265, 1650.6044040785357, 18790.457946018312, 5051.591084292397, 6691.37047896754, 9524.327617703157, 8331.639950204473, 12883.285941710112, 7307.328603125109, 5921.048509850049, 8691.60926886881, 5835.887391275827, 6436.705242771209, 5588.471009075313, 5462.656952438499, 22592.65379754918, 10107.40129300166, 15884.037940726681, 6299.4002703263095, 7113.373674967956, 8256.785580960024, 9772.628731086661, 8995.610710559695, 7972.264820907522, 6399.120501812068, 22273.520518396075, 12520.969992043885, 10138.216067411375, 9473.70134857811, 8162.957971881518, 7399.317275565223, 7303.805594010845, 15513.913742344364, 6116.6501740252925, 5969.533635366911, 5624.663289791957, 5323.014980029893, 4192.753809904707, 3970.506262486837, 3873.4753642854444, 3609.007098463803, 3242.5493384536994, 3107.9426737165077, 2882.971456054515, 2807.991803074839, 2735.70662593456, 2624.219056803135, 2538.937906154143, 2277.1465840847245, 2276.410318410897, 2275.495948004588, 1912.7704007061984, 1864.1163885443975, 1824.4381229776973, 1739.451639371407, 5289.644389881648, 25841.568183493164, 10510.709641569898, 7979.883812461538, 9844.416166675846, 25764.053720114305, 41134.570774737156, 6899.596926818774, 7992.3568850134325, 115819.36491449691, 4463.139649732029, 8915.660387256874, 10837.804398698125, 7869.730452730907, 7228.068580475457, 23867.53145656702, 8366.350194674078, 6644.158455880583, 19283.844615385246, 14223.795580259795, 13587.276734640483, 9991.007691119341, 9272.561736680942, 9820.00230790783, 7646.677867555156, 7585.548322165281, 7407.7447338539305], \"Term\": [\"breakfast\", \"staff\", \"room\", \"stay\", \"close\", \"station\", \"bed\", \"good\", \"walk\", \"friendly\", \"helpful\", \"location\", \"metro\", \"city\", \"shower\", \"bathroom\", \"small\", \"check\", \"great\", \"clean\", \"excellent\", \"minute\", \"floor\", \"ask\", \"time\", \"easy\", \"train\", \"center\", \"nothing\", \"would\", \"choice\", \"buffet\", \"selection\", \"variety\", \"egg\", \"fi\", \"wi\", \"tasty\", \"helpfull\", \"juice\", \"bread\", \"cook\", \"scramble\", \"cheese\", \"bacon\", \"rich\", \"croissant\", \"pastry\", \"continental\", \"sausage\", \"brand\", \"cereal\", \"dated\", \"orange\", \"gluten\", \"meat\", \"vegetable\", \"plentiful\", \"coffe\", \"toast\", \"pizza\", \"tea\", \"breakfast\", \"value\", \"coffee\", \"fruit\", \"food\", \"friendly\", \"good\", \"expensive\", \"excellent\", \"staff\", \"helpful\", \"clean\", \"quality\", \"comfortable\", \"facility\", \"location\", \"great\", \"nice\", \"wifi\", \"price\", \"include\", \"room\", \"bar\", \"service\", \"bed\", \"free\", \"spacious\", \"comfy\", \"restaurant\", \"small\", \"really\", \"lovely\", \"nothing\", \"check\", \"ask\", \"charge\", \"morning\", \"tell\", \"wait\", \"hour\", \"early\", \"call\", \"card\", \"late\", \"booking\", \"rude\", \"conditioning\", \"pm\", \"com\", \"iron\", \"key\", \"phone\", \"fix\", \"shuttle\", \"someone\", \"con\", \"credit\", \"happen\", \"wake\", \"twice\", \"understand\", \"later\", \"amount\", \"book\", \"arrive\", \"pay\", \"day\", \"never\", \"guest\", \"take\", \"say\", \"leave\", \"try\", \"give\", \"time\", \"get\", \"reception\", \"even\", \"night\", \"go\", \"room\", \"come\", \"work\", \"use\", \"first\", \"service\", \"breakfast\", \"also\", \"staff\", \"would\", \"make\", \"love\", \"recommend\", \"definitely\", \"enjoy\", \"thank\", \"special\", \"happy\", \"absolutely\", \"birthday\", \"fault\", \"highly\", \"detail\", \"home\", \"cake\", \"everyone\", \"wish\", \"treat\", \"surprise\", \"attention\", \"best\", \"bill\", \"trouble\", \"class\", \"negative\", \"meet\", \"direction\", \"longer\", \"daughter\", \"world\", \"team\", \"exceptional\", \"stay\", \"amazing\", \"wonderful\", \"would\", \"nothing\", \"everything\", \"welcome\", \"visit\", \"experience\", \"lovely\", \"staff\", \"beautiful\", \"fantastic\", \"perfect\", \"helpful\", \"always\", \"pool\", \"really\", \"feel\", \"make\", \"great\", \"friendly\", \"back\", \"place\", \"location\", \"view\", \"time\", \"excellent\", \"room\", \"go\", \"service\", \"bar\", \"close\", \"station\", \"walk\", \"metro\", \"easy\", \"center\", \"train\", \"centre\", \"tram\", \"distance\", \"park\", \"bus\", \"transport\", \"tube\", \"shop\", \"underground\", \"nearby\", \"duomo\", \"shopping\", \"walking\", \"attraction\", \"subway\", \"town\", \"tourist\", \"cafe\", \"square\", \"supermarket\", \"museum\", \"sight\", \"transportation\", \"city\", \"public\", \"stop\", \"min\", \"far\", \"minute\", \"away\", \"locate\", \"central\", \"access\", \"right\", \"car\", \"main\", \"location\", \"restaurant\", \"good\", \"street\", \"parking\", \"area\", \"great\", \"nice\", \"clean\", \"get\", \"shower\", \"window\", \"noise\", \"noisy\", \"light\", \"bath\", \"space\", \"floor\", \"toilet\", \"wall\", \"single\", \"smell\", \"tiny\", \"uncomfortable\", \"dark\", \"furniture\", \"sound\", \"carpet\", \"corridor\", \"mattress\", \"swimming\", \"temperature\", \"curtain\", \"sink\", \"together\", \"heating\", \"thin\", \"fan\", \"chair\", \"sofa\", \"hear\", \"bathroom\", \"old\", \"sleep\", \"air\", \"small\", \"bed\", \"double\", \"open\", \"room\", \"dirty\", \"door\", \"work\", \"look\", \"water\", \"location\", \"big\", \"star\", \"good\", \"clean\", \"nice\", \"could\", \"night\", \"comfortable\", \"need\", \"bit\", \"view\"], \"Total\": [103891.0, 145099.0, 254262.0, 48466.0, 30509.0, 28843.0, 63794.0, 105437.0, 25241.0, 53597.0, 50594.0, 119065.0, 19501.0, 20293.0, 22274.0, 30569.0, 36257.0, 22361.0, 70060.0, 58842.0, 38515.0, 15777.0, 15515.0, 15590.0, 25093.0, 11427.0, 11186.0, 11185.0, 25346.0, 34146.0, 8780.198511300025, 6284.851950530253, 4481.131138170561, 3885.2174619503307, 3496.5220917213364, 3404.4401707067605, 3371.4285640220724, 1804.6982726480855, 1592.7931982767743, 1456.8627986937722, 1451.2258533225183, 1434.152843028724, 1116.912734901461, 1096.5910932293061, 1085.6133053022884, 1073.583730568501, 1056.6624117773952, 973.1961458879996, 868.9802861627538, 662.8991643390254, 690.530396785765, 602.2121820134854, 607.4436772913782, 588.1676607083173, 528.6359442981703, 512.4494462411674, 515.6820586657974, 513.7142390276261, 507.3530063638817, 451.20991452808863, 457.4873870155077, 8764.65192284143, 103891.52097246003, 9438.932517767022, 14178.424638915063, 2475.297220003116, 18439.307175396778, 53597.77052940059, 105437.22991828992, 11161.555941545459, 38515.088025518846, 145099.27949219968, 50594.390006663896, 58842.97181318533, 8454.122031994746, 40243.86668928034, 18239.903069292763, 119065.68435543054, 70060.70499102527, 56408.97912059177, 16309.793516448775, 20026.48863579359, 7877.201985101877, 254262.68113597325, 25546.690141865, 30691.809873749236, 63794.19823695836, 16674.212634875697, 12138.936559075093, 11709.052473064545, 24344.981852928526, 36257.94609822701, 30998.838783815347, 19573.68756841129, 25346.950200419484, 22361.89742248397, 15590.629733680888, 10290.909417166935, 8985.383769544642, 8785.575394213942, 7823.240174326411, 7138.551973717527, 6437.810514086444, 5508.819625339085, 5331.492933864002, 5197.853626505725, 4972.815783099826, 4722.995502737769, 4592.893524582781, 4296.378264902925, 3765.2082369850027, 3135.7956911278934, 2898.7560647853497, 2535.6113962531235, 2526.277285534993, 2407.2111962423355, 2177.248430516673, 2044.1256834441888, 1960.6397938024334, 1972.0829393032416, 1942.6934756026856, 1905.276063379991, 1875.2814262722143, 1844.6554009710978, 1760.4575454397839, 16333.182588765327, 7684.637012225466, 16918.96437724695, 24003.231468168728, 5805.828642925813, 7658.5646965655815, 15607.018846054007, 9609.272157355032, 8909.518832028263, 5406.203754828086, 14571.97535415317, 25093.096836878267, 33498.56468573972, 22315.048168641966, 16748.824576241204, 27833.853158116017, 20892.546764645696, 254262.68113597325, 12785.631198873329, 20130.784860987857, 16485.261988609673, 9627.659538986565, 30691.809873749236, 103891.52097246003, 24106.354793383594, 145099.27949219968, 34146.336209173074, 22855.012302380324, 12603.319904575723, 10878.874090200794, 8447.780404769723, 6139.999278708711, 5053.804627160744, 4241.597323557978, 4101.666840863977, 3717.337819777999, 3390.1526384787376, 3265.2066222765925, 3172.805872725127, 2366.5148343847977, 2337.171377966144, 2263.3399881028395, 2169.698104407048, 2096.6291143583094, 1924.95982137411, 1913.8979045232495, 1900.378882566475, 1794.8892844123145, 1757.2595691255908, 1658.4547395734048, 1616.063191278095, 1591.5342197215334, 1538.5821339814454, 1466.5559620809133, 1422.8804301102582, 1388.2037562020953, 1267.0842685750504, 1165.5299394684062, 1518.2394950249259, 48466.60241980269, 14231.99319173072, 6717.437287345938, 34146.336209173074, 25346.950200419484, 22801.306654987784, 8795.215238163984, 6589.397458746958, 7216.899275181851, 19573.68756841129, 145099.27949219968, 9154.603858384986, 9828.32084096962, 18893.93173968628, 50594.390006663896, 7807.283822736635, 14716.348009456095, 30998.838783815347, 13220.084112555878, 22855.012302380324, 70060.70499102527, 53597.77052940059, 11699.148509575722, 15949.287759305624, 119065.68435543054, 21228.52307218891, 25093.096836878267, 38515.088025518846, 254262.68113597325, 20892.546764645696, 30691.809873749236, 25546.690141865, 30509.750195191387, 28843.28587018853, 25241.663053171487, 19501.190044177893, 11427.456464318546, 11185.80135360146, 11186.641271991732, 10591.445820955596, 8149.663319806561, 7476.431671605719, 6199.5820956705675, 6124.949026331295, 4710.12129639059, 4733.485312807688, 4645.508558010169, 4494.410485180622, 4443.218144055705, 4556.623696111658, 4219.859126923815, 3750.774605159109, 3583.408424767403, 3336.8410214859155, 3150.2992767266314, 2498.8252990753963, 2091.3587605468883, 2031.8583109968936, 1972.4648951040867, 1924.677798361369, 1667.1290072737872, 1651.4295066031375, 20293.408958419488, 5285.371627766001, 7199.19930354195, 10640.783106209019, 9718.443053001263, 15777.906844114861, 8610.254384516309, 6986.846506184269, 11913.286051919722, 7040.475642307452, 8138.367003430666, 6880.560351265161, 6712.100113543116, 119065.68435543054, 24344.981852928526, 105437.22991828992, 10015.522445034341, 13814.633786630746, 21269.85212929715, 70060.70499102527, 56408.97912059177, 58842.97181318533, 33498.56468573972, 22274.322709507782, 12521.76995465068, 10139.01823630342, 9474.504186085529, 8163.761165566947, 7400.120396326699, 7304.612953616952, 15515.915657127054, 6117.451078921614, 5970.332681571242, 5625.468653185636, 5323.814870156621, 4193.56138488337, 3971.308408908725, 3874.2769501874973, 3609.809524023981, 3243.3522692319216, 3108.7423358796327, 2883.7723513298843, 2808.7942065519487, 2736.529377563001, 2625.021153196999, 2539.737735031548, 2277.9468467072743, 2277.212843669863, 2276.298831311179, 1913.5692585164927, 1864.9217025329294, 1825.2411384921609, 1740.256868681661, 5381.487566955976, 30569.377465854403, 12163.358062142925, 9083.530159302021, 11781.191041208562, 36257.94609822701, 63794.19823695836, 8175.286856596072, 9992.287311399596, 254262.68113597325, 5080.824817348485, 13297.93474673515, 20130.784860987857, 12827.710032213188, 12375.5069506537, 119065.68435543054, 17774.407240290217, 11434.903256187292, 105437.22991828992, 58842.97181318533, 56408.97912059177, 28541.151297079297, 27833.853158116017, 40243.86668928034, 18851.774399610505, 19774.95482382454, 21228.52307218891], \"loglift\": [30.0, 29.0, 28.0, 27.0, 26.0, 25.0, 24.0, 23.0, 22.0, 21.0, 20.0, 19.0, 18.0, 17.0, 16.0, 15.0, 14.0, 13.0, 12.0, 11.0, 10.0, 9.0, 8.0, 7.0, 6.0, 5.0, 4.0, 3.0, 2.0, 1.0, 1.4928, 1.4927, 1.4927, 1.4927, 1.4926, 1.4926, 1.4926, 1.4924, 1.4923, 1.4923, 1.4923, 1.4923, 1.4921, 1.4921, 1.4921, 1.4921, 1.4921, 1.492, 1.4919, 1.4916, 1.4916, 1.4915, 1.4915, 1.4915, 1.4913, 1.4913, 1.4912, 1.4912, 1.4912, 1.491, 1.491, 1.4325, 1.3813, 1.4205, 1.3785, 1.4381, 1.231, 1.1259, 1.0167, 1.2189, 1.0936, 0.9096, 0.9989, 0.951, 1.2096, 0.9805, 1.0859, 0.7594, 0.8434, 0.8201, 1.0299, 0.9566, 1.1439, 0.3582, 0.7782, 0.7074, 0.4578, 0.861, 0.9709, 0.9699, 0.5258, 0.2529, 0.3216, 0.6046, 0.378, 1.4671, 1.467, 1.467, 1.467, 1.467, 1.467, 1.467, 1.467, 1.4669, 1.4669, 1.4669, 1.4669, 1.4669, 1.4669, 1.4669, 1.4669, 1.4668, 1.4668, 1.4668, 1.4668, 1.4667, 1.4667, 1.4667, 1.4667, 1.4667, 1.4667, 1.4667, 1.4667, 1.4666, 1.4666, 1.3618, 1.3982, 1.3425, 1.2313, 1.3558, 1.3101, 1.2098, 1.2702, 1.2753, 1.3421, 1.1699, 1.0773, 0.9587, 0.996, 0.9666, 0.7876, 0.8505, -0.3495, 0.9905, 0.694, 0.7513, 1.0572, 0.26, -0.7828, 0.3267, -1.1396, 0.014, 0.351, 1.6858, 1.6858, 1.6858, 1.6858, 1.6857, 1.6857, 1.6857, 1.6857, 1.6857, 1.6856, 1.6856, 1.6856, 1.6855, 1.6855, 1.6855, 1.6855, 1.6855, 1.6855, 1.6855, 1.6854, 1.6854, 1.6854, 1.6854, 1.6854, 1.6854, 1.6853, 1.6853, 1.6853, 1.6853, 1.6852, 1.6839, 1.5829, 1.503, 1.4727, 1.1853, 1.2284, 1.2384, 1.3745, 1.4126, 1.3838, 1.1559, 0.6866, 1.2867, 1.2493, 1.0553, 0.7438, 1.3027, 1.0855, 0.8373, 1.1111, 0.8824, 0.3998, 0.5054, 1.0929, 0.8844, -0.3636, 0.675, 0.5551, 0.2653, -1.1721, 0.6219, 0.2794, 0.4303, 1.9475, 1.9475, 1.9475, 1.9475, 1.9475, 1.9475, 1.9475, 1.9475, 1.9474, 1.9474, 1.9474, 1.9474, 1.9474, 1.9474, 1.9474, 1.9473, 1.9473, 1.9473, 1.9473, 1.9473, 1.9473, 1.9473, 1.9473, 1.9472, 1.9471, 1.9471, 1.9471, 1.9471, 1.947, 1.947, 1.8706, 1.9023, 1.8744, 1.8367, 1.7936, 1.7449, 1.7835, 1.782, 1.6322, 1.7599, 1.713, 1.7395, 1.7416, 0.2855, 1.0685, 0.0547, 1.4839, 1.2838, 1.0013, -0.0222, 0.1116, -0.0514, 0.2922, 1.5289, 1.5288, 1.5288, 1.5288, 1.5288, 1.5288, 1.5288, 1.5288, 1.5288, 1.5288, 1.5288, 1.5288, 1.5287, 1.5287, 1.5287, 1.5287, 1.5287, 1.5287, 1.5286, 1.5286, 1.5286, 1.5286, 1.5286, 1.5286, 1.5286, 1.5286, 1.5285, 1.5285, 1.5285, 1.5284, 1.5117, 1.3609, 1.3829, 1.3994, 1.3493, 1.1872, 1.0901, 1.3593, 1.3056, 0.7426, 1.3993, 1.1291, 0.9097, 1.0403, 0.9912, -0.0782, 0.7754, 0.986, -0.1699, 0.109, 0.1054, 0.4792, 0.4297, 0.1184, 0.6266, 0.5707, 0.4761], \"logprob\": [30.0, 29.0, 28.0, 27.0, 26.0, 25.0, 24.0, 23.0, 22.0, 21.0, 20.0, 19.0, 18.0, 17.0, 16.0, 15.0, 14.0, 13.0, 12.0, 11.0, 10.0, 9.0, 8.0, 7.0, 6.0, 5.0, 4.0, 3.0, 2.0, 1.0, -5.0245, -5.3589, -5.6972, -5.8399, -5.9453, -5.972, -5.9818, -6.6069, -6.7319, -6.8211, -6.825, -6.8369, -7.087, -7.1054, -7.1155, -7.1266, -7.1425, -7.2249, -7.3383, -7.6092, -7.5684, -7.7054, -7.6967, -7.729, -7.8359, -7.867, -7.8607, -7.8646, -7.8771, -7.9945, -7.9808, -5.0865, -2.665, -5.0244, -4.6595, -6.3453, -4.5443, -3.5823, -3.015, -5.0584, -3.9451, -2.8027, -3.767, -3.6638, -5.3454, -4.0143, -4.7003, -3.1506, -3.5969, -3.837, -4.8681, -4.7361, -5.4818, -2.7931, -4.671, -4.5583, -4.0763, -5.0149, -5.2224, -5.2595, -4.9716, -4.8461, -4.9342, -5.111, -5.0791, -4.1153, -4.476, -4.8915, -5.0271, -5.0496, -5.1657, -5.2573, -5.3606, -5.5164, -5.5492, -5.5746, -5.6188, -5.6704, -5.6983, -5.7651, -5.8971, -6.08, -6.1586, -6.2925, -6.2962, -6.3445, -6.445, -6.5081, -6.5498, -6.544, -6.559, -6.5784, -6.5943, -6.6108, -6.6575, -4.5348, -5.2523, -4.5188, -4.2802, -5.5751, -5.3438, -4.7322, -5.1568, -5.2273, -5.6601, -4.8407, -4.3898, -4.2195, -4.5884, -4.9048, -4.5759, -4.7998, -3.5009, -5.1509, -4.9935, -5.136, -5.3679, -5.0058, -4.8292, -5.1805, -4.852, -5.1451, -5.2095, -4.4699, -4.6171, -4.87, -5.1891, -5.3839, -5.5591, -5.5926, -5.6911, -5.7832, -5.8208, -5.8495, -6.1428, -6.1552, -6.1874, -6.2296, -6.2639, -6.3493, -6.3551, -6.3622, -6.4193, -6.4406, -6.4984, -6.5243, -6.5396, -6.5735, -6.6215, -6.6517, -6.6764, -6.7678, -6.8513, -6.5883, -3.226, -4.5312, -5.3124, -3.9738, -4.2287, -4.3246, -5.141, -5.3917, -5.3295, -4.5596, -3.0257, -5.1888, -5.1551, -4.6956, -4.0221, -5.332, -4.9152, -4.4184, -4.9969, -4.6781, -4.0405, -4.2028, -5.1373, -5.0359, -4.2737, -4.9594, -4.912, -4.7734, -4.3235, -5.0284, -4.9863, -5.0189, -3.3242, -3.3803, -3.5137, -3.7718, -4.3063, -4.3276, -4.3276, -4.3822, -4.6443, -4.7306, -4.9179, -4.93, -5.1927, -5.1877, -5.2065, -5.2395, -5.251, -5.2258, -5.3026, -5.4205, -5.4661, -5.5374, -5.595, -5.8267, -6.0048, -6.0337, -6.0633, -6.0879, -6.2316, -6.2411, -3.8088, -5.1225, -4.8414, -4.4883, -4.6221, -4.1863, -4.7533, -4.9637, -4.5798, -4.9782, -4.8802, -5.0215, -5.0443, -3.6246, -4.4289, -3.9769, -4.9017, -4.7802, -4.6312, -4.4626, -4.5455, -4.6662, -4.886, -4.0574, -4.6334, -4.8445, -4.9123, -5.0612, -5.1594, -5.1724, -4.4191, -5.3498, -5.3742, -5.4337, -5.4888, -5.7275, -5.7819, -5.8067, -5.8774, -5.9845, -6.0269, -6.102, -6.1284, -6.1544, -6.196, -6.2291, -6.3379, -6.3382, -6.3386, -6.5123, -6.538, -6.5596, -6.6073, -5.4951, -3.9088, -4.8084, -5.0839, -4.8739, -3.9118, -3.444, -5.2294, -5.0823, -2.4088, -5.665, -4.973, -4.7778, -5.0978, -5.1829, -3.9883, -5.0366, -5.2671, -4.2016, -4.5059, -4.5517, -4.8591, -4.9338, -4.8764, -5.1266, -5.1346, -5.1583]}, \"token.table\": {\"Topic\": [3, 2, 4, 2, 5, 1, 2, 3, 4, 5, 1, 2, 3, 1, 3, 2, 1, 3, 4, 5, 2, 3, 2, 3, 4, 2, 4, 2, 3, 1, 1, 2, 3, 4, 5, 5, 1, 5, 1, 3, 4, 1, 5, 3, 1, 2, 3, 4, 5, 3, 3, 1, 4, 5, 2, 3, 2, 1, 1, 1, 2, 4, 1, 4, 4, 3, 2, 2, 4, 2, 5, 4, 1, 4, 4, 1, 5, 2, 2, 1, 1, 3, 4, 3, 1, 2, 4, 5, 4, 1, 1, 2, 2, 2, 3, 1, 3, 4, 5, 1, 5, 2, 2, 1, 1, 5, 1, 2, 3, 5, 2, 1, 5, 5, 1, 3, 2, 3, 4, 3, 3, 3, 2, 5, 4, 2, 4, 5, 2, 5, 4, 2, 4, 1, 3, 2, 3, 4, 5, 3, 1, 3, 4, 5, 1, 3, 4, 1, 3, 1, 2, 4, 2, 3, 1, 2, 3, 4, 5, 5, 1, 3, 4, 2, 4, 5, 3, 2, 3, 5, 1, 2, 3, 5, 2, 2, 5, 1, 2, 3, 1, 2, 3, 4, 1, 3, 1, 3, 5, 2, 3, 4, 5, 2, 3, 5, 1, 2, 3, 4, 1, 2, 3, 4, 5, 1, 3, 4, 5, 2, 3, 2, 3, 2, 5, 5, 1, 3, 1, 3, 3, 2, 1, 2, 4, 2, 1, 2, 2, 2, 2, 3, 5, 4, 5, 1, 2, 3, 4, 5, 3, 2, 3, 5, 3, 1, 3, 2, 4, 5, 1, 2, 3, 5, 5, 1, 3, 4, 2, 4, 2, 4, 2, 4, 4, 1, 2, 3, 4, 5, 3, 2, 3, 1, 2, 3, 4, 5, 2, 3, 4, 5, 5, 5, 1, 3, 4, 4, 5, 2, 5, 1, 4, 1, 2, 4, 1, 1, 2, 1, 3, 4, 2, 1, 2, 3, 4, 5, 1, 2, 3, 5, 1, 2, 4, 5, 4, 5, 1, 3, 5, 1, 2, 3, 4, 5, 1, 2, 3, 3, 1, 2, 3, 4, 1, 2, 4, 5, 1, 2, 3, 4, 5, 2, 1, 2, 3, 1, 1, 1, 2, 3, 4, 4, 5, 2, 4, 5, 5, 2, 5, 1, 5, 5, 5, 2, 5, 5, 1, 4, 5, 3, 4, 1, 2, 3, 2, 3, 5, 4, 2, 3, 2, 4, 4, 5, 4, 4, 3, 5, 2, 4, 1, 1, 2, 3, 2, 5, 3, 5, 2, 3, 5, 1, 5, 5, 4, 4, 4, 4, 4, 4, 3, 3, 2, 3, 4, 2, 5, 4, 2, 2, 3, 4, 5, 1, 4, 1, 1, 1, 3, 4, 5, 3, 4, 2, 2, 4, 4, 5, 1, 2, 5, 1, 3, 1, 1, 2, 4, 5, 5, 3, 1, 3, 2, 5, 3, 1, 2, 3, 5], \"Freq\": [0.9999091231966593, 0.17101117327428178, 0.8289212684623825, 0.1643297348483874, 0.8355691683096723, 0.09209189937789007, 0.31970822905648594, 0.17314936396545638, 0.20293404133181903, 0.21214323126960802, 0.15908221453189722, 0.15908221453189722, 0.681671131834748, 0.16708833175817567, 0.8328418823926225, 0.9997400985664385, 0.21570436748267172, 0.09901338228389421, 0.388202040606892, 0.297087161753052, 0.933420796400467, 0.06649630934903648, 0.9999596081946884, 0.9998006278800765, 0.9998860233836087, 0.15121504451034187, 0.8486392705353826, 0.4472975102176713, 0.5526897957323643, 0.9994350609933639, 0.4893393206939872, 0.1559497523114027, 0.28492927888421193, 0.0631784388129026, 0.006615338388711611, 0.9998485975542701, 0.15463186992538522, 0.8453557822322414, 0.24064394637701378, 0.6708100202910765, 0.08848007106916984, 0.35518903953984954, 0.6448078530152129, 0.9995045463694961, 0.3057204623782028, 0.0010689526656580516, 0.0601426526099188, 0.1623682838467967, 0.4706767368892242, 0.9992832196519393, 0.9996600039580357, 0.388976868393793, 0.22735829437057894, 0.38361655273470013, 0.900069531464859, 0.09991928952796747, 0.9998359514738916, 0.999231899438122, 0.999155298040128, 0.8944714557084377, 0.10541765004001817, 0.00011550509500367222, 0.9998644438187313, 0.99984505563602, 0.9998284557610793, 0.9998497847850404, 0.999851215796699, 0.18763006704281254, 0.812143156185311, 0.9999075429959081, 0.9997612102260567, 0.9999283597503542, 0.27037040712045723, 0.7296055817109638, 0.9999579074506794, 0.9979871180794907, 0.9993200139609026, 0.9999116290766861, 0.9999598682317956, 0.9994609720679333, 0.9998634983823563, 0.0740141788438575, 0.925916391794995, 0.9993421103309369, 0.5816667470273915, 0.041109412483105734, 0.13547922129612192, 0.24172810382790244, 0.9999754112968284, 0.9993042194301525, 0.8919185538632362, 0.1080514964825619, 0.9996791048704466, 0.6209314093698859, 0.3790192227996558, 0.5990726533845182, 0.05986005317529987, 0.09705826803765931, 0.24401233797486288, 0.5927892129586956, 0.40720630563132987, 0.9994493081060005, 0.9998054549756057, 0.9988719120809028, 0.9991961505119012, 0.9997321732661983, 0.25198703181731774, 0.21207974187850726, 0.18587196938137798, 0.3500559559075113, 0.9996736811093727, 0.999373109358285, 0.9997095231443106, 0.9996704029670787, 0.9992695992929639, 0.9991328677820405, 0.7899769672740095, 0.13469019803801668, 0.07532319147934864, 0.9999076201401634, 0.9997824503876682, 0.9996209063306902, 0.12143697572355819, 0.878400685014976, 0.9999422623485802, 0.23988687422181812, 0.08963797933304302, 0.6704800534676271, 0.15595783027127555, 0.8440070814680795, 0.9998631231909296, 0.9998741009719577, 0.9999600554751644, 0.9998506825618027, 0.999837251005521, 0.606251498651661, 0.13117338413804402, 0.03791310829661264, 0.22467248270890292, 0.9996782481370887, 0.23612681858398016, 0.6392177527603103, 0.053505705548375894, 0.0711362740979227, 0.6708020499104638, 0.24156766807427446, 0.08762799653382163, 0.0013173152236875282, 0.9978662819433026, 0.7603778581093477, 0.07068906917029284, 0.16888326411407098, 0.26063825034506977, 0.7392371427915722, 0.6656285372721971, 0.006962756299610331, 0.17110836544160507, 0.020668969487819645, 0.13563668571051937, 0.9995057687774894, 0.31358357646940055, 0.6462955476098742, 0.04018997816528657, 0.061120901440746736, 0.8573389744180164, 0.08149453525432898, 0.9996304606672177, 0.13381155406718467, 0.5627800804182329, 0.3034020030319264, 0.9998707068755245, 0.6637127096283496, 0.20607292893625126, 0.13014585683322724, 0.9994944001031452, 6.444995075367413e-05, 0.9998765359925005, 0.7696059220128827, 0.07234545133994683, 0.15808619989201275, 0.5315993141085477, 0.26813859807979656, 0.08528138816136674, 0.11496794733146276, 0.6928459828311314, 0.3071396410223801, 0.9465529961678908, 0.0529229374724685, 0.9997757432854578, 0.6014586054362194, 0.06722676094115376, 0.1910231097968219, 0.14027466681282483, 0.7429329062730313, 0.22261909735356675, 0.03444968769158154, 0.9987970089718083, 0.5397618646991809, 0.3450991437865651, 0.11511282119371553, 0.6211278506724087, 0.04411155342002401, 0.001213992439854456, 0.15064887433318888, 0.18289554851682285, 0.5223470132749581, 0.27636033640369817, 0.1394933151365222, 0.06180354594711358, 0.8547293467319664, 0.1451969192737468, 0.9994508652340838, 0.9998374219823674, 0.01690982258488686, 0.9829995766379285, 0.999429410895743, 0.6101862280765473, 0.38980606342723717, 0.9995020079959956, 0.9997460062930246, 0.999498805274963, 0.9999226770751884, 0.7054535367393059, 0.24958100651961046, 0.0449398150091262, 0.9997462554304336, 0.999407769424447, 0.9997391761264307, 0.9998357732696874, 0.9996447027608772, 0.8255215729002084, 0.1744201936488, 0.9999067628815309, 0.8474495603644855, 0.15242928251784782, 0.4802475231176211, 0.0007474865699702396, 0.12880285434902916, 0.18975240534087218, 0.20046078036010878, 0.9993812339451531, 0.1404771385909709, 0.245951926889297, 0.6135155830804334, 0.9999746174358705, 0.41136857691519524, 0.5885962959066026, 0.052293618101997834, 0.8139032355875048, 0.13378823092761838, 0.06134321790997169, 0.32758678494433524, 0.4477792382957563, 0.16333397464901878, 0.9997172428830506, 0.9991229452105684, 0.9996216425703977, 0.9999389758176195, 0.1048794988922198, 0.8950469063167575, 0.18342103477936672, 0.8165214896553494, 0.9999572895766631, 0.9996478380111486, 0.9997258419424365, 0.14576877177443712, 0.22448815216499923, 0.1507019943999912, 0.07346788533755291, 0.4056382087915286, 0.9996643366413906, 0.8946182051598606, 0.10523906880105406, 0.5103088275797538, 0.001258664863411468, 0.08810654043880277, 0.1594781564964728, 0.24086590843903685, 0.5068647851181998, 0.12064445339005633, 0.03934058262719228, 0.3331554545223325, 0.9998995724951185, 0.9999467849635584, 0.3279289987267359, 0.6328572026678984, 0.039176310844038595, 0.1358177562117211, 0.8641528060177969, 0.20005429564855104, 0.7998168738485343, 0.9980147485380085, 0.9999061072727831, 0.2571186507627502, 0.2279466867263233, 0.5148887845933114, 0.998770909756421, 0.11708754483011376, 0.8828554553899087, 0.30258392370453896, 0.5322873046521862, 0.16507945741375843, 0.9997588762008142, 0.9989346438189537, 0.05166374902974815, 0.4486720728845604, 0.33644135593886965, 0.16326747872993227, 0.9986096569388887, 0.9999119572626983, 0.5486415512063179, 0.4513348009799806, 0.584925306329709, 0.2464236287124051, 0.08793353802685824, 0.08069312745678757, 0.9558457485676098, 0.04408393891849824, 0.7533603106149199, 0.06600330559320543, 0.18062194917710517, 0.3099793533239351, 0.005226002210269277, 0.4280482921485373, 0.0649701756264341, 0.19178137740772133, 0.2467393284741935, 0.6243320603527903, 0.1288816397914603, 0.9999196525124249, 0.3802015567691446, 0.04719658478043941, 0.15744517794902024, 0.41515742591462235, 0.9994562784886913, 0.10726967702881839, 0.7909449152743458, 0.10174031223351847, 0.3215375517741807, 0.1625720291130516, 0.057385535049074315, 0.002992967731639062, 0.4555092374647891, 0.9997892221711429, 0.9986435880637714, 0.8212900905256789, 0.1786815871049912, 0.9991828055380338, 0.9997475775344029, 0.45591967556035984, 0.2990374317367957, 0.24501650541084155, 0.9998905269457976, 0.9997964086245597, 0.9999855120394909, 0.9994968467061692, 0.9993227834985408, 0.9999166908191071, 0.999584342054055, 0.12142856143549752, 0.878513073667516, 0.28939863200119603, 0.7105752744571442, 0.9998469386752743, 0.999277768297152, 0.9994266017147263, 0.9998913873046529, 0.9999160867768294, 0.5933798207895751, 0.16550049423382707, 0.24104253167156695, 0.999859174855034, 0.9995775734005427, 0.5580799593450304, 0.07377707206723576, 0.368141042374174, 0.2949740740635396, 0.1239188446332747, 0.5810280901506543, 0.999955418734387, 0.09788183539066637, 0.902105735023338, 0.07042449842311768, 0.9294089131145571, 0.6289237565558071, 0.371024079911316, 0.999747958778827, 0.9997643075396472, 0.9995308503545944, 0.999806551478182, 0.7731136944869328, 0.2268210242403234, 0.9996130806691242, 0.941395057400647, 0.05853056168301199, 0.9995453231611984, 0.999934506940283, 0.9996109923930497, 0.9998407878380539, 0.9997025148089315, 0.6771981995871511, 0.32279794130853434, 0.9998661317119636, 0.9973185107659833, 0.999467399951992, 0.9999262635833464, 0.999669725180187, 0.9995875703822078, 0.9999426751983782, 0.9999186077043271, 0.999761938956551, 0.9997399182941686, 0.9995013810867881, 0.999725805255607, 0.8825046587893014, 0.11745765213397745, 0.9998974724171267, 0.9993302475139864, 0.9999223407308198, 0.9999086676257152, 0.999316675217777, 0.488800238999392, 0.09729902995222446, 0.11731691017930307, 0.2965679285763251, 0.9301899323332692, 0.06981721701681372, 0.9996866425207201, 0.9986773659189112, 0.1789102325717463, 0.36389719500177464, 0.1082505830568386, 0.3489644557376242, 0.7609193452649105, 0.23902033681536375, 0.9998414756163974, 0.999643033957032, 0.9999737317953222, 0.9997934812830279, 0.9999442775488427, 0.14407490595008055, 0.27182724824232807, 0.5840568817763221, 0.26753182682669546, 0.7324437009849435, 0.9998728835524959, 0.6293764534570918, 0.20723744887335316, 0.06260042464487976, 0.10073702026595244, 0.9999385107174571, 0.9996999400828688, 0.19188865408958428, 0.8080462485634317, 0.46158160569324286, 0.538379406210005, 0.9991442806118415, 0.074766440076056, 0.23384646455437022, 0.6061558075574647, 0.08522144168481119], \"Term\": [\"absolutely\", \"access\", \"access\", \"air\", \"air\", \"also\", \"also\", \"also\", \"also\", \"also\", \"always\", \"always\", \"always\", \"amazing\", \"amazing\", \"amount\", \"area\", \"area\", \"area\", \"area\", \"arrive\", \"arrive\", \"ask\", \"attention\", \"attraction\", \"away\", \"away\", \"back\", \"back\", \"bacon\", \"bar\", \"bar\", \"bar\", \"bar\", \"bar\", \"bath\", \"bathroom\", \"bathroom\", \"beautiful\", \"beautiful\", \"beautiful\", \"bed\", \"bed\", \"best\", \"big\", \"big\", \"big\", \"big\", \"big\", \"bill\", \"birthday\", \"bit\", \"bit\", \"bit\", \"book\", \"book\", \"booking\", \"brand\", \"bread\", \"breakfast\", \"breakfast\", \"breakfast\", \"buffet\", \"bus\", \"cafe\", \"cake\", \"call\", \"car\", \"car\", \"card\", \"carpet\", \"center\", \"central\", \"central\", \"centre\", \"cereal\", \"chair\", \"charge\", \"check\", \"cheese\", \"choice\", \"city\", \"city\", \"class\", \"clean\", \"clean\", \"clean\", \"clean\", \"close\", \"coffe\", \"coffee\", \"coffee\", \"com\", \"come\", \"come\", \"comfortable\", \"comfortable\", \"comfortable\", \"comfortable\", \"comfy\", \"comfy\", \"con\", \"conditioning\", \"continental\", \"cook\", \"corridor\", \"could\", \"could\", \"could\", \"could\", \"credit\", \"croissant\", \"curtain\", \"dark\", \"dated\", \"daughter\", \"day\", \"day\", \"day\", \"definitely\", \"detail\", \"direction\", \"dirty\", \"dirty\", \"distance\", \"door\", \"door\", \"door\", \"double\", \"double\", \"duomo\", \"early\", \"easy\", \"egg\", \"enjoy\", \"even\", \"even\", \"even\", \"even\", \"everyone\", \"everything\", \"everything\", \"everything\", \"everything\", \"excellent\", \"excellent\", \"excellent\", \"exceptional\", \"exceptional\", \"expensive\", \"expensive\", \"expensive\", \"experience\", \"experience\", \"facility\", \"facility\", \"facility\", \"facility\", \"facility\", \"fan\", \"fantastic\", \"fantastic\", \"fantastic\", \"far\", \"far\", \"far\", \"fault\", \"feel\", \"feel\", \"feel\", \"fi\", \"first\", \"first\", \"first\", \"fix\", \"floor\", \"floor\", \"food\", \"food\", \"food\", \"free\", \"free\", \"free\", \"free\", \"friendly\", \"friendly\", \"fruit\", \"fruit\", \"furniture\", \"get\", \"get\", \"get\", \"get\", \"give\", \"give\", \"give\", \"gluten\", \"go\", \"go\", \"go\", \"good\", \"good\", \"good\", \"good\", \"good\", \"great\", \"great\", \"great\", \"great\", \"guest\", \"guest\", \"happen\", \"happy\", \"hear\", \"hear\", \"heating\", \"helpful\", \"helpful\", \"helpfull\", \"highly\", \"home\", \"hour\", \"include\", \"include\", \"include\", \"iron\", \"juice\", \"key\", \"late\", \"later\", \"leave\", \"leave\", \"light\", \"locate\", \"locate\", \"location\", \"location\", \"location\", \"location\", \"location\", \"longer\", \"look\", \"look\", \"look\", \"love\", \"lovely\", \"lovely\", \"main\", \"main\", \"main\", \"make\", \"make\", \"make\", \"make\", \"mattress\", \"meat\", \"meet\", \"metro\", \"min\", \"min\", \"minute\", \"minute\", \"morning\", \"museum\", \"nearby\", \"need\", \"need\", \"need\", \"need\", \"need\", \"negative\", \"never\", \"never\", \"nice\", \"nice\", \"nice\", \"nice\", \"nice\", \"night\", \"night\", \"night\", \"night\", \"noise\", \"noisy\", \"nothing\", \"nothing\", \"nothing\", \"old\", \"old\", \"open\", \"open\", \"orange\", \"park\", \"parking\", \"parking\", \"parking\", \"pastry\", \"pay\", \"pay\", \"perfect\", \"perfect\", \"perfect\", \"phone\", \"pizza\", \"place\", \"place\", \"place\", \"place\", \"plentiful\", \"pm\", \"pool\", \"pool\", \"price\", \"price\", \"price\", \"price\", \"public\", \"public\", \"quality\", \"quality\", \"quality\", \"really\", \"really\", \"really\", \"really\", \"really\", \"reception\", \"reception\", \"reception\", \"recommend\", \"restaurant\", \"restaurant\", \"restaurant\", \"restaurant\", \"rich\", \"right\", \"right\", \"right\", \"room\", \"room\", \"room\", \"room\", \"room\", \"rude\", \"sausage\", \"say\", \"say\", \"scramble\", \"selection\", \"service\", \"service\", \"service\", \"shop\", \"shopping\", \"shower\", \"shuttle\", \"sight\", \"single\", \"sink\", \"sleep\", \"sleep\", \"small\", \"small\", \"smell\", \"sofa\", \"someone\", \"sound\", \"space\", \"spacious\", \"spacious\", \"spacious\", \"special\", \"square\", \"staff\", \"staff\", \"staff\", \"star\", \"star\", \"star\", \"station\", \"stay\", \"stay\", \"stop\", \"stop\", \"street\", \"street\", \"subway\", \"supermarket\", \"surprise\", \"swimming\", \"take\", \"take\", \"tasty\", \"tea\", \"tea\", \"team\", \"tell\", \"temperature\", \"thank\", \"thin\", \"time\", \"time\", \"tiny\", \"toast\", \"together\", \"toilet\", \"tourist\", \"town\", \"train\", \"tram\", \"transport\", \"transportation\", \"treat\", \"trouble\", \"try\", \"try\", \"tube\", \"twice\", \"uncomfortable\", \"underground\", \"understand\", \"use\", \"use\", \"use\", \"use\", \"value\", \"value\", \"variety\", \"vegetable\", \"view\", \"view\", \"view\", \"view\", \"visit\", \"visit\", \"wait\", \"wake\", \"walk\", \"walking\", \"wall\", \"water\", \"water\", \"water\", \"welcome\", \"welcome\", \"wi\", \"wifi\", \"wifi\", \"wifi\", \"wifi\", \"window\", \"wish\", \"wonderful\", \"wonderful\", \"work\", \"work\", \"world\", \"would\", \"would\", \"would\", \"would\"]}, \"R\": 30, \"lambda.step\": 0.01, \"plot.opts\": {\"xlab\": \"PC1\", \"ylab\": \"PC2\"}, \"topic.order\": [1, 2, 3, 4, 5]};\n",
       "\n",
       "function LDAvis_load_lib(url, callback){\n",
       "  var s = document.createElement('script');\n",
       "  s.src = url;\n",
       "  s.async = true;\n",
       "  s.onreadystatechange = s.onload = callback;\n",
       "  s.onerror = function(){console.warn(\"failed to load library \" + url);};\n",
       "  document.getElementsByTagName(\"head\")[0].appendChild(s);\n",
       "}\n",
       "\n",
       "if(typeof(LDAvis) !== \"undefined\"){\n",
       "   // already loaded: just create the visualization\n",
       "   !function(LDAvis){\n",
       "       new LDAvis(\"#\" + \"ldavis_el1042554665754001586366570\", ldavis_el1042554665754001586366570_data);\n",
       "   }(LDAvis);\n",
       "}else if(typeof define === \"function\" && define.amd){\n",
       "   // require.js is available: use it to load d3/LDAvis\n",
       "   require.config({paths: {d3: \"https://cdnjs.cloudflare.com/ajax/libs/d3/3.5.5/d3.min\"}});\n",
       "   require([\"d3\"], function(d3){\n",
       "      window.d3 = d3;\n",
       "      LDAvis_load_lib(\"https://cdn.rawgit.com/bmabey/pyLDAvis/files/ldavis.v1.0.0.js\", function(){\n",
       "        new LDAvis(\"#\" + \"ldavis_el1042554665754001586366570\", ldavis_el1042554665754001586366570_data);\n",
       "      });\n",
       "    });\n",
       "}else{\n",
       "    // require.js not available: dynamically load d3 & LDAvis\n",
       "    LDAvis_load_lib(\"https://cdnjs.cloudflare.com/ajax/libs/d3/3.5.5/d3.min.js\", function(){\n",
       "         LDAvis_load_lib(\"https://cdn.rawgit.com/bmabey/pyLDAvis/files/ldavis.v1.0.0.js\", function(){\n",
       "                 new LDAvis(\"#\" + \"ldavis_el1042554665754001586366570\", ldavis_el1042554665754001586366570_data);\n",
       "            })\n",
       "         });\n",
       "}\n",
       "</script>"
      ],
      "text/plain": [
       "<IPython.core.display.HTML object>"
      ]
     },
     "execution_count": 39,
     "metadata": {},
     "output_type": "execute_result"
    }
   ],
   "source": [
    "import timeit\n",
    "start_time = timeit.default_timer()\n",
    "\n",
    "\n",
    "dictionary = gensim.corpora.Dictionary.load('dictionary.gensim')\n",
    "corpus = pickle.load(open('corpus.pkl', 'rb'))\n",
    "lda_gensim = gensim.models.ldamodel.LdaModel.load('model{0}.gensim'.format(ntopics))\n",
    "lda_display_gsm = pyLDAvis.gensim.prepare(lda_gensim, corpus, dictionary, sort_topics=False)\n",
    "\n",
    "# Save the visualization in a html format\n",
    "pyLDAvis.save_html(lda_display_gsm, 'gensimldan{0}.html'.format(ntopics))\n",
    "\n",
    "elapsed = timeit.default_timer() - start_time #\n",
    "print ('time', elapsed)\n",
    "\n",
    "\n",
    "\n",
    "# Interactive visualization\n",
    "pyLDAvis.display(lda_display_gsm)\n",
    "#takes \n",
    "\n",
    "\n"
   ]
  },
  {
   "cell_type": "markdown",
   "metadata": {},
   "source": [
    "![title](img/ldavis_gensimn5.png)\n",
    "For an interactive visualization, click [here](https://)"
   ]
  },
  {
   "cell_type": "code",
   "execution_count": 40,
   "metadata": {},
   "outputs": [
    {
     "name": "stdout",
     "output_type": "stream",
     "text": [
      "Topics:\n",
      " (0, '0.094*\"staff\" + 0.085*\"room\" + 0.056*\"location\" + 0.054*\"breakfast\" + 0.046*\"good\" + 0.045*\"friendly\" + 0.040*\"great\" + 0.040*\"clean\" + 0.039*\"helpful\" + 0.031*\"nice\"')\n",
      "Topics:\n",
      " (1, '0.094*\"bar\" + 0.059*\"restaurant\" + 0.045*\"food\" + 0.039*\"service\" + 0.028*\"breakfast\" + 0.026*\"area\" + 0.024*\"drink\" + 0.015*\"eat\" + 0.014*\"serve\" + 0.014*\"dinner\"')\n",
      "Topics:\n",
      " (2, '0.039*\"room\" + 0.024*\"check\" + 0.021*\"staff\" + 0.017*\"book\" + 0.017*\"get\" + 0.015*\"day\" + 0.015*\"ask\" + 0.014*\"time\" + 0.013*\"reception\" + 0.013*\"give\"')\n",
      "Topics:\n",
      " (3, '0.048*\"station\" + 0.042*\"walk\" + 0.040*\"close\" + 0.029*\"location\" + 0.029*\"city\" + 0.022*\"minute\" + 0.019*\"good\" + 0.019*\"easy\" + 0.019*\"train\" + 0.019*\"center\"')\n",
      "Topics:\n",
      " (4, '0.056*\"good\" + 0.051*\"room\" + 0.047*\"breakfast\" + 0.038*\"location\" + 0.035*\"price\" + 0.025*\"parking\" + 0.023*\"pool\" + 0.017*\"value\" + 0.016*\"money\" + 0.016*\"small\"')\n",
      "Topics:\n",
      " (5, '0.084*\"room\" + 0.033*\"bed\" + 0.022*\"bathroom\" + 0.018*\"shower\" + 0.015*\"small\" + 0.013*\"location\" + 0.012*\"good\" + 0.011*\"air\" + 0.011*\"clean\" + 0.009*\"work\"')\n",
      "Topics:\n",
      " (6, '0.063*\"staff\" + 0.055*\"stay\" + 0.027*\"would\" + 0.027*\"great\" + 0.024*\"nothing\" + 0.024*\"everything\" + 0.024*\"helpful\" + 0.021*\"love\" + 0.020*\"friendly\" + 0.019*\"location\"')\n",
      "Topics:\n",
      " (7, '0.030*\"night\" + 0.028*\"room\" + 0.022*\"front\" + 0.021*\"noise\" + 0.018*\"door\" + 0.016*\"work\" + 0.015*\"noisy\" + 0.015*\"desk\" + 0.014*\"floor\" + 0.013*\"morning\"')\n",
      "Topics:\n",
      " (8, '0.143*\"metro\" + 0.044*\"view\" + 0.029*\"top\" + 0.027*\"close\" + 0.026*\"attraction\" + 0.024*\"roof\" + 0.021*\"milano\" + 0.019*\"balcony\" + 0.018*\"tourist\" + 0.014*\"supermarket\"')\n",
      "Topics:\n",
      " (9, '0.069*\"breakfast\" + 0.053*\"free\" + 0.052*\"wifi\" + 0.046*\"coffee\" + 0.029*\"tea\" + 0.020*\"good\" + 0.015*\"water\" + 0.015*\"internet\" + 0.012*\"room\" + 0.012*\"day\"')\n",
      "num_topic: 10\n",
      "\n",
      "Perplexity: -6.95\n",
      "\n",
      "Coherence Score: 0.60\n",
      "time 5323.144528678997\n"
     ]
    }
   ],
   "source": [
    "ntopics=10\n",
    "\n",
    "import timeit\n",
    "start_time = timeit.default_timer()\n",
    "\n",
    "_=build_lda(rev_gens,ntopics=ntopics,passes=15)  #1.5hour\n",
    "\n",
    "elapsed = timeit.default_timer() - start_time #12:00-12:\n",
    "print ('time', elapsed)\n",
    "\n"
   ]
  },
  {
   "cell_type": "code",
   "execution_count": 41,
   "metadata": {},
   "outputs": [
    {
     "name": "stdout",
     "output_type": "stream",
     "text": [
      "time 224.7807940509956\n"
     ]
    }
   ],
   "source": [
    "\n",
    "import timeit\n",
    "start_time = timeit.default_timer()\n",
    "\n",
    "\n",
    "\n",
    "dictionary = gensim.corpora.Dictionary.load('dictionary.gensim')\n",
    "corpus = pickle.load(open('corpus.pkl', 'rb'))\n",
    "lda_gensim = gensim.models.ldamodel.LdaModel.load('model{0}.gensim'.format(ntopics))\n",
    "lda_displayn10 = pyLDAvis.gensim.prepare(lda_gensim, corpus, dictionary, sort_topics=False)\n",
    "\n",
    "# Save the visualization in a html format\n",
    "pyLDAvis.save_html(lda_displayn10, 'gensimldan{0}.html'.format(ntopics))\n",
    "\n",
    "# Interactive visualization\n",
    "pyLDAvis.display(lda_displayn10)\n",
    "\n",
    "elapsed = timeit.default_timer() - start_time #12:00-12:\n",
    "print ('time', elapsed)\n",
    "\n"
   ]
  },
  {
   "cell_type": "markdown",
   "metadata": {},
   "source": [
    "![title](img/ldavis_gensimn10.png)\n",
    "For an interactive visualization, click [here](https://)"
   ]
  },
  {
   "cell_type": "markdown",
   "metadata": {},
   "source": [
    "### Test on Holdout data"
   ]
  },
  {
   "cell_type": "code",
   "execution_count": 42,
   "metadata": {},
   "outputs": [
    {
     "name": "stdout",
     "output_type": "stream",
     "text": [
      "['make room reservation booking pay room separate make huge mess charge time confuse key room reservation name room location good']\n",
      "For 10-topic model: \n",
      "[(2, 0.6268212400705695), (5, 0.3350756342904477)]\n",
      "For 5-topic model: \n",
      "[(1, 0.5957963906576259), (2, 0.10343491947595156), (4, 0.28128399193992903)]\n"
     ]
    }
   ],
   "source": [
    "#dictionary = gensim.corpora.Dictionary.load('dictionary.gensim')\n",
    "#corpus = pickle.load(open('corpus.pkl', 'rb'))\n",
    "lda_gensimn10 = gensim.models.ldamodel.LdaModel.load('model10.gensim')\n",
    "lda_gensimn5 = gensim.models.ldamodel.LdaModel.load('model5.gensim')\n",
    "\n",
    "\n",
    "\n",
    "\n",
    "new_doc=df_txt['Rev_Lemmatized'][~mask].sample(1,random_state=100)\n",
    "doc_tokenized=process_text(new_doc)\n",
    "doc_bow=[dictionary.doc2bow(d) for d in doc_tokenized]\n",
    "dtm=lda_gensimn10.get_document_topics(doc_bow)\n",
    "print(new_doc.values)\n",
    "\n",
    "\n",
    "print('For 10-topic model: ')\n",
    "for t in dtm:\n",
    "    print(t)\n",
    "\n",
    "dtm=lda_gensimn5.get_document_topics(doc_bow)\n",
    "print('For 5-topic model: ')\n",
    "for t in dtm:\n",
    "    print(t)\n"
   ]
  },
  {
   "cell_type": "markdown",
   "metadata": {},
   "source": [
    "# Build Machine Learning Models for Prediction \n",
    "Since we focus on the review texts in this part, we build machine learning models using features generated from texts. Before that we need to create our target variable 'label'.  Since a reviewer's score ranges from 0 to 10, for simplicity, we classify a hotel review as 'poor' if the score is below 7.9 and 'good' if it's between 7.9 and 9.6 otherwise 'excellent'."
   ]
  },
  {
   "cell_type": "markdown",
   "metadata": {},
   "source": [
    "## Create a Target Column\n",
    "We split the reviewer score into two buckets, i.e., those above 8.0 (reviewer score at 0.33 quantile) are 'good', the others are 'poor'."
   ]
  },
  {
   "cell_type": "code",
   "execution_count": 43,
   "metadata": {},
   "outputs": [
    {
     "name": "stdout",
     "output_type": "stream",
     "text": [
      "threshold of poor|good:  8.0\n"
     ]
    },
    {
     "data": {
      "text/plain": [
       "Good    0.639204\n",
       "Poor    0.360796\n",
       "Name: label, dtype: float64"
      ]
     },
     "execution_count": 43,
     "metadata": {},
     "output_type": "execute_result"
    }
   ],
   "source": [
    "# Split reviewer score into two buckets\n",
    "thresh=8.0\n",
    "print('threshold of poor|good: ', thresh)\n",
    "df_txt['label']=np.where(df_txt.Reviewer_Score>=thresh,'Good','Poor')\n",
    "df_txt['label'].value_counts(normalize=True)"
   ]
  },
  {
   "cell_type": "code",
   "execution_count": 44,
   "metadata": {},
   "outputs": [
    {
     "data": {
      "image/png": "[encoded data removed]",
      "text/plain": [
       "<Figure size 720x576 with 1 Axes>"
      ]
     },
     "metadata": {},
     "output_type": "display_data"
    }
   ],
   "source": [
    "rev_score=(df_txt.label.value_counts(normalize=True).sort_index()*100)\n",
    "\n",
    "# Define a function to plot bars with annotation; s: a series, rot: rotation of xtick labels; xlab: xlabels\n",
    "def plot_bar(s,xlab,rot=0):\n",
    "    ax=s.plot(kind='bar',rot=rot,color='c',figsize=(10,8))\n",
    "    for i, v in enumerate(s):\n",
    "        ax.text( i-0.1,v , str(round(v,1))+'%', color='black', fontweight='bold',fontsize=14)\n",
    "    plt.xlabel(xlab)\n",
    "    plt.ylabel('Percent (%)');\n",
    "    \n",
    "plot_bar(rev_score,'Label',0)"
   ]
  },
  {
   "cell_type": "code",
   "execution_count": 45,
   "metadata": {
    "scrolled": true
   },
   "outputs": [
    {
     "data": {
      "text/html": [
       "<div>\n",
       "<style scoped>\n",
       "    .dataframe tbody tr th:only-of-type {\n",
       "        vertical-align: middle;\n",
       "    }\n",
       "\n",
       "    .dataframe tbody tr th {\n",
       "        vertical-align: top;\n",
       "    }\n",
       "\n",
       "    .dataframe thead tr th {\n",
       "        text-align: left;\n",
       "    }\n",
       "\n",
       "    .dataframe thead tr:last-of-type th {\n",
       "        text-align: right;\n",
       "    }\n",
       "</style>\n",
       "<table border=\"1\" class=\"dataframe\">\n",
       "  <thead>\n",
       "    <tr>\n",
       "      <th></th>\n",
       "      <th colspan=\"4\" halign=\"left\">Hotel_City</th>\n",
       "      <th colspan=\"4\" halign=\"left\">Neg_Rev_Lemmatized</th>\n",
       "      <th colspan=\"4\" halign=\"left\">Negative_Review</th>\n",
       "      <th colspan=\"4\" halign=\"left\">Pos_Rev_Lemmatized</th>\n",
       "      <th colspan=\"4\" halign=\"left\">Positive_Review</th>\n",
       "      <th colspan=\"4\" halign=\"left\">Rev_Lemmatized</th>\n",
       "      <th colspan=\"4\" halign=\"left\">Review_Month</th>\n",
       "      <th colspan=\"4\" halign=\"left\">Reviewer_Nationality</th>\n",
       "      <th colspan=\"4\" halign=\"left\">Traveler_Type</th>\n",
       "      <th colspan=\"4\" halign=\"left\">Trip_Type</th>\n",
       "    </tr>\n",
       "    <tr>\n",
       "      <th></th>\n",
       "      <th>count</th>\n",
       "      <th>unique</th>\n",
       "      <th>top</th>\n",
       "      <th>freq</th>\n",
       "      <th>count</th>\n",
       "      <th>unique</th>\n",
       "      <th>top</th>\n",
       "      <th>freq</th>\n",
       "      <th>count</th>\n",
       "      <th>unique</th>\n",
       "      <th>top</th>\n",
       "      <th>freq</th>\n",
       "      <th>count</th>\n",
       "      <th>unique</th>\n",
       "      <th>top</th>\n",
       "      <th>freq</th>\n",
       "      <th>count</th>\n",
       "      <th>unique</th>\n",
       "      <th>top</th>\n",
       "      <th>freq</th>\n",
       "      <th>count</th>\n",
       "      <th>unique</th>\n",
       "      <th>top</th>\n",
       "      <th>freq</th>\n",
       "      <th>count</th>\n",
       "      <th>unique</th>\n",
       "      <th>top</th>\n",
       "      <th>freq</th>\n",
       "      <th>count</th>\n",
       "      <th>unique</th>\n",
       "      <th>top</th>\n",
       "      <th>freq</th>\n",
       "      <th>count</th>\n",
       "      <th>unique</th>\n",
       "      <th>top</th>\n",
       "      <th>freq</th>\n",
       "      <th>count</th>\n",
       "      <th>unique</th>\n",
       "      <th>top</th>\n",
       "      <th>freq</th>\n",
       "    </tr>\n",
       "    <tr>\n",
       "      <th>label</th>\n",
       "      <th></th>\n",
       "      <th></th>\n",
       "      <th></th>\n",
       "      <th></th>\n",
       "      <th></th>\n",
       "      <th></th>\n",
       "      <th></th>\n",
       "      <th></th>\n",
       "      <th></th>\n",
       "      <th></th>\n",
       "      <th></th>\n",
       "      <th></th>\n",
       "      <th></th>\n",
       "      <th></th>\n",
       "      <th></th>\n",
       "      <th></th>\n",
       "      <th></th>\n",
       "      <th></th>\n",
       "      <th></th>\n",
       "      <th></th>\n",
       "      <th></th>\n",
       "      <th></th>\n",
       "      <th></th>\n",
       "      <th></th>\n",
       "      <th></th>\n",
       "      <th></th>\n",
       "      <th></th>\n",
       "      <th></th>\n",
       "      <th></th>\n",
       "      <th></th>\n",
       "      <th></th>\n",
       "      <th></th>\n",
       "      <th></th>\n",
       "      <th></th>\n",
       "      <th></th>\n",
       "      <th></th>\n",
       "      <th></th>\n",
       "      <th></th>\n",
       "      <th></th>\n",
       "      <th></th>\n",
       "    </tr>\n",
       "  </thead>\n",
       "  <tbody>\n",
       "    <tr>\n",
       "      <th>Good</th>\n",
       "      <td>274515</td>\n",
       "      <td>6</td>\n",
       "      <td>London</td>\n",
       "      <td>134587</td>\n",
       "      <td>195286</td>\n",
       "      <td>152427</td>\n",
       "      <td>nothing</td>\n",
       "      <td>15082</td>\n",
       "      <td>274515</td>\n",
       "      <td>166099</td>\n",
       "      <td></td>\n",
       "      <td>77112</td>\n",
       "      <td>268579</td>\n",
       "      <td>251096</td>\n",
       "      <td>location</td>\n",
       "      <td>918</td>\n",
       "      <td>274515</td>\n",
       "      <td>261096</td>\n",
       "      <td></td>\n",
       "      <td>5827</td>\n",
       "      <td>274515</td>\n",
       "      <td>274114</td>\n",
       "      <td>staff friendly helpful</td>\n",
       "      <td>18</td>\n",
       "      <td>274515</td>\n",
       "      <td>12</td>\n",
       "      <td>Aug</td>\n",
       "      <td>27163</td>\n",
       "      <td>274515</td>\n",
       "      <td>211</td>\n",
       "      <td>United Kingdom</td>\n",
       "      <td>136653</td>\n",
       "      <td>274515</td>\n",
       "      <td>6</td>\n",
       "      <td>Couple</td>\n",
       "      <td>142209</td>\n",
       "      <td>267665</td>\n",
       "      <td>2</td>\n",
       "      <td>Leisure trip</td>\n",
       "      <td>232381</td>\n",
       "    </tr>\n",
       "    <tr>\n",
       "      <th>Poor</th>\n",
       "      <td>154949</td>\n",
       "      <td>6</td>\n",
       "      <td>London</td>\n",
       "      <td>84868</td>\n",
       "      <td>148202</td>\n",
       "      <td>142182</td>\n",
       "      <td>nothing</td>\n",
       "      <td>498</td>\n",
       "      <td>154949</td>\n",
       "      <td>146047</td>\n",
       "      <td></td>\n",
       "      <td>6431</td>\n",
       "      <td>136610</td>\n",
       "      <td>101312</td>\n",
       "      <td>location</td>\n",
       "      <td>7260</td>\n",
       "      <td>154949</td>\n",
       "      <td>113815</td>\n",
       "      <td></td>\n",
       "      <td>18185</td>\n",
       "      <td>154949</td>\n",
       "      <td>154844</td>\n",
       "      <td>room small location</td>\n",
       "      <td>5</td>\n",
       "      <td>154949</td>\n",
       "      <td>12</td>\n",
       "      <td>Jul</td>\n",
       "      <td>15462</td>\n",
       "      <td>154949</td>\n",
       "      <td>206</td>\n",
       "      <td>United Kingdom</td>\n",
       "      <td>71781</td>\n",
       "      <td>154949</td>\n",
       "      <td>6</td>\n",
       "      <td>Couple</td>\n",
       "      <td>70738</td>\n",
       "      <td>149850</td>\n",
       "      <td>2</td>\n",
       "      <td>Leisure trip</td>\n",
       "      <td>118401</td>\n",
       "    </tr>\n",
       "  </tbody>\n",
       "</table>\n",
       "</div>"
      ],
      "text/plain": [
       "      Hotel_City                        Neg_Rev_Lemmatized                   \\\n",
       "           count unique     top    freq              count  unique      top   \n",
       "label                                                                         \n",
       "Good      274515      6  London  134587             195286  152427  nothing   \n",
       "Poor      154949      6  London   84868             148202  142182  nothing   \n",
       "\n",
       "             Negative_Review                    Pos_Rev_Lemmatized          \\\n",
       "        freq           count  unique top   freq              count  unique   \n",
       "label                                                                        \n",
       "Good   15082          274515  166099      77112             268579  251096   \n",
       "Poor     498          154949  146047       6431             136610  101312   \n",
       "\n",
       "                      Positive_Review                    Rev_Lemmatized  \\\n",
       "            top  freq           count  unique top   freq          count   \n",
       "label                                                                     \n",
       "Good   location   918          274515  261096       5827         274515   \n",
       "Poor   location  7260          154949  113815      18185         154949   \n",
       "\n",
       "                                            Review_Month                     \\\n",
       "       unique                      top freq        count unique  top   freq   \n",
       "label                                                                         \n",
       "Good   274114   staff friendly helpful   18       274515     12  Aug  27163   \n",
       "Poor   154844      room small location    5       154949     12  Jul  15462   \n",
       "\n",
       "      Reviewer_Nationality                                  Traveler_Type  \\\n",
       "                     count unique               top    freq         count   \n",
       "label                                                                       \n",
       "Good                274515    211   United Kingdom   136653        274515   \n",
       "Poor                154949    206   United Kingdom    71781        154949   \n",
       "\n",
       "                             Trip_Type                               \n",
       "      unique     top    freq     count unique           top    freq  \n",
       "label                                                                \n",
       "Good       6  Couple  142209    267665      2  Leisure trip  232381  \n",
       "Poor       6  Couple   70738    149850      2  Leisure trip  118401  "
      ]
     },
     "execution_count": 45,
     "metadata": {},
     "output_type": "execute_result"
    }
   ],
   "source": [
    "df_txt.drop('Reviewer_Score',axis=1).groupby('label').describe()"
   ]
  },
  {
   "cell_type": "code",
   "execution_count": 46,
   "metadata": {},
   "outputs": [],
   "source": [
    "# Lenghth of characters in a full-review\n",
    "df_txt['Len_LemRev_char']=df_txt['Rev_Lemmatized'].apply(len)\n"
   ]
  },
  {
   "cell_type": "code",
   "execution_count": 47,
   "metadata": {},
   "outputs": [
    {
     "name": "stdout",
     "output_type": "stream",
     "text": [
      "Correlation: -0.12\n"
     ]
    },
    {
     "data": {
      "image/png": "[encoded data removed]",
      "text/plain": [
       "<Figure size 720x720 with 1 Axes>"
      ]
     },
     "metadata": {},
     "output_type": "display_data"
    }
   ],
   "source": [
    "# How is the length of lemmatized clean reviews related with the reviewer score\n",
    "sns.lmplot(y='Reviewer_Score',x='Len_LemRev_char',data=df_txt,y_jitter=0.05,size=10,scatter_kws={'alpha':0.3});\n",
    "print('Correlation: %.2f'%(df_txt.Len_LemRev_char.corr(df_txt.Reviewer_Score)))"
   ]
  },
  {
   "cell_type": "code",
   "execution_count": 48,
   "metadata": {},
   "outputs": [
    {
     "data": {
      "image/png": "[encoded data removed]",
      "text/plain": [
       "<Figure size 864x576 with 2 Axes>"
      ]
     },
     "metadata": {},
     "output_type": "display_data"
    }
   ],
   "source": [
    "# Visualize the distribution of length of review strings by review label\n",
    "df_txt.hist(column='Len_LemRev_char',by='label',bins=50,figsize=(12,8),rot=0,sharex=True)\n",
    "plt.xlabel('length of Characters in a Review');"
   ]
  },
  {
   "cell_type": "code",
   "execution_count": 49,
   "metadata": {},
   "outputs": [
    {
     "data": {
      "image/png": "[encoded data removed]",
      "text/plain": [
       "<Figure size 864x576 with 2 Axes>"
      ]
     },
     "metadata": {},
     "output_type": "display_data"
    }
   ],
   "source": [
    "# Visualize the distribution of length of review strings by trip type\n",
    "df_txt.hist(column='Len_LemRev_char',by='Trip_Type',bins=50,figsize=(12,8),rot=0,sharex=True);\n",
    "plt.xlabel('length of Characters in a Review');"
   ]
  },
  {
   "cell_type": "markdown",
   "metadata": {},
   "source": [
    "### t-test of the Character Length of Reviews\n",
    "Is the average length of reviews significantly different for different trip categories ('business' trip and 'leisure trip')? We will investigate this issue by performing the t-test for means of two independent samples of reviews. The null hypothesis is that 2 independent samples (i.e., character length of reviews for business trip and that for leisure trip) have identical average length of characters. This is a two-sided test for 2 samples of different sizes."
   ]
  },
  {
   "cell_type": "code",
   "execution_count": 50,
   "metadata": {},
   "outputs": [
    {
     "data": {
      "text/plain": [
       "Trip_Type\n",
       "Business trip     66733\n",
       "Leisure trip     350782\n",
       "Name: Len_LemRev_char, dtype: int64"
      ]
     },
     "execution_count": 50,
     "metadata": {},
     "output_type": "execute_result"
    }
   ],
   "source": [
    "np.round(df_txt.groupby('Trip_Type')['Len_LemRev_char'].size())#.mean()"
   ]
  },
  {
   "cell_type": "code",
   "execution_count": 51,
   "metadata": {},
   "outputs": [
    {
     "name": "stdout",
     "output_type": "stream",
     "text": [
      "t-statistic: 18.93 \n",
      "pvalue: 0.00\n"
     ]
    }
   ],
   "source": [
    "\n",
    "from scipy import stats\n",
    "\n",
    "idx_leis=df_txt['Trip_Type']=='Leisure trip'\n",
    "len_leis=df_txt[idx_leis]['Len_LemRev_char']\n",
    "len_busi=df_txt[~idx_leis]['Len_LemRev_char']\n",
    "\n",
    "t, p=stats.ttest_ind(len_leis, len_busi, equal_var = False)\n",
    "#This test assumes that the populations have identical variances by default.\n",
    "#equal_var=False: perform Welch’s t-test, which does not assume equal population variance \n",
    "print('t-statistic: %.2f' % (t),'\\npvalue: %.2f' % (p))\n"
   ]
  },
  {
   "cell_type": "code",
   "execution_count": 52,
   "metadata": {},
   "outputs": [
    {
     "data": {
      "text/plain": [
       "label\n",
       "Good    274515\n",
       "Poor    154949\n",
       "Name: Len_LemRev_char, dtype: int64"
      ]
     },
     "execution_count": 52,
     "metadata": {},
     "output_type": "execute_result"
    }
   ],
   "source": [
    "np.round(df_txt.groupby('label')['Len_LemRev_char'].size())#.mean()"
   ]
  },
  {
   "cell_type": "code",
   "execution_count": 53,
   "metadata": {},
   "outputs": [
    {
     "name": "stdout",
     "output_type": "stream",
     "text": [
      "len_rev: poor v.s. good\n",
      "t-statistic: 53.98 \n",
      "pvalue: 0.00\n",
      "\n"
     ]
    }
   ],
   "source": [
    "idx_poor=df_txt['label']=='Poor'\n",
    "idx_good=df_txt['label']=='Good'\n",
    "\n",
    "\n",
    "len_poor=df_txt[idx_poor]['Len_LemRev_char']\n",
    "len_good=df_txt[idx_good]['Len_LemRev_char']\n",
    "\n",
    "\n",
    "t, p=stats.ttest_ind(len_poor, len_good, equal_var = False)\n",
    "#This test assumes that the populations have identical variances by default.\n",
    "#equal_var=False: perform Welch’s t-test, which does not assume equal population variance \n",
    "print('len_rev: poor v.s. good')\n",
    "print('t-statistic: %.2f' % (t),'\\npvalue: %.2f\\n' % (p))"
   ]
  },
  {
   "cell_type": "markdown",
   "metadata": {},
   "source": [
    "Since the p-value is nearly zero for any two types of review categories, we reject the null hypothesis and conclude that the character length of reviews for different review categories are different."
   ]
  },
  {
   "cell_type": "markdown",
   "metadata": {},
   "source": [
    "## Build a Pipeline"
   ]
  },
  {
   "cell_type": "code",
   "execution_count": 54,
   "metadata": {},
   "outputs": [],
   "source": [
    "# Use LabelBinarizer to convert labels into binary values\n",
    "lab_bin=LabelBinarizer()\n",
    "y=lab_bin.fit_transform(df_txt['label'])"
   ]
  },
  {
   "cell_type": "code",
   "execution_count": 55,
   "metadata": {},
   "outputs": [
    {
     "data": {
      "text/plain": [
       "((300624, 1), (128840, 1))"
      ]
     },
     "execution_count": 55,
     "metadata": {},
     "output_type": "execute_result"
    }
   ],
   "source": [
    "#Split data into training and test set\n",
    "X_train, X_test, y_train, y_test = train_test_split(df_txt['Rev_Lemmatized'], y,test_size=0.3,\n",
    "    random_state=100)\n",
    "y_train.shape, y_test.shape"
   ]
  },
  {
   "cell_type": "code",
   "execution_count": 56,
   "metadata": {},
   "outputs": [],
   "source": [
    "# Define a function to run the pipeline\n",
    "def run_pipeline(steps,X_train,y_train,X_test,y_test):\n",
    "    pipe=Pipeline(steps)\n",
    "    pipe.fit(X_train,y_train)\n",
    "    \n",
    "    y_pred=pipe.predict(X_test)\n",
    "    accu_train=pipe.score(X_train,y_train)\n",
    "    accu_test=pipe.score(X_test,y_test)\n",
    "    class_rep=classification_report(y_test,y_pred)\n",
    "    conf_mtrix=confusion_matrix(y_test, y_pred) #,labels=['Poor','Good','Excellent']\n",
    "\n",
    "    # Save the model\n",
    "    #pickle.dump(pipe, open('pipe_model', 'wb'))\n",
    "   \n",
    "    print('Accuracy of training set: %.2f' %accu_train)\n",
    "    print('Accuracy of test set: %.2f' %accu_test)\n",
    "    print(\"\\nConfusion Matrix:\\n\",conf_mtrix )\n",
    "    print ('\\nClassificatio Report:\\n',class_rep)\n",
    "\n",
    "\n",
    "    return pipe,accu_train, accu_test, conf_mtrix, class_rep"
   ]
  },
  {
   "cell_type": "markdown",
   "metadata": {},
   "source": [
    "## Use bag-of-word Features for Prediction"
   ]
  },
  {
   "cell_type": "markdown",
   "metadata": {},
   "source": [
    "### Dummy Classifier\n",
    "\n",
    "we use the dummy classifer to get a baseline. In the dummy classifier, we use the 'most_frequent' strategy, hence the classifer always predict dominant class 'Good'."
   ]
  },
  {
   "cell_type": "code",
   "execution_count": 57,
   "metadata": {},
   "outputs": [
    {
     "name": "stdout",
     "output_type": "stream",
     "text": [
      "Accuracy of training set: 0.64\n",
      "Accuracy of test set: 0.64\n",
      "\n",
      "Confusion Matrix:\n",
      " [[82592     0]\n",
      " [46248     0]]\n",
      "\n",
      "Classificatio Report:\n",
      "              precision    recall  f1-score   support\n",
      "\n",
      "          0       0.64      1.00      0.78     82592\n",
      "          1       0.00      0.00      0.00     46248\n",
      "\n",
      "avg / total       0.41      0.64      0.50    128840\n",
      "\n"
     ]
    }
   ],
   "source": [
    "# Use dummy classifier as the baseline \n",
    "from sklearn.dummy import DummyClassifier\n",
    "\n",
    "df_txt['lab_cat']=y\n",
    "X_train, X_test, y_train, y_test = train_test_split(df_txt['Rev_Lemmatized'], df_txt['lab_cat'],test_size=0.3,\n",
    "    random_state=100)\n",
    "\n",
    "\n",
    "\n",
    "bow_steps_dummy=[('vectorise',CountVectorizer(\n",
    "                                        min_df=10,\n",
    "                                        stop_words='english',\n",
    "                                        token_pattern='[a-zA-Z]{3,}')),\n",
    "         ('clf',DummyClassifier(strategy = 'most_frequent'))]\n",
    "\n",
    "bow_pipe_dummy,bow_training_accuracy_dummy, bow_test_accuracy_dummy, bow_conf_mtrix_dummy, bow_class_report_dummy=run_pipeline(bow_steps_dummy,X_train,y_train,X_test,y_test)\n",
    "\n"
   ]
  },
  {
   "cell_type": "markdown",
   "metadata": {},
   "source": [
    "### NaiveBayes Classifier \n",
    "We use the naive bayes classifier to improve model performance."
   ]
  },
  {
   "cell_type": "code",
   "execution_count": 58,
   "metadata": {},
   "outputs": [
    {
     "name": "stdout",
     "output_type": "stream",
     "text": [
      "Accuracy of training set: 0.78\n",
      "Accuracy of test set: 0.78\n",
      "\n",
      "Confusion Matrix:\n",
      " [[69757 12835]\n",
      " [15755 30493]]\n",
      "\n",
      "Classificatio Report:\n",
      "              precision    recall  f1-score   support\n",
      "\n",
      "          0       0.82      0.84      0.83     82592\n",
      "          1       0.70      0.66      0.68     46248\n",
      "\n",
      "avg / total       0.78      0.78      0.78    128840\n",
      "\n"
     ]
    }
   ],
   "source": [
    "bow_steps_NB=[('vectorise',CountVectorizer(\n",
    "                                        min_df=10,\n",
    "                                        stop_words='english',\n",
    "                                        token_pattern='[a-zA-Z]{3,}')),\n",
    "         ('clf',MultinomialNB())]\n",
    "\n",
    "bow_pipe_NB,bow_training_accuracy_NB, bow_test_accuracy_NB, bow_conf_mtrix_NB, bow_class_report_NB=run_pipeline(bow_steps_NB,X_train,y_train,X_test,y_test)\n",
    "\n"
   ]
  },
  {
   "cell_type": "code",
   "execution_count": 59,
   "metadata": {},
   "outputs": [
    {
     "data": {
      "image/png": "[encoded data removed]",
      "text/plain": [
       "<Figure size 864x864 with 2 Axes>"
      ]
     },
     "metadata": {},
     "output_type": "display_data"
    }
   ],
   "source": [
    "y_pred=bow_pipe_NB.predict(X_test)\n",
    "\n",
    "\n",
    "plt.figure(figsize=(12,12))\n",
    "ax=sns.heatmap(bow_conf_mtrix_NB, annot=True, fmt=\"d\",linewidths=.5, square = True, cmap = 'Blues',annot_kws={'size':16});#fmt=\".3f\", \n",
    "plt.ylabel('Actual label');\n",
    "#plt.xlabel('Predicted label\\naccuracy={:0.2f}; misclass={:0.2f}'.format(accuracy_score(y_test,  y_pred), 1-accuracy_score(y_test,  y_pred)))\n",
    "plt.xlabel('Predicted label\\naccuracy={:0.2f}'.format(accuracy_score(y_test,  y_pred)))\n",
    "\n",
    "\n",
    "plt.title('Confusion Matrix', size = 18)\n",
    "ax.xaxis.set_ticklabels(['Good','Poor'])\n",
    "ax.yaxis.set_ticklabels(['Good','Poor']);"
   ]
  },
  {
   "cell_type": "markdown",
   "metadata": {},
   "source": [
    "#### Strongly Predictive Features\n",
    "We build a dataset where each row contains just one word (identity matrix) and then uses the trained classifier to classify the one-word review. The probability for each row represents the probability that the review will be classified as 'poor'. We can see which words have the highest probability in ('poor') and which words have the lowest probability (low probability in being 'poor', hence high probability in being 'good' or 'excellent).\n",
    "\n"
   ]
  },
  {
   "cell_type": "code",
   "execution_count": 60,
   "metadata": {},
   "outputs": [],
   "source": [
    "#Initialize the CountVectorizer with optimal hyperparameters\n",
    "vectorizer=CountVectorizer(analyzer='word',       \n",
    "                             min_df=10,\n",
    "                             #ngram_range=(1, 2),\n",
    "                             stop_words='english',             \n",
    "                             #lowercase=True,                  \n",
    "                             token_pattern='[a-zA-Z]{3,}',  \n",
    "                            #binary=True,\n",
    "                       )\n",
    "# Build the vocabulary by 'fit'\n",
    "vectorizer.fit(df_txt['Rev_Lemmatized'])\n",
    "\n",
    "\n",
    "#Make X and y\n",
    "def make_xy(df_txt, vectorizer=None):\n",
    "    if vectorizer is None:\n",
    "        vectorizer = CountVectorizer()\n",
    "    X = vectorizer.fit_transform(df_txt.Rev_Lemmatized)\n",
    "    X = X.tocsc()  \n",
    "    y = df_txt.lab_cat.values\n",
    "    return X, y\n",
    "X, y = make_xy(df_txt,vectorizer)\n",
    "\n",
    "\n",
    "# Set the train and test masks\n",
    "itrain, _ = train_test_split(range(df_txt.shape[0]), test_size=0.3,random_state=100)\n",
    "mask = np.zeros(df_txt.shape[0], dtype=np.bool)\n",
    "mask[itrain] = True\n",
    "\n",
    "xtrain=X[mask]\n",
    "ytrain=y[mask]\n",
    "xtest=X[~mask]\n",
    "ytest=y[~mask]\n",
    "\n"
   ]
  },
  {
   "cell_type": "code",
   "execution_count": 61,
   "metadata": {},
   "outputs": [
    {
     "name": "stdout",
     "output_type": "stream",
     "text": [
      "Good words\t     P(Poor | word)\n",
      "              filthy 0.90\n",
      "           unhelpful 0.87\n",
      "            impolite 0.87\n",
      "             unclean 0.86\n",
      "          disgusting 0.85\n",
      "             disgust 0.85\n",
      "               dirty 0.85\n",
      "            arrogant 0.84\n",
      "          unfriendly 0.83\n",
      "               worst 0.83\n",
      "Bad words\t     P(Poor | word)\n",
      "           amazingly 0.08\n",
      "        immaculately 0.08\n",
      "            hesitate 0.08\n",
      "          immaculate 0.07\n",
      "         beautifully 0.07\n",
      "              highly 0.07\n",
      "          spotlessly 0.06\n",
      "          impeccable 0.06\n",
      "                 gem 0.06\n",
      "           memorable 0.06\n"
     ]
    }
   ],
   "source": [
    "#Train the Naive Bayes model\n",
    "clf = MultinomialNB(alpha=10).fit(xtrain, ytrain)\n",
    "words = np.array(vectorizer.get_feature_names())\n",
    "\n",
    "x = np.eye(xtest.shape[1])\n",
    "# 'poor'\n",
    "probs = clf.predict_log_proba(x)[:, 1]\n",
    "ind = np.argsort(probs)[::-1]#reverse the order such that decending order\n",
    "\n",
    "good_words =words[ind[:10]]   \n",
    "bad_words =words[ind[-10:]]\n",
    "\n",
    "good_prob = probs[ind[:10]]\n",
    "bad_prob = probs[ind[-10:]]\n",
    "\n",
    "print(\"Good words\\t     P(Poor | word)\")\n",
    "for w, p in zip(good_words, good_prob):\n",
    "    print(\"{:>20}\".format(w), \"{:.2f}\".format(np.exp(p)))\n",
    "    \n",
    "print(\"Bad words\\t     P(Poor | word)\")\n",
    "for w, p in zip(bad_words, bad_prob):\n",
    "    print(\"{:>20}\".format(w), \"{:.2f}\".format(np.exp(p)))\n",
    "\n",
    "\n",
    "\n"
   ]
  },
  {
   "cell_type": "code",
   "execution_count": null,
   "metadata": {},
   "outputs": [],
   "source": [
    "#### Logistic regression \n",
    "\n",
    "\n",
    "# bow_steps_LR=[('vectorise',CountVectorizer(\n",
    "#                                         min_df=10,\n",
    "#                                         stop_words='english',\n",
    "#                                         token_pattern='[a-zA-Z]{3,}')),\n",
    "#          ('clf',LogisticRegression())]\n",
    "\n",
    "# bow_pipe_LR,bow_training_accuracy_LR, bow_test_accuracy_LR, bow_conf_mtrix_LR, bow_class_report_LR=run_pipeline(bow_steps_LR,X_train,y_train,X_test,y_test)\n",
    "\n",
    "\n",
    "#### Support Vector Classification\n",
    "# bow_steps_SVC=[('vectorise',CountVectorizer(\n",
    "#                                         min_df=10,\n",
    "#                                         stop_words='english',\n",
    "#                                         token_pattern='[a-zA-Z]{3,}')),\n",
    "#          ('clf',SGDClassifier())]\n",
    "\n",
    "# bow_pipe_SVC,bow_training_accuracy_SVC, bow_test_accuracy_SVC, bow_conf_mtrix_SVC, bow_class_report_SVC=run_pipeline(bow_steps_SVC,X_train,y_train,X_test,y_test)\n",
    "\n",
    "\n",
    "#### Random Forest Classifier\n",
    "# bow_steps_RF=[('vectorise',CountVectorizer(\n",
    "#                                         min_df=10,\n",
    "#                                         stop_words='english',\n",
    "#                                         token_pattern='[a-zA-Z]{3,}')),\n",
    "#          ('clf',RandomForestClassifier())]\n",
    "\n",
    "# bow_pipe_RF,bow_training_accuracy_RF, bow_test_accuracy_RF, bow_conf_mtrix_RF, bow_class_report_RF=run_pipeline(bow_steps_RF,X_train,y_train,X_test,y_test)\n",
    "\n",
    "\n",
    "\n"
   ]
  },
  {
   "cell_type": "markdown",
   "metadata": {},
   "source": [
    "## Use Tfidf-weighted Features for Prediction \n",
    "We already have a learned CountVectorizer, we will use it with a TfidfTransformer to generate the Tfidf-weighted features for prediction and we also include bigrams as features."
   ]
  },
  {
   "cell_type": "code",
   "execution_count": 62,
   "metadata": {},
   "outputs": [
    {
     "name": "stdout",
     "output_type": "stream",
     "text": [
      "Accuracy of training set: 0.81\n",
      "Accuracy of test set: 0.79\n",
      "\n",
      "Confusion Matrix:\n",
      " [[72660  9932]\n",
      " [16874 29374]]\n",
      "\n",
      "Classificatio Report:\n",
      "              precision    recall  f1-score   support\n",
      "\n",
      "          0       0.81      0.88      0.84     82592\n",
      "          1       0.75      0.64      0.69     46248\n",
      "\n",
      "avg / total       0.79      0.79      0.79    128840\n",
      "\n"
     ]
    }
   ],
   "source": [
    "steps=[('vectorise', CountVectorizer(analyzer='word',       \n",
    "                             min_df=10,\n",
    "                             ngram_range=(1, 2),\n",
    "                             stop_words='english',             \n",
    "                             lowercase=True,                  \n",
    "                             token_pattern='[a-zA-Z]{3,}',  \n",
    "                            #binary=False,\n",
    "                       )),\n",
    "       ('transform',TfidfTransformer()),\n",
    "       ('clf',MultinomialNB())]\n",
    "res_tfidf_NB_model=run_pipeline(steps,X_train,y_train,X_test,y_test) \n"
   ]
  },
  {
   "cell_type": "markdown",
   "metadata": {},
   "source": [
    "### Feed Less TfidfVectorized Features to Classifier \n",
    "We select 5000 (rather than all 94711) features by implementing the most common feature selection technique for text mining, i.e., the chi-squared  ($\\chi2$) method to see if the accuracy gets improved on test data set."
   ]
  },
  {
   "cell_type": "code",
   "execution_count": 67,
   "metadata": {},
   "outputs": [
    {
     "name": "stdout",
     "output_type": "stream",
     "text": [
      "Accuracy of training set: 0.79\n",
      "Accuracy of test set: 0.79\n",
      "\n",
      "Confusion Matrix:\n",
      " [[75606  6986]\n",
      " [20078 26170]]\n",
      "\n",
      "Classificatio Report:\n",
      "              precision    recall  f1-score   support\n",
      "\n",
      "          0       0.79      0.92      0.85     82592\n",
      "          1       0.79      0.57      0.66     46248\n",
      "\n",
      "avg / total       0.79      0.79      0.78    128840\n",
      "\n"
     ]
    }
   ],
   "source": [
    "tfidf_vec = TfidfVectorizer(min_df=10,\n",
    "                            ngram_range=(1, 2),\n",
    "                            stop_words='english',\n",
    "                            token_pattern='[a-zA-Z]{3,}',\n",
    "                           )\n",
    "\n",
    "X, y = make_xy(df_txt,tfidf_vec)\n",
    "#X_new = SelectKBest(chi2, k=10).fit_transform(X, y)\n",
    "X_new = SelectKBest(chi2, k=5000).fit_transform(X, y)\n",
    "\n",
    "\n",
    "itrain, _ = train_test_split(range(df_txt.shape[0]), test_size=0.3,random_state=100)\n",
    "mask = np.zeros(df_txt.shape[0], dtype=np.bool)\n",
    "mask[itrain] = True\n",
    "\n",
    "\n",
    "\n",
    "Xtrain=X_new[mask]\n",
    "ytrain=y[mask]\n",
    "Xtest=X_new[~mask]\n",
    "ytest=y[~mask]\n",
    "\n",
    "steps=[#('vectorise',TfidfVectorizer(stop_words='english',token_pattern='[a-zA-Z]{3,}')),\n",
    "       ('clf',MultinomialNB())]\n",
    "\n",
    "res_tfidf_NB_model2=run_pipeline(steps,Xtrain,ytrain,Xtest,ytest)            \n"
   ]
  },
  {
   "cell_type": "markdown",
   "metadata": {},
   "source": [
    "## Use sklearn LDA Document Topics for Prediction\n",
    "**Build up the pipeline**"
   ]
  },
  {
   "cell_type": "code",
   "execution_count": 69,
   "metadata": {},
   "outputs": [
    {
     "name": "stdout",
     "output_type": "stream",
     "text": [
      "Accuracy of training set: 0.65\n",
      "Accuracy of test set: 0.65\n",
      "\n",
      "Confusion Matrix:\n",
      " [[81782   810]\n",
      " [44408  1840]]\n",
      "\n",
      "Classificatio Report:\n",
      "              precision    recall  f1-score   support\n",
      "\n",
      "          0       0.65      0.99      0.78     82592\n",
      "          1       0.69      0.04      0.08     46248\n",
      "\n",
      "avg / total       0.66      0.65      0.53    128840\n",
      "\n",
      "time 819.9459755949938\n"
     ]
    }
   ],
   "source": [
    "import warnings\n",
    "warnings.filterwarnings('ignore')\n",
    "\n",
    "import timeit\n",
    "start_time = timeit.default_timer()\n",
    "\n",
    "\n",
    "X_train, X_test, y_train, y_test=train_test_split(df_txt['Rev_Lemmatized'],df_txt['lab_cat'],test_size=0.3,random_state=100)\n",
    "steps_skldan5=[('vectorise',CountVectorizer(analyzer='word',       \n",
    "                             min_df=10,                       \n",
    "                             stop_words='english',             \n",
    "                             lowercase=True,                  \n",
    "                             token_pattern='[a-zA-Z]{3,}',    # num chars > 3 \n",
    "   )),\n",
    "       ('LDA', LDA(n_components=5, random_state=100)),\n",
    "       ('clf',MultinomialNB())]\n",
    "\n",
    "res_skldan5=run_pipeline(steps_skldan5,X_train,y_train,X_test,y_test)\n",
    "# # Save model using pickle\n",
    "pickle.dump(res_skldan5, open('save/res_skldan5.sav', 'wb'))\n",
    "\n",
    "elapsed = timeit.default_timer() - start_time \n",
    "print ('time', elapsed)"
   ]
  },
  {
   "cell_type": "markdown",
   "metadata": {},
   "source": [
    "## Use Gensim LDA Document Topics for Prediction"
   ]
  },
  {
   "cell_type": "code",
   "execution_count": 70,
   "metadata": {},
   "outputs": [],
   "source": [
    "def gensim_lda_feature(doc,dictionary,corpus,num_topics,ldamodel):\n",
    "    \"\"\"extract document-topic matrix from gensim lda and convert it into a form ready to be used for prediction \"\"\"\n",
    "    \n",
    "    # Create document-topic-matrix for new documents\n",
    "    doc_tokenized=process_text(doc)\n",
    "    doc_bow=[dictionary.doc2bow(d) for d in doc_tokenized]\n",
    "    dtm=ldamodel.get_document_topics(doc_bow)\n",
    "\n",
    "        # Convert dtm to numpy array\n",
    "    dtm_csr = gensim.matutils.corpus2csc(dtm)\n",
    "    dtm_numpy = dtm_csr.T.toarray()\n",
    "\n",
    "    return dtm_numpy\n",
    "    \n",
    "\n",
    "# a FunctionTransformer turns a python function into an object that a scikit-learn pipeline can understand\n",
    "gensim_lda_extractFeature=FunctionTransformer(lambda x: gensim_lda_feature(x,dictionary,corpus,ntopics,lda),validate=False)\n",
    "\n",
    "X_rev=df_txt['Rev_Lemmatized']\n",
    "y=df_txt['lab_cat']\n",
    "\n",
    "\n",
    "# Split data into training and test set\n",
    "itrain, _ = train_test_split(range(df_txt.shape[0]), test_size=0.3,random_state=100)\n",
    "mask = np.zeros(df_txt.shape[0], dtype=np.bool)\n",
    "mask[itrain] = True\n",
    "\n",
    "X_train=X_rev[mask]\n",
    "y_train=y[mask]\n",
    "\n",
    "X_test=X_rev[~mask]\n",
    "y_test=y[~mask]"
   ]
  },
  {
   "cell_type": "code",
   "execution_count": 71,
   "metadata": {},
   "outputs": [
    {
     "name": "stdout",
     "output_type": "stream",
     "text": [
      "Accuracy of training set: 0.65\n",
      "Accuracy of test set: 0.65\n",
      "\n",
      "Confusion Matrix:\n",
      " [[81921   671]\n",
      " [43858  2390]]\n",
      "\n",
      "Classificatio Report:\n",
      "              precision    recall  f1-score   support\n",
      "\n",
      "          0       0.65      0.99      0.79     82592\n",
      "          1       0.78      0.05      0.10     46248\n",
      "\n",
      "avg / total       0.70      0.65      0.54    128840\n",
      "\n",
      "time 752.0911551360041\n"
     ]
    }
   ],
   "source": [
    "import timeit\n",
    "start_time = timeit.default_timer()\n",
    "\n",
    "\n",
    "ntopics=5\n",
    "#build_lda(X_train,ntopics,passes=15);\n",
    "    \n",
    "dictionary = gensim.corpora.Dictionary.load('dictionary.gensim')\n",
    "corpus = pickle.load(open('corpus.pkl', 'rb'))\n",
    "ldan5 = gensim.models.ldamodel.LdaModel.load('model{0}.gensim'.format(ntopics))\n",
    "#gensim_lda_feature(X_train,dictionary,corpus,ntopics,ldan5)\n",
    "\n",
    "# a FunctionTransformer turns a python function into an object that a scikit-learn pipeline can understand\n",
    "gensim_lda_extractFeature=FunctionTransformer(lambda x: gensim_lda_feature(\n",
    "    x,dictionary,corpus,ntopics,ldan5),validate=False)\n",
    "steps_gsmldan5=[('gensimLDA',gensim_lda_extractFeature),\n",
    "       ('clf',MultinomialNB())]\n",
    "res_lda_gsm_n5=run_pipeline(steps_gsmldan5,X_train,y_train,X_test,y_test)\n",
    "\n",
    "elapsed = timeit.default_timer() - start_time \n",
    "print ('time', elapsed)"
   ]
  },
  {
   "cell_type": "code",
   "execution_count": 72,
   "metadata": {},
   "outputs": [
    {
     "name": "stdout",
     "output_type": "stream",
     "text": [
      "Accuracy of training set: 0.65\n",
      "Accuracy of test set: 0.65\n",
      "\n",
      "Confusion Matrix:\n",
      " [[82019   573]\n",
      " [44721  1527]]\n",
      "\n",
      "Classificatio Report:\n",
      "              precision    recall  f1-score   support\n",
      "\n",
      "          0       0.65      0.99      0.78     82592\n",
      "          1       0.73      0.03      0.06     46248\n",
      "\n",
      "avg / total       0.68      0.65      0.53    128840\n",
      "\n"
     ]
    }
   ],
   "source": [
    "import timeit\n",
    "start_time = timeit.default_timer()\n",
    "\n",
    "\n",
    "ntopics=10\n",
    "ldan10 = gensim.models.ldamodel.LdaModel.load('model{0}.gensim'.format(ntopics))\n",
    "#gensim_lda_feature(X_train,dictionary,corpus,ntopics,ldan10)\n",
    "\n",
    "\n",
    "# a FunctionTransformer turns a python function into an object that a scikit-learn pipeline can understand\n",
    "gensim_lda_extractFeature=FunctionTransformer(lambda x: gensim_lda_feature(\n",
    "    x,dictionary,corpus,ntopics,ldan10),validate=False)\n",
    "steps_gsmldan10=[('gensimLDA',gensim_lda_extractFeature),\n",
    "       ('clf',MultinomialNB())]\n",
    "res_lda_gsm_n10=run_pipeline(steps_gsmldan10,X_train,y_train,X_test,y_test)\n",
    "\n",
    "elapsed = timeit.default_timer() - start_time #849.3771899580024"
   ]
  },
  {
   "cell_type": "markdown",
   "metadata": {},
   "source": [
    "##  Compare Model Performance\n",
    "We plot the ROC curve for evaluation of model performances. AUC is the size of area under the plotted curve. In ROC (Receiver operating characteristic) curve, true positive rates are plotted against false positive rates. The closer AUC of a model is getting to 1, the better the model is. It means, a model with higher AUC is preferred over those with lower AUC."
   ]
  },
  {
   "cell_type": "code",
   "execution_count": 74,
   "metadata": {},
   "outputs": [
    {
     "name": "stdout",
     "output_type": "stream",
     "text": [
      "time 269.85869465699943\n"
     ]
    }
   ],
   "source": [
    "import timeit\n",
    "start_time = timeit.default_timer()\n",
    "\n",
    "\n",
    "\n",
    "models=[bow_pipe_dummy,\n",
    "        bow_pipe_NB,\n",
    "        res_tfidf_NB_model[0],\n",
    "        res_tfidf_NB_model2[0],\n",
    "        res_skldan5[0],\n",
    "        res_lda_gsm_n5[0],\n",
    "        res_lda_gsm_n10[0]        \n",
    "           ]\n",
    "\n",
    "m_names=['bow_dummy',\n",
    "        'bow_NB',\n",
    "        'tfidf_NB',\n",
    "        'tfidf_NBchi',\n",
    "        'sklearn_ldan5',\n",
    "        'gsm_ldan5',\n",
    "        'gsm_ldan10'\n",
    "        ]\n",
    "Probs = []\n",
    "FPRs = []\n",
    "TPRs = []\n",
    "ROC_AUCs =[]\n",
    "for k in range(0,len(models)):\n",
    "    name = m_names[k] \n",
    "    if k==3:\n",
    "        prob=models[k].predict_proba(Xtest)\n",
    "        y_pred = prob[:,1]\n",
    "        fpr, tpr, threshold = roc_curve(ytest, y_pred, pos_label=1)\n",
    "\n",
    "\n",
    "    else:\n",
    "        prob =models[k].predict_proba(X_test)\n",
    "        y_pred = prob[:,1]\n",
    "        fpr, tpr, threshold = roc_curve(y_test, y_pred, pos_label=1)\n",
    "\n",
    "\n",
    "    roc_auc = auc(fpr, tpr)\n",
    "    Probs.append(prob)\n",
    "    FPRs.append(fpr)\n",
    "    TPRs.append(tpr)\n",
    "    ROC_AUCs.append(roc_auc)\n",
    "elapsed = timeit.default_timer() - start_time \n",
    "print ('time', elapsed)\n"
   ]
  },
  {
   "cell_type": "code",
   "execution_count": 75,
   "metadata": {},
   "outputs": [
    {
     "data": {
      "image/png": "[encoded data removed]",
      "text/plain": [
       "<Figure size 720x576 with 1 Axes>"
      ]
     },
     "metadata": {},
     "output_type": "display_data"
    }
   ],
   "source": [
    "rcParams['figure.figsize'] = 10, 8\n",
    "\n",
    "\n",
    "## plot ROC curve\n",
    "plt.title('Receiver Operating Characteristic')\n",
    "\n",
    "plt.plot(FPRs[3], TPRs[3], 'm', linestyle='--',label='AUC = %0.2f (%s)'% (ROC_AUCs[3],m_names[3]))\n",
    "plt.plot(FPRs[2], TPRs[2], 'r', label='AUC = %0.2f (%s)'% (ROC_AUCs[2],m_names[2]))\n",
    "plt.plot(FPRs[1], TPRs[1], 'g',linestyle=':', label='AUC = %0.2f (%s)'% (ROC_AUCs[1],m_names[1]))\n",
    "plt.plot(FPRs[6], TPRs[6], 'y', label='AUC = %0.2f (%s)'% (ROC_AUCs[6],m_names[6]))\n",
    "plt.plot(FPRs[5], TPRs[5], 'k',linestyle='--', label='AUC = %0.2f (%s)'% (ROC_AUCs[5],m_names[5]))\n",
    "plt.plot(FPRs[4], TPRs[4], 'c',linestyle='-.', label='AUC = %0.2f (%s)'% (ROC_AUCs[4],m_names[4]))\n",
    "plt.plot(FPRs[0], TPRs[0], 'gray', linestyle='--',label='AUC = %0.2f (%s)'% (ROC_AUCs[0],m_names[0]))\n",
    "\n",
    "\n",
    "\n",
    "plt.plot([0,1],[0,1],color='gray', lw=1, linestyle='--')\n",
    "plt.xlim([0,1])\n",
    "plt.ylim([0,1.05])\n",
    "plt.ylabel('True Positive Rate')\n",
    "plt.xlabel('False Positive Rate')\n",
    "plt.legend(loc=\"lower right\");\n",
    "\n"
   ]
  },
  {
   "cell_type": "markdown",
   "metadata": {},
   "source": [
    "### Pick Classifiers\n",
    "As indicated in the ROC curve above, concerning texts, the Tf-idf vectorized features as inputs give the best model performance. We will take Tf-idf vectorized features to represent review texts. We will train the model using different classifiers aiming to improve model performance furthermore."
   ]
  },
  {
   "cell_type": "code",
   "execution_count": 77,
   "metadata": {},
   "outputs": [],
   "source": [
    "tfidf_vec = TfidfVectorizer(min_df=10,\n",
    "                            ngram_range=(1, 2),\n",
    "                            stop_words='english',\n",
    "                            token_pattern='[a-zA-Z]{3,}',\n",
    "                           )\n",
    "\n",
    "X, y = make_xy(df_txt,tfidf_vec)\n",
    "#X_new = SelectKBest(chi2, k=10).fit_transform(X, y)\n",
    "X_new = SelectKBest(chi2, k=5000).fit_transform(X, y)\n",
    "\n",
    "\n",
    "itrain, _ = train_test_split(range(df_txt.shape[0]), test_size=0.3,random_state=100)\n",
    "mask = np.zeros(df_txt.shape[0], dtype=np.bool)\n",
    "mask[itrain] = True\n",
    "\n",
    "\n",
    "\n",
    "Xtrain=X_new[mask]\n",
    "ytrain=y[mask]\n",
    "Xtest=X_new[~mask]\n",
    "ytest=y[~mask]\n"
   ]
  },
  {
   "cell_type": "code",
   "execution_count": 78,
   "metadata": {},
   "outputs": [
    {
     "data": {
      "text/plain": [
       "((429464, 94711), (429464, 5000))"
      ]
     },
     "execution_count": 78,
     "metadata": {},
     "output_type": "execute_result"
    }
   ],
   "source": [
    "X.shape, X_new.shape"
   ]
  },
  {
   "cell_type": "markdown",
   "metadata": {},
   "source": [
    "####  Conduct Cross Validation to Estimate Accuracy\n",
    "We use 5-fold cross validation to estimate accuracy."
   ]
  },
  {
   "cell_type": "code",
   "execution_count": 126,
   "metadata": {},
   "outputs": [
    {
     "name": "stdout",
     "output_type": "stream",
     "text": [
      "---------------------------------------------------------------\n",
      "NB:\n",
      "Accuracy of training set: 0.79\n",
      "Accuracy of test set: 0.79\n",
      "\n",
      "Confusion Matrix:\n",
      " [[75606  6986]\n",
      " [20078 26170]]\n",
      "\n",
      "Classificatio Report:\n",
      "              precision    recall  f1-score   support\n",
      "\n",
      "          0       0.79      0.92      0.85     82592\n",
      "          1       0.79      0.57      0.66     46248\n",
      "\n",
      "avg / total       0.79      0.79      0.78    128840\n",
      "\n",
      " mean training accuracy (std): 0.79 (0.004)\n",
      "---------------------------------------------------------------\n",
      "LR:\n",
      "Accuracy of training set: 0.81\n",
      "Accuracy of test set: 0.80\n",
      "\n",
      "Confusion Matrix:\n",
      " [[72664  9928]\n",
      " [15879 30369]]\n",
      "\n",
      "Classificatio Report:\n",
      "              precision    recall  f1-score   support\n",
      "\n",
      "          0       0.82      0.88      0.85     82592\n",
      "          1       0.75      0.66      0.70     46248\n",
      "\n",
      "avg / total       0.80      0.80      0.80    128840\n",
      "\n",
      " mean training accuracy (std): 0.80 (0.004)\n",
      "---------------------------------------------------------------\n",
      "SVC:\n",
      "Accuracy of training set: 0.78\n",
      "Accuracy of test set: 0.78\n",
      "\n",
      "Confusion Matrix:\n",
      " [[74738  7854]\n",
      " [20220 26028]]\n",
      "\n",
      "Classificatio Report:\n",
      "              precision    recall  f1-score   support\n",
      "\n",
      "          0       0.79      0.90      0.84     82592\n",
      "          1       0.77      0.56      0.65     46248\n",
      "\n",
      "avg / total       0.78      0.78      0.77    128840\n",
      "\n",
      " mean training accuracy (std): 0.78 (0.003)\n",
      "---------------------------------------------------------------\n",
      "RF:\n",
      "Accuracy of training set: 0.98\n",
      "Accuracy of test set: 0.75\n",
      "\n",
      "Confusion Matrix:\n",
      " [[73720  8872]\n",
      " [23306 22942]]\n",
      "\n",
      "Classificatio Report:\n",
      "              precision    recall  f1-score   support\n",
      "\n",
      "          0       0.76      0.89      0.82     82592\n",
      "          1       0.72      0.50      0.59     46248\n",
      "\n",
      "avg / total       0.75      0.75      0.74    128840\n",
      "\n",
      " mean training accuracy (std): 0.75 (0.004)\n"
     ]
    }
   ],
   "source": [
    "import timeit\n",
    "start_time = timeit.default_timer()\n",
    "\n",
    "classifers=[MultinomialNB(),\n",
    "            LogisticRegression(),\n",
    "            SGDClassifier(loss='log'),\n",
    "            RandomForestClassifier()\n",
    "           ]\n",
    "c_names=['NB','LR','SVC','RF'\n",
    "        ]\n",
    "\n",
    "\n",
    "\n",
    "results = []\n",
    "for i in range(len(classifers)):\n",
    "    steps=[('clf',classifers[i])]\n",
    "    print(\"---------------------------------------------------------------\") \n",
    "    print(\"%s:\"%c_names[i])\n",
    "\n",
    "    rp=run_pipeline(steps,Xtrain,ytrain,Xtest,ytest)\n",
    "    model=rp[0]\n",
    "    kf = KFold(Xtrain.shape[0], n_folds=5, random_state=100) \n",
    "    cv_results = cross_val_score(model, \n",
    "                                 Xtrain, \n",
    "                                 ytrain, \n",
    "                                 cv=kf, \n",
    "                                 scoring='accuracy') \n",
    "    results.append(cv_results)\n",
    "    #dftParams = model.named_steps.items()\n",
    "    #print(\"Default model parameters are: \\n{}\".format(dftParams) )\n",
    "    print(\"%s: %.2f (%.3f)\" % (' mean training accuracy (std)', cv_results.mean(), cv_results.std()))\n",
    "elapsed = timeit.default_timer() - start_time"
   ]
  },
  {
   "cell_type": "code",
   "execution_count": 127,
   "metadata": {},
   "outputs": [
    {
     "data": {
      "image/png": "[encoded data removed]",
      "text/plain": [
       "<Figure size 720x576 with 1 Axes>"
      ]
     },
     "metadata": {},
     "output_type": "display_data"
    }
   ],
   "source": [
    "plt.boxplot(results) \n",
    "#ax.set_xticklabels(names) \n",
    "plt.xticks([1,2,3,4],c_names)\n",
    "plt.ylabel(\"Training Accuracy\")\n",
    "plt.title('Compare Different Classifiers');"
   ]
  },
  {
   "cell_type": "markdown",
   "metadata": {},
   "source": [
    "According to the cross validation result, the logistic regression algorithm performs best on the training set."
   ]
  },
  {
   "cell_type": "markdown",
   "metadata": {},
   "source": [
    "#### Plot ROC-AUC Curve on Validation Set"
   ]
  },
  {
   "cell_type": "code",
   "execution_count": 79,
   "metadata": {},
   "outputs": [
    {
     "name": "stdout",
     "output_type": "stream",
     "text": [
      "-----------------------\n",
      "Classifier:  NB\n",
      "Accuracy of training set: 0.79\n",
      "Accuracy of test set: 0.79\n",
      "\n",
      "Confusion Matrix:\n",
      " [[75606  6986]\n",
      " [20078 26170]]\n",
      "\n",
      "Classificatio Report:\n",
      "              precision    recall  f1-score   support\n",
      "\n",
      "          0       0.79      0.92      0.85     82592\n",
      "          1       0.79      0.57      0.66     46248\n",
      "\n",
      "avg / total       0.79      0.79      0.78    128840\n",
      "\n",
      "-----------------------\n",
      "Classifier:  LR\n",
      "Accuracy of training set: 0.81\n",
      "Accuracy of test set: 0.80\n",
      "\n",
      "Confusion Matrix:\n",
      " [[72664  9928]\n",
      " [15879 30369]]\n",
      "\n",
      "Classificatio Report:\n",
      "              precision    recall  f1-score   support\n",
      "\n",
      "          0       0.82      0.88      0.85     82592\n",
      "          1       0.75      0.66      0.70     46248\n",
      "\n",
      "avg / total       0.80      0.80      0.80    128840\n",
      "\n",
      "-----------------------\n",
      "Classifier:  SVC\n",
      "Accuracy of training set: 0.78\n",
      "Accuracy of test set: 0.78\n",
      "\n",
      "Confusion Matrix:\n",
      " [[74878  7714]\n",
      " [20393 25855]]\n",
      "\n",
      "Classificatio Report:\n",
      "              precision    recall  f1-score   support\n",
      "\n",
      "          0       0.79      0.91      0.84     82592\n",
      "          1       0.77      0.56      0.65     46248\n",
      "\n",
      "avg / total       0.78      0.78      0.77    128840\n",
      "\n",
      "-----------------------\n",
      "Classifier:  RF\n",
      "Accuracy of training set: 0.98\n",
      "Accuracy of test set: 0.75\n",
      "\n",
      "Confusion Matrix:\n",
      " [[73662  8930]\n",
      " [23177 23071]]\n",
      "\n",
      "Classificatio Report:\n",
      "              precision    recall  f1-score   support\n",
      "\n",
      "          0       0.76      0.89      0.82     82592\n",
      "          1       0.72      0.50      0.59     46248\n",
      "\n",
      "avg / total       0.75      0.75      0.74    128840\n",
      "\n"
     ]
    }
   ],
   "source": [
    "Probs = []\n",
    "FPRs = []\n",
    "TPRs = []\n",
    "ROC_AUCs =[]\n",
    "\n",
    "for i in range(0,len(classifers)):\n",
    "    steps=[('clf',classifers[i])]\n",
    "    name=c_names[i]\n",
    "    print('-----------------------')\n",
    "    print('Classifier: ', name)\n",
    "    m=run_pipeline(steps,Xtrain,ytrain,Xtest,ytest)            \n",
    "    \n",
    "    prob=m[0].predict_proba(Xtest)\n",
    "    y_pred=prob[:,1]\n",
    "    fpr,tpr,threshold=roc_curve(ytest,y_pred)\n",
    "    \n",
    "    roc_auc=auc(fpr,tpr)\n",
    "    Probs.append(prob)\n",
    "    FPRs.append(fpr)\n",
    "    TPRs.append(tpr)\n",
    "    ROC_AUCs.append(roc_auc)\n",
    "\n"
   ]
  },
  {
   "cell_type": "code",
   "execution_count": 80,
   "metadata": {},
   "outputs": [
    {
     "data": {
      "image/png": "[encoded data removed]",
      "text/plain": [
       "<Figure size 720x576 with 1 Axes>"
      ]
     },
     "metadata": {},
     "output_type": "display_data"
    }
   ],
   "source": [
    "## plot ROC curve\n",
    "plt.title('Receiver Operating Characteristic')\n",
    "\n",
    "plt.plot(FPRs[1], TPRs[1], 'r', label='AUC = %0.2f (%s)'% (ROC_AUCs[1],c_names[1]))\n",
    "plt.plot(FPRs[0], TPRs[0], 'y', linestyle='--',label='AUC = %0.2f (%s)'% (ROC_AUCs[0],c_names[0]))\n",
    "plt.plot(FPRs[2], TPRs[2], 'b',linestyle=':', label='AUC = %0.2f (%s)'% (ROC_AUCs[2],c_names[2]))\n",
    "plt.plot(FPRs[3], TPRs[3], 'g', label='AUC = %0.2f (%s)'% (ROC_AUCs[3],c_names[3]))\n",
    "\n",
    "plt.plot([0,1],[0,1],color='gray', lw=1, linestyle='--')\n",
    "plt.xlim([0,1])\n",
    "plt.ylim([0,1.05])\n",
    "plt.ylabel('True Positive Rate')\n",
    "plt.xlabel('False Positive Rate')\n",
    "plt.legend(loc=\"lower right\");\n"
   ]
  },
  {
   "cell_type": "markdown",
   "metadata": {},
   "source": [
    "### Grid Search Hyperparameters\n",
    "We define a customized gridsearch function and specify our search parameters for the LogisticRegression model. "
   ]
  },
  {
   "cell_type": "code",
   "execution_count": 81,
   "metadata": {},
   "outputs": [
    {
     "name": "stdout",
     "output_type": "stream",
     "text": [
      "Accuracy of training set: 0.81\n",
      "Accuracy of test set: 0.80\n",
      "\n",
      "Confusion Matrix:\n",
      " [[72664  9928]\n",
      " [15879 30369]]\n",
      "\n",
      "Classificatio Report:\n",
      "              precision    recall  f1-score   support\n",
      "\n",
      "          0       0.82      0.88      0.85     82592\n",
      "          1       0.75      0.66      0.70     46248\n",
      "\n",
      "avg / total       0.80      0.80      0.80    128840\n",
      "\n"
     ]
    },
    {
     "data": {
      "text/plain": [
       "dict_keys(['clf'])"
      ]
     },
     "execution_count": 81,
     "metadata": {},
     "output_type": "execute_result"
    }
   ],
   "source": [
    "#bow_pipe.named_steps.keys()\n",
    "\n",
    "# Define a function for GridSearch\n",
    "def my_grid_search(model,search_params,X_train,y_train,X_test,y_test,nfolds=5,scoring='accuracy'):\n",
    "    gsmodel= GridSearchCV(model, param_grid=search_params,scoring=scoring,cv=nfolds)\n",
    "    gsmodel=gsmodel.fit(X_train,y_train)\n",
    "    \n",
    "    # Save the best model\n",
    "    # best_model=gsmodel.best_estimator_\n",
    "    # pickle.dump(best_model,open('bestmodel','wb'))\n",
    "            \n",
    "    y_pred=gsmodel.predict(X_test)\n",
    "    print('Best paras:\\n')\n",
    "    pprint(gsmodel.best_params_)\n",
    "    print('\\nBest score: %.2f' % gsmodel.best_score_)\n",
    "    print('\\nClassification report: \\n',classification_report(y_test,y_pred))\n",
    "    \n",
    "    return gsmodel,gsmodel.best_params_,gsmodel.best_score_,classification_report(y_test,y_pred)\n",
    "\n",
    "\n",
    "steps=[('clf',LogisticRegression())]\n",
    "lg_pl=run_pipeline(steps,Xtrain,ytrain,Xtest,ytest)            \n",
    "lg_pl[0].named_steps.keys() "
   ]
  },
  {
   "cell_type": "code",
   "execution_count": 82,
   "metadata": {},
   "outputs": [
    {
     "name": "stdout",
     "output_type": "stream",
     "text": [
      "Best paras:\n",
      "\n",
      "{'clf__C': 10, 'clf__penalty': 'l2'}\n",
      "\n",
      "Best score: 0.70\n",
      "\n",
      "Classification report: \n",
      "              precision    recall  f1-score   support\n",
      "\n",
      "          0       0.82      0.88      0.85     82592\n",
      "          1       0.75      0.66      0.70     46248\n",
      "\n",
      "avg / total       0.80      0.80      0.80    128840\n",
      "\n"
     ]
    }
   ],
   "source": [
    "nfolds=5\n",
    "search_params = dict(\n",
    "                  clf__C=[0.1,1,10,20],\n",
    "                  clf__penalty=['l1','l2'],\n",
    "                 )\n",
    "\n",
    "lgGS, _,_, lgGS_class_report=my_grid_search(lg_pl[0],search_params,Xtrain,ytrain,Xtest,ytest,nfolds,scoring='f1')\n",
    "\n"
   ]
  },
  {
   "cell_type": "markdown",
   "metadata": {},
   "source": [
    "The default 'penalty' is 'l2'. The grid search procedure doesn't improve model performance further."
   ]
  },
  {
   "cell_type": "markdown",
   "metadata": {},
   "source": [
    "### Save the model"
   ]
  },
  {
   "cell_type": "code",
   "execution_count": 83,
   "metadata": {},
   "outputs": [
    {
     "data": {
      "text/plain": [
       "array([[0.1393631 , 0.8606369 ],\n",
       "       [0.44139131, 0.55860869],\n",
       "       [0.10289219, 0.89710781],\n",
       "       ...,\n",
       "       [0.3279149 , 0.6720851 ],\n",
       "       [0.5404337 , 0.4595663 ],\n",
       "       [0.83145101, 0.16854899]])"
      ]
     },
     "execution_count": 83,
     "metadata": {},
     "output_type": "execute_result"
    }
   ],
   "source": [
    "import dill as pickle\n",
    "filename = 'lg_tfidf_gs_text.sav'\n",
    "pickle.dump(lgGS,open(filename, 'wb'))\n",
    "\n",
    "lgGS=pickle.load(open(filename, 'rb'))\n",
    "\n",
    "\n",
    "lgGS.predict_proba(Xtest)"
   ]
  },
  {
   "cell_type": "markdown",
   "metadata": {},
   "source": [
    "## Enrich Predictors with Categorical and Numerical Features\n",
    "According to our exploratory data analysis, the reviewer score is corrected with features like 'Trip_Type' and 'Num_Nights' etc. We will include those categorical and numerical features in this section to show whether it will improve the model performance. Since it's more important to know whether a hotel is reviewed as poor/not poor than to know that a hotel is reviewed as good/excellent. Let's categorize the reviews into two types by the 0.33 quantile of reviewers' score.\n",
    "\n",
    "\n",
    "We extract categorical columns and numerical columns and fill missing values in categorical columns with 'None'. We impute missing values in numerical features by its median. Then split the data into training and test set."
   ]
  },
  {
   "cell_type": "code",
   "execution_count": 84,
   "metadata": {},
   "outputs": [],
   "source": [
    "# Load data\n",
    "#df_txt=pd.read_csv('data/htl_rev_lem_added.csv')\n",
    "#df_txt['Rev_Lemmatized']=df_txt['Neg_Rev_Lemmatized'].fillna('')+' '+df_txt['Pos_Rev_Lemmatized'].fillna('')\n",
    "data=pd.read_csv('data/htl_clean.csv')\n",
    "\n",
    "col_num=['Total_Number_of_Reviews_Reviewer_Has_Given','Review_Total_Positive_Word_Counts',\n",
    "          'Review_Total_Negative_Word_Counts','Num_Nights']\n",
    "\n",
    "# Extract numerical columns\n",
    "cthresh=10\n",
    "idx=(data['Review_Total_Positive_Word_Counts']+data['Review_Total_Negative_Word_Counts'])<cthresh\n",
    "df_num=data[~idx][col_num].reset_index(drop=True)\n",
    "\n",
    "\n",
    "# Combine features\n",
    "df_ml=pd.concat([df_txt,df_num],axis=1)\n",
    "\n"
   ]
  },
  {
   "cell_type": "code",
   "execution_count": 85,
   "metadata": {},
   "outputs": [
    {
     "data": {
      "text/html": [
       "<div>\n",
       "<style scoped>\n",
       "    .dataframe tbody tr th:only-of-type {\n",
       "        vertical-align: middle;\n",
       "    }\n",
       "\n",
       "    .dataframe tbody tr th {\n",
       "        vertical-align: top;\n",
       "    }\n",
       "\n",
       "    .dataframe thead th {\n",
       "        text-align: right;\n",
       "    }\n",
       "</style>\n",
       "<table border=\"1\" class=\"dataframe\">\n",
       "  <thead>\n",
       "    <tr style=\"text-align: right;\">\n",
       "      <th></th>\n",
       "      <th>Review_Month</th>\n",
       "      <th>Hotel_City</th>\n",
       "      <th>Reviewer_Nationality</th>\n",
       "      <th>Trip_Type</th>\n",
       "      <th>Traveler_Type</th>\n",
       "      <th>Negative_Review</th>\n",
       "      <th>Positive_Review</th>\n",
       "      <th>Reviewer_Score</th>\n",
       "      <th>Neg_Rev_Lemmatized</th>\n",
       "      <th>Pos_Rev_Lemmatized</th>\n",
       "      <th>Rev_Lemmatized</th>\n",
       "      <th>label</th>\n",
       "      <th>Len_LemRev_char</th>\n",
       "      <th>lab_cat</th>\n",
       "      <th>Total_Number_of_Reviews_Reviewer_Has_Given</th>\n",
       "      <th>Review_Total_Positive_Word_Counts</th>\n",
       "      <th>Review_Total_Negative_Word_Counts</th>\n",
       "      <th>Num_Nights</th>\n",
       "    </tr>\n",
       "  </thead>\n",
       "  <tbody>\n",
       "    <tr>\n",
       "      <th>0</th>\n",
       "      <td>Aug</td>\n",
       "      <td>Amsterdam</td>\n",
       "      <td>Russia</td>\n",
       "      <td>Leisure trip</td>\n",
       "      <td>Couple</td>\n",
       "      <td>I am so angry that i made this post available...</td>\n",
       "      <td>Only the park outside of the hotel was beauti...</td>\n",
       "      <td>2.9</td>\n",
       "      <td>angry make post available possible site use pl...</td>\n",
       "      <td>park beautiful</td>\n",
       "      <td>angry make post available possible site use pl...</td>\n",
       "      <td>Poor</td>\n",
       "      <td>955</td>\n",
       "      <td>1</td>\n",
       "      <td>7</td>\n",
       "      <td>11</td>\n",
       "      <td>397</td>\n",
       "      <td>6.0</td>\n",
       "    </tr>\n",
       "    <tr>\n",
       "      <th>1</th>\n",
       "      <td>Aug</td>\n",
       "      <td>Amsterdam</td>\n",
       "      <td>Ireland</td>\n",
       "      <td>Leisure trip</td>\n",
       "      <td>Couple</td>\n",
       "      <td></td>\n",
       "      <td>No real complaints the hotel was great great ...</td>\n",
       "      <td>7.5</td>\n",
       "      <td>NaN</td>\n",
       "      <td>real complaint great great location surroundin...</td>\n",
       "      <td>real complaint great great location surroundi...</td>\n",
       "      <td>Poor</td>\n",
       "      <td>421</td>\n",
       "      <td>1</td>\n",
       "      <td>7</td>\n",
       "      <td>105</td>\n",
       "      <td>0</td>\n",
       "      <td>4.0</td>\n",
       "    </tr>\n",
       "    <tr>\n",
       "      <th>2</th>\n",
       "      <td>Jul</td>\n",
       "      <td>Amsterdam</td>\n",
       "      <td>Australia</td>\n",
       "      <td>Leisure trip</td>\n",
       "      <td>Family with young children</td>\n",
       "      <td>Rooms are nice but for elderly a bit difficul...</td>\n",
       "      <td>Location was good and staff were ok It is cut...</td>\n",
       "      <td>7.1</td>\n",
       "      <td>room nice elderly bit difficult room story nar...</td>\n",
       "      <td>location good staff cute breakfast range nice ...</td>\n",
       "      <td>room nice elderly bit difficult room story nar...</td>\n",
       "      <td>Poor</td>\n",
       "      <td>171</td>\n",
       "      <td>1</td>\n",
       "      <td>9</td>\n",
       "      <td>21</td>\n",
       "      <td>42</td>\n",
       "      <td>3.0</td>\n",
       "    </tr>\n",
       "    <tr>\n",
       "      <th>3</th>\n",
       "      <td>Jul</td>\n",
       "      <td>Amsterdam</td>\n",
       "      <td>United Kingdom</td>\n",
       "      <td>Leisure trip</td>\n",
       "      <td>Solo traveler</td>\n",
       "      <td>My room was dirty and I was afraid to walk ba...</td>\n",
       "      <td>Great location in nice surroundings the bar a...</td>\n",
       "      <td>3.8</td>\n",
       "      <td>room dirty afraid walk barefoot floor look cle...</td>\n",
       "      <td>great location nice surrounding bar restaurant...</td>\n",
       "      <td>room dirty afraid walk barefoot floor look cle...</td>\n",
       "      <td>Poor</td>\n",
       "      <td>744</td>\n",
       "      <td>1</td>\n",
       "      <td>1</td>\n",
       "      <td>26</td>\n",
       "      <td>210</td>\n",
       "      <td>3.0</td>\n",
       "    </tr>\n",
       "    <tr>\n",
       "      <th>4</th>\n",
       "      <td>Jul</td>\n",
       "      <td>Amsterdam</td>\n",
       "      <td>New Zealand</td>\n",
       "      <td>Leisure trip</td>\n",
       "      <td>Couple</td>\n",
       "      <td>You When I booked with your company on line y...</td>\n",
       "      <td>Amazing location and building Romantic setting</td>\n",
       "      <td>6.7</td>\n",
       "      <td>book company line show picture room think get ...</td>\n",
       "      <td>amazing location build romantic setting</td>\n",
       "      <td>book company line show picture room think get ...</td>\n",
       "      <td>Poor</td>\n",
       "      <td>398</td>\n",
       "      <td>1</td>\n",
       "      <td>3</td>\n",
       "      <td>8</td>\n",
       "      <td>140</td>\n",
       "      <td>2.0</td>\n",
       "    </tr>\n",
       "  </tbody>\n",
       "</table>\n",
       "</div>"
      ],
      "text/plain": [
       "  Review_Month Hotel_City Reviewer_Nationality     Trip_Type  \\\n",
       "0          Aug  Amsterdam              Russia   Leisure trip   \n",
       "1          Aug  Amsterdam             Ireland   Leisure trip   \n",
       "2          Jul  Amsterdam           Australia   Leisure trip   \n",
       "3          Jul  Amsterdam      United Kingdom   Leisure trip   \n",
       "4          Jul  Amsterdam         New Zealand   Leisure trip   \n",
       "\n",
       "                Traveler_Type  \\\n",
       "0                      Couple   \n",
       "1                      Couple   \n",
       "2  Family with young children   \n",
       "3               Solo traveler   \n",
       "4                      Couple   \n",
       "\n",
       "                                     Negative_Review  \\\n",
       "0   I am so angry that i made this post available...   \n",
       "1                                                      \n",
       "2   Rooms are nice but for elderly a bit difficul...   \n",
       "3   My room was dirty and I was afraid to walk ba...   \n",
       "4   You When I booked with your company on line y...   \n",
       "\n",
       "                                     Positive_Review  Reviewer_Score  \\\n",
       "0   Only the park outside of the hotel was beauti...             2.9   \n",
       "1   No real complaints the hotel was great great ...             7.5   \n",
       "2   Location was good and staff were ok It is cut...             7.1   \n",
       "3   Great location in nice surroundings the bar a...             3.8   \n",
       "4    Amazing location and building Romantic setting              6.7   \n",
       "\n",
       "                                  Neg_Rev_Lemmatized  \\\n",
       "0  angry make post available possible site use pl...   \n",
       "1                                                NaN   \n",
       "2  room nice elderly bit difficult room story nar...   \n",
       "3  room dirty afraid walk barefoot floor look cle...   \n",
       "4  book company line show picture room think get ...   \n",
       "\n",
       "                                  Pos_Rev_Lemmatized  \\\n",
       "0                                     park beautiful   \n",
       "1  real complaint great great location surroundin...   \n",
       "2  location good staff cute breakfast range nice ...   \n",
       "3  great location nice surrounding bar restaurant...   \n",
       "4            amazing location build romantic setting   \n",
       "\n",
       "                                      Rev_Lemmatized label  Len_LemRev_char  \\\n",
       "0  angry make post available possible site use pl...  Poor              955   \n",
       "1   real complaint great great location surroundi...  Poor              421   \n",
       "2  room nice elderly bit difficult room story nar...  Poor              171   \n",
       "3  room dirty afraid walk barefoot floor look cle...  Poor              744   \n",
       "4  book company line show picture room think get ...  Poor              398   \n",
       "\n",
       "   lab_cat  Total_Number_of_Reviews_Reviewer_Has_Given  \\\n",
       "0        1                                           7   \n",
       "1        1                                           7   \n",
       "2        1                                           9   \n",
       "3        1                                           1   \n",
       "4        1                                           3   \n",
       "\n",
       "   Review_Total_Positive_Word_Counts  Review_Total_Negative_Word_Counts  \\\n",
       "0                                 11                                397   \n",
       "1                                105                                  0   \n",
       "2                                 21                                 42   \n",
       "3                                 26                                210   \n",
       "4                                  8                                140   \n",
       "\n",
       "   Num_Nights  \n",
       "0         6.0  \n",
       "1         4.0  \n",
       "2         3.0  \n",
       "3         3.0  \n",
       "4         2.0  "
      ]
     },
     "execution_count": 85,
     "metadata": {},
     "output_type": "execute_result"
    }
   ],
   "source": [
    "df_ml.head()"
   ]
  },
  {
   "cell_type": "code",
   "execution_count": 86,
   "metadata": {},
   "outputs": [
    {
     "data": {
      "text/plain": [
       "Review_Month                                      0\n",
       "Hotel_City                                        0\n",
       "Reviewer_Nationality                              0\n",
       "Trip_Type                                     11949\n",
       "Traveler_Type                                     0\n",
       "Negative_Review                                   0\n",
       "Positive_Review                                   0\n",
       "Reviewer_Score                                    0\n",
       "Neg_Rev_Lemmatized                            85976\n",
       "Pos_Rev_Lemmatized                            24275\n",
       "Rev_Lemmatized                                    0\n",
       "label                                             0\n",
       "Len_LemRev_char                                   0\n",
       "lab_cat                                           0\n",
       "Total_Number_of_Reviews_Reviewer_Has_Given        0\n",
       "Review_Total_Positive_Word_Counts                 0\n",
       "Review_Total_Negative_Word_Counts                 0\n",
       "Num_Nights                                      159\n",
       "dtype: int64"
      ]
     },
     "execution_count": 86,
     "metadata": {},
     "output_type": "execute_result"
    }
   ],
   "source": [
    "df_ml.isnull().sum()"
   ]
  },
  {
   "cell_type": "code",
   "execution_count": 87,
   "metadata": {},
   "outputs": [
    {
     "name": "stdout",
     "output_type": "stream",
     "text": [
      "<class 'pandas.core.frame.DataFrame'>\n",
      "RangeIndex: 429464 entries, 0 to 429463\n",
      "Data columns (total 18 columns):\n",
      "Review_Month                                  429464 non-null object\n",
      "Hotel_City                                    429464 non-null object\n",
      "Reviewer_Nationality                          429464 non-null object\n",
      "Trip_Type                                     417515 non-null object\n",
      "Traveler_Type                                 429464 non-null object\n",
      "Negative_Review                               429464 non-null object\n",
      "Positive_Review                               429464 non-null object\n",
      "Reviewer_Score                                429464 non-null float64\n",
      "Neg_Rev_Lemmatized                            343488 non-null object\n",
      "Pos_Rev_Lemmatized                            405189 non-null object\n",
      "Rev_Lemmatized                                429464 non-null object\n",
      "label                                         429464 non-null object\n",
      "Len_LemRev_char                               429464 non-null int64\n",
      "lab_cat                                       429464 non-null int64\n",
      "Total_Number_of_Reviews_Reviewer_Has_Given    429464 non-null int64\n",
      "Review_Total_Positive_Word_Counts             429464 non-null int64\n",
      "Review_Total_Negative_Word_Counts             429464 non-null int64\n",
      "Num_Nights                                    429305 non-null float64\n",
      "dtypes: float64(2), int64(5), object(11)\n",
      "memory usage: 59.0+ MB\n"
     ]
    }
   ],
   "source": [
    "df_ml.info()"
   ]
  },
  {
   "cell_type": "code",
   "execution_count": 88,
   "metadata": {},
   "outputs": [],
   "source": [
    "col_categories=['Review_Month', 'Hotel_City', 'Trip_Type','Traveler_Type']\n",
    "df_ml.Trip_Type.fillna('None',inplace=True)\n",
    "\n",
    "col_num=['Total_Number_of_Reviews_Reviewer_Has_Given','Review_Total_Positive_Word_Counts',\n",
    "          'Review_Total_Negative_Word_Counts','Len_LemRev_char']\n",
    "\n",
    "X=df_ml[col_categories+col_num+['Rev_Lemmatized']]\n",
    "y=lab_bin.fit_transform(df_ml['label'])\n",
    "\n",
    "X_train, X_test, y_train, y_test = train_test_split(\n",
    "    X, y,test_size=0.3,random_state=100)"
   ]
  },
  {
   "cell_type": "markdown",
   "metadata": {},
   "source": [
    "Use the FunctionTransformer to create an object out of a Python function that help select subsets of data in a way that plays nicely with pipelines."
   ]
  },
  {
   "cell_type": "code",
   "execution_count": 89,
   "metadata": {},
   "outputs": [],
   "source": [
    "get_text_data=FunctionTransformer(lambda x: x['Rev_Lemmatized'],validate=False)\n",
    "get_num_data=FunctionTransformer(lambda x: x[col_num],validate=False)\n",
    "get_cat_data=FunctionTransformer(lambda x: pd.get_dummies(x[col_categories],drop_first=True),validate=False)\n",
    "\n",
    "# Build text pipeline\n",
    "text_pipeline=Pipeline([('selector', get_text_data ),\n",
    "                        ('vectorise',TfidfVectorizer(\n",
    "                                        min_df=10,\n",
    "                                        ngram_range=(1,2),\n",
    "                                        stop_words='english',\n",
    "                                        token_pattern='[a-zA-Z]{3,}')),\n",
    "                       ('dim_red',SelectKBest(chi2,k=5000))\n",
    "                       ])\n",
    "# Build cat pipeline\n",
    "cat_pipeline=Pipeline([('selector',get_cat_data),\n",
    "                        #('interact',PolynomialFeatures(degree=2,interaction_only=True,include_bias=False)),#doesn't work with sparse matrix                      \n",
    "                      ])\n",
    "\n",
    "# Build num pipeline\n",
    "num_pipeline=Pipeline([('selector',get_num_data),\n",
    "                        ('imputer',Imputer(strategy='median')),\n",
    "                       ('interact',PolynomialFeatures(degree=2,interaction_only=True,include_bias=False)),               \n",
    "                       ('scaler',MinMaxScaler()),\n",
    "                      ])\n",
    "\n",
    "# Union numeric and text features\n",
    "union=FeatureUnion([('cat',cat_pipeline),('num',num_pipeline),('text',text_pipeline)])\n",
    "\n",
    "\n"
   ]
  },
  {
   "cell_type": "code",
   "execution_count": 93,
   "metadata": {},
   "outputs": [
    {
     "name": "stdout",
     "output_type": "stream",
     "text": [
      "Accuracy of training set: 0.82\n",
      "Accuracy of test set: 0.81\n",
      "\n",
      "Confusion Matrix:\n",
      " [[72598  9994]\n",
      " [14893 31355]]\n",
      "\n",
      "Classificatio Report:\n",
      "              precision    recall  f1-score   support\n",
      "\n",
      "          0       0.83      0.88      0.85     82592\n",
      "          1       0.76      0.68      0.72     46248\n",
      "\n",
      "avg / total       0.80      0.81      0.80    128840\n",
      "\n"
     ]
    }
   ],
   "source": [
    "steps_LR=[\n",
    "    ('union',FeatureUnion([('cat',cat_pipeline),('num',num_pipeline),('text',text_pipeline)])),\n",
    "    #('interact',PolynomialFeatures(degree=2,interaction_only=True,include_bias=False)),#doesn't work with sparse matrix\n",
    "    #('interact',SparseInteractions(degree=2)),#takes time but didn't improve significantly\n",
    "    #https://gist.github.com/pjbull/063a9b4e4f9cfcc4d03cba18fee63de7\n",
    "    ('clf',LogisticRegression(C=10.,penalty='l2'))\n",
    "    ]\n",
    "res_LR=run_pipeline(steps_LR,X_train,y_train,X_test,y_test)\n"
   ]
  },
  {
   "cell_type": "code",
   "execution_count": 94,
   "metadata": {},
   "outputs": [
    {
     "data": {
      "image/png": "[encoded data removed]",
      "text/plain": [
       "<Figure size 720x576 with 1 Axes>"
      ]
     },
     "metadata": {},
     "output_type": "display_data"
    }
   ],
   "source": [
    "prob=res_LR[0].predict_proba(X_test)\n",
    "y_pred=prob[:,1]\n",
    "fpr,tpr,threshold=roc_curve(y_test,y_pred)\n",
    "    \n",
    "roc_auc=auc(fpr,tpr)\n",
    "\n",
    "\n",
    "## plot ROC curve\n",
    "plt.title('Receiver Operating Characteristic')\n",
    "\n",
    "plt.plot(fpr, tpr, 'r', label='AUC = %0.2f (%s)'% (roc_auc,'LR_funion'))\n",
    "\n",
    "plt.plot([0,1],[0,1],color='gray', lw=1, linestyle='--')\n",
    "plt.xlim([0,1])\n",
    "plt.ylim([0,1.05])\n",
    "plt.ylabel('True Positive Rate')\n",
    "plt.xlabel('False Positive Rate')\n",
    "plt.legend(loc=\"lower right\");"
   ]
  },
  {
   "cell_type": "markdown",
   "metadata": {},
   "source": [
    "### Save the model"
   ]
  },
  {
   "cell_type": "code",
   "execution_count": 95,
   "metadata": {},
   "outputs": [
    {
     "data": {
      "text/plain": [
       "array([[0.64127724, 0.35872276],\n",
       "       [0.6447455 , 0.3552545 ],\n",
       "       [0.37183637, 0.62816363],\n",
       "       ...,\n",
       "       [0.9862267 , 0.0137733 ],\n",
       "       [0.06618352, 0.93381648],\n",
       "       [0.13953932, 0.86046068]])"
      ]
     },
     "execution_count": 95,
     "metadata": {},
     "output_type": "execute_result"
    }
   ],
   "source": [
    "import dill as pickle\n",
    "filename = 'lg_tfidf_funion.sav'\n",
    "pickle.dump(res_LG[0],open(filename, 'wb'))\n",
    "\n",
    "best_model=pickle.load(open(filename, 'rb'))\n",
    "\n",
    "\n",
    "best_model.predict_proba(X_test)"
   ]
  },
  {
   "cell_type": "code",
   "execution_count": null,
   "metadata": {},
   "outputs": [],
   "source": []
  }
 ],
 "metadata": {
  "kernelspec": {
   "display_name": "Python 3",
   "language": "python",
   "name": "python3"
  },
  "language_info": {
   "codemirror_mode": {
    "name": "ipython",
    "version": 3
   },
   "file_extension": ".py",
   "mimetype": "text/x-python",
   "name": "python",
   "nbconvert_exporter": "python",
   "pygments_lexer": "ipython3",
   "version": "3.6.5"
  },
  "toc": {
   "nav_menu": {},
   "number_sections": true,
   "sideBar": true,
   "skip_h1_title": false,
   "title_cell": "Table of Contents",
   "title_sidebar": "Contents",
   "toc_cell": false,
   "toc_position": {},
   "toc_section_display": true,
   "toc_window_display": false
  }
 },
 "nbformat": 4,
 "nbformat_minor": 2
}
